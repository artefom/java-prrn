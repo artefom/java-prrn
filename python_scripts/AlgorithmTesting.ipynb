{
 "cells": [
  {
   "cell_type": "code",
   "execution_count": 3,
   "metadata": {},
   "outputs": [
    {
     "name": "stdout",
     "output_type": "stream",
     "text": [
      "Populating the interactive namespace from numpy and matplotlib\n"
     ]
    }
   ],
   "source": [
    "%pylab inline\n",
    "\n",
    "import os\n",
    "import gdal\n",
    "from gdal import gdalconst\n",
    "import gdalio\n",
    "import csv\n",
    "import random"
   ]
  },
  {
   "cell_type": "markdown",
   "metadata": {},
   "source": [
    "# Helper functions"
   ]
  },
  {
   "cell_type": "code",
   "execution_count": 102,
   "metadata": {},
   "outputs": [],
   "source": [
    "def image_to_array(img,band_index=None,clip_nodata=True):\n",
    "    if band_index is None:\n",
    "        band_index = [i for i in range(img.shape[2])]\n",
    "    try:\n",
    "        band_index[0]\n",
    "    except Exception as ex:\n",
    "        band_index = [band_index]\n",
    "    ret = img[:,:,band_index].reshape(-1,len(band_index))\n",
    "    mask = np.ones(ret.shape[0],dtype=np.bool)\n",
    "    for b_i in band_index:\n",
    "        mask = mask&(ret[:,b_i]!=0)\n",
    "\n",
    "    return ret[mask]\n",
    "\n",
    "def array_pretty_print(arr,form='{: >8.3f}'):\n",
    "    return '[{} ]'.format( ','.join([form for i in range(len(arr))]).format(*arr) )\n",
    "\n",
    "def print_cca_result(X,Y,x_mean,y_mean,x_std,y_std,x_rotations,y_rotations):\n",
    "    print('CCA result:')\n",
    "    x_new, y_new = transform_cca(X,Y,x_mean,y_mean,x_std,y_std,x_rotations,y_rotations)\n",
    "    \n",
    "    correlations = []\n",
    "    correlations_to_previous_x = [0]\n",
    "    correlations_to_previous_y = [0]\n",
    "    x_arr_prev = None\n",
    "    y_arr_prev = None\n",
    "    \n",
    "    for x_arr, y_arr in zip(x_new.T,y_new.T):\n",
    "        \n",
    "        correlations.append(np.corrcoef(x_arr, y_arr)[0,1])\n",
    "        \n",
    "        if x_arr_prev is not None:\n",
    "            correlations_to_previous_x.append( np.corrcoef(x_arr, x_arr_prev)[0,1] )\n",
    "            \n",
    "        if y_arr_prev is not None:\n",
    "            correlations_to_previous_y.append( np.corrcoef(y_arr, y_arr_prev)[0,1] )\n",
    "        \n",
    "        x_arr_prev = x_arr\n",
    "        y_arr_prev = y_arr\n",
    "    \n",
    "    print('corr:',array_pretty_print(correlations,form='{: >12.7f}'))\n",
    "    \n",
    "    if len(correlations_to_previous_x) > 1:\n",
    "        print('prev corr x:',array_pretty_print(correlations_to_previous_x,form='{: >10.5f}'))\n",
    "\n",
    "    if len(correlations_to_previous_x) > 1:\n",
    "        print('prev corr y:',array_pretty_print(correlations_to_previous_y,form='{: >10.5f}'))\n",
    "    \n",
    "        \n",
    "    print('x_mean:',array_pretty_print(x_mean) )\n",
    "    print('y_mean:',array_pretty_print(y_mean) )\n",
    "    print('x_std :',array_pretty_print(x_std) )\n",
    "    print('y_std :',array_pretty_print(y_std) )\n",
    "    for comp_id,(x_rot, y_rot) in enumerate( zip(x_rotations.T,y_rotations.T) ):\n",
    "        print('Component index: {}'.format(comp_id))\n",
    "        print( 'x rotations:',array_pretty_print(x_rot) )\n",
    "        print( 'y rotations:',array_pretty_print(y_rot) )\n",
    "        \n",
    "# Code for loading image samples\n",
    "\n",
    "\n",
    "# load paths to sample files into list\n",
    "test_sample_paths = None\n",
    "with open('test_files_aligned.csv') as f:\n",
    "    reader = csv.reader(f)\n",
    "    # skip header\n",
    "    header = next(reader)\n",
    "    # put every record into list\n",
    "    test_sample_paths = [row for row in reader]\n",
    "    \n",
    "def sample_generator(paths):\n",
    "    \"\"\"\n",
    "    Generator of test samples.\n",
    "    Generates random sequence every time\n",
    "    \"\"\"\n",
    "    \n",
    "    paths = list(paths) # make a copy of list for shuffle in place\n",
    "    random.shuffle(paths)\n",
    "    \n",
    "    for path1,path2 in paths:\n",
    "        ds1 = gdal.Open(path1)\n",
    "        ds2 = gdal.Open(path2)\n",
    "        \n",
    "        yield ds1,ds2\n",
    "        \n",
    "def sample_generator_array(paths):\n",
    "    for ds1,ds2 in sample_generator(paths):\n",
    "        yield gdalio.readAsArray(ds1), gdalio.readAsArray(ds2)"
   ]
  },
  {
   "cell_type": "markdown",
   "metadata": {},
   "source": [
    "# Purpose of this file\n",
    "\n",
    "1. See how much pixels do we need to get a desent cca representation"
   ]
  },
  {
   "cell_type": "markdown",
   "metadata": {},
   "source": [
    "# Algorithms"
   ]
  },
  {
   "cell_type": "code",
   "execution_count": 103,
   "metadata": {},
   "outputs": [],
   "source": [
    "# definition of backend\n",
    "backend_algorithms = dict()\n",
    "\n",
    "# common interface\n",
    "def calculate_cca(x,y,backend='sklearn',**kwargs):\n",
    "    # Calculate cca for 2-bands cca\n",
    "    return backend_algorithms[backend](x,y,**kwargs)\n",
    "\n",
    "def transform_cca(X,Y,x_mean,y_mean,x_std,y_std,x_rotations,y_rotations):\n",
    "    return np.dot((X-x_mean)/x_std,x_rotations), np.dot((Y-y_mean)/y_std,y_rotations)"
   ]
  },
  {
   "cell_type": "markdown",
   "metadata": {},
   "source": [
    "## 1. Using sklearn"
   ]
  },
  {
   "cell_type": "code",
   "execution_count": 104,
   "metadata": {},
   "outputs": [],
   "source": [
    "from sklearn.cross_decomposition import CCA\n",
    "\n",
    "def calculate_cca_sklearn(x,y,**kwargs):\n",
    "    cca = CCA(**kwargs)\n",
    "    cca.fit(X,Y)\n",
    "    return cca.x_mean_, cca.y_mean_, cca.x_std_, cca.y_std_, cca.x_rotations_, cca.y_rotations_\n",
    "\n",
    "backend_algorithms['sklearn'] = calculate_cca_sklearn"
   ]
  },
  {
   "cell_type": "markdown",
   "metadata": {},
   "source": [
    "## 2. Using tensorflow 1"
   ]
  },
  {
   "cell_type": "code",
   "execution_count": 105,
   "metadata": {},
   "outputs": [],
   "source": [
    "import importlib\n",
    "import TFCCA.model as CCAMODEL\n",
    "importlib.reload(CCAMODEL);\n",
    "from TFCCA.model import CannonicalCorrelation\n",
    "\n",
    "import TFCCA.data as CCADATA\n",
    "importlib.reload(CCADATA);\n",
    "from TFCCA.data import DataFeed\n",
    "\n",
    "import TFCCA.session as CCASESS\n",
    "importlib.reload(CCASESS);\n",
    "from TFCCA.session import AdamOptimizer\n",
    "\n",
    "def calculate_cca_tf1(x,y,**kwargs):\n",
    "    \n",
    "    # n_components=1 is supported only\n",
    "    if 'n_components' in kwargs:\n",
    "        if kwargs['n_components'] > 1:\n",
    "            raise NotImplementedError()\n",
    "        \n",
    "    x_mean = x.mean(axis=0)\n",
    "    y_mean = y.mean(axis=0)\n",
    "    x_std = x.std(axis=0)\n",
    "    y_std = y.std(axis=0)\n",
    "    \n",
    "    x = (x-x_mean)/x_std\n",
    "    y = (y-y_mean)/y_std\n",
    "    \n",
    "    mdl = CannonicalCorrelation(kwargs.get('batch_size',10),x.shape[1])\n",
    "    dat = DataFeed(x,y,batch_size=kwargs.get('batch_size',10))\n",
    "    \n",
    "    sess_args = [\n",
    "    'learning_rate',\n",
    "    'raining_epochs',\n",
    "    'stop_epsilon',\n",
    "    'verbose',\n",
    "    'display_step',\n",
    "    ]\n",
    "    \n",
    "    sess_kwargs = dict()\n",
    "    for k,v in kwargs.items():\n",
    "        if k in sess_args:\n",
    "            sess_kwargs[k] = v\n",
    "\n",
    "    sess = AdamOptimizer(mdl,dat,**sess_kwargs)\n",
    "    \n",
    "    x_rotations, y_rotations = sess.optimize()\n",
    "    \n",
    "    return x_mean, y_mean, x_std, y_std, x_rotations, y_rotations\n",
    "\n",
    "backend_algorithms['tf1'] = calculate_cca_tf1"
   ]
  },
  {
   "cell_type": "markdown",
   "metadata": {},
   "source": [
    "## Benchmarking"
   ]
  },
  {
   "cell_type": "code",
   "execution_count": 118,
   "metadata": {},
   "outputs": [],
   "source": [
    "img1,img2 = next( sample_generator_array(test_sample_paths) )"
   ]
  },
  {
   "cell_type": "code",
   "execution_count": 49,
   "metadata": {},
   "outputs": [],
   "source": [
    "X,Y = image_to_array(img1,band_index=[0,1]), image_to_array(img2,band_index=[0,1])"
   ]
  },
  {
   "cell_type": "code",
   "execution_count": 106,
   "metadata": {},
   "outputs": [],
   "source": [
    "sample_size = 64*64\n",
    "\n",
    "# X is 3 band normal multivariate with slight correlation between samples\n",
    "X = np.random.multivariate_normal([0,2,3],[[1,-0.9,0.1],\n",
    "                                           [-0.9,1,0.3],\n",
    "                                           [0.1,0.3,1]],size=sample_size)\n",
    "\n",
    "# Now set Y setting explisitly coefficents for CCA to recover and add some multivariate noise\n",
    "Y = np.concatenate( \n",
    "    (\n",
    "    ( X[:,0]*0.3+X[:,1]*-0.2+X[:,2]*0.4 )[:,np.newaxis],\n",
    "    ( X[:,0]*-0.02+X[:,1]*1.2+X[:,2]*2.4 )[:,np.newaxis],\n",
    "    ( X[:,0]*0.2+X[:,1]*-0.1+X[:,2]*0.03 )[:,np.newaxis],\n",
    "    ),\n",
    "    axis=1\n",
    ") + np.random.normal(0,0.3,size=(sample_size,3))+1"
   ]
  },
  {
   "cell_type": "code",
   "execution_count": 107,
   "metadata": {},
   "outputs": [
    {
     "name": "stdout",
     "output_type": "stream",
     "text": [
      "CCA result:\n",
      "corr: [   0.9949811 ]\n",
      "x_mean: [   0.024,   1.974,   2.985 ]\n",
      "y_mean: [   1.802,  10.533,   0.901 ]\n",
      "x_std : [   1.005,   1.003,   0.992 ]\n",
      "y_std : [   0.671,   2.996,   0.423 ]\n",
      "Component index: 0\n",
      "x rotations: [  -0.017,   0.432,   0.902 ]\n",
      "y rotations: [   0.011,   1.000,  -0.001 ]\n",
      "CPU times: user 44 ms, sys: 80 ms, total: 124 ms\n",
      "Wall time: 51.3 ms\n"
     ]
    }
   ],
   "source": [
    "%%time\n",
    "print_cca_result( X,Y, *calculate_cca(X,Y,n_components=1,backend='sklearn') )"
   ]
  },
  {
   "cell_type": "code",
   "execution_count": 108,
   "metadata": {},
   "outputs": [
    {
     "name": "stdout",
     "output_type": "stream",
     "text": [
      "CCA result:\n",
      "corr: [   0.9948648 ]\n",
      "x_mean: [   0.024,   1.974,   2.985 ]\n",
      "y_mean: [   1.802,  10.533,   0.901 ]\n",
      "x_std : [   1.005,   1.003,   0.992 ]\n",
      "y_std : [   0.671,   2.995,   0.423 ]\n",
      "Component index: 0\n",
      "x rotations: [   0.047,   0.353,   0.605 ]\n",
      "y rotations: [   0.031,   1.489,  -0.001 ]\n",
      "CPU times: user 4.78 s, sys: 364 ms, total: 5.15 s\n",
      "Wall time: 3.25 s\n"
     ]
    }
   ],
   "source": [
    "%%time\n",
    "print_cca_result( X,Y, *calculate_cca(X,Y,n_components=1,batch_size=50,backend='tf1') )"
   ]
  },
  {
   "cell_type": "markdown",
   "metadata": {},
   "source": [
    "# What's next?\n",
    "\n",
    "1. Calculate covariation matrices based on new elements\n",
    "\n",
    "2. Calculate correlation based on correlation matrices and x_rotations, y_rotations"
   ]
  },
  {
   "cell_type": "markdown",
   "metadata": {},
   "source": [
    "Test data"
   ]
  },
  {
   "cell_type": "code",
   "execution_count": 115,
   "metadata": {},
   "outputs": [],
   "source": [
    "xx_cov = np.cov(X,X,rowvar=False)[:3,:3]\n",
    "xy_cov = np.cov(X,Y,rowvar=False)[:3,3:6]\n",
    "yy_cov = np.cov(Y,Y,rowvar=False)[:3,:3]\n",
    "x_mean = np.array( [   0.024,   1.974,   2.985 ] )\n",
    "y_mean = np.array( [   1.802,  10.533,   0.901 ] )\n",
    "x_std  = np.array( [   1.005,   1.003,   0.992 ] )\n",
    "y_std  = np.array( [   0.671,   2.996,   0.423 ] )\n",
    "x_rotations = np.array( [  -0.017,   0.432,   0.902 ] )\n",
    "y_rotations = np.array( [   0.011,   1.000,  -0.001 ] )"
   ]
  },
  {
   "cell_type": "markdown",
   "metadata": {},
   "source": [
    "Calculate correlation based on correlation matrices and x_rotations, y_rotations"
   ]
  },
  {
   "cell_type": "code",
   "execution_count": 114,
   "metadata": {},
   "outputs": [],
   "source": [
    "# function for calculating correlation based on covariaton matrices.\n",
    "# xx_cov - ??\n",
    "# xy_cov - ??\n",
    "# yy_cov - ??\n",
    "# x_std - ??\n",
    "# y_std - ??\n",
    "def calc_correlation(xx_cov,xy_cov,yy_cov,x_mean,y_mean,x_std,y_std,x_rotations,y_rotations):\n",
    "    top_member = np.dot( np.dot(x_rotations,xy_cov), y_rotations )\n",
    "    btm_sqrt_x = np.dot( np.dot(x_rotations,xx_cov), x_rotations )\n",
    "    btm_sqrt_y = np.dot( np.dot(y_rotations,yy_cov), y_rotations )\n",
    "    return top_member/np.sqrt(btm_sqrt_x)/np.sqrt(btm_sqrt_y)\n",
    "    "
   ]
  },
  {
   "cell_type": "markdown",
   "metadata": {},
   "source": [
    "Accumulate correlation matrices"
   ]
  },
  {
   "cell_type": "code",
   "execution_count": 187,
   "metadata": {},
   "outputs": [
    {
     "name": "stdout",
     "output_type": "stream",
     "text": [
      "Correlation: 0.3333333333333333\n"
     ]
    }
   ],
   "source": [
    "class covariance_accumulator:\n",
    "    \n",
    "    def __init__(self):\n",
    "        self.x_summ = 0\n",
    "        self.count = 0\n",
    "        self.y_summ = 0\n",
    "        self.xy_summ = 0\n",
    "    \n",
    "    def feed(self,x,y):\n",
    "        self.x_summ += x\n",
    "        self.count += 1\n",
    "        self.y_summ += y\n",
    "        self.xy_summ += x*y\n",
    "    \n",
    "    def get_covariance(self):\n",
    "        return (self.xy_summ - self.x_summ*self.get_y_mean() - self.y_summ*self.get_x_mean() + self.get_x_mean()*self.get_y_mean()*self.count)/(self.count-1)\n",
    "    \n",
    "    def get_x_mean(self):\n",
    "        return self.x_summ/self.count\n",
    "    \n",
    "    def get_y_mean(self):\n",
    "        return self.y_summ/self.count\n",
    "    \n",
    "c_acc = covariance_accumulator()\n",
    "\n",
    "c_acc.feed(1,2)\n",
    "c_acc.feed(4,3)\n",
    "c_acc.feed(6,2)\n",
    "c_acc.feed(4,5)\n",
    "print('Correlation:',c_acc.get_covariance())"
   ]
  },
  {
   "cell_type": "code",
   "execution_count": 192,
   "metadata": {},
   "outputs": [
    {
     "name": "stdout",
     "output_type": "stream",
     "text": [
      "Correlation: 2.375\n"
     ]
    }
   ],
   "source": [
    "a1 = np.array([2,3,1,2,3,4,5,6,6])\n",
    "a2 = np.array([3,3,2,3,4,5,4,5,7])\n",
    "\n",
    "c_acc = covariance_accumulator()\n",
    "for x,y in zip(a1,a2):\n",
    "    c_acc.feed(x,y)\n",
    "    \n",
    "print('Correlation:',c_acc.get_covariance())"
   ]
  },
  {
   "cell_type": "code",
   "execution_count": 190,
   "metadata": {},
   "outputs": [
    {
     "data": {
      "text/plain": [
       "array([[ 3.27777778,  2.375     ],\n",
       "       [ 2.375     ,  2.25      ]])"
      ]
     },
     "execution_count": 190,
     "metadata": {},
     "output_type": "execute_result"
    }
   ],
   "source": [
    "np.cov(a1,a2)"
   ]
  },
  {
   "cell_type": "code",
   "execution_count": null,
   "metadata": {},
   "outputs": [],
   "source": []
  }
 ],
 "metadata": {
  "kernelspec": {
   "display_name": "Python 3",
   "language": "python",
   "name": "python3"
  },
  "language_info": {
   "codemirror_mode": {
    "name": "ipython",
    "version": 3
   },
   "file_extension": ".py",
   "mimetype": "text/x-python",
   "name": "python",
   "nbconvert_exporter": "python",
   "pygments_lexer": "ipython3",
   "version": "3.5.2"
  }
 },
 "nbformat": 4,
 "nbformat_minor": 2
}
