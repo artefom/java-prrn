{
 "cells": [
  {
   "cell_type": "code",
   "execution_count": 10,
   "metadata": {},
   "outputs": [
    {
     "name": "stdout",
     "output_type": "stream",
     "text": [
      "Populating the interactive namespace from numpy and matplotlib\n"
     ]
    }
   ],
   "source": [
    "%pylab inline\n",
    "import tensorflow as tf\n"
   ]
  },
  {
   "cell_type": "code",
   "execution_count": 121,
   "metadata": {},
   "outputs": [],
   "source": [
    "sample_size = 64*64\n",
    "band_num = 3\n",
    "\n",
    "# X is 3 band normal multivariate with slight correlation between samples\n",
    "X = np.random.multivariate_normal([0,2,3],[[1,-0.9,0.1],\n",
    "                                           [-0.9,1,0.3],\n",
    "                                           [0.1,0.3,1]],size=sample_size)\n",
    "\n",
    "# Now set Y setting explisitly coefficents for CCA to recover and add some multivariate noise\n",
    "Y = np.concatenate( \n",
    "    (\n",
    "    ( X[:,0]*0.3+X[:,1]*-0.2+X[:,2]*0.4 )[:,np.newaxis],\n",
    "    ( X[:,0]*-0.02+X[:,1]*1.2+X[:,2]*2.4 )[:,np.newaxis],\n",
    "    ( X[:,0]*0.2+X[:,1]*-0.1+X[:,2]*0.03 )[:,np.newaxis],\n",
    "    ),\n",
    "    axis=1\n",
    ") + np.random.normal(0,0.3,size=(sample_size,3))+1\n",
    "\n",
    "xx_cov = np.cov(X,X,rowvar=False)[:3,:3]\n",
    "xy_cov = np.cov(X,Y,rowvar=False)[:3,3:6]\n",
    "yy_cov = np.cov(Y,Y,rowvar=False)[:3,:3]\n",
    "\n",
    "a_pivot = np.random.normal(0,1,size=(band_num,1))\n",
    "b_pivot = np.random.normal(0,1,size=(band_num,1))"
   ]
  },
  {
   "cell_type": "code",
   "execution_count": 364,
   "metadata": {},
   "outputs": [],
   "source": [
    "def correlation(a,b,xx_cov,xy_cov,yy_cov):\n",
    "    numerator = np.matmul( np.matmul(a.T,xy_cov), b )\n",
    "    denominator = np.sqrt( np.matmul(np.matmul( a.T, xx_cov ),a) )*np.sqrt( np.matmul(np.matmul( b.T, yy_cov ),b) )\n",
    "    return numerator/denominator\n",
    "  \n",
    "def correlation_grad_a(a,b,xx_cov,xy_cov,yy_cov):\n",
    "    numerator = np.matmul( np.matmul(a.T,xy_cov), b )\n",
    "    numerator_derivative = np.matmul(xy_cov, b )\n",
    "    denominator = np.sqrt( np.matmul(np.matmul( a.T, xx_cov ),a) )\n",
    "    denominator_derivative = np.matmul(xx_cov,a)/denominator\n",
    "    multiplier = 1/np.sqrt( np.matmul(np.matmul( b.T, yy_cov ),b) )\n",
    "    return multiplier*(denominator*numerator_derivative - denominator_derivative*numerator)/denominator**2\n",
    "\n",
    "def correlation_grad_b(a,b,xx_cov,xy_cov,yy_cov):\n",
    "    numerator = np.matmul( np.matmul(a.T,xy_cov), b )\n",
    "    numerator_derivative = np.matmul(xy_cov.T, a )\n",
    "    denominator = np.sqrt( np.matmul(np.matmul( b.T, yy_cov ),b) )\n",
    "    denominator_derivative = np.matmul(yy_cov,b)/denominator\n",
    "    multiplier = np.sqrt( np.matmul(np.matmul( a.T, xx_cov ),a) )\n",
    "    return multiplier*(denominator*numerator_derivative - denominator_derivative*numerator)/denominator**2\n",
    "    \n",
    "    \n",
    "def correlation(ab,*args):\n",
    "    n_bands = int(ab.size/2)\n",
    "    a = ab[:n_bands]\n",
    "    b = ab[n_bands:]\n",
    "    return correlation(a,b,*args)\n",
    "\n",
    "def correlation_grad(ab, *args):\n",
    "    n_bands = int(ab.size/2)\n",
    "    a = ab[:n_bands]\n",
    "    b = ab[n_bands:]\n",
    "    a_grad = correlation_grad_a(a,b,*args)\n",
    "    b_grad = correlation_grad_b(a,b,*args)\n",
    "    return np.concatenate((a_grad,b_grad))\n",
    "    #return (np.matmul(xy_cov,b)/np.power(np.matmul( np.matmul(a.T,xx_cov), a),1/2)-\\\n",
    "    #       np.matmul(xx_cov,a)*( np.matmul( np.matmul(a.T,xy_cov), b ) )/np.power(np.matmul( np.matmul(a.T,xx_cov), a),3/2))/\\\n",
    "    #       np.sqrt( np.matmul(np.matmul( b.T, yy_cov ),b) )"
   ]
  },
  {
   "cell_type": "code",
   "execution_count": 365,
   "metadata": {},
   "outputs": [
    {
     "data": {
      "text/plain": [
       "array([[-0.94811014]])"
      ]
     },
     "execution_count": 365,
     "metadata": {},
     "output_type": "execute_result"
    }
   ],
   "source": [
    "ab_pivot = np.concatenate((a_pivot,b_pivot))\n",
    "\n",
    "func(ab_pivot,xx_cov,xy_cov,yy_cov)"
   ]
  },
  {
   "cell_type": "code",
   "execution_count": 369,
   "metadata": {},
   "outputs": [
    {
     "data": {
      "image/png": "[encoded data removed]",
      "text/plain": [
       "<matplotlib.figure.Figure at 0x7fa0d90387b8>"
      ]
     },
     "metadata": {},
     "output_type": "display_data"
    },
    {
     "data": {
      "image/png": "[encoded data removed]",
      "text/plain": [
       "<matplotlib.figure.Figure at 0x7fa0d924bc88>"
      ]
     },
     "metadata": {},
     "output_type": "display_data"
    }
   ],
   "source": [
    "def calc_gradient(foo,pivot,epsilon=0.00001):\n",
    "    \n",
    "    grad = []\n",
    "    for i in range(pivot.size):\n",
    "        p1 = np.array(pivot)\n",
    "        p2 = np.array(pivot)\n",
    "        \n",
    "        p1[i] -= epsilon\n",
    "        p2[i] += epsilon\n",
    "        \n",
    "        grad.append( (foo(p2)-foo(p1))[0]/(epsilon*2) )\n",
    "        \n",
    "    return np.array(grad)\n",
    "\n",
    "grad1 = calc_gradient(lambda x: func(x,xx_cov,xy_cov,yy_cov),ab_pivot) \n",
    "imshow( grad1 )\n",
    "colorbar();\n",
    "show();\n",
    "\n",
    "grad2 = func_grad(ab_pivot,xx_cov,xy_cov,yy_cov)\n",
    "imshow(grad2);\n",
    "colorbar()\n",
    "show();"
   ]
  },
  {
   "cell_type": "code",
   "execution_count": 367,
   "metadata": {},
   "outputs": [
    {
     "name": "stdout",
     "output_type": "stream",
     "text": [
      "[[ -5.68446956e-11]\n",
      " [  3.32618377e-11]\n",
      " [  3.75298959e-11]\n",
      " [  1.01905290e-12]\n",
      " [ -1.27394970e-11]\n",
      " [ -5.86616172e-12]]\n"
     ]
    }
   ],
   "source": [
    "print( grad1-grad2 )\n"
   ]
  },
  {
   "cell_type": "code",
   "execution_count": 368,
   "metadata": {},
   "outputs": [
    {
     "name": "stdout",
     "output_type": "stream",
     "text": [
      "[[ 1.]\n",
      " [ 1.]\n",
      " [ 1.]\n",
      " [ 1.]\n",
      " [ 1.]\n",
      " [ 1.]]\n"
     ]
    }
   ],
   "source": [
    "print( grad1/grad2 )"
   ]
  },
  {
   "cell_type": "code",
   "execution_count": 491,
   "metadata": {},
   "outputs": [
    {
     "data": {
      "text/plain": [
       "<module 'CCA_calc' from '/home/artef/IdeaProjects/prrnmosaic/python_scripts/CCA_calc.py'>"
      ]
     },
     "execution_count": 491,
     "metadata": {},
     "output_type": "execute_result"
    }
   ],
   "source": [
    "import importlib\n",
    "import CCA_calc\n",
    "importlib.reload(CCA_calc)"
   ]
  },
  {
   "cell_type": "code",
   "execution_count": 422,
   "metadata": {},
   "outputs": [],
   "source": [
    "from scipy.optimize import minimize"
   ]
  },
  {
   "cell_type": "code",
   "execution_count": 497,
   "metadata": {},
   "outputs": [],
   "source": [
    "def rosen(x):\n",
    "    \"\"\"The Rosenbrock function\"\"\"\n",
    "    return sum(100.0*(x[1:]-x[:-1]**2.0)**2.0 + (1-x[:-1])**2.0)\n",
    "\n",
    "def rosen_der(x):\n",
    "    xm = x[1:-1]\n",
    "    xm_m1 = x[:-2]\n",
    "    xm_p1 = x[2:]\n",
    "    der = np.zeros_like(x)\n",
    "    der[1:-1] = 200*(xm-xm_m1**2) - 400*(xm_p1 - xm**2)*xm - 2*(1-xm)\n",
    "    der[0] = -400*x[0]*(x[1]-x[0]**2) - 2*(1-x[0])\n",
    "    der[-1] = 200*(x[-1]-x[-2]**2)\n",
    "    return der"
   ]
  },
  {
   "cell_type": "code",
   "execution_count": 498,
   "metadata": {},
   "outputs": [
    {
     "name": "stdout",
     "output_type": "stream",
     "text": [
      "Optimization terminated successfully.\n",
      "         Current function value: 0.000000\n",
      "         Iterations: 46\n",
      "         Function evaluations: 62\n",
      "         Gradient evaluations: 62\n"
     ]
    },
    {
     "data": {
      "text/plain": [
       "      fun: 1.0697540647456136e-14\n",
       " hess_inv: array([[ 0.00320136,  0.00384583,  0.00633666,  0.01215018,  0.02391073,\n",
       "         0.04769328],\n",
       "       [ 0.00384583,  0.00763998,  0.01265988,  0.0242663 ,  0.04780204,\n",
       "         0.09546152],\n",
       "       [ 0.00633666,  0.01265988,  0.02587752,  0.04940634,  0.09743087,\n",
       "         0.19434375],\n",
       "       [ 0.01215018,  0.0242663 ,  0.04940634,  0.09929687,  0.19573633,\n",
       "         0.39040987],\n",
       "       [ 0.02391073,  0.04780204,  0.09743087,  0.19573633,  0.39086314,\n",
       "         0.77943929],\n",
       "       [ 0.04769328,  0.09546152,  0.19434375,  0.39040987,  0.77943929,\n",
       "         1.55942484]])\n",
       "      jac: array([ -7.93365580e-07,   5.97451263e-08,  -7.15148644e-07,\n",
       "         4.00937425e-06,  -5.12612252e-07,  -5.98174354e-07])\n",
       "  message: 'Optimization terminated successfully.'\n",
       "     nfev: 62\n",
       "      nit: 46\n",
       "     njev: 62\n",
       "   status: 0\n",
       "  success: True\n",
       "        x: array([ 1.        ,  1.        ,  1.00000001,  1.00000002,  1.00000003,\n",
       "        1.00000005])"
      ]
     },
     "execution_count": 498,
     "metadata": {},
     "output_type": "execute_result"
    }
   ],
   "source": [
    "x0 = ab_initial\n",
    "minimize(rosen, x0, method='BFGS', jac=rosen_der, options={'disp': True})"
   ]
  },
  {
   "cell_type": "code",
   "execution_count": 454,
   "metadata": {},
   "outputs": [
    {
     "name": "stdout",
     "output_type": "stream",
     "text": [
      "0.992248869217\n"
     ]
    }
   ],
   "source": [
    "cca = CCA_calc.CCA(3)\n",
    "cca.push(X,Y)\n",
    "\n",
    "ab_initial = cca.calc_ab()\n",
    "initial_correlation = cca.calc_correlation()\n",
    "print(initial_correlation)\n",
    "\n",
    "def cor_func(ab):\n",
    "    return -cca.correlation(ab)\n",
    "\n",
    "def cor_func_grad(ab):\n",
    "    return -cca.correlation_grad(ab)"
   ]
  },
  {
   "cell_type": "code",
   "execution_count": 490,
   "metadata": {},
   "outputs": [
    {
     "data": {
      "text/plain": [
       "     fun: -0.9945553266498987\n",
       "     jac: array([ 0.00340253, -0.00225445,  0.00124279, -0.00532665, -0.00110947,\n",
       "       -0.00388519])\n",
       " message: 'Optimization terminated successfully.'\n",
       "    nfev: 106\n",
       "     nit: 26\n",
       "    njev: 26\n",
       "  status: 0\n",
       " success: True\n",
       "       x: array([ 0.02214073,  1.1327496 ,  1.99465793, -0.24871667,  3.37948239,\n",
       "       -0.6232777 ])"
      ]
     },
     "execution_count": 490,
     "metadata": {},
     "output_type": "execute_result"
    }
   ],
   "source": [
    "x0 = ab_initial\n",
    "#minimize(cor_func, x0, method='BFGS', jac=cor_func_grad, options={'disp': True})\n",
    "opt_res = minimize(cor_func, np.array([1,1,1,1,1,1]), method = 'SLSQP', jac=cor_func_grad)\n",
    "\n",
    "opt_res"
   ]
  },
  {
   "cell_type": "code",
   "execution_count": 505,
   "metadata": {},
   "outputs": [
    {
     "data": {
      "text/plain": [
       "0.99455532664989865"
      ]
     },
     "execution_count": 505,
     "metadata": {},
     "output_type": "execute_result"
    }
   ],
   "source": [
    "import importlib\n",
    "import CCA_calc\n",
    "importlib.reload(CCA_calc)\n",
    "\n",
    "cca = CCA_calc.CCA(3)\n",
    "cca.push(X,Y)\n",
    "\n",
    "cca.correlation( cca.calc_ab_adv() )"
   ]
  },
  {
   "cell_type": "code",
   "execution_count": null,
   "metadata": {},
   "outputs": [],
   "source": []
  }
 ],
 "metadata": {
  "kernelspec": {
   "display_name": "Python 3",
   "language": "python",
   "name": "python3"
  },
  "language_info": {
   "codemirror_mode": {
    "name": "ipython",
    "version": 3
   },
   "file_extension": ".py",
   "mimetype": "text/x-python",
   "name": "python",
   "nbconvert_exporter": "python",
   "pygments_lexer": "ipython3",
   "version": "3.5.2"
  }
 },
 "nbformat": 4,
 "nbformat_minor": 2
}
