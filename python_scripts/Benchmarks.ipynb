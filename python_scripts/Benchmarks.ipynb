{
 "cells": [
  {
   "cell_type": "markdown",
   "metadata": {},
   "source": [
    "# This notebook is dedicated to performing various benchmarks of CCA from CCA_calc.py\n",
    "See more info about it [here](https://www.draw.io/#G0BxWRyyRCfA3gb1ViSTVuWDRuR0U) and on [github](https://github.com/artefom/prrn-mosaic)"
   ]
  },
  {
   "cell_type": "code",
   "execution_count": 283,
   "metadata": {},
   "outputs": [
    {
     "name": "stdout",
     "output_type": "stream",
     "text": [
      "Populating the interactive namespace from numpy and matplotlib\n"
     ]
    },
    {
     "name": "stderr",
     "output_type": "stream",
     "text": [
      "/usr/local/lib/python3.5/dist-packages/IPython/core/magics/pylab.py:160: UserWarning: pylab import has clobbered these variables: ['clf']\n",
      "`%matplotlib` prevents importing * from pylab and numpy\n",
      "  \"\\n`%matplotlib` prevents importing * from pylab and numpy\"\n"
     ]
    }
   ],
   "source": [
    "%pylab inline\n",
    "import pandas as pd\n",
    "import re\n",
    "import os\n",
    "from matplotlib.ticker import MaxNLocator\n",
    "from scipy.interpolate import spline\n",
    "from sklearn.cross_decomposition import CCA\n",
    "import sklearn.cross_decomposition\n",
    "\n",
    "def interpolate(x,y):\n",
    "    \"\"\"\n",
    "    used for smooth graph output\n",
    "    \"\"\"\n",
    "    x_smooth = np.linspace(x.min(),x.max(),300) #300 represents number of points to make between T.min and T.max\n",
    "    y_smooth = spline(x,y,x_smooth)\n",
    "    return x_smooth,y_smooth\n",
    "\n",
    "def gen_test_gmd(n_samples,n_bands):\n",
    "    \"\"\"\n",
    "    returns console program for line-by-line benchmark of python script\n",
    "    \"\"\"\n",
    "    return 'kernprof -v -l CCA_calc_test.py {} {}'.format(n_samples,n_bands)\n",
    "\n",
    "def run_tests(n_samples,n_bands):\n",
    "    \"\"\"\n",
    "    run CCA_calc_tesy.py preformance profile tests. returns output as a plain text\n",
    "    \"\"\"\n",
    "    text = os.popen(gen_test_gmd(n_samples,n_bands)).read()\n",
    "    \n",
    "    return text\n",
    "\n",
    "# What lines should we record from the profile plain text output\n",
    "record_lines = {\n",
    "    'calc_covariance' : ['calc_.._cov\\(.*\\)([^:]|\\Z)'],\n",
    "    'push' : ['push\\(.*\\)([^:]|\\Z)'],\n",
    "    'calc_ab' : ['calc_ab\\(.*\\)([^:]|\\Z)'],\n",
    "}\n",
    "\n",
    "# Parse profiler output into dictionary\n",
    "def parse_test_results(text):\n",
    "\n",
    "    lines = text.split('\\n')\n",
    "\n",
    "    ret = dict()\n",
    "    for k,v in record_lines.items():\n",
    "        ret[k] = []\n",
    "    \n",
    "    time_unit = float(re.findall('Timer\\sunit:\\s([^\\n]+)\\s+s',text)[0])\n",
    "    columns = ['Line #','Hits','Time','Per Hit','% Time']\n",
    "    time_per_hit_column = columns.index('Per Hit')\n",
    "    \n",
    "    for line in lines:\n",
    "        for k,v in record_lines.items():\n",
    "            for pattern in v:\n",
    "                if len( re.findall(pattern,line) ) > 0:\n",
    "                    values = np.array([float(i) for i in line.split()[:len(columns)]])\n",
    "                    ret[k].append(values[time_per_hit_column]*time_unit)\n",
    "                    \n",
    "    for k in ret.keys():\n",
    "        ret[k] = np.min(ret[k])\n",
    "        \n",
    "        \n",
    "    correlation = float(re.findall('correlation:\\s([^\\n]+)',text)[0])\n",
    "    \n",
    "    ret['cor'] = correlation\n",
    "    \n",
    "    return ret"
   ]
  },
  {
   "cell_type": "code",
   "execution_count": 279,
   "metadata": {},
   "outputs": [],
   "source": [
    "# the same as above but a bit faster, though, without line-by-line execution times\n",
    "\n",
    "import importlib\n",
    "import CCA_calc\n",
    "importlib.reload(CCA_calc)\n",
    "import time\n",
    "from collections import defaultdict\n",
    "\n",
    "def gen_samples(sample_size,n_bands=3):\n",
    "    X = np.random.normal(0,1,size=(sample_size,n_bands))\n",
    "    Y = X+np.random.normal(0,0.5,size=(sample_size,n_bands))\n",
    "    return X,Y\n",
    "\n",
    "\n",
    "sk_cca = sklearn.cross_decomposition.CCA(n_components=1)\n",
    "def run_test_fast(n_samples,n_bands,calc_precision=False):\n",
    "    cca =  CCA_calc.CCA(n_bands)\n",
    "\n",
    "    results = defaultdict(list)\n",
    "    \n",
    "    for i in range(10):\n",
    "        X,Y = gen_samples(n_samples,n_bands)\n",
    "        \n",
    "        \n",
    "        t_before = time.perf_counter()\n",
    "        cca.push(X,Y)\n",
    "        t_after = time.perf_counter()\n",
    "        results['push time'].append(t_after-t_before)\n",
    "        \n",
    "        t_before = time.perf_counter()\n",
    "        ab = cca.calc_ab_adv(dont_use_ab=False)\n",
    "        t_after = time.perf_counter()\n",
    "        results['grad time'].append(t_after-t_before)\n",
    "        \n",
    "        results['total'].append( results['push time'][-1] + results['grad time'][-1] )\n",
    "        \n",
    "        if calc_precision:\n",
    "            a = ab[:int(ab.size/2)]\n",
    "            b = ab[int(ab.size/2):]\n",
    "            corr_got = np.corrcoef( np.dot(X,np.ravel(a)), np.dot(Y,np.ravel(b)) )[0,1]\n",
    "            sk_cca.fit(X,Y)\n",
    "            X_new,Y_new = sk_cca.transform(X,Y)\n",
    "            corr_true = np.corrcoef(np.ravel(X_new),np.ravel(Y_new),rowvar=False)[0,1]\n",
    "            results['precision'].append(precision)\n",
    "\n",
    "        \n",
    "    for k,v in results.items():\n",
    "        results[k] = np.mean(v)\n",
    "    \n",
    "    return results"
   ]
  },
  {
   "cell_type": "markdown",
   "metadata": {},
   "source": [
    "# Performance benchmarks"
   ]
  },
  {
   "cell_type": "code",
   "execution_count": 280,
   "metadata": {},
   "outputs": [],
   "source": [
    "# some caching\n",
    "cache = dict()\n",
    "\n",
    "def run_test(*args,fast=True):\n",
    "    if fast:\n",
    "        return run_test_fast(*args)\n",
    "    else:\n",
    "        text = '###\\n'.join( [run_tests(*args) for i in range(2)] )\n",
    "        results = parse_test_results(text)\n",
    "        \n",
    "def run_test_cached(*args):\n",
    "    if args in cache:\n",
    "        return cache[args]\n",
    "    ret = run_test(*args)\n",
    "    cache[args]=ret\n",
    "    return ret"
   ]
  },
  {
   "cell_type": "code",
   "execution_count": 281,
   "metadata": {},
   "outputs": [
    {
     "name": "stdout",
     "output_type": "stream",
     "text": [
      "running test for 7500 samples and 2 bands (1 of 60)\n",
      "running test for 13344 samples and 8 bands (11 of 60)\n",
      "running test for 23742 samples and 12 bands (21 of 60)\n",
      "running test for 51189 samples and 2 bands (31 of 60)\n",
      "running test for 91077 samples and 8 bands (41 of 60)\n",
      "running test for 162049 samples and 12 bands (51 of 60)\n",
      "running test for 288325 samples and 12 bands (60 of 60)\n",
      "running test for 10000 samples and 2 bands (1 of 26)\n",
      "running test for 10000 samples and 14 bands (6 of 26)\n",
      "running test for 10000 samples and 26 bands (11 of 26)\n",
      "running test for 2500 samples and 6 bands (16 of 26)\n",
      "running test for 2500 samples and 20 bands (21 of 26)\n",
      "running test for 2500 samples and 30 bands (26 of 26)\n"
     ]
    }
   ],
   "source": [
    "# results of profile CCA_calc.py\n",
    "\n",
    "from collections import defaultdict\n",
    "\n",
    "n_samples = (np.logspace(1,10,base=1.5,num=20)*5000).astype(np.int)\n",
    "n_bands = np.array([2,8,12])\n",
    "\n",
    "band_profile_n_samples = np.array( [100*100,50*50] )\n",
    "band_profile_n_bands = np.array([2,4,6,8,12,14,18,20,22,24,26,28,30])#np.arange(2,13)\n",
    "\n",
    "measures = defaultdict(lambda: defaultdict(list))\n",
    "band_measures = defaultdict(lambda: defaultdict(list))\n",
    "\n",
    "progress_max = len(n_samples)*len(n_bands)\n",
    "for i,n in enumerate(n_samples):\n",
    "    for j,n_b in enumerate(n_bands):\n",
    "        progress = i*len(n_bands)+j+1\n",
    "        if progress % 10 == 1 or progress == progress_max:\n",
    "            print('running test for {} samples and {} bands ({} of {})'.format(n,n_b,progress,progress_max))\n",
    "        results = run_test_cached(n,n_b)\n",
    "        for k,v in results.items():\n",
    "            measures[n_b][k].append(v)\n",
    "         \n",
    "        \n",
    "progress_max = len(band_profile_n_samples)*len(band_profile_n_bands)\n",
    "for i,n in enumerate(band_profile_n_samples):\n",
    "    for j,n_b in enumerate(band_profile_n_bands):\n",
    "        progress = (i*len(band_profile_n_bands))+j+1\n",
    "        if progress % 5 == 1 or progress == progress_max:\n",
    "            print('running test for {} samples and {} bands ({} of {})'.format(n,n_b,progress,progress_max))\n",
    "        results = run_test_cached(n,n_b)\n",
    "        for k,v in results.items():\n",
    "            try:\n",
    "                band_measures[n][k].append(v)\n",
    "            except KeyError:\n",
    "                band_measures[n] = band_measures.get(n,dict())\n",
    "                band_measures[n][k] = []\n",
    "        \n",
    "for k,v in measures.items():\n",
    "    for k2,v2 in v.items():\n",
    "        measures[k][k2] = np.array(measures[k][k2])\n",
    "        \n",
    "for k,v in band_measures.items():\n",
    "    for k2,v2 in v.items():\n",
    "        band_measures[k][k2] = np.array(band_measures[k][k2])"
   ]
  },
  {
   "cell_type": "code",
   "execution_count": 282,
   "metadata": {},
   "outputs": [
    {
     "data": {
      "image/png": "[encoded data removed]",
      "text/plain": [
       "<matplotlib.figure.Figure at 0x7f49391ccda0>"
      ]
     },
     "metadata": {},
     "output_type": "display_data"
    },
    {
     "data": {
      "image/png": "[encoded data removed]",
      "text/plain": [
       "<matplotlib.figure.Figure at 0x7f4939016860>"
      ]
     },
     "metadata": {},
     "output_type": "display_data"
    },
    {
     "data": {
      "image/png": "[encoded data removed]",
      "text/plain": [
       "<matplotlib.figure.Figure at 0x7f4939082f28>"
      ]
     },
     "metadata": {},
     "output_type": "display_data"
    }
   ],
   "source": [
    "from sklearn import linear_model\n",
    "\n",
    "clfs = dict()\n",
    "\n",
    "# Plot total execution time\n",
    "for i,band in enumerate( n_bands ):\n",
    "    \n",
    "    color = 'C{}'.format(i)\n",
    "    label = '{} bands'.format(band) if band > 1 else '1 band'\n",
    "    #plot(n_samples,measures['calc_covariance']*1e3,label='covariance');\n",
    "    \n",
    "    plot(n_samples,measures[band]['total']*1e3,'{}'.format(color),label=label);\n",
    "#     plot(n_samples,measures[band]['precision'],color,label=label)\n",
    "\n",
    "    # plot fitting line\n",
    "    clf = linear_model.Ridge()\n",
    "    clf.fit(n_samples[:,np.newaxis],measures[band]['total']*1e6)\n",
    "    plot(n_samples,clf.predict(n_samples[:,np.newaxis])/1e3,'{}--'.format(color),alpha=0.4 );\n",
    "    clfs[band] = clf\n",
    "    \n",
    "grid(True)\n",
    "title('Sythetic data benchmark of CCA')\n",
    "xscale('log')\n",
    "ylabel('Execution time ms')\n",
    "xlabel('N samples')\n",
    "legend()\n",
    "show()\n",
    "\n",
    "# Plot execution time of gradient against total time\n",
    "for i,band in enumerate( n_bands[::-1] ):\n",
    "    \n",
    "    color = 'C{}'.format(i)\n",
    "    label = '{} bands'.format(band) if band > 1 else '1 band'\n",
    "    #plot(n_samples,measures['calc_covariance']*1e3,label='covariance');\n",
    "    \n",
    "    plot(n_samples,measures[band]['grad time']*1e3,'{}'.format(color),label=label);\n",
    "#     plot(n_samples,measures[band]['precision'],color,label=label)\n",
    "\n",
    "    # plot fitting line\n",
    "    clf = linear_model.Ridge()\n",
    "    clf.fit(n_samples[:,np.newaxis],measures[band]['total']*1e6)\n",
    "    plot(n_samples,clf.predict(n_samples[:,np.newaxis])/1e3,'{}--'.format(color),alpha=0.4 );\n",
    "    clfs[band] = clf\n",
    "    \n",
    "grid(True)\n",
    "title('Sythetic data benchmark of CCA')\n",
    "xscale('log')\n",
    "ylabel('Execution time ms')\n",
    "xlabel('N samples')\n",
    "legend()\n",
    "show()\n",
    "\n",
    "## PLOT CALCULATION PRECISION\n",
    "try:\n",
    "    for i,band in enumerate( n_bands ):\n",
    "        color = 'C{}'.format(i)\n",
    "        label = '{} bands'.format(band) if band > 1 else '1 band'\n",
    "        plot(n_samples,measures[band]['precision'],color,label=label,alpha=0.9)\n",
    "\n",
    "    grid(True)\n",
    "    legend()\n",
    "    title('Calculation precision')\n",
    "    ylabel('p_optimal - p_got')\n",
    "    xlabel('N Samples')\n",
    "    show()\n",
    "except Exception as ex:\n",
    "    pass\n",
    "\n",
    "for i,n in enumerate( band_profile_n_samples ):\n",
    "    \n",
    "    color = 'C{}'.format(i)\n",
    "    label = '{} samples'.format(n)\n",
    "    \n",
    "    plot(band_profile_n_bands,band_measures[n]['total']*1e3,color,label=label);\n",
    "    \n",
    "    \n",
    "    clf = linear_model.Ridge()\n",
    "    \n",
    "    bands_x = band_profile_n_bands[:,np.newaxis]\n",
    "    new_x = np.concatenate((bands_x,bands_x*bands_x),axis=1)\n",
    "    clf.fit(new_x,band_measures[n]['total']*1e6)\n",
    "    plot(band_profile_n_bands,clf.predict(new_x)/1e3,'{}--'.format(color),alpha=0.4 );\n",
    "\n",
    "    \n",
    "#ax = plt.figure().gca()\n",
    "axes().xaxis.set_major_locator(MaxNLocator(integer=True))\n",
    "grid(True)\n",
    "legend()\n",
    "title('Bechmark of CCA against N bands')\n",
    "ylabel('Execution time ms')\n",
    "xlabel('N Bands')\n",
    "show();\n",
    "        \n",
    "#print('T(N) = {:.3f} + {:.0f} N [ns]'.format(clf.coef_[0],clf.intercept_))\n",
    "#plot(n_samples,measures['calc_ab']*1e3,label='a,b');"
   ]
  },
  {
   "cell_type": "markdown",
   "metadata": {},
   "source": [
    "# Bechmark of sklearn"
   ]
  },
  {
   "cell_type": "code",
   "execution_count": 363,
   "metadata": {},
   "outputs": [],
   "source": [
    "sk_cache = dict()"
   ]
  },
  {
   "cell_type": "code",
   "execution_count": 364,
   "metadata": {},
   "outputs": [
    {
     "name": "stdout",
     "output_type": "stream",
     "text": [
      "running test for 1500 samples and 8 bands (1 of 20)\n"
     ]
    },
    {
     "name": "stderr",
     "output_type": "stream",
     "text": [
      "/usr/local/lib/python3.5/dist-packages/sklearn/cross_decomposition/pls_.py:83: UserWarning: Maximum number of iterations reached\n",
      "  warnings.warn('Maximum number of iterations reached')\n"
     ]
    },
    {
     "name": "stdout",
     "output_type": "stream",
     "text": [
      "running test for 10237 samples and 8 bands (11 of 20)\n",
      "running test for 57665 samples and 8 bands (20 of 20)\n"
     ]
    }
   ],
   "source": [
    "from sklearn.cross_decomposition import CCA\n",
    "\n",
    "def run_tests_sk(n,n_b):\n",
    "    cca =  CCA(n_components=1)\n",
    "\n",
    "    results = defaultdict(list)\n",
    "    \n",
    "    for i in range(10):\n",
    "        X,Y = gen_samples(n,n_b)\n",
    "        \n",
    "        t_before = time.perf_counter()\n",
    "        cca.fit(X,Y)\n",
    "        t_after = time.perf_counter()\n",
    "        results['total'].append(t_after-t_before)\n",
    "    \n",
    "    for k,v in results.items():\n",
    "        results[k] = np.mean(v)\n",
    "    \n",
    "    return results\n",
    "\n",
    "def run_test_sk_cached(n,n_b):\n",
    "    if (n,n_b) in sk_cache:\n",
    "        return sk_cache[(n,n_b)]\n",
    "    return run_tests_sk(n,n_b)\n",
    "\n",
    "sk_n_samples = (np.logspace(1,10,base=1.5,num=20)*1000).astype(np.int)\n",
    "sk_n_bands = np.array([8])\n",
    "sk_measures = defaultdict(lambda: defaultdict(list))\n",
    "\n",
    "progress_max = len(sk_n_samples)*len(sk_n_bands)\n",
    "for i,n in enumerate(sk_n_samples):\n",
    "    for j,n_b in enumerate(sk_n_bands):\n",
    "        progress = i*len(sk_n_bands)+j+1\n",
    "        if progress % 10 == 1 or progress == progress_max:\n",
    "            print('running test for {} samples and {} bands ({} of {})'.format(n,n_b,progress,progress_max))\n",
    "        results = run_test_sk_cached(n,n_b)\n",
    "        for k,v in results.items():\n",
    "            sk_measures[n_b][k].append(v)"
   ]
  },
  {
   "cell_type": "code",
   "execution_count": 365,
   "metadata": {},
   "outputs": [
    {
     "data": {
      "image/png": "[encoded data removed]",
      "text/plain": [
       "<matplotlib.figure.Figure at 0x7f493716f630>"
      ]
     },
     "metadata": {},
     "output_type": "display_data"
    }
   ],
   "source": [
    "plot( sk_n_samples, np.array(sk_measures[8]['total'])*1000, label='sklearn')\n",
    "plot( n_samples, measures[8]['total']*1000, label='our approach' )\n",
    "grid(True)\n",
    "title('Sythetic data benchmark of CCA 8 bands')\n",
    "xscale('log')\n",
    "ylabel('Execution time ms')\n",
    "xlabel('N samples')\n",
    "legend()\n",
    "show()"
   ]
  },
  {
   "cell_type": "code",
   "execution_count": null,
   "metadata": {},
   "outputs": [],
   "source": [
    "from sklearn.cross_decomposition\n",
    "def run_tests_sk(n,n_b):\n",
    "    cca =  CCA_calc.CCA(n_bands)\n",
    "\n",
    "    results = defaultdict(list)\n",
    "    \n",
    "    for i in range(10):\n",
    "        X,Y = gen_samples(n_samples,n_bands)\n",
    "        \n",
    "        \n",
    "        t_before = time.perf_counter()\n",
    "        cca.push(X,Y)\n",
    "        t_after = time.perf_counter()\n",
    "        results['push time'].append(t_after-t_before)\n",
    "        \n",
    "        t_before = time.perf_counter()\n",
    "        ab = cca.calc_ab_adv(dont_use_ab=False)\n",
    "        t_after = time.perf_counter()\n",
    "        results['grad time'].append(t_after-t_before)\n",
    "        \n",
    "        results['total'].append( results['push time'][-1] + results['grad time'][-1] )\n",
    "        \n",
    "        if calc_precision:\n",
    "            a = ab[:int(ab.size/2)]\n",
    "            b = ab[int(ab.size/2):]\n",
    "            corr_got = np.corrcoef( np.dot(X,np.ravel(a)), np.dot(Y,np.ravel(b)) )[0,1]\n",
    "            sk_cca.fit(X,Y)\n",
    "            X_new,Y_new = sk_cca.transform(X,Y)\n",
    "            corr_true = np.corrcoef(np.ravel(X_new),np.ravel(Y_new),rowvar=False)[0,1]\n",
    "            results['precision'].append(precision)\n",
    "\n",
    "        \n",
    "    for k,v in results.items():\n",
    "        results[k] = np.mean(v)\n",
    "    \n",
    "    return results\n",
    "\n",
    "sk_cache = dict()\n",
    "def run_test_sk_cached(n,n_b):\n",
    "    if (n,n_b) in sk_cache:\n",
    "        return sk_cache[(n,n_b)]\n",
    "    run_tests_sk(n,n_b)\n",
    "\n",
    "sk_n_samples = (np.logspace(1,10,base=1.5,num=20)*5000).astype(np.int)\n",
    "sk_n_bands = np.array([12])\n",
    "sk_measures = defaultdict(lambda: defaultdict(list))\n",
    "\n",
    "progress_max = len(sk_n_samples)*len(sk_n_bands)\n",
    "for i,n in enumerate(sk_n_samples):\n",
    "    for j,n_b in enumerate(sk_n_bands):\n",
    "        progress = i*len(sk_n_bands)+j+1\n",
    "        if progress % 10 == 1 or progress == progress_max:\n",
    "            print('running test for {} samples and {} bands ({} of {})'.format(n,n_b,progress,progress_max))\n",
    "        results = run_test_cached(n,n_b)\n",
    "        for k,v in results.items():\n",
    "            measures[n_b][k].append(v)"
   ]
  },
  {
   "cell_type": "markdown",
   "metadata": {},
   "source": [
    "# Test when input data is correlated"
   ]
  },
  {
   "cell_type": "code",
   "execution_count": 185,
   "metadata": {},
   "outputs": [
    {
     "name": "stdout",
     "output_type": "stream",
     "text": [
      "my  : 0.701876349951\n",
      "real: 0.766400722766\n"
     ]
    }
   ],
   "source": [
    "def gen_samples(sample_size,n_bands=3,band_correlation=0.4):\n",
    "    X = np.random.normal(0,1,size=(sample_size,n_bands))\n",
    "    X[:,2:] = X[:,2:]+np.random.normal(0,1-band_correlation,size=(sample_size,n_bands-2))\n",
    "    Y = X+np.random.normal(0,1,size=(sample_size,n_bands))\n",
    "    return X*1000,Y*1000\n",
    "\n",
    "x,y = gen_samples(1000,n_bands=12,band_correlation=0.99)\n",
    "\n",
    "cca = CCA_calc.CCA(12)\n",
    "cca.push(x,y)\n",
    "print('my  :',cca.calc_correlation())\n",
    "\n",
    "cca_sk = CCA(n_components=1)\n",
    "cca_sk.fit(x,y)\n",
    "x_new,y_new = cca_sk.transform(x,y)\n",
    "print('real:',np.corrcoef(x_new,y_new,rowvar=False)[0,1])"
   ]
  },
  {
   "cell_type": "markdown",
   "metadata": {},
   "source": [
    "## Estimated calculation time for different size images"
   ]
  },
  {
   "cell_type": "code",
   "execution_count": 408,
   "metadata": {},
   "outputs": [
    {
     "name": "stdout",
     "output_type": "stream",
     "text": [
      "  1024 x  1024 8 bands (  1.05 MPix): 95 ms \n",
      "  4000 x  4000 8 bands ( 16.00 MPix): 1432 ms \n",
      "  6100 x  6100 8 bands ( 37.21 MPix): 3328 ms (Landsat 8)\n",
      " 12000 x 12000 8 bands (144.00 MPix): 12877 ms \n"
     ]
    }
   ],
   "source": [
    "def print_calc_time(x_size,y_size,postfix=''):\n",
    "    megapixels = x_size*y_size/1e6\n",
    "    n_bands = 8\n",
    "    print('{: >6} x{: >6} {} bands ({: >6.2f} MPix): {:.0f} ms {}'.format(x_size,y_size,n_bands,megapixels,clfs[n_bands].predict([[x_size*y_size]])[0]/1e3,postfix))\n",
    "    \n",
    "print_calc_time(1024,1024)\n",
    "print_calc_time(4000,4000)\n",
    "print_calc_time(6100,6100,'(Landsat 8)')\n",
    "print_calc_time(12000,12000)"
   ]
  },
  {
   "cell_type": "markdown",
   "metadata": {},
   "source": [
    "# Tests on real data"
   ]
  },
  {
   "cell_type": "code",
   "execution_count": 3,
   "metadata": {},
   "outputs": [],
   "source": [
    "# load list of test samples\n",
    "import csv\n",
    "import numpy as np\n",
    "with open('test_files_aligned.csv','r') as f:\n",
    "    reader = csv.reader(f.readlines())\n",
    "    test_files = [i for i in reader]\n",
    "    # remove header\n",
    "    test_files = test_files[1:]\n",
    "    \n",
    "# class for generating 2 random samples\n",
    "\n",
    "import gdal\n",
    "import gdalio\n",
    "class Test_generator:\n",
    "    \"\"\"\n",
    "    Simple class for generating test samples.\n",
    "    \"\"\"\n",
    "    def __init__(self,files,shuffle=True):\n",
    "        \"\"\"\n",
    "        files - 2-d iterable containing pairs of string values. each string value is path to file.\n",
    "        \"\"\"\n",
    "        self.files = [(f1,f2) for f1,f2 in files]\n",
    "        if shuffle:\n",
    "            self.shuffle()\n",
    "        self.current_sample = 0\n",
    "\n",
    "        \n",
    "    def generator(self,n_samples=None,shuffle=True):\n",
    "        if n_samples is None:\n",
    "            n_samples = len(self.files)\n",
    "        if shuffle:\n",
    "            self.shuffle()\n",
    "        for i in range(n_samples):\n",
    "            yield self.get_sample(i)\n",
    "        \n",
    "    def shuffle(self):\n",
    "        np.random.shuffle(self.files)\n",
    "        \n",
    "    def get_sample(self,samp_id=None,image_only=False):\n",
    "        \n",
    "        # get next sample id if necessary\n",
    "        if samp_id is None:\n",
    "            samp_id = get_sample_id(self)\n",
    "        f1,f2 = self.files[samp_id]\n",
    "        \n",
    "        ds1 = gdal.Open(f1)\n",
    "        ds2 = gdal.Open(f2)\n",
    "        \n",
    "        if image_only:\n",
    "            return gdalio.readAsArray(ds1),gdalio.readAsArray(ds2)\n",
    "        return ds1,ds2\n",
    "    \n",
    "    def get_sample_id(self):\n",
    "        \"\"\"\n",
    "        get id of current sample, increase counter and loop back if necessary.\n",
    "        Internal function\n",
    "        \"\"\"\n",
    "        ret = self.current_sample\n",
    "        self.current_sample+=1\n",
    "        if self.current_sample >= len(self.files):\n",
    "            self.current_sample = 0\n",
    "        return ret\n",
    "\n",
    "    \n",
    "testgen = Test_generator(test_files)"
   ]
  },
  {
   "cell_type": "code",
   "execution_count": 4,
   "metadata": {},
   "outputs": [],
   "source": [
    "for ds1,ds2 in testgen.generator(1):\n",
    "    im1,im2 = gdalio.readAsArray(ds1), gdalio.readAsArray(ds2)"
   ]
  },
  {
   "cell_type": "code",
   "execution_count": 5,
   "metadata": {},
   "outputs": [],
   "source": [
    "import CCA_calc\n",
    "\n",
    "cca = CCA_calc.CCA(12)\n",
    "cca.push(im1.reshape((-1,12)),im2.reshape((-1,12)))"
   ]
  },
  {
   "cell_type": "code",
   "execution_count": 7,
   "metadata": {},
   "outputs": [
    {
     "data": {
      "text/plain": [
       "0.45595298463048822"
      ]
     },
     "execution_count": 7,
     "metadata": {},
     "output_type": "execute_result"
    }
   ],
   "source": [
    "cca.calc_correlation()"
   ]
  },
  {
   "cell_type": "code",
   "execution_count": 8,
   "metadata": {},
   "outputs": [],
   "source": [
    "from sklearn.cross_decomposition import CCA"
   ]
  },
  {
   "cell_type": "code",
   "execution_count": 9,
   "metadata": {},
   "outputs": [
    {
     "data": {
      "text/plain": [
       "CCA(copy=True, max_iter=500, n_components=1, scale=True, tol=1e-06)"
      ]
     },
     "execution_count": 9,
     "metadata": {},
     "output_type": "execute_result"
    }
   ],
   "source": [
    "cca_sk = CCA(n_components=1)\n",
    "cca_sk.fit(im1.reshape((-1,12)),im2.reshape((-1,12)))"
   ]
  },
  {
   "cell_type": "code",
   "execution_count": 10,
   "metadata": {},
   "outputs": [],
   "source": [
    "X_new,Y_new = cca_sk.transform(im1.reshape((-1,12)),im2.reshape((-1,12)))"
   ]
  },
  {
   "cell_type": "code",
   "execution_count": 11,
   "metadata": {},
   "outputs": [
    {
     "name": "stdout",
     "output_type": "stream",
     "text": [
      "correlation coef: 0.743860459426\n"
     ]
    }
   ],
   "source": [
    "print('correlation coef:',np.corrcoef(np.ravel(X_new),np.ravel(Y_new))[0,1])"
   ]
  },
  {
   "cell_type": "code",
   "execution_count": 12,
   "metadata": {},
   "outputs": [],
   "source": [
    "im1_2 = np.array( im1 )\n",
    "im1_2 = (im1_2 - im1_2.mean(axis=(0,1)))/im1_2.std(axis=(0,1))\n",
    "im2_2 = np.array( im2 )\n",
    "im2_2 = (im2_2 - im2_2.mean(axis=(0,1)))/im2_2.std(axis=(0,1))"
   ]
  },
  {
   "cell_type": "code",
   "execution_count": 13,
   "metadata": {},
   "outputs": [
    {
     "data": {
      "text/plain": [
       "0.45673120089951164"
      ]
     },
     "execution_count": 13,
     "metadata": {},
     "output_type": "execute_result"
    }
   ],
   "source": [
    "cca2 = CCA_calc.CCA(12)\n",
    "cca2.push(im1_2.reshape((-1,12)),im2_2.reshape((-1,12)))\n",
    "cca2.calc_correlation()"
   ]
  },
  {
   "cell_type": "code",
   "execution_count": 189,
   "metadata": {},
   "outputs": [
    {
     "data": {
      "text/plain": [
       "'/usr/local/lib/python3.5/dist-packages/numpy/__init__.py'"
      ]
     },
     "execution_count": 189,
     "metadata": {},
     "output_type": "execute_result"
    }
   ],
   "source": [
    "np.__file__"
   ]
  },
  {
   "cell_type": "code",
   "execution_count": 247,
   "metadata": {},
   "outputs": [
    {
     "name": "stdout",
     "output_type": "stream",
     "text": [
      "running for 100 samples\n",
      "running for 2138 samples\n",
      "running for 4177 samples\n",
      "running for 6216 samples\n",
      "running for 8255 samples\n",
      "running for 10293 samples\n",
      "running for 12332 samples\n",
      "running for 14371 samples\n",
      "running for 16410 samples\n",
      "running for 18448 samples\n",
      "running for 20487 samples\n",
      "running for 22526 samples\n",
      "running for 24565 samples\n",
      "running for 26604 samples\n",
      "running for 28642 samples\n",
      "running for 30681 samples\n",
      "running for 32720 samples\n",
      "running for 34759 samples\n",
      "running for 36797 samples\n",
      "running for 38836 samples\n",
      "running for 40875 samples\n",
      "running for 42914 samples\n",
      "running for 44953 samples\n",
      "running for 46991 samples\n",
      "running for 49030 samples\n",
      "running for 51069 samples\n",
      "running for 53108 samples\n",
      "running for 55146 samples\n",
      "running for 57185 samples\n",
      "running for 59224 samples\n",
      "running for 61263 samples\n",
      "running for 63302 samples\n",
      "running for 65340 samples\n",
      "running for 67379 samples\n",
      "running for 69418 samples\n",
      "running for 71457 samples\n",
      "running for 73495 samples\n",
      "running for 75534 samples\n",
      "running for 77573 samples\n",
      "running for 79612 samples\n",
      "running for 81651 samples\n",
      "running for 83689 samples\n",
      "running for 85728 samples\n",
      "running for 87767 samples\n",
      "running for 89806 samples\n",
      "running for 91844 samples\n",
      "running for 93883 samples\n",
      "running for 95922 samples\n",
      "running for 97961 samples\n",
      "running for 100000 samples\n"
     ]
    }
   ],
   "source": [
    "import importlib\n",
    "from collections import defaultdict\n",
    "importlib.reload(CCA_calc)\n",
    "\n",
    "x = np.array( im1_2.reshape((-1,12)) )\n",
    "y = np.array( im2_2.reshape((-1,12)) )\n",
    "\n",
    "x = (x - x.mean(axis=(0,1)))/x.std(axis=(0,1))\n",
    "y = (y - y.mean(axis=(0,1)))/y.std(axis=(0,1))\n",
    "\n",
    "#np.random.shuffle(x)\n",
    "#np.random.shuffle(y)\n",
    "\n",
    "test_results = defaultdict(list)\n",
    "\n",
    "for n_samples in np.linspace(100,100000,50):\n",
    "    n_samples = int(n_samples)\n",
    "    print('running for {} samples'.format(n_samples))\n",
    "    cca2 = CCA_calc.CCA(12)\n",
    "    cca2.push(x[:n_samples],y[:n_samples])\n",
    "    my_cor_legacy = cca2.correlation( cca2.calc_ab() )[0,0]\n",
    "    my_cor_no_ab = cca2.correlation( cca2.calc_ab_adv(dont_use_ab=True) )\n",
    "    my_cor_ab = cca2.correlation( cca2.calc_ab_adv(dont_use_ab=False) )\n",
    "    #a,b = cca2.calc_ab()\n",
    "\n",
    "    #x_my = np.ravel( np.dot(x[:n_samples],a) )\n",
    "    #y_my = np.ravel( np.dot(y[:n_samples],b) )\n",
    "\n",
    "    \n",
    "    cca_sk2 = CCA(n_components=1)\n",
    "    cca_sk2.fit(x[:n_samples],y[:n_samples])\n",
    "    x_sk,y_sk = cca_sk2.transform(x[:n_samples],y[:n_samples])\n",
    "\n",
    "    x_sk = np.ravel(x_sk)\n",
    "    y_sk = np.ravel(y_sk)\n",
    "    sk_cor = np.corrcoef(x_sk,y_sk)[0,1]\n",
    "    \n",
    "    test_results['grad optimization'].append(my_cor_no_ab)\n",
    "    test_results['wiki solution'].append(my_cor_legacy)\n",
    "    test_results['wiki + grad opt'].append(my_cor_ab)\n",
    "    test_results['sklearn'].append(sk_cor)\n",
    "    test_results['n_samples'].append(n_samples)"
   ]
  },
  {
   "cell_type": "code",
   "execution_count": 250,
   "metadata": {},
   "outputs": [
    {
     "data": {
      "text/plain": [
       "<matplotlib.legend.Legend at 0x7f493c1b6240>"
      ]
     },
     "execution_count": 250,
     "metadata": {},
     "output_type": "execute_result"
    },
    {
     "data": {
      "image/png": "[encoded data removed]",
      "text/plain": [
       "<matplotlib.figure.Figure at 0x7f494040eb70>"
      ]
     },
     "metadata": {},
     "output_type": "display_data"
    }
   ],
   "source": [
    "grid(True)\n",
    "title(\"Comparing different optimization methods\")\n",
    "xlabel('N samples')\n",
    "ylabel('Correlation')\n",
    "y_value = 'n_samples'\n",
    "for k in test_results:\n",
    "    if k != y_value:\n",
    "        plot( test_results[y_value],test_results[k],label=k)\n",
    "legend()"
   ]
  },
  {
   "cell_type": "markdown",
   "metadata": {},
   "source": [
    "# Create input for Java application"
   ]
  },
  {
   "cell_type": "code",
   "execution_count": 303,
   "metadata": {},
   "outputs": [],
   "source": [
    "import csv\n",
    "\n",
    "with open('./OLD/test_files.csv') as f:\n",
    "    reader = csv.reader(f.readlines())\n",
    "    files = set()\n",
    "\n",
    "    # skip header\n",
    "    next(reader)\n",
    "    for f1,f2,d in reader:\n",
    "        files.add(f1)\n",
    "        files.add(f2)"
   ]
  },
  {
   "cell_type": "code",
   "execution_count": 305,
   "metadata": {},
   "outputs": [
    {
     "data": {
      "text/plain": [
       "288"
      ]
     },
     "execution_count": 305,
     "metadata": {},
     "output_type": "execute_result"
    }
   ],
   "source": [
    "len(files)"
   ]
  },
  {
   "cell_type": "code",
   "execution_count": 308,
   "metadata": {},
   "outputs": [],
   "source": [
    "with open('mosaic_files.txt','w') as f:\n",
    "    for mosaic_path in files:\n",
    "        f.write('{}\\n'.format(mosaic_path))"
   ]
  },
  {
   "cell_type": "code",
   "execution_count": 309,
   "metadata": {},
   "outputs": [],
   "source": [
    "    def roundAway(x):\n",
    "        \"\"\"\n",
    "        Simulates Python 2 round behavour\n",
    "        This is what we want as it rounds away from 0.\n",
    "        The decimal module seems to be the only way to do this properly\n",
    "        \"\"\"\n",
    "        import decimal\n",
    "        dec = decimal.Decimal(x).quantize(decimal.Decimal('1'), \n",
    "                rounding=decimal.ROUND_HALF_UP)\n",
    "        return float(dec.to_integral_value())"
   ]
  },
  {
   "cell_type": "code",
   "execution_count": 327,
   "metadata": {},
   "outputs": [
    {
     "name": "stdout",
     "output_type": "stream",
     "text": [
      "-1.5111  False -> -2.0    , 0       \n",
      "-1.5     False -> -2.0    , 0       \n",
      "-1.4999  False -> -1.0    , 0       \n",
      "-0.5111  False -> -1.0    , 0       \n",
      "-0.5     False -> -1.0    , 0       \n",
      "-0.4999  True -> -0.0    , 0       \n",
      "0.5111   True -> 1.0     , 1       \n",
      "0.5      False -> 1.0     , 0       \n",
      "0.4999   True -> 0.0     , 0       \n",
      "1.5111   True -> 2.0     , 2       \n",
      "1.5      True -> 2.0     , 2       \n",
      "1.4999   True -> 1.0     , 1       \n"
     ]
    }
   ],
   "source": [
    "def roundaway2(x):\n",
    "    if x < 0:\n",
    "        return round(0.5)\n",
    "    else:\n",
    "        return round(x)\n",
    "    \n",
    "def pt(x):\n",
    "    a = roundAway(x)\n",
    "    b = roundaway2(x)\n",
    "    print('{: <8} {} -> {: <8}, {: <8}'.format(x,a==b,a,b))\n",
    "    \n",
    "pt(-1.5111)\n",
    "pt(-1.5)\n",
    "pt(-1.4999)\n",
    "\n",
    "pt(-0.5111)\n",
    "pt(-0.5)\n",
    "pt(-0.4999)\n",
    "\n",
    "pt(.5111)\n",
    "pt(.5)\n",
    "pt(.4999)\n",
    "\n",
    "pt(1.5111)\n",
    "pt(1.5)\n",
    "pt(1.4999)\n",
    "\n",
    "del pt"
   ]
  },
  {
   "cell_type": "code",
   "execution_count": null,
   "metadata": {},
   "outputs": [],
   "source": []
  }
 ],
 "metadata": {
  "kernelspec": {
   "display_name": "Python 3",
   "language": "python",
   "name": "python3"
  },
  "language_info": {
   "codemirror_mode": {
    "name": "ipython",
    "version": 3
   },
   "file_extension": ".py",
   "mimetype": "text/x-python",
   "name": "python",
   "nbconvert_exporter": "python",
   "pygments_lexer": "ipython3",
   "version": "3.5.2"
  }
 },
 "nbformat": 4,
 "nbformat_minor": 2
}
