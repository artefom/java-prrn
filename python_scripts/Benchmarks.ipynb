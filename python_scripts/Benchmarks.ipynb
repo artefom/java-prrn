{
 "cells": [
  {
   "cell_type": "code",
   "execution_count": 657,
   "metadata": {},
   "outputs": [
    {
     "name": "stdout",
     "output_type": "stream",
     "text": [
      "Populating the interactive namespace from numpy and matplotlib\n"
     ]
    }
   ],
   "source": [
    "%pylab inline\n",
    "import pandas as pd\n",
    "import re\n",
    "import os\n",
    "from matplotlib.ticker import MaxNLocator\n",
    "from scipy.interpolate import spline\n",
    "from sklearn.cross_decomposition import CCA\n",
    "import sklearn.cross_decomposition\n",
    "\n",
    "def interpolate(x,y):\n",
    "    x_smooth = np.linspace(x.min(),x.max(),300) #300 represents number of points to make between T.min and T.max\n",
    "    y_smooth = spline(x,y,x_smooth)\n",
    "    return x_smooth,y_smooth\n",
    "\n",
    "def gen_test_gmd(n_samples,n_bands):\n",
    "    return 'kernprof -v -l CCA_calc_test.py {} {}'.format(n_samples,n_bands)\n",
    "\n",
    "def run_tests(n_samples,n_bands):\n",
    "    text = os.popen(gen_test_gmd(n_samples,n_bands)).read()\n",
    "    \n",
    "    return text\n",
    "\n",
    "record_lines = {\n",
    "    'calc_covariance' : ['calc_.._cov\\(.*\\)([^:]|\\Z)'],\n",
    "    'push' : ['push\\(.*\\)([^:]|\\Z)'],\n",
    "    'calc_ab' : ['calc_ab\\(.*\\)([^:]|\\Z)'],\n",
    "}\n",
    "\n",
    "def parse_test_results(text):\n",
    "\n",
    "    lines = text.split('\\n')\n",
    "\n",
    "    ret = dict()\n",
    "    for k,v in record_lines.items():\n",
    "        ret[k] = []\n",
    "    \n",
    "    time_unit = float(re.findall('Timer\\sunit:\\s([^\\n]+)\\s+s',text)[0])\n",
    "    columns = ['Line #','Hits','Time','Per Hit','% Time']\n",
    "    time_per_hit_column = columns.index('Per Hit')\n",
    "    \n",
    "    for line in lines:\n",
    "        for k,v in record_lines.items():\n",
    "            for pattern in v:\n",
    "                if len( re.findall(pattern,line) ) > 0:\n",
    "                    values = np.array([float(i) for i in line.split()[:len(columns)]])\n",
    "                    ret[k].append(values[time_per_hit_column]*time_unit)\n",
    "                    \n",
    "    for k in ret.keys():\n",
    "        ret[k] = np.min(ret[k])\n",
    "        \n",
    "        \n",
    "    correlation = float(re.findall('correlation:\\s([^\\n]+)',text)[0])\n",
    "    \n",
    "    ret['cor'] = correlation\n",
    "    \n",
    "    return ret"
   ]
  },
  {
   "cell_type": "code",
   "execution_count": 695,
   "metadata": {},
   "outputs": [],
   "source": [
    "import CCA_calc\n",
    "import time\n",
    "\n",
    "def gen_samples(sample_size,n_bands=3):\n",
    "    X = np.random.normal(0,1,size=(sample_size,n_bands))\n",
    "    Y = X+np.random.normal(0,0.5,size=(sample_size,n_bands))\n",
    "    return X,Y\n",
    "\n",
    "\n",
    "sk_cca = sklearn.cross_decomposition.CCA(n_components=1)\n",
    "def run_test_fast(n_samples,n_bands):\n",
    "    cca =  CCA_calc.CCA(n_bands)\n",
    "    times = []\n",
    "    precision = []\n",
    "    for i in range(5):\n",
    "        X,Y = gen_samples(n_samples,n_bands)\n",
    "        t_before = time.perf_counter()\n",
    "        cca.push(X,Y)\n",
    "        a,b = cca.calc_ab()\n",
    "        t_after = time.perf_counter()\n",
    "        \n",
    "        corr_got = np.corrcoef( np.dot(X,np.ravel(a)), np.dot(Y,np.ravel(b)) )[0,1]\n",
    "        \n",
    "        sk_cca.fit(X,Y)\n",
    "        X_new,Y_new = sk_cca.transform(X,Y)\n",
    "        corr_true = np.corrcoef(np.ravel(X_new),np.ravel(Y_new),rowvar=False)[0,1]\n",
    "        \n",
    "        \n",
    "        \n",
    "        times.append(t_after-t_before)\n",
    "        precision.append( corr_true-corr_got )\n",
    "        \n",
    "    results = {'total':np.median(times),'precision':np.mean(precision)}\n",
    "    \n",
    "    return results"
   ]
  },
  {
   "cell_type": "markdown",
   "metadata": {},
   "source": [
    "# Run tests"
   ]
  },
  {
   "cell_type": "code",
   "execution_count": 703,
   "metadata": {},
   "outputs": [],
   "source": [
    "# some caching\n",
    "cache = dict()\n",
    "\n",
    "def run_test(*args,fast=True):\n",
    "    if fast:\n",
    "        return run_test_fast(*args)\n",
    "    else:\n",
    "        text = '###\\n'.join( [run_tests(*args) for i in range(2)] )\n",
    "        results = parse_test_results(text)\n",
    "        \n",
    "def run_test_cached(*args):\n",
    "    if args in cache:\n",
    "        return cache[args]\n",
    "    ret = run_test(*args)\n",
    "    cache[args]=ret\n",
    "    return ret"
   ]
  },
  {
   "cell_type": "code",
   "execution_count": 752,
   "metadata": {},
   "outputs": [
    {
     "name": "stdout",
     "output_type": "stream",
     "text": [
      "running test for 7500 samples and 2 bands (1 of 60)\n"
     ]
    },
    {
     "name": "stderr",
     "output_type": "stream",
     "text": [
      "/usr/local/lib/python3.5/dist-packages/sklearn/cross_decomposition/pls_.py:83: UserWarning: Maximum number of iterations reached\n",
      "  warnings.warn('Maximum number of iterations reached')\n"
     ]
    },
    {
     "name": "stdout",
     "output_type": "stream",
     "text": [
      "running test for 13344 samples and 8 bands (11 of 60)\n",
      "running test for 23742 samples and 12 bands (21 of 60)\n",
      "running test for 51189 samples and 2 bands (31 of 60)\n",
      "running test for 91077 samples and 8 bands (41 of 60)\n",
      "running test for 162049 samples and 12 bands (51 of 60)\n",
      "running test for 288325 samples and 12 bands (60 of 60)\n",
      "running test for 10000 samples and 2 bands (1 of 26)\n",
      "running test for 10000 samples and 14 bands (6 of 26)\n",
      "running test for 10000 samples and 26 bands (11 of 26)\n",
      "running test for 2500 samples and 6 bands (16 of 26)\n",
      "running test for 2500 samples and 20 bands (21 of 26)\n",
      "running test for 2500 samples and 30 bands (26 of 26)\n"
     ]
    }
   ],
   "source": [
    "# results of profile CCA_calc.py\n",
    "\n",
    "from collections import defaultdict\n",
    "\n",
    "n_samples = (np.logspace(1,10,base=1.5,num=20)*5000).astype(np.int)\n",
    "n_bands = np.array([2,8,12])\n",
    "\n",
    "band_profile_n_samples = np.array( [100*100,50*50] )\n",
    "band_profile_n_bands = np.array([2,4,6,8,12,14,18,20,22,24,26,28,30])#np.arange(2,13)\n",
    "\n",
    "measures = defaultdict(lambda: defaultdict(list))\n",
    "band_measures = defaultdict(lambda: defaultdict(list))\n",
    "\n",
    "progress_max = len(n_samples)*len(n_bands)\n",
    "for i,n in enumerate(n_samples):\n",
    "    for j,n_b in enumerate(n_bands):\n",
    "        progress = i*len(n_bands)+j+1\n",
    "        if progress % 10 == 1 or progress == progress_max:\n",
    "            print('running test for {} samples and {} bands ({} of {})'.format(n,n_b,progress,progress_max))\n",
    "        results = run_test_cached(n,n_b)\n",
    "        for k,v in results.items():\n",
    "            measures[n_b][k].append(v)\n",
    "         \n",
    "        \n",
    "progress_max = len(band_profile_n_samples)*len(band_profile_n_bands)\n",
    "for i,n in enumerate(band_profile_n_samples):\n",
    "    for j,n_b in enumerate(band_profile_n_bands):\n",
    "        progress = (i*len(band_profile_n_bands))+j+1\n",
    "        if progress % 5 == 1 or progress == progress_max:\n",
    "            print('running test for {} samples and {} bands ({} of {})'.format(n,n_b,progress,progress_max))\n",
    "        results = run_test_cached(n,n_b)\n",
    "        for k,v in results.items():\n",
    "            try:\n",
    "                band_measures[n][k].append(v)\n",
    "            except KeyError:\n",
    "                band_measures[n] = band_measures.get(n,dict())\n",
    "                band_measures[n][k] = []\n",
    "        \n",
    "for k,v in measures.items():\n",
    "    for k2,v2 in v.items():\n",
    "        measures[k][k2] = np.array(measures[k][k2])\n",
    "        \n",
    "for k,v in band_measures.items():\n",
    "    for k2,v2 in v.items():\n",
    "        band_measures[k][k2] = np.array(band_measures[k][k2])"
   ]
  },
  {
   "cell_type": "code",
   "execution_count": 757,
   "metadata": {},
   "outputs": [
    {
     "data": {
      "image/png": "[encoded data removed]",
      "text/plain": [
       "<matplotlib.figure.Figure at 0x7fe5ee4cecc0>"
      ]
     },
     "metadata": {},
     "output_type": "display_data"
    },
    {
     "data": {
      "image/png": "[encoded data removed]",
      "text/plain": [
       "<matplotlib.figure.Figure at 0x7fe5ed9b5dd8>"
      ]
     },
     "metadata": {},
     "output_type": "display_data"
    },
    {
     "data": {
      "image/png": "[encoded data removed]",
      "text/plain": [
       "<matplotlib.figure.Figure at 0x7fe5edacbc88>"
      ]
     },
     "metadata": {},
     "output_type": "display_data"
    }
   ],
   "source": [
    "clfs = dict()\n",
    "\n",
    "for i,band in enumerate( n_bands ):\n",
    "    \n",
    "    color = 'C{}'.format(i)\n",
    "    label = '{} bands'.format(band) if band > 1 else '1 band'\n",
    "    #plot(n_samples,measures['calc_covariance']*1e3,label='covariance');\n",
    "    \n",
    "    plot(n_samples,measures[band]['total']*1e3,'{}'.format(color),label=label);\n",
    "#     plot(n_samples,measures[band]['precision'],color,label=label)\n",
    "\n",
    "    # plot fitting line\n",
    "    clf = linear_model.Ridge()\n",
    "    clf.fit(n_samples[:,np.newaxis],measures[band]['total']*1e6)\n",
    "    plot(n_samples,clf.predict(n_samples[:,np.newaxis])/1e3,'{}--'.format(color),alpha=0.4 );\n",
    "    clfs[band] = clf\n",
    "    \n",
    "    \n",
    "grid(True)\n",
    "title('Bechmark of CCA')\n",
    "xscale('log')\n",
    "ylabel('Execution time ms')\n",
    "xlabel('N samples')\n",
    "legend()\n",
    "show()\n",
    "\n",
    "for i,band in enumerate( n_bands ):\n",
    "    \n",
    "    color = 'C{}'.format(i)\n",
    "    label = '{} bands'.format(band) if band > 1 else '1 band'\n",
    "    plot(n_samples,measures[band]['precision'],color,label=label,alpha=0.9)\n",
    "    \n",
    "grid(True)\n",
    "legend()\n",
    "title('Calculation precision')\n",
    "ylabel('p_optimal - p_got')\n",
    "xlabel('N Samples')\n",
    "show()\n",
    "\n",
    "for i,n in enumerate( band_profile_n_samples ):\n",
    "    \n",
    "    color = 'C{}'.format(i)\n",
    "    label = '{} samples'.format(n)\n",
    "    \n",
    "    plot(band_profile_n_bands,band_measures[n]['total']*1e3,color,label=label);\n",
    "    \n",
    "    \n",
    "    clf = linear_model.Ridge()\n",
    "    \n",
    "    bands_x = band_profile_n_bands[:,np.newaxis]\n",
    "    new_x = np.concatenate((bands_x,bands_x*bands_x),axis=1)\n",
    "    clf.fit(new_x,band_measures[n]['total']*1e6)\n",
    "    plot(band_profile_n_bands,clf.predict(new_x)/1e3,'{}--'.format(color),alpha=0.4 );\n",
    "\n",
    "    \n",
    "#ax = plt.figure().gca()\n",
    "axes().xaxis.set_major_locator(MaxNLocator(integer=True))\n",
    "grid(True)\n",
    "legend()\n",
    "title('Bechmark of CCA against N bands')\n",
    "ylabel('Execution time ms')\n",
    "xlabel('N Bands')\n",
    "show();\n",
    "        \n",
    "#print('T(N) = {:.3f} + {:.0f} N [ns]'.format(clf.coef_[0],clf.intercept_))\n",
    "#plot(n_samples,measures['calc_ab']*1e3,label='a,b');"
   ]
  },
  {
   "cell_type": "code",
   "execution_count": 408,
   "metadata": {},
   "outputs": [
    {
     "name": "stdout",
     "output_type": "stream",
     "text": [
      "  1024 x  1024 8 bands (  1.05 MPix): 95 ms \n",
      "  4000 x  4000 8 bands ( 16.00 MPix): 1432 ms \n",
      "  6100 x  6100 8 bands ( 37.21 MPix): 3328 ms (Landsat 8)\n",
      " 12000 x 12000 8 bands (144.00 MPix): 12877 ms \n"
     ]
    }
   ],
   "source": [
    "def print_calc_time(x_size,y_size,postfix=''):\n",
    "    megapixels = x_size*y_size/1e6\n",
    "    n_bands = 8\n",
    "    print('{: >6} x{: >6} {} bands ({: >6.2f} MPix): {:.0f} ms {}'.format(x_size,y_size,n_bands,megapixels,clfs[n_bands].predict([[x_size*y_size]])[0]/1e3,postfix))\n",
    "    \n",
    "print_calc_time(1024,1024)\n",
    "print_calc_time(4000,4000)\n",
    "print_calc_time(6100,6100,'(Landsat 8)')\n",
    "print_calc_time(12000,12000)"
   ]
  },
  {
   "cell_type": "code",
   "execution_count": 286,
   "metadata": {},
   "outputs": [
    {
     "data": {
      "text/plain": [
       "array([ 84.45363743])"
      ]
     },
     "execution_count": 286,
     "metadata": {},
     "output_type": "execute_result"
    }
   ],
   "source": [
    "clf.coef_"
   ]
  },
  {
   "cell_type": "code",
   "execution_count": 287,
   "metadata": {},
   "outputs": [
    {
     "data": {
      "text/plain": [
       "291169.87448972277"
      ]
     },
     "execution_count": 287,
     "metadata": {},
     "output_type": "execute_result"
    }
   ],
   "source": [
    "clf.intercept_"
   ]
  },
  {
   "cell_type": "code",
   "execution_count": 261,
   "metadata": {},
   "outputs": [],
   "source": [
    "from sklearn import linear_model"
   ]
  },
  {
   "cell_type": "code",
   "execution_count": 267,
   "metadata": {},
   "outputs": [
    {
     "data": {
      "text/plain": [
       "[<matplotlib.lines.Line2D at 0x7fe5fa1606d8>]"
      ]
     },
     "execution_count": 267,
     "metadata": {},
     "output_type": "execute_result"
    },
    {
     "data": {
      "image/png": "[encoded data removed]",
      "text/plain": [
       "<matplotlib.figure.Figure at 0x7fe5faaa8b38>"
      ]
     },
     "metadata": {},
     "output_type": "display_data"
    }
   ],
   "source": [
    "clf = linear_model.Ridge()\n",
    "clf.fit(n_samples[:,np.newaxis],measures['push'])\n",
    "plot( clf.predict(n_samples[:,np.newaxis]) )"
   ]
  },
  {
   "cell_type": "markdown",
   "metadata": {},
   "source": [
    "# Write results into dataframe"
   ]
  },
  {
   "cell_type": "code",
   "execution_count": 223,
   "metadata": {},
   "outputs": [
    {
     "data": {
      "text/html": [
       "<div>\n",
       "<style>\n",
       "    .dataframe thead tr:only-child th {\n",
       "        text-align: right;\n",
       "    }\n",
       "\n",
       "    .dataframe thead th {\n",
       "        text-align: left;\n",
       "    }\n",
       "\n",
       "    .dataframe tbody tr th {\n",
       "        vertical-align: top;\n",
       "    }\n",
       "</style>\n",
       "<table border=\"1\" class=\"dataframe\">\n",
       "  <thead>\n",
       "    <tr style=\"text-align: right;\">\n",
       "      <th></th>\n",
       "      <th>N samples</th>\n",
       "      <th>calc_covariance</th>\n",
       "      <th>calc_ab</th>\n",
       "      <th>push</th>\n",
       "    </tr>\n",
       "  </thead>\n",
       "  <tbody>\n",
       "    <tr>\n",
       "      <th>0</th>\n",
       "      <td>7500</td>\n",
       "      <td>0.000015</td>\n",
       "      <td>0.000338</td>\n",
       "      <td>0.000863</td>\n",
       "    </tr>\n",
       "    <tr>\n",
       "      <th>1</th>\n",
       "      <td>9088</td>\n",
       "      <td>0.000016</td>\n",
       "      <td>0.000463</td>\n",
       "      <td>0.001032</td>\n",
       "    </tr>\n",
       "    <tr>\n",
       "      <th>2</th>\n",
       "      <td>11012</td>\n",
       "      <td>0.000016</td>\n",
       "      <td>0.000337</td>\n",
       "      <td>0.001230</td>\n",
       "    </tr>\n",
       "    <tr>\n",
       "      <th>3</th>\n",
       "      <td>13344</td>\n",
       "      <td>0.000015</td>\n",
       "      <td>0.000321</td>\n",
       "      <td>0.001456</td>\n",
       "    </tr>\n",
       "    <tr>\n",
       "      <th>4</th>\n",
       "      <td>16169</td>\n",
       "      <td>0.000015</td>\n",
       "      <td>0.000305</td>\n",
       "      <td>0.001760</td>\n",
       "    </tr>\n",
       "    <tr>\n",
       "      <th>5</th>\n",
       "      <td>19593</td>\n",
       "      <td>0.000016</td>\n",
       "      <td>0.000388</td>\n",
       "      <td>0.002172</td>\n",
       "    </tr>\n",
       "    <tr>\n",
       "      <th>6</th>\n",
       "      <td>23742</td>\n",
       "      <td>0.000017</td>\n",
       "      <td>0.000335</td>\n",
       "      <td>0.002510</td>\n",
       "    </tr>\n",
       "    <tr>\n",
       "      <th>7</th>\n",
       "      <td>28770</td>\n",
       "      <td>0.000016</td>\n",
       "      <td>0.000310</td>\n",
       "      <td>0.003038</td>\n",
       "    </tr>\n",
       "    <tr>\n",
       "      <th>8</th>\n",
       "      <td>34862</td>\n",
       "      <td>0.000017</td>\n",
       "      <td>0.000346</td>\n",
       "      <td>0.003517</td>\n",
       "    </tr>\n",
       "    <tr>\n",
       "      <th>9</th>\n",
       "      <td>42244</td>\n",
       "      <td>0.000017</td>\n",
       "      <td>0.000371</td>\n",
       "      <td>0.004044</td>\n",
       "    </tr>\n",
       "    <tr>\n",
       "      <th>10</th>\n",
       "      <td>51189</td>\n",
       "      <td>0.000017</td>\n",
       "      <td>0.000865</td>\n",
       "      <td>0.005156</td>\n",
       "    </tr>\n",
       "    <tr>\n",
       "      <th>11</th>\n",
       "      <td>62028</td>\n",
       "      <td>0.000020</td>\n",
       "      <td>0.000421</td>\n",
       "      <td>0.006518</td>\n",
       "    </tr>\n",
       "    <tr>\n",
       "      <th>12</th>\n",
       "      <td>75162</td>\n",
       "      <td>0.000019</td>\n",
       "      <td>0.000390</td>\n",
       "      <td>0.006952</td>\n",
       "    </tr>\n",
       "    <tr>\n",
       "      <th>13</th>\n",
       "      <td>91077</td>\n",
       "      <td>0.000017</td>\n",
       "      <td>0.000351</td>\n",
       "      <td>0.007181</td>\n",
       "    </tr>\n",
       "    <tr>\n",
       "      <th>14</th>\n",
       "      <td>110363</td>\n",
       "      <td>0.000018</td>\n",
       "      <td>0.000344</td>\n",
       "      <td>0.009331</td>\n",
       "    </tr>\n",
       "    <tr>\n",
       "      <th>15</th>\n",
       "      <td>133732</td>\n",
       "      <td>0.000019</td>\n",
       "      <td>0.000425</td>\n",
       "      <td>0.010599</td>\n",
       "    </tr>\n",
       "    <tr>\n",
       "      <th>16</th>\n",
       "      <td>162049</td>\n",
       "      <td>0.000019</td>\n",
       "      <td>0.000429</td>\n",
       "      <td>0.012835</td>\n",
       "    </tr>\n",
       "    <tr>\n",
       "      <th>17</th>\n",
       "      <td>196362</td>\n",
       "      <td>0.000017</td>\n",
       "      <td>0.000357</td>\n",
       "      <td>0.014861</td>\n",
       "    </tr>\n",
       "    <tr>\n",
       "      <th>18</th>\n",
       "      <td>237941</td>\n",
       "      <td>0.000019</td>\n",
       "      <td>0.000593</td>\n",
       "      <td>0.019529</td>\n",
       "    </tr>\n",
       "    <tr>\n",
       "      <th>19</th>\n",
       "      <td>288325</td>\n",
       "      <td>0.000019</td>\n",
       "      <td>0.000457</td>\n",
       "      <td>0.025259</td>\n",
       "    </tr>\n",
       "  </tbody>\n",
       "</table>\n",
       "</div>"
      ],
      "text/plain": [
       "    N samples  calc_covariance   calc_ab      push\n",
       "0        7500         0.000015  0.000338  0.000863\n",
       "1        9088         0.000016  0.000463  0.001032\n",
       "2       11012         0.000016  0.000337  0.001230\n",
       "3       13344         0.000015  0.000321  0.001456\n",
       "4       16169         0.000015  0.000305  0.001760\n",
       "5       19593         0.000016  0.000388  0.002172\n",
       "6       23742         0.000017  0.000335  0.002510\n",
       "7       28770         0.000016  0.000310  0.003038\n",
       "8       34862         0.000017  0.000346  0.003517\n",
       "9       42244         0.000017  0.000371  0.004044\n",
       "10      51189         0.000017  0.000865  0.005156\n",
       "11      62028         0.000020  0.000421  0.006518\n",
       "12      75162         0.000019  0.000390  0.006952\n",
       "13      91077         0.000017  0.000351  0.007181\n",
       "14     110363         0.000018  0.000344  0.009331\n",
       "15     133732         0.000019  0.000425  0.010599\n",
       "16     162049         0.000019  0.000429  0.012835\n",
       "17     196362         0.000017  0.000357  0.014861\n",
       "18     237941         0.000019  0.000593  0.019529\n",
       "19     288325         0.000019  0.000457  0.025259"
      ]
     },
     "execution_count": 223,
     "metadata": {},
     "output_type": "execute_result"
    }
   ],
   "source": [
    "column_names = list(measures.keys())\n",
    "data = [i for i in zip(n_samples,*(measures[i] for i in column_names))]\n",
    "data = pd.DataFrame(data,columns=['N samples',*column_names])\n",
    "data"
   ]
  },
  {
   "cell_type": "code",
   "execution_count": 232,
   "metadata": {},
   "outputs": [
    {
     "name": "stdout",
     "output_type": "stream",
     "text": [
      "Number of samples is: 288325\n",
      "a:\n",
      "[[ 0.00107359]\n",
      " [ 0.82623166]\n",
      " [ 0.99011485]]\n",
      "b:\n",
      "[[-0.26508857]\n",
      " [ 0.48718532]\n",
      " [-0.14951347]]\n",
      "Wrote profile results to CCA_calc_test.py.lprof\n",
      "Timer unit: 1e-06 s\n",
      "\n",
      "Total time: 0.223966 s\n",
      "File: CCA_calc_test.py\n",
      "Function: push at line 23\n",
      "\n",
      "Line #      Hits         Time  Per Hit   % Time  Line Contents\n",
      "==============================================================\n",
      "    23                                           \t@profile\n",
      "    24                                           \tdef push(self,x,y):\n",
      "    25                                           \t\t\"\"\"\n",
      "    26                                           \t\tpush x and y to caclulate cca. x and y values are not stored\n",
      "    27                                           \t\t\"\"\"\n",
      "    28        10        61593   6159.3     27.5  \t\tself.x_sum += np.sum(x,axis=0)[:,np.newaxis]\n",
      "    29        10        58992   5899.2     26.3  \t\tself.y_sum += np.sum(y,axis=0)[:,np.newaxis]\n",
      "    30        10        35562   3556.2     15.9  \t\tself.xy_sum += np.matmul(np.transpose(x),y)\n",
      "    31        10        33829   3382.9     15.1  \t\tself.xx_sum += np.matmul(np.transpose(x),x)\n",
      "    32        10        33895   3389.5     15.1  \t\tself.yy_sum += np.matmul(np.transpose(y),y)\n",
      "    33        10           95      9.5      0.0  \t\tself.n += np.shape(x)[0]\n",
      "\n",
      "Total time: 0.003344 s\n",
      "File: CCA_calc_test.py\n",
      "Function: calc_ab at line 70\n",
      "\n",
      "Line #      Hits         Time  Per Hit   % Time  Line Contents\n",
      "==============================================================\n",
      "    70                                           \t@profile\n",
      "    71                                           \tdef calc_ab(self):\n",
      "    72                                           \t\t\n",
      "    73        10          319     31.9      9.5  \t\txx_cov = self.calc_xx_cov()\n",
      "    74        10          124     12.4      3.7  \t\txy_cov = self.calc_xy_cov()\n",
      "    75        10           98      9.8      2.9  \t\tyy_cov = self.calc_yy_cov()\n",
      "    76                                           \n",
      "    77        10         2409    240.9     72.0  \t\ta = np.linalg.eigvals( np.matmul( np.matmul( np.matmul( np.linalg.inv(xx_cov), xy_cov ), np.linalg.inv(yy_cov)), xy_cov.T ) )[:,np.newaxis]\n",
      "    78        10          382     38.2     11.4  \t\tb = np.matmul(np.matmul( np.linalg.inv(yy_cov), xy_cov.T ),a )\n",
      "    79                                           \n",
      "    80        10           12      1.2      0.4  \t\treturn a,b\n",
      "\n",
      "Total time: 0.227869 s\n",
      "File: CCA_calc_test.py\n",
      "Function: calc_cca at line 100\n",
      "\n",
      "Line #      Hits         Time  Per Hit   % Time  Line Contents\n",
      "==============================================================\n",
      "   100                                           @profile\n",
      "   101                                           def calc_cca(X,Y):\n",
      "   102        10          195     19.5      0.1  \tcca = CCA(3)\n",
      "   103                                           \n",
      "   104        10       224177  22417.7     98.4  \tcca.push(X,Y)\n",
      "   105        10         3492    349.2      1.5  \ta,b = cca.calc_ab()\n",
      "   106                                           \n",
      "   107        10            5      0.5      0.0  \treturn a,b\n",
      "\n",
      "\n"
     ]
    }
   ],
   "source": [
    "print(text)"
   ]
  },
  {
   "cell_type": "code",
   "execution_count": null,
   "metadata": {},
   "outputs": [],
   "source": []
  }
 ],
 "metadata": {
  "kernelspec": {
   "display_name": "Python 3",
   "language": "python",
   "name": "python3"
  },
  "language_info": {
   "codemirror_mode": {
    "name": "ipython",
    "version": 3
   },
   "file_extension": ".py",
   "mimetype": "text/x-python",
   "name": "python",
   "nbconvert_exporter": "python",
   "pygments_lexer": "ipython3",
   "version": "3.5.2"
  }
 },
 "nbformat": 4,
 "nbformat_minor": 2
}
