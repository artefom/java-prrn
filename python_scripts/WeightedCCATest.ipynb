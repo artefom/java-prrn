{
 "cells": [
  {
   "cell_type": "code",
   "execution_count": 3,
   "metadata": {},
   "outputs": [
    {
     "name": "stdout",
     "output_type": "stream",
     "text": [
      "Populating the interactive namespace from numpy and matplotlib\n"
     ]
    }
   ],
   "source": [
    "# Check that weighted cca is coherent\n",
    "%pylab inline\n",
    "%load_ext autoreload\n",
    "%autoreload 1\n",
    "%aimport new_CCA\n",
    "%aimport sample_gen\n",
    "from scipy.stats import multivariate_normal\n",
    "from collections import defaultdict\n",
    "from scipy.linalg import sqrtm"
   ]
  },
  {
   "cell_type": "code",
   "execution_count": 21,
   "metadata": {},
   "outputs": [],
   "source": [
    "def variance(x,w=None):\n",
    "    if w is None:\n",
    "        w = np.ones(x.shape)\n",
    "    \n",
    "    x_mean = (w*x).sum()/w.sum()\n",
    "    \n",
    "    return (w*((x-x_mean)**2)).sum()/(w.sum()-1)\n",
    "\n",
    "def covariance(x,y,w=None):\n",
    "    if w is None:\n",
    "        w = np.ones(x.shape)\n",
    "    \n",
    "    x_mean = (w*x).sum()/w.sum()\n",
    "    y_mean = (w*y).sum()/w.sum()\n",
    "    \n",
    "    return (w*(x-x_mean)*(y-y.mean())).sum()/(w.sum()-1)\n",
    "\n",
    "def correlation(x,y,w=None):\n",
    "    if w is None:\n",
    "        w = np.ones(x.shape)\n",
    "        \n",
    "    return covariance(x,y,w=w)/sqrt(variance(x,w=w))/sqrt(variance(y,w=w))"
   ]
  },
  {
   "cell_type": "markdown",
   "metadata": {},
   "source": [
    "# Generating test set.\n",
    "\n",
    "$$ \\newcommand{\\R}{\\mathbb{R}} $$\n",
    "\n",
    "$$ X = \\{ x_1, x_2, ..., x_n \\mid x \\in \\R^k \\} $$\n",
    "$$ Y = \\{ y_1, y_2, ..., y_n \\mid y \\in \\R^k \\} $$\n",
    "\n",
    "$$\n",
    "X = \n",
    "\\begin{bmatrix}\n",
    "    x_{11} && x_{12} && \\dots && x_{1k} \\\\\n",
    "    x_{21} && x_{22} && \\dots && x_{2k} \\\\\n",
    "    \\vdots && \\vdots && \\ddots && \\vdots \\\\\n",
    "    x_{n1} && x_{n2} && \\dots && x_{nk} \\\\\n",
    "\\end{bmatrix}\n",
    "$$\n",
    "\n",
    "$$\n",
    "Y = \n",
    "\\begin{bmatrix}\n",
    "    y_{11} && y_{12} && \\dots && y_{1k} \\\\\n",
    "    y_{21} && y_{22} && \\dots && y_{2k} \\\\\n",
    "    \\vdots && \\vdots && \\ddots && \\vdots \\\\\n",
    "    y_{n1} && y_{n2} && \\dots && y_{nk} \\\\\n",
    "\\end{bmatrix}\n",
    "$$\n",
    "\n",
    "$$ k = 10 $$\n",
    "$$ n = 1000 $$\n"
   ]
  },
  {
   "cell_type": "code",
   "execution_count": 44,
   "metadata": {},
   "outputs": [],
   "source": [
    "k = 10\n",
    "n = 1000\n",
    "d1 = sample_gen.create_distribution(k,mean_std_scale=0.3,std=1)\n",
    "d2 = sample_gen.create_distribution(k,mean_std_scale=1,std=2,std_scale=0.1)\n",
    "X = d1.rvs(n)\n",
    "Y = X+d2.rvs(n)\n",
    "#w = np.abs( ( ((X-X.mean(axis=0))**2).sum(axis=1) ) )\n",
    "w = abs( np.random.normal(1,0.3,size=X.shape[0]) )\n",
    "\n",
    "# outliers\n",
    "outliers_portion = 0.1\n",
    "X_outliers = np.random.multivariate_normal(X.mean(axis=0), np.cov(X,rowvar=False)*10,size=int(X.shape[0]*outliers_portion))\n",
    "Y_outliers = np.random.multivariate_normal(X.mean(axis=0), np.cov(X,rowvar=False)*10,size=int(X.shape[0]*outliers_portion))\n",
    "outliers_weights = np.abs( np.random.normal(w.mean()*0.2,w.std()*0.5,size=X_outliers.shape[0]) )\n",
    "\n",
    "X = np.concatenate( (X,X_outliers) )\n",
    "Y = np.concatenate( (Y,Y_outliers) )\n",
    "w = np.concatenate( (w,outliers_weights) )\n",
    "\n",
    "ids = np.arange(0,X.shape[0])\n",
    "np.random.shuffle(ids)\n",
    "X = X[ids]\n",
    "Y = Y[ids]\n",
    "w = w[ids]\n",
    "\n",
    "del d1\n",
    "del d2"
   ]
  },
  {
   "cell_type": "markdown",
   "metadata": {},
   "source": [
    "# Yield of CCA"
   ]
  },
  {
   "cell_type": "markdown",
   "metadata": {},
   "source": [
    "$$ A \\in \\R^{k \\times k} $$\n",
    "$$ B \\in \\R^{k \\times k} $$\n",
    "\n",
    "$$ U = A^T X^T = \\{u_1, u_2, ..., u_k\\ \\mid u_i = (col_iA)^T X \\} $$\n",
    "$$ V = B^T Y^T = \\{v_1, v_2, ..., v_k\\ \\mid v_i = (col_iB)^T Y \\} $$\n"
   ]
  },
  {
   "cell_type": "markdown",
   "metadata": {},
   "source": [
    "# CCA CALC"
   ]
  },
  {
   "cell_type": "markdown",
   "metadata": {},
   "source": [
    "# Push data"
   ]
  },
  {
   "cell_type": "code",
   "execution_count": 6,
   "metadata": {},
   "outputs": [],
   "source": [
    "# Paramters\n",
    "use_weights = True\n",
    "x=X\n",
    "y=Y\n",
    "\n",
    "# Push\n",
    "\n",
    "n = np.shape(x)[0]\n",
    "\n",
    "x_sum = np.sum(x,axis=0)[:,np.newaxis]\n",
    "y_sum = np.sum(y,axis=0)[:,np.newaxis]\n",
    "xy_sum = np.transpose(x) @ y\n",
    "xx_sum = np.transpose(x) @ x\n",
    "yy_sum = np.transpose(y) @ y\n",
    "\n",
    "if use_weights:\n",
    "    xy_sum_w = np.transpose(x) @ (y*w[:,np.newaxis])\n",
    "    xx_sum_w = np.transpose(x) @ (x*w[:,np.newaxis])\n",
    "    yy_sum_w = np.transpose(y) @ (y*w[:,np.newaxis])\n",
    "    x_sum_w  = np.sum(x*w[:,np.newaxis],axis=0)[:,np.newaxis]\n",
    "    y_sum_w  = np.sum(y*w[:,np.newaxis],axis=0)[:,np.newaxis]\n",
    "    w_sum = w.sum()\n",
    "else:\n",
    "    # assuming all weights are 1\n",
    "    xy_sum_w = np.transpose(x) @ y\n",
    "    xx_sum_w = np.transpose(x) @ x\n",
    "    yy_sum_w = np.transpose(y) @ y\n",
    "    x_sum_w  = np.sum(x,axis=0)[:,np.newaxis]\n",
    "    y_sum_w  = np.sum(y,axis=0)[:,np.newaxis]\n",
    "    w_sum = np.shape(x)[0]"
   ]
  },
  {
   "cell_type": "markdown",
   "metadata": {},
   "source": [
    "# Calc operation"
   ]
  },
  {
   "cell_type": "code",
   "execution_count": 7,
   "metadata": {},
   "outputs": [],
   "source": [
    "# xx_cov = new_CCA.calc_covariance(xx_sum,x_sum,x_sum,n)\n",
    "# xy_cov = new_CCA.calc_covariance(xy_sum,x_sum,y_sum,n)\n",
    "# yy_cov = new_CCA.calc_covariance(yy_sum,y_sum,y_sum,n)\n",
    "\n",
    "xx_cov = new_CCA.calc_covariance_weighted(xx_sum_w,x_sum,x_sum_w,x_sum,x_sum_w,n,w_sum)\n",
    "xy_cov = new_CCA.calc_covariance_weighted(xy_sum_w,x_sum,x_sum_w,y_sum,y_sum_w,n,w_sum)\n",
    "yy_cov = new_CCA.calc_covariance_weighted(yy_sum_w,y_sum,y_sum_w,y_sum,y_sum_w,n,w_sum)\n",
    "\n",
    "xx_cov_sqrt_inv = np.linalg.inv( sqrtm(xx_cov) )\n",
    "yy_cov_sqrt_inv = np.linalg.inv( sqrtm(yy_cov) )\n",
    "\n",
    "u_mat = xx_cov_sqrt_inv @ xy_cov @ np.linalg.inv(yy_cov) @ xy_cov.T @ xx_cov_sqrt_inv\n",
    "u_eigvals,u_eigvecs = np.linalg.eig(u_mat)\n",
    "\n",
    "v_mat = yy_cov_sqrt_inv @ xy_cov.T @ np.linalg.inv(xx_cov) @ xy_cov @ yy_cov_sqrt_inv\n",
    "v_eigvals,v_eigvecs = np.linalg.eig(v_mat)\n",
    "\n",
    "# Sort eigenvectors by their eigenvalues\n",
    "# The hypothisis here is that correlation is bigger if eigenvalue of eigenvector is bigger\n",
    "u = u_eigvecs.T[sorted([i for i in range(len(u_eigvals))], key=lambda x: -u_eigvals[x])]\n",
    "v = v_eigvecs.T[sorted([i for i in range(len(v_eigvals))], key=lambda x: -v_eigvals[x])]\n",
    "\n",
    "A = (u @ xx_cov_sqrt_inv).T\n",
    "B = (v @ yy_cov_sqrt_inv).T\n",
    "\n",
    "        \n",
    "# fix possible result for negarive correlation    \n",
    "# reg = np.array( [ new_CCA.calc_linear_regression(n,A[:,i],B[:,i],x_sum,y_sum,xy_sum,xx_sum ) for i in range(k) ] )\n",
    "\n",
    "#A = A*reg[:,1]\n",
    "\n",
    "U = A.T @ X.T\n",
    "V = B.T @ Y.T"
   ]
  },
  {
   "cell_type": "code",
   "execution_count": null,
   "metadata": {},
   "outputs": [],
   "source": []
  },
  {
   "cell_type": "markdown",
   "metadata": {},
   "source": [
    "# Unweighted covariance\n",
    "\n",
    "$$\\newcommand\\conj[1]{\\bar{#1}}$$\n",
    "$$\\newcommand\\mean[1]{\\bar{#1}}$$\n",
    "\n",
    "$$ \\sum_i^n (x_i-\\mean x)(y_i-\\mean y) $$\n",
    "$$ \\sum_i^n [ x_i y_i -x_i \\mean y -y_i \\mean x + \\mean x \\mean y ] $$\n",
    "$$ \\sum_i^n x_i y_i - \\mean y \\sum_i^n x_i - \\mean x \\sum_i^n y_i + n \\mean x \\mean y $$\n",
    "$$ \\sum_i^n x_i y_i - n \\mean y \\mean x - n \\mean x \\mean y + n \\mean x \\mean y $$\n",
    "$$ \\sum_i^n x_i y_i - n \\mean y \\mean x $$"
   ]
  },
  {
   "cell_type": "markdown",
   "metadata": {},
   "source": [
    "# Weighted covariance\n",
    "\n",
    "$$\\newcommand\\mean[1]{\\bar{#1}}$$\n",
    "\n",
    "$$ \\sum_i^n w_i(x_i-\\mean x)(y_i-\\mean y) $$\n",
    "$$ \\sum_i^n [ w_i x_i y_i - w_i x_i \\mean y - w_i y_i \\mean x + w_i \\mean x \\mean y ] $$\n",
    "$$ \\sum_i^n w_i x_i y_i - \\mean y \\sum_i^n w_i x_i - \\mean x \\sum_i^n w_i y_i + \\mean x \\mean y \\sum_i^n w_i $$\n",
    "$$ \\sum_i^n w_i x_i y_i - \\mean y \\mean x \\sum w_i - \\mean x \\mean y \\sum w_i + \\mean x \\mean y \\sum_i^n w_i $$\n",
    "$$ \\sum_i^n w_i x_i y_i - \\mean x \\mean y \\sum_i^n w_i $$"
   ]
  },
  {
   "cell_type": "markdown",
   "metadata": {},
   "source": [
    "## Generally\n",
    "\n",
    "$$\\newcommand\\mean[1]{\\bar{#1}}$$\n",
    "$$\\newcommand\\vectorof[1]{\\overrightarrow{#1}}$$\n",
    "\n",
    "$$ X^T W Y - X^T w \\mean{Y}^T - \\mean{X} w^T Y + \\mean{X} \\mean{Y}^T \\mean{w}n $$"
   ]
  },
  {
   "cell_type": "code",
   "execution_count": 66,
   "metadata": {},
   "outputs": [],
   "source": [
    "# Correlation function\n",
    "def calc_covariance_weighted_old(xy_sum_w,x_sum,x_sum_w,y_sum,y_sum_w,n,w_sum):\n",
    "    \"\"\"\n",
    "    calculate weighted covariance matrix of 2 variables\n",
    "    \"\"\"\n",
    "    return (xy_sum_w - x_sum_w @ (y_sum_w/w_sum).T - (x_sum_w/w_sum) @ y_sum_w.T + (x_sum_w/w_sum) @ (y_sum_w/w_sum).T*w_sum)/(w_sum-1)\n",
    "\n",
    "def calc_covariance_weighted(xy_sum_w,x_sum,x_sum_w,y_sum,y_sum_w,n,w_sum):\n",
    "    \"\"\"\n",
    "    calculate weighted covariance matrix of 2 variables\n",
    "    \"\"\"\n",
    "    return (xy_sum_w - (x_sum_w/w_sum) @ (y_sum_w/w_sum).T*w_sum)/(w_sum-1)\n"
   ]
  },
  {
   "cell_type": "code",
   "execution_count": 67,
   "metadata": {},
   "outputs": [
    {
     "data": {
      "text/plain": [
       "array([[ 1.,  1.,  1.,  1.,  1.,  1.,  1.,  1.,  1.,  1.],\n",
       "       [ 1.,  1.,  1.,  1.,  1.,  1.,  1.,  1.,  1.,  1.],\n",
       "       [ 1.,  1.,  1.,  1.,  1.,  1.,  1.,  1.,  1.,  1.],\n",
       "       [ 1.,  1.,  1.,  1.,  1.,  1.,  1.,  1.,  1.,  1.],\n",
       "       [ 1.,  1.,  1.,  1.,  1.,  1.,  1.,  1.,  1.,  1.],\n",
       "       [ 1.,  1.,  1.,  1.,  1.,  1.,  1.,  1.,  1.,  1.],\n",
       "       [ 1.,  1.,  1.,  1.,  1.,  1.,  1.,  1.,  1.,  1.],\n",
       "       [ 1.,  1.,  1.,  1.,  1.,  1.,  1.,  1.,  1.,  1.],\n",
       "       [ 1.,  1.,  1.,  1.,  1.,  1.,  1.,  1.,  1.,  1.],\n",
       "       [ 1.,  1.,  1.,  1.,  1.,  1.,  1.,  1.,  1.,  1.]])"
      ]
     },
     "execution_count": 67,
     "metadata": {},
     "output_type": "execute_result"
    }
   ],
   "source": [
    "calc_covariance_weighted    (xy_sum_w,x_sum,x_sum_w,y_sum,y_sum_w,n,w_sum)/\\\n",
    "calc_covariance_weighted_old(xy_sum_w,x_sum,x_sum_w,y_sum,y_sum_w,n,w_sum)"
   ]
  },
  {
   "cell_type": "code",
   "execution_count": 80,
   "metadata": {},
   "outputs": [],
   "source": [
    "# weighted\n",
    "cca = new_CCA.CCA(k)\n",
    "cca.push(X,Y,w=w)\n",
    "A,B, reg = cca.calc()\n",
    "U = A.T @ X.T\n",
    "V = B.T @ Y.T"
   ]
  },
  {
   "cell_type": "code",
   "execution_count": 78,
   "metadata": {},
   "outputs": [],
   "source": [
    "# standard\n",
    "cca = new_CCA.CCA(k)\n",
    "cca.push(X,Y)\n",
    "A,B, reg = cca.calc()\n",
    "U = A.T @ X.T\n",
    "V = B.T @ Y.T"
   ]
  },
  {
   "cell_type": "code",
   "execution_count": 81,
   "metadata": {},
   "outputs": [
    {
     "data": {
      "image/png": "[encoded data removed]",
      "text/plain": [
       "<matplotlib.figure.Figure at 0x7f4d27834b38>"
      ]
     },
     "metadata": {},
     "output_type": "display_data"
    },
    {
     "data": {
      "image/png": "[encoded data removed]",
      "text/plain": [
       "<matplotlib.figure.Figure at 0x7f4d2788b710>"
      ]
     },
     "metadata": {},
     "output_type": "display_data"
    },
    {
     "data": {
      "image/png": "[encoded data removed]",
      "text/plain": [
       "<matplotlib.figure.Figure at 0x7f4d2785a668>"
      ]
     },
     "metadata": {},
     "output_type": "display_data"
    }
   ],
   "source": [
    "title(\"Correlation by band\")\n",
    "plot( np.array( [abs(correlation(U[i],V[i])) for i in range(k)] ), label='original');\n",
    "plot( np.array( [abs(correlation(U[i],V[i],w=w)) for i in range(k)] ), label='weighted');\n",
    "xlabel(\"Band N\")\n",
    "ylabel(\"Correlation\");\n",
    "legend();\n",
    "grid();\n",
    "show();\n",
    "\n",
    "title(\"Weighted 1-st cannonical pair\")\n",
    "scatter( (U+reg[:,0,np.newaxis])[0], V[0],  s=sqrt(w)*5, c=w,alpha=0.5,cmap='jet');\n",
    "xlabel(\"U\");\n",
    "ylabel(\"V\")\n",
    "show();\n",
    "title(\"Weighted 9-th cannonical pair\")\n",
    "scatter( (U+reg[:,0,np.newaxis])[9], V[9],  s=sqrt(w)*5, c=w,alpha=0.5,cmap='jet');\n",
    "xlabel(\"U\");\n",
    "ylabel(\"V\")\n",
    "show();"
   ]
  },
  {
   "cell_type": "code",
   "execution_count": 53,
   "metadata": {},
   "outputs": [
    {
     "data": {
      "text/plain": [
       "9375.2086198785692"
      ]
     },
     "execution_count": 53,
     "metadata": {},
     "output_type": "execute_result"
    }
   ],
   "source": [
    "(w*(U[0]-V[0])**2).sum()/w.sum()"
   ]
  },
  {
   "cell_type": "code",
   "execution_count": 54,
   "metadata": {},
   "outputs": [
    {
     "data": {
      "text/plain": [
       "9369.3232907329602"
      ]
     },
     "execution_count": 54,
     "metadata": {},
     "output_type": "execute_result"
    }
   ],
   "source": [
    "((U[0]-V[0])**2).mean()"
   ]
  },
  {
   "cell_type": "code",
   "execution_count": 75,
   "metadata": {},
   "outputs": [
    {
     "name": "stdout",
     "output_type": "stream",
     "text": [
      "[ 1.]\n",
      "-12.275791043\n"
     ]
    }
   ],
   "source": [
    "from sklearn.linear_model import LinearRegression\n",
    "\n",
    "skreg = LinearRegression(fit_intercept=True)\n",
    "\n",
    "skreg.fit(U[0,:,np.newaxis],V[0],w)\n",
    "print( skreg.coef_ )\n",
    "print( skreg.intercept_ )"
   ]
  },
  {
   "cell_type": "code",
   "execution_count": null,
   "metadata": {},
   "outputs": [],
   "source": []
  },
  {
   "cell_type": "code",
   "execution_count": null,
   "metadata": {},
   "outputs": [],
   "source": []
  }
 ],
 "metadata": {
  "kernelspec": {
   "display_name": "Python 3",
   "language": "python",
   "name": "python3"
  },
  "language_info": {
   "codemirror_mode": {
    "name": "ipython",
    "version": 3
   },
   "file_extension": ".py",
   "mimetype": "text/x-python",
   "name": "python",
   "nbconvert_exporter": "python",
   "pygments_lexer": "ipython3",
   "version": "3.5.2"
  }
 },
 "nbformat": 4,
 "nbformat_minor": 2
}
