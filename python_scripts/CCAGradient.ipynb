{
 "cells": [
  {
   "cell_type": "code",
   "execution_count": 6,
   "metadata": {},
   "outputs": [
    {
     "name": "stdout",
     "output_type": "stream",
     "text": [
      "Populating the interactive namespace from numpy and matplotlib\n"
     ]
    }
   ],
   "source": [
    "%pylab inline\n",
    "import numpy as np\n",
    "import tensorflow as tf\n",
    "from sklearn.cross_decomposition import CCA"
   ]
  },
  {
   "cell_type": "markdown",
   "metadata": {},
   "source": [
    "CCA Basically consists of several cross-covariation matrices, so"
   ]
  },
  {
   "cell_type": "code",
   "execution_count": 7,
   "metadata": {},
   "outputs": [
    {
     "name": "stdout",
     "output_type": "stream",
     "text": [
      "Correlation matrix:\n"
     ]
    },
    {
     "data": {
      "image/png": "[encoded data removed]",
      "text/plain": [
       "<matplotlib.figure.Figure at 0x7fda259552e8>"
      ]
     },
     "metadata": {},
     "output_type": "display_data"
    }
   ],
   "source": [
    "sample_size = 28*28\n",
    "\n",
    "# X is 3 band normal multivariate with slight correlation between samples\n",
    "X = np.random.multivariate_normal([0,2,3],[[1,-0.9,0.1],\n",
    "                                           [-0.9,1,0.3],\n",
    "                                           [0.1,0.3,1]],size=sample_size)\n",
    "\n",
    "# Now set Y setting explisitly coefficents for CCA to recover and add some multivariate noise\n",
    "Y = np.concatenate( \n",
    "    (\n",
    "    ( X[:,0]*0.3+X[:,1]*-0.2+X[:,2]*0.4 )[:,np.newaxis],\n",
    "    ( X[:,0]*-0.02+X[:,1]*1.2+X[:,2]*2.4 )[:,np.newaxis],\n",
    "    ( X[:,0]*0.2+X[:,1]*-0.1+X[:,2]*0.03 )[:,np.newaxis],\n",
    "    ),\n",
    "    axis=1\n",
    ") + np.random.normal(0,0.3,size=(sample_size,3))+1\n",
    "\n",
    "print('Correlation matrix:')\n",
    "imshow( np.corrcoef(X,Y,rowvar=False), cmap='magma' );\n",
    "colorbar();"
   ]
  },
  {
   "cell_type": "code",
   "execution_count": 9,
   "metadata": {},
   "outputs": [
    {
     "name": "stdout",
     "output_type": "stream",
     "text": [
      "Correlation coef: 0.994229866532\n",
      "x_weights =  0.033, 0.476, 0.879\n",
      "y_weights =  0.025, 1.000,-0.006\n"
     ]
    },
    {
     "data": {
      "image/png": "[encoded data removed]",
      "text/plain": [
       "<matplotlib.figure.Figure at 0x7f99a7c8eeb8>"
      ]
     },
     "metadata": {},
     "output_type": "display_data"
    }
   ],
   "source": [
    "from sklearn.cross_decomposition import CCA\n",
    "\n",
    "cca = CCA(n_components=1)\n",
    "\n",
    "cca.fit(X,Y)\n",
    "\n",
    "new_X, new_Y = cca.transform(X,Y)\n",
    "print('Correlation coef:',np.corrcoef( np.ravel(new_X),np.ravel(new_Y) )[0,1] )\n",
    "print('x_weights = {: >6.3f},{: >6.3f},{: >6.3f}'.format(*cca.x_weights_[:,0] ) )\n",
    "print('y_weights = {: >6.3f},{: >6.3f},{: >6.3f}'.format(*cca.y_weights_[:,0] ) )\n",
    "plot(new_X,new_Y,'o',alpha=0.1);\n",
    "grid(True);"
   ]
  },
  {
   "cell_type": "code",
   "execution_count": 10,
   "metadata": {},
   "outputs": [],
   "source": [
    "def calc_correlation( XX_cov, XY_cov, YY_cov ):\n",
    "    pass\n",
    "\n"
   ]
  },
  {
   "cell_type": "code",
   "execution_count": 3,
   "metadata": {},
   "outputs": [
    {
     "data": {
      "text/plain": [
       "<module 'CCA' from '/home/artef/IdeaProjects/prrnmosaic/python_scripts/CCA/__init__.py'>"
      ]
     },
     "execution_count": 3,
     "metadata": {},
     "output_type": "execute_result"
    }
   ],
   "source": [
    "import importlib\n",
    "import CCA\n",
    "import tensorflow as tf\n",
    "from CCA import model\n",
    "importlib.reload(CCA)"
   ]
  },
  {
   "cell_type": "code",
   "execution_count": 46,
   "metadata": {},
   "outputs": [
    {
     "name": "stdout",
     "output_type": "stream",
     "text": [
      "[[ 0.44411016  0.55252427  0.14244644]\n",
      " [ 0.55252427  9.84520245 -0.25221828]\n",
      " [ 0.14244644 -0.25221828  0.1694745 ]]\n"
     ]
    }
   ],
   "source": [
    "mdl = model.CannonicalCorrelation(X.shape[0],3)\n",
    "\n",
    "init = tf.global_variables_initializer()\n",
    "\n",
    "with tf.Session() as sess:\n",
    "    sess.run( init)\n",
    "    yy_cov = sess.run( mdl.yy_cov, feed_dict={mdl.X : X, mdl.Y : Y} )\n",
    "    \n",
    "    print(yy_cov)"
   ]
  },
  {
   "cell_type": "code",
   "execution_count": 47,
   "metadata": {},
   "outputs": [],
   "source": [
    "from CCA import model2"
   ]
  },
  {
   "cell_type": "code",
   "execution_count": null,
   "metadata": {},
   "outputs": [],
   "source": []
  },
  {
   "cell_type": "code",
   "execution_count": 43,
   "metadata": {},
   "outputs": [],
   "source": [
    "xx_cov = np.cov(X,X,rowvar=False)[:3,:3]\n",
    "xy_cov = np.cov(X,Y,rowvar=False)[:3,3:6]\n",
    "yy_cov = np.cov(Y,Y,rowvar=False)[:3,:3]"
   ]
  },
  {
   "cell_type": "code",
   "execution_count": 27,
   "metadata": {},
   "outputs": [
    {
     "data": {
      "text/plain": [
       "array([[ 0.97160636, -0.89211662,  0.05194745],\n",
       "       [-0.89211662,  1.01656726,  0.36546049],\n",
       "       [ 0.05194745,  0.36546049,  1.07791619]])"
      ]
     },
     "execution_count": 27,
     "metadata": {},
     "output_type": "execute_result"
    }
   ],
   "source": [
    "xx_cov"
   ]
  },
  {
   "cell_type": "code",
   "execution_count": 44,
   "metadata": {},
   "outputs": [
    {
     "data": {
      "text/plain": [
       "array([[ 0.47547432, -0.96676787,  0.2755765 ],\n",
       "       [-0.30284652,  2.11190488, -0.2515791 ],\n",
       "       [ 0.38719402,  3.01713325,  0.02406294]])"
      ]
     },
     "execution_count": 44,
     "metadata": {},
     "output_type": "execute_result"
    }
   ],
   "source": [
    "xy_cov"
   ]
  },
  {
   "cell_type": "code",
   "execution_count": 29,
   "metadata": {},
   "outputs": [
    {
     "data": {
      "text/plain": [
       "array([[ 0.44467753,  0.55322976,  0.1426283 ],\n",
       "       [ 0.55322976,  9.85777735, -0.2525404 ],\n",
       "       [ 0.1426283 , -0.2525404 ,  0.16969094]])"
      ]
     },
     "execution_count": 29,
     "metadata": {},
     "output_type": "execute_result"
    }
   ],
   "source": [
    "yy_cov"
   ]
  },
  {
   "cell_type": "code",
   "execution_count": null,
   "metadata": {},
   "outputs": [],
   "source": []
  }
 ],
 "metadata": {
  "kernelspec": {
   "display_name": "Python 3",
   "language": "python",
   "name": "python3"
  },
  "language_info": {
   "codemirror_mode": {
    "name": "ipython",
    "version": 3
   },
   "file_extension": ".py",
   "mimetype": "text/x-python",
   "name": "python",
   "nbconvert_exporter": "python",
   "pygments_lexer": "ipython3",
   "version": "3.5.2"
  }
 },
 "nbformat": 4,
 "nbformat_minor": 2
}
