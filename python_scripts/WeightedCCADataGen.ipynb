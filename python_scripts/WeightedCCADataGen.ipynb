{
 "cells": [
  {
   "cell_type": "code",
   "execution_count": 1,
   "metadata": {},
   "outputs": [
    {
     "name": "stdout",
     "output_type": "stream",
     "text": [
      "Populating the interactive namespace from numpy and matplotlib\n"
     ]
    }
   ],
   "source": [
    "%pylab inline\n",
    "%load_ext autoreload\n",
    "%autoreload 1 # reload only modules imported with %aimport\n",
    "%aimport new_CCA\n",
    "%aimport new_IRMAD\n",
    "%aimport sample_gen\n",
    "import pandas as pd"
   ]
  },
  {
   "cell_type": "markdown",
   "metadata": {},
   "source": [
    "# Create test distribution"
   ]
  },
  {
   "cell_type": "code",
   "execution_count": 2,
   "metadata": {},
   "outputs": [],
   "source": [
    "def gen_test_distr():\n",
    "    n_bands = 10\n",
    "    n_samples = 1000\n",
    "    d1 = sample_gen.create_distribution(n_bands,mean_std_scale=0.3,std=1)\n",
    "    d2 = sample_gen.create_distribution(n_bands,mean_std_scale=1,std=2,std_scale=0.1)\n",
    "    X = d1.rvs(n_samples)\n",
    "    Y = X+d2.rvs(n_samples)\n",
    "    \n",
    "    irmad = new_IRMAD.IRMAD(X.shape[1])\n",
    "\n",
    "    for i in range(3):\n",
    "        irmad.push_data(X,Y)\n",
    "        irmad.commit_iteration()\n",
    "    \n",
    "    w=irmad.calc_nochange_proba(X,Y)\n",
    "\n",
    "    return w, X,Y\n",
    "\n",
    "w, X,Y = gen_test_distr()"
   ]
  },
  {
   "cell_type": "markdown",
   "metadata": {},
   "source": [
    "# Calculate weighted CCA"
   ]
  },
  {
   "cell_type": "code",
   "execution_count": 7,
   "metadata": {},
   "outputs": [],
   "source": [
    "cca = new_CCA.CCA(X.shape[1])\n",
    "cca.push(X,Y,w=w)\n",
    "a,b,reg = cca.calc()\n",
    "u,v = cca.transform(X,Y)"
   ]
  },
  {
   "cell_type": "markdown",
   "metadata": {},
   "source": [
    "# Dump data"
   ]
  },
  {
   "cell_type": "code",
   "execution_count": 18,
   "metadata": {},
   "outputs": [],
   "source": [
    "target_file = \"./test_files/\"\n",
    "pd.DataFrame(Y).to_csv(\"{}test_Y.csv\".format(target_file),index=False,header=False)\n",
    "pd.DataFrame(X).to_csv(\"{}test_X.csv\".format(target_file),index=False,header=False)\n",
    "\n",
    "pd.DataFrame(cca.xx_cov).to_csv(\"{}xx_cov.csv\".format(target_file),index=False,header=False)\n",
    "pd.DataFrame(cca.xy_cov).to_csv(\"{}xy_cov.csv\".format(target_file),index=False,header=False)\n",
    "pd.DataFrame(cca.yy_cov).to_csv(\"{}yy_cov.csv\".format(target_file),index=False,header=False)\n",
    "\n",
    "pd.DataFrame(cca.xx_cov_sqrt_inv).to_csv(\"{}xx_cov_sqrt_inv.csv\".format(target_file),index=False,header=False)\n",
    "pd.DataFrame(cca.yy_cov_sqrt_inv).to_csv(\"{}yy_cov_sqrt_inv.csv\".format(target_file),index=False,header=False)\n",
    "\n",
    "pd.DataFrame(u).to_csv(\"{}test_U.csv\".format(target_file),index=False,header=False)\n",
    "pd.DataFrame(v).to_csv(\"{}test_V.csv\".format(target_file),index=False,header=False)\n",
    "\n",
    "pd.DataFrame(cca.a).to_csv(\"{}test_a.csv\".format(target_file),index=False,header=False)\n",
    "pd.DataFrame(cca.b).to_csv(\"{}test_b.csv\".format(target_file),index=False,header=False)\n",
    "pd.DataFrame(cca.reg).to_csv(\"{}test_regr.csv\".format(target_file),index=False,header=False)\n",
    "\n",
    "pd.DataFrame([cca.w_sum]).to_csv(\"{}w_sum.csv\".format(target_file),index=False,header=False)\n",
    "\n",
    "pd.DataFrame(cca.x_wsum).to_csv(\"{}x_wsum.csv\".format(target_file),index=False,header=False)\n",
    "pd.DataFrame(cca.xx_wsum).to_csv(\"{}xx_wsum.csv\".format(target_file),index=False,header=False)\n",
    "pd.DataFrame(cca.xy_wsum).to_csv(\"{}xy_wsum.csv\".format(target_file),index=False,header=False)\n",
    "pd.DataFrame(cca.yy_wsum).to_csv(\"{}yy_wsum.csv\".format(target_file),index=False,header=False)\n",
    "pd.DataFrame(cca.y_wsum).to_csv(\"{}y_wsum.csv\".format(target_file),index=False,header=False)"
   ]
  },
  {
   "cell_type": "code",
   "execution_count": null,
   "metadata": {},
   "outputs": [],
   "source": []
  }
 ],
 "metadata": {
  "kernelspec": {
   "display_name": "Python 3",
   "language": "python",
   "name": "python3"
  },
  "language_info": {
   "codemirror_mode": {
    "name": "ipython",
    "version": 3
   },
   "file_extension": ".py",
   "mimetype": "text/x-python",
   "name": "python",
   "nbconvert_exporter": "python",
   "pygments_lexer": "ipython3",
   "version": "3.5.2"
  }
 },
 "nbformat": 4,
 "nbformat_minor": 2
}
