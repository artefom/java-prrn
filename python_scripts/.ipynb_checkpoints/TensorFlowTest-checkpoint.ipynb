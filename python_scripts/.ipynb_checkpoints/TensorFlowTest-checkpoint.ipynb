{
 "cells": [
  {
   "cell_type": "code",
   "execution_count": 1,
   "metadata": {},
   "outputs": [
    {
     "name": "stdout",
     "output_type": "stream",
     "text": [
      "Populating the interactive namespace from numpy and matplotlib\n"
     ]
    }
   ],
   "source": [
    "%pylab inline\n",
    "from sklearn.cross_decomposition import CCA"
   ]
  },
  {
   "cell_type": "markdown",
   "metadata": {},
   "source": [
    "# Cannonical Correlation analysis"
   ]
  },
  {
   "cell_type": "markdown",
   "metadata": {},
   "source": [
    "### Setup test data"
   ]
  },
  {
   "cell_type": "code",
   "execution_count": 2,
   "metadata": {},
   "outputs": [],
   "source": [
    "X = np.array(\n",
    "[[0.5,0.1],\n",
    "[0.1,0.2],\n",
    "[0.6,0.1],\n",
    "[0.7,0.2],\n",
    "[0.9,0.3]])\n",
    "X = X-X.mean(axis=0) # normalize things, so this doesn't hurt\n",
    "\n",
    "Y = np.array(\n",
    "[[0.6,0.2],\n",
    "[0.2,0.3],\n",
    "[0.4,0.3],\n",
    "[0.3,0.4],\n",
    "[0.1,0.9]])\n",
    "Y = Y-Y.mean(axis=0) # normalize things, so this goes on better"
   ]
  },
  {
   "cell_type": "markdown",
   "metadata": {},
   "source": [
    "### Create CCA from sklearn"
   ]
  },
  {
   "cell_type": "code",
   "execution_count": 3,
   "metadata": {},
   "outputs": [
    {
     "data": {
      "text/plain": [
       "array([[ 0.37248008,  0.92804019],\n",
       "       [ 0.92804019, -0.37248008]])"
      ]
     },
     "execution_count": 3,
     "metadata": {},
     "output_type": "execute_result"
    }
   ],
   "source": [
    "cca = CCA()\n",
    "cca.fit(X,Y)\n",
    "cca.x_weights_"
   ]
  },
  {
   "cell_type": "markdown",
   "metadata": {},
   "source": [
    "### Writeout coefs"
   ]
  },
  {
   "cell_type": "code",
   "execution_count": 4,
   "metadata": {},
   "outputs": [
    {
     "data": {
      "text/plain": [
       "array([[ 0.37248008],\n",
       "       [ 0.92804019]])"
      ]
     },
     "execution_count": 4,
     "metadata": {},
     "output_type": "execute_result"
    }
   ],
   "source": [
    "cca = CCA(n_components=1)\n",
    "cca.fit(X,Y)\n",
    "X_scores,Y_scores = cca.transform(X,Y)\n",
    "cca.x_weights_"
   ]
  },
  {
   "cell_type": "markdown",
   "metadata": {},
   "source": [
    "## My own CCA"
   ]
  },
  {
   "cell_type": "code",
   "execution_count": 5,
   "metadata": {},
   "outputs": [],
   "source": [
    "from cca import calc_cca"
   ]
  },
  {
   "cell_type": "code",
   "execution_count": 6,
   "metadata": {},
   "outputs": [
    {
     "name": "stdout",
     "output_type": "stream",
     "text": [
      "Correlation coef:  0.97\n",
      "CPU times: user 4 ms, sys: 0 ns, total: 4 ms\n",
      "Wall time: 3.02 ms\n"
     ]
    }
   ],
   "source": [
    "%%time\n",
    "# Test CCA from sklearn\n",
    "cca = CCA(n_components=1)\n",
    "cca.fit(X,Y)\n",
    "X1,Y1 = cca.transform(X,Y)\n",
    "print( 'Correlation coef: {: >5.2f}'.format( np.corrcoef( np.ravel(X1), np.ravel(Y1) )[0,1] )) # calculate correlation coefficient\n",
    "# print( '{: >5.2f}|'.format( np.corrcoef( X1[:,0], Y1[:,0] )[0,1] ), end=' ')\n",
    "# print( '{: >5.2f}'.format( np.corrcoef( X1[:,1], Y1[:,1] )[0,1] ) )\n"
   ]
  },
  {
   "cell_type": "code",
   "execution_count": 7,
   "metadata": {},
   "outputs": [
    {
     "name": "stdout",
     "output_type": "stream",
     "text": [
      "Correlation coef:  0.96\n",
      "CPU times: user 932 ms, sys: 672 ms, total: 1.6 s\n",
      "Wall time: 813 ms\n"
     ]
    }
   ],
   "source": [
    "%%time\n",
    "# Test my own CCA\n",
    "X1,Y1=calc_cca(X,Y)\n",
    "print( 'Correlation coef: {: >5.2f}'.format( np.corrcoef( X1, Y1 )[0,1] )) # calculate correlation coefficient"
   ]
  },
  {
   "cell_type": "markdown",
   "metadata": {},
   "source": [
    "# Playing with TensorFlow\n",
    "\n",
    "Test created default setup\n",
    "\n",
    "Tensorflow models are usually splitted into data\\model\\session\n",
    "\n",
    "- data.py module contains code to feed data into session\n",
    "- model.py module contains code, defining tensorflow calculation graph\n",
    "- session.py contains conde to optimize model from mode.py on data from data.py"
   ]
  },
  {
   "cell_type": "code",
   "execution_count": 8,
   "metadata": {},
   "outputs": [],
   "source": [
    "import tensorflow as tf\n",
    "import importlib # for module reloads\n",
    "\n",
    "import data\n",
    "import model\n",
    "import session\n",
    "importlib.reload(data) # Reload for module, so it updates on each cell run\n",
    "importlib.reload(model)\n",
    "importlib.reload(session);\n",
    "\n",
    "dat = data.SampleFeed(batch_size=5)\n",
    "mdl = model.LinearRegression()\n",
    "sess = session.AdamOptimizer(mdl,dat,learning_rate=0.001,display_step=50)"
   ]
  },
  {
   "cell_type": "code",
   "execution_count": 9,
   "metadata": {},
   "outputs": [
    {
     "name": "stdout",
     "output_type": "stream",
     "text": [
      "Initialization weights:\n",
      "W: -1.09508\n",
      "b: -0.964927\n",
      "\n",
      "############# Epoch:   50 #############\n",
      "W: -0.946064\n",
      "b: -0.814963\n",
      "Loss:  9.50574\n",
      "############# Epoch:  100 #############\n",
      "W: -0.797297\n",
      "b: -0.664982\n",
      "Loss:  8.37535\n",
      "############# Epoch:  150 #############\n",
      "W: -0.6486\n",
      "b: -0.51499\n",
      "Loss:  7.24579\n",
      "############# Epoch:  200 #############\n",
      "W: -0.499976\n",
      "b: -0.364993\n",
      "Loss:  6.1173\n",
      "############# Epoch:  250 #############\n",
      "W: -0.351462\n",
      "b: -0.215007\n",
      "Loss:  4.99053\n",
      "############# Epoch:  300 #############\n",
      "W: -0.203148\n",
      "b: -0.0650723\n",
      "Loss:  3.86696\n",
      "############# Epoch:  350 #############\n",
      "W: -0.0552657\n",
      "b: 0.0846749\n",
      "Loss:  2.75046\n",
      "############# Epoch:  400 #############\n",
      "W: 0.0914012\n",
      "b: 0.23367\n",
      "Loss:  1.65478\n",
      "############# Epoch:  450 #############\n",
      "W: 0.232272\n",
      "b: 0.378012\n",
      "Loss:  0.670097\n",
      "############# Epoch:  500 #############\n",
      "W: 0.300447\n",
      "b: 0.457349\n",
      "Loss:  0.410265\n",
      "############# Epoch:  550 #############\n",
      "W: 0.298555\n",
      "b: 0.47284\n",
      "Loss:  0.408731\n",
      "############# Epoch:  600 #############\n",
      "W: 0.296379\n",
      "b: 0.488388\n",
      "Loss:  0.407231\n",
      "############# Epoch:  650 #############\n",
      "W: 0.294187\n",
      "b: 0.504054\n",
      "Loss:  0.405789\n",
      "############# Epoch:  700 #############\n",
      "W: 0.292005\n",
      "b: 0.519667\n",
      "Loss:  0.404422\n",
      "############# Epoch:  750 #############\n",
      "W: 0.289854\n",
      "b: 0.535059\n",
      "Loss:  0.403143\n",
      "############# Epoch:  800 #############\n",
      "W: 0.287759\n",
      "b: 0.550069\n",
      "Loss:  0.401962\n",
      "############# Epoch:  850 #############\n",
      "W: 0.285739\n",
      "b: 0.564548\n",
      "Loss:  0.400886\n",
      "############# Epoch:  900 #############\n",
      "W: 0.283814\n",
      "b: 0.578361\n",
      "Loss:  0.399917\n",
      "############# Epoch:  950 #############\n",
      "W: 0.281998\n",
      "b: 0.591396\n",
      "Loss:  0.399056\n",
      "############# Epoch: 1000 #############\n",
      "W: 0.280305\n",
      "b: 0.60356\n",
      "Loss:  0.398298\n"
     ]
    }
   ],
   "source": [
    "sess.optimize() # Run optimization session"
   ]
  },
  {
   "cell_type": "markdown",
   "metadata": {},
   "source": [
    "### Plot fitted line"
   ]
  },
  {
   "cell_type": "code",
   "execution_count": 10,
   "metadata": {},
   "outputs": [
    {
     "data": {
      "image/png": "[encoded data removed]",
      "text/plain": [
       "<matplotlib.figure.Figure at 0x7f525ae76a20>"
      ]
     },
     "metadata": {},
     "output_type": "display_data"
    }
   ],
   "source": [
    "X = dat.get_test_data()['X'] \n",
    "y = dat.get_test_data()['Y'] \n",
    "y_pred = sess.predict( dat.get_test_data()['X'] )\n",
    "\n",
    "x_line = np.linspace(np.min(X),np.max(X),3,endpoint=True)\n",
    "y_line = sess.predict( x_line )\n",
    "\n",
    "plot(X,y,'o',label='data_samples')\n",
    "plot(x_line,y_line,label='fitted line')\n",
    "np.linspace(np.min(X),np.max(X),3,endpoint=True)\n",
    "title('Sample of fitted line')\n",
    "xlabel('X')\n",
    "ylabel('Y')\n",
    "legend();"
   ]
  },
  {
   "cell_type": "markdown",
   "metadata": {},
   "source": [
    "## Now everything is ready to put more complex CCA formula into tensorflow and see what it does"
   ]
  },
  {
   "cell_type": "code",
   "execution_count": null,
   "metadata": {},
   "outputs": [],
   "source": []
  }
 ],
 "metadata": {
  "kernelspec": {
   "display_name": "Python 3",
   "language": "python",
   "name": "python3"
  },
  "language_info": {
   "codemirror_mode": {
    "name": "ipython",
    "version": 3
   },
   "file_extension": ".py",
   "mimetype": "text/x-python",
   "name": "python",
   "nbconvert_exporter": "python",
   "pygments_lexer": "ipython3",
   "version": "3.5.2"
  }
 },
 "nbformat": 4,
 "nbformat_minor": 2
}
