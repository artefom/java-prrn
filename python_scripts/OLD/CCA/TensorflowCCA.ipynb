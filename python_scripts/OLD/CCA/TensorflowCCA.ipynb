{
 "cells": [
  {
   "cell_type": "markdown",
   "metadata": {},
   "source": [
    "# Notebook for CCA testing"
   ]
  },
  {
   "cell_type": "code",
   "execution_count": 1,
   "metadata": {},
   "outputs": [],
   "source": [
    "## What do we need?"
   ]
  },
  {
   "cell_type": "code",
   "execution_count": 31,
   "metadata": {},
   "outputs": [
    {
     "name": "stdout",
     "output_type": "stream",
     "text": [
      "Populating the interactive namespace from numpy and matplotlib\n"
     ]
    }
   ],
   "source": [
    "%pylab inline\n",
    "import importlib"
   ]
  },
  {
   "cell_type": "markdown",
   "metadata": {},
   "source": [
    "## Create test datasets"
   ]
  },
  {
   "cell_type": "code",
   "execution_count": 65,
   "metadata": {},
   "outputs": [
    {
     "name": "stdout",
     "output_type": "stream",
     "text": [
      "Correlation matrix:\n"
     ]
    },
    {
     "data": {
      "image/png": "[encoded data removed]",
      "text/plain": [
       "<matplotlib.figure.Figure at 0x7fc191ec3ef0>"
      ]
     },
     "metadata": {},
     "output_type": "display_data"
    }
   ],
   "source": [
    "sample_size = 28*28\n",
    "\n",
    "# X is 3 band normal multivariate with slight correlation between samples\n",
    "X = np.random.multivariate_normal([0,2,3],[[1,-0.9,0.1],\n",
    "                                           [-0.9,1,0.3],\n",
    "                                           [0.1,0.3,1]],size=sample_size)\n",
    "\n",
    "# Now set Y setting explisitly coefficents for CCA to recover and add some multivariate noise\n",
    "Y = np.concatenate( \n",
    "    (\n",
    "    ( X[:,0]*0.3+X[:,1]*-0.2+X[:,2]*0.4 )[:,np.newaxis],\n",
    "    ( X[:,0]*-0.02+X[:,1]*1.2+X[:,2]*2.4 )[:,np.newaxis],\n",
    "    ( X[:,0]*0.2+X[:,1]*-0.1+X[:,2]*0.03 )[:,np.newaxis],\n",
    "    ),\n",
    "    axis=1\n",
    ") + np.random.normal(0,0.3,size=(sample_size,3))+1\n",
    "\n",
    "print('Correlation matrix:')\n",
    "imshow( np.corrcoef(X,Y,rowvar=False), cmap='magma' );\n",
    "colorbar();"
   ]
  },
  {
   "cell_type": "markdown",
   "metadata": {},
   "source": [
    "## Determine what would we expect? (using funcs from sklearn)"
   ]
  },
  {
   "cell_type": "code",
   "execution_count": 77,
   "metadata": {},
   "outputs": [
    {
     "name": "stdout",
     "output_type": "stream",
     "text": [
      "Correlation coef: 0.995065588834\n",
      "x_weights =  0.016, 0.475, 0.880\n",
      "y_weights =  0.009, 1.000,-0.012\n"
     ]
    },
    {
     "data": {
      "image/png": "[encoded data removed]",
      "text/plain": [
       "<matplotlib.figure.Figure at 0x7fc191e8f4a8>"
      ]
     },
     "metadata": {},
     "output_type": "display_data"
    }
   ],
   "source": [
    "from sklearn.cross_decomposition import CCA\n",
    "\n",
    "cca = CCA(n_components=1)\n",
    "\n",
    "cca.fit(X,Y)\n",
    "\n",
    "new_X, new_Y = cca.transform(X,Y)\n",
    "print('Correlation coef:',np.corrcoef( np.ravel(new_X),np.ravel(new_Y) )[0,1] )\n",
    "print('x_weights = {: >6.3f},{: >6.3f},{: >6.3f}'.format(*cca.x_weights_[:,0] ) )\n",
    "print('y_weights = {: >6.3f},{: >6.3f},{: >6.3f}'.format(*cca.y_weights_[:,0] ) )\n",
    "plot(new_X,new_Y,'o',alpha=0.1);\n",
    "grid(True);\n",
    "#new_X = new_X/( new_X/new_Y ).mean() # rescale data"
   ]
  },
  {
   "cell_type": "markdown",
   "metadata": {},
   "source": [
    "## Check data module"
   ]
  },
  {
   "cell_type": "code",
   "execution_count": 71,
   "metadata": {},
   "outputs": [],
   "source": [
    "import importlib\n",
    "import CCA.data as CCADATA\n",
    "importlib.reload(CCADATA);\n",
    "from CCA.data import SampleFeed"
   ]
  },
  {
   "cell_type": "code",
   "execution_count": 74,
   "metadata": {},
   "outputs": [],
   "source": [
    "dat = SampleFeed(2) # Batch generator with batch size = 1"
   ]
  },
  {
   "cell_type": "code",
   "execution_count": 75,
   "metadata": {},
   "outputs": [
    {
     "name": "stdout",
     "output_type": "stream",
     "text": [
      "{'X': array([[-0.44597687,  2.40545799,  3.13951285],\n",
      "       [-0.78737397,  2.02150836,  1.6364575 ]]), 'Y': array([[  1.78397538,  11.29150553,   0.39926051],\n",
      "       [  1.16383708,   7.0131084 ,   0.47490588]])}\n"
     ]
    }
   ],
   "source": [
    "for i in dat.batches():\n",
    "    print(i)\n",
    "    break\n",
    "    \n",
    "# Seems to work fine"
   ]
  },
  {
   "cell_type": "markdown",
   "metadata": {},
   "source": [
    "## Create tensorflow function for covariance matrix"
   ]
  },
  {
   "cell_type": "code",
   "execution_count": 76,
   "metadata": {},
   "outputs": [],
   "source": [
    "import tensorflow as tf"
   ]
  },
  {
   "cell_type": "code",
   "execution_count": 85,
   "metadata": {},
   "outputs": [
    {
     "name": "stdout",
     "output_type": "stream",
     "text": [
      "TF Covariance matrix:\n",
      " [[ 69.80952454 -17.1428566 ]\n",
      " [-17.1428566    7.14285707]]\n",
      "NP Covariance matrix:\n",
      " [[ 69.80952381 -17.14285714]\n",
      " [-17.14285714   7.14285714]]\n"
     ]
    }
   ],
   "source": [
    "# Simple case for 2 1-dimensional vectors\n",
    "\n",
    "x = tf.constant([1, 4, 2, 5, 6, 24, 15], dtype=tf.float64)\n",
    "y = tf.constant([8, 5, 4, 6, 2, 1, 1], dtype=tf.float64)\n",
    "\n",
    "cov_xx = 1 / (tf.shape(x)[0] - 1) * tf.reduce_sum((x - tf.reduce_mean(x))**2)\n",
    "cov_yy = 1 / (tf.shape(x)[0] - 1) * tf.reduce_sum((y - tf.reduce_mean(y))**2)\n",
    "cov_xy = 1 / (tf.shape(x)[0] - 1) * tf.reduce_sum((x - tf.reduce_mean(x)) * (y - tf.reduce_mean(y)))\n",
    "\n",
    "with tf.Session() as sess:\n",
    "    sess.run([cov_xx, cov_yy, cov_xy])\n",
    "    #print(cov_xx.eval(), cov_yy.eval(), cov_xy.eval())\n",
    "    cov = tf.constant([[cov_xx.eval(), cov_xy.eval()], [cov_xy.eval(),\n",
    "        cov_yy.eval()]])\n",
    "    mat = np.array(cov.eval())\n",
    "    \n",
    "print('TF Covariance matrix:\\n',mat)\n",
    "\n",
    "x = np.array([1,4,2,5,6, 24, 15], dtype=float)\n",
    "y = np.array([8,5,4,6,2,1,1], dtype=float)\n",
    "\n",
    "pc = np.cov(x,y)\n",
    "print('NP Covariance matrix:\\n',pc)"
   ]
  },
  {
   "cell_type": "code",
   "execution_count": 117,
   "metadata": {},
   "outputs": [
    {
     "name": "stdout",
     "output_type": "stream",
     "text": [
      "[[ 6.15658934 -3.76897107  4.23957905]\n",
      " [-3.76897107  3.9919183   0.104586  ]\n",
      " [ 4.23957905  0.104586    7.98035678]]\n"
     ]
    }
   ],
   "source": [
    "# Case for 2 2-dimensional vectors\n",
    "\n",
    "batch_size = 10\n",
    "\n",
    "x = tf.constant(X[:batch_size], dtype=tf.float64)\n",
    "y = tf.constant(Y[:batch_size], dtype=tf.float64)\n",
    "x_mean = tf.reduce_mean(x, 0)\n",
    "y_mean = tf.reduce_mean(y, 0)\n",
    "\n",
    "xx_cov = tf.matmul( tf.transpose(x-x_mean), (x-x_mean) )\n",
    "\n",
    "with tf.Session() as sess:\n",
    "    print( xx_cov.eval() )\n"
   ]
  },
  {
   "cell_type": "code",
   "execution_count": 144,
   "metadata": {},
   "outputs": [
    {
     "data": {
      "text/plain": [
       "array([-1.12719502, -1.24153496,  1.32343155,  0.29872492, -0.49210437,\n",
       "        0.43460372,  0.11605665, -0.67855782,  0.78259938,  0.09969157])"
      ]
     },
     "execution_count": 144,
     "metadata": {},
     "output_type": "execute_result"
    }
   ],
   "source": [
    "x[:,0]"
   ]
  },
  {
   "cell_type": "code",
   "execution_count": 152,
   "metadata": {},
   "outputs": [
    {
     "data": {
      "text/plain": [
       "[[0.61565893419764994, 5.0091808624233192, 10.331139234264697],\n",
       " [4.7927137577679328, 0.39919182954226384, 1.4414154584113148],\n",
       " [10.513515978295121, 1.8402593070971229, 0.79803567822807153]]"
      ]
     },
     "execution_count": 152,
     "metadata": {},
     "output_type": "execute_result"
    }
   ],
   "source": [
    "# real covariance matrix\n",
    "[\n",
    "    [ np.mean( (x[:,0]-x[:,0].mean())**2 ), np.mean( (x[:,0]-x[:,1].mean())**2 ), np.mean( (x[:,0]-x[:,2].mean())**2 ) ],\n",
    "    [ np.mean( (x[:,1]-x[:,0].mean())**2 ), np.mean( (x[:,1]-x[:,1].mean())**2 ), np.mean( (x[:,1]-x[:,2].mean())**2 ) ],\n",
    "    [ np.mean( (x[:,2]-x[:,0].mean())**2 ), np.mean( (x[:,2]-x[:,1].mean())**2 ), np.mean( (x[:,2]-x[:,2].mean())**2 ) ]\n",
    "]"
   ]
  },
  {
   "cell_type": "code",
   "execution_count": 160,
   "metadata": {},
   "outputs": [
    {
     "data": {
      "text/plain": [
       "array([[-1.12719502, -1.24153496,  1.32343155,  0.29872492, -0.49210437,\n",
       "         0.43460372,  0.11605665, -0.67855782,  0.78259938,  0.09969157],\n",
       "       [ 2.50641048,  2.86902897,  1.64381071,  1.91145865,  2.49892337,\n",
       "         1.32975656,  1.04809358,  2.83165496,  1.38993669,  2.44737141],\n",
       "       [ 2.03925965,  2.11607537,  4.31451475,  3.80493567,  2.72657083,\n",
       "         2.58312892,  1.83824173,  3.39834283,  3.45655909,  4.40775202]])"
      ]
     },
     "execution_count": 160,
     "metadata": {},
     "output_type": "execute_result"
    }
   ],
   "source": [
    "x.T"
   ]
  },
  {
   "cell_type": "code",
   "execution_count": null,
   "metadata": {},
   "outputs": [],
   "source": []
  },
  {
   "cell_type": "code",
   "execution_count": 154,
   "metadata": {},
   "outputs": [
    {
     "data": {
      "text/plain": [
       "array([[-1.07876659,  0.45876594, -1.02927843],\n",
       "       [-1.19310652,  0.82138443, -0.95246272],\n",
       "       [ 1.37185999, -0.40383382,  1.24597666],\n",
       "       [ 0.34715336, -0.13618589,  0.73639759],\n",
       "       [-0.44367593,  0.45127883, -0.34196726],\n",
       "       [ 0.48303215, -0.71788798, -0.48540917],\n",
       "       [ 0.16448509, -0.99955096, -1.23029635],\n",
       "       [-0.63012938,  0.78401042,  0.32980474],\n",
       "       [ 0.83102782, -0.65770785,  0.388021  ],\n",
       "       [ 0.14812001,  0.39972687,  1.33921394]])"
      ]
     },
     "execution_count": 154,
     "metadata": {},
     "output_type": "execute_result"
    }
   ],
   "source": [
    "x-x.mean(axis=0)"
   ]
  },
  {
   "cell_type": "code",
   "execution_count": 147,
   "metadata": {},
   "outputs": [
    {
     "data": {
      "text/plain": [
       "array([[ 6.15658934, -3.76897107,  4.23957905],\n",
       "       [-3.76897107,  3.9919183 ,  0.104586  ],\n",
       "       [ 4.23957905,  0.104586  ,  7.98035678]])"
      ]
     },
     "execution_count": 147,
     "metadata": {},
     "output_type": "execute_result"
    }
   ],
   "source": [
    "x = X[:batch_size]\n",
    "y = Y[:batch_size]\n",
    "\n",
    "np.matmul( (x-x.mean(axis=0)).T, (x-x.mean(axis=0)) )"
   ]
  },
  {
   "cell_type": "code",
   "execution_count": 505,
   "metadata": {},
   "outputs": [
    {
     "data": {
      "text/plain": [
       "array([[ 1. ,  2.1,  3.2],\n",
       "       [ 1. ,  2.1,  3.2],\n",
       "       [ 1. ,  2.1,  3.2]])"
      ]
     },
     "execution_count": 505,
     "metadata": {},
     "output_type": "execute_result"
    }
   ],
   "source": [
    "## A\n",
    "a = np.tensordot(np.array([1,1,1]),np.array([[1,3,3],[2,2,4],[1,2,4],[2,3,3]]).T,axes=0)\n",
    "b = np.array([0.5,0.4,0.3])[np.newaxis,:,np.newaxis]\n",
    "(a-b).mean(axis=2)"
   ]
  },
  {
   "cell_type": "code",
   "execution_count": 520,
   "metadata": {},
   "outputs": [
    {
     "data": {
      "text/plain": [
       "array([[ 1. ,  1. ,  1. ],\n",
       "       [ 2.1,  2.1,  2.1],\n",
       "       [ 3.2,  3.2,  3.2]])"
      ]
     },
     "execution_count": 520,
     "metadata": {},
     "output_type": "execute_result"
    }
   ],
   "source": [
    "## B\n",
    "a = np.tensordot(np.array([1,1,1]),np.array([[1,3,3],[2,2,4],[1,2,4],[2,3,3]]).T,axes=0).swapaxes(0,1)\n",
    "b = np.array([0.5,0.4,0.3])[:,np.newaxis,np.newaxis]\n",
    "(a-b).mean(axis=2)"
   ]
  },
  {
   "cell_type": "code",
   "execution_count": 307,
   "metadata": {},
   "outputs": [
    {
     "data": {
      "text/plain": [
       "(3, 1, 1)"
      ]
     },
     "execution_count": 307,
     "metadata": {},
     "output_type": "execute_result"
    }
   ],
   "source": [
    "b.shape"
   ]
  },
  {
   "cell_type": "code",
   "execution_count": 523,
   "metadata": {},
   "outputs": [
    {
     "data": {
      "text/plain": [
       "array([[ 0.61565893, -0.37689711,  0.4239579 ],\n",
       "       [-0.37689711,  0.39919183,  0.0104586 ],\n",
       "       [ 0.4239579 ,  0.0104586 ,  0.79803568]])"
      ]
     },
     "execution_count": 523,
     "metadata": {},
     "output_type": "execute_result"
    }
   ],
   "source": [
    "tx = np.tensordot(np.array([1,1,1]),x.T,axes=0)\n",
    "ty = np.tensordot(np.array([1,1,1]),x.T,axes=0).swapaxes(0,1)\n",
    "tm = x.mean(axis=0)[:,np.newaxis,np.newaxis]\n",
    "c = np.multiply( (tx-tm), (ty-tm) ).T.mean(axis=0)\n",
    "c"
   ]
  },
  {
   "cell_type": "code",
   "execution_count": 422,
   "metadata": {},
   "outputs": [
    {
     "data": {
      "text/plain": [
       "array([[ 0.61565893, -0.37689711,  0.4239579 ],\n",
       "       [-0.37689711,  0.39919183,  0.0104586 ],\n",
       "       [ 0.4239579 ,  0.0104586 ,  0.79803568]])"
      ]
     },
     "execution_count": 422,
     "metadata": {},
     "output_type": "execute_result"
    }
   ],
   "source": [
    "# Calculate true covariance matrix\n",
    "\n",
    "x1 = x[:,0]\n",
    "x2 = x[:,1]\n",
    "x3 = x[:,2]\n",
    "\n",
    "np.array( [\n",
    "    [ np.mean( (x1-x1.mean())*(x1-x1.mean()) ), np.mean( (x1-x1.mean())*(x2-x2.mean()) ), np.mean( (x1-x1.mean())*(x3-x3.mean())) ],\n",
    "    [ np.mean( (x2-x2.mean())*(x1-x1.mean()) ), np.mean( (x2-x2.mean())*(x2-x2.mean()) ), np.mean( (x2-x2.mean())*(x3-x3.mean())) ],\n",
    "    [ np.mean( (x3-x3.mean())*(x1-x1.mean()) ), np.mean( (x3-x3.mean())*(x2-x2.mean()) ), np.mean( (x3-x3.mean())*(x3-x3.mean())) ],\n",
    "])"
   ]
  },
  {
   "cell_type": "code",
   "execution_count": 524,
   "metadata": {},
   "outputs": [],
   "source": [
    "## Now implement the same thing with tensorflow"
   ]
  },
  {
   "cell_type": "code",
   "execution_count": 579,
   "metadata": {},
   "outputs": [
    {
     "data": {
      "text/plain": [
       "1.8589302036763817"
      ]
     },
     "execution_count": 579,
     "metadata": {},
     "output_type": "execute_result"
    }
   ],
   "source": [
    "np.random.normal(0,1)"
   ]
  },
  {
   "cell_type": "code",
   "execution_count": 586,
   "metadata": {},
   "outputs": [
    {
     "name": "stdout",
     "output_type": "stream",
     "text": [
      "a =  [-0.57998927  1.6235312  -1.29228503]\n",
      "b =  [ 0.31222761 -0.20830436 -0.55675436]\n",
      "p =  -0.301157043274\n"
     ]
    }
   ],
   "source": [
    "batch_size = 10\n",
    "band_num = 3\n",
    "learning_rate = 0.01\n",
    "\n",
    "x = tf.constant(X[:batch_size], dtype=tf.float64)\n",
    "y = tf.constant(Y[:batch_size], dtype=tf.float64)\n",
    "x_mean = tf.reduce_mean(x, 0)\n",
    "y_mean = tf.reduce_mean(y, 0)\n",
    "\n",
    "a = tf.Variable( [ [ np.random.normal(0,1) ] for i in range(band_num)], dtype=tf.float64, name = 'x_weights_' )\n",
    "b = tf.Variable( [ [ np.random.normal(0,1) ] for i in range(band_num)], dtype=tf.float64, name = 'y_weights_' )\n",
    "\n",
    "xx_cov = tf.matmul( tf.transpose(x-x_mean), (x-x_mean) )/batch_size\n",
    "yy_cov = tf.matmul( tf.transpose(y-y_mean), (y-y_mean) )/batch_size\n",
    "xy_cov = tf.matmul( tf.transpose(x-x_mean), (y-y_mean) )/batch_size\n",
    "\n",
    "norm1 = tf.sqrt( tf.matmul( tf.matmul(tf.transpose(a),xx_cov), a ) )\n",
    "norm2 = tf.sqrt( tf.matmul( tf.matmul(tf.transpose(b),yy_cov), b ) )\n",
    "\n",
    "p = -(tf.matmul( tf.matmul(tf.transpose(a),xy_cov), b )/norm1/norm2)[0,0]\n",
    "\n",
    "optimizer = tf.train.AdamOptimizer(learning_rate).minimize( p )\n",
    "\n",
    "var_init = tf.global_variables_initializer()\n",
    "\n",
    "with tf.Session() as sess:\n",
    "    \n",
    "    sess.run(var_init)\n",
    "    \n",
    "    sess.run( optimizer )\n",
    "#     print( xx_cov.eval() )\n",
    "#     print( yy_cov.eval() )\n",
    "#     print( xy_cov.eval() )\n",
    "\n",
    "    print( 'a = ',*a.eval().T )\n",
    "    print( 'b = ',*b.eval().T )\n",
    "    print( 'p = ',p.eval() )"
   ]
  },
  {
   "cell_type": "code",
   "execution_count": 573,
   "metadata": {},
   "outputs": [],
   "source": [
    "## Calc real correlation coefficient"
   ]
  },
  {
   "cell_type": "code",
   "execution_count": 574,
   "metadata": {},
   "outputs": [
    {
     "data": {
      "text/plain": [
       "0.97365757640132"
      ]
     },
     "execution_count": 574,
     "metadata": {},
     "output_type": "execute_result"
    }
   ],
   "source": [
    "x = X[:batch_size]\n",
    "y = Y[:batch_size]\n",
    "\n",
    "np.corrcoef( x.mean(axis=1), y.mean(axis=1) )[0,1]"
   ]
  },
  {
   "cell_type": "code",
   "execution_count": 587,
   "metadata": {},
   "outputs": [
    {
     "data": {
      "text/plain": [
       "TensorShape([Dimension(10), Dimension(3)])"
      ]
     },
     "execution_count": 587,
     "metadata": {},
     "output_type": "execute_result"
    }
   ],
   "source": [
    "x.shape"
   ]
  },
  {
   "cell_type": "markdown",
   "metadata": {},
   "source": [
    "## Testing model"
   ]
  },
  {
   "cell_type": "code",
   "execution_count": 633,
   "metadata": {},
   "outputs": [],
   "source": [
    "import importlib\n",
    "import CCA.model as CCAMODEL\n",
    "importlib.reload(CCAMODEL);\n",
    "from CCA.model import CannonicalCorrelation\n",
    "\n",
    "import CCA.data as CCADATA\n",
    "importlib.reload(CCADATA);\n",
    "from CCA.data import SampleFeed\n",
    "\n",
    "import CCA.session as CCASESS\n",
    "importlib.reload(CCASESS);\n",
    "from CCA.session import AdamOptimizer\n",
    "\n",
    "mdl = CannonicalCorrelation(10,3)\n",
    "dat = SampleFeed(10)\n",
    "sess = AdamOptimizer(mdl,dat)"
   ]
  },
  {
   "cell_type": "code",
   "execution_count": 634,
   "metadata": {},
   "outputs": [
    {
     "name": "stdout",
     "output_type": "stream",
     "text": [
      "Initialization weights:\n",
      "x_weights_: -0.090814 0.384702 -0.463678\n",
      "y_weights_: 2.2584 -0.507452 -0.611193\n",
      "\n",
      "############# Epoch:   50 #############\n",
      "x_weights_: 0.251736 -0.147213 -0.554739\n",
      "y_weights_: 1.1941 -1.25387 -0.0818673\n",
      "Loss:  -0.988641\n",
      "############# Epoch:  100 #############\n",
      "x_weights_: 0.0626438 -0.278952 -0.583577\n",
      "y_weights_: 0.262001 -1.49708 0.139912\n",
      "Loss:  -0.994547\n",
      "############# Epoch:  150 #############\n",
      "x_weights_: 0.0224539 -0.290684 -0.605294\n",
      "y_weights_: -0.106495 -1.51631 0.0905075\n",
      "Loss:  -0.994941\n",
      "############# Epoch:  200 #############\n",
      "x_weights_: 0.019989 -0.298373 -0.625536\n",
      "y_weights_: -0.1446 -1.52236 0.0816609\n",
      "Loss:  -0.994958\n",
      "############# Epoch:  250 #############\n",
      "x_weights_: 0.0202263 -0.306894 -0.644116\n",
      "y_weights_: -0.150167 -1.55801 0.0823626\n",
      "Loss:  -0.994965\n",
      "############# Epoch:  300 #############\n",
      "x_weights_: 0.0205975 -0.315237 -0.662044\n",
      "y_weights_: -0.153886 -1.59537 0.0839531\n",
      "Loss:  -0.99497\n",
      "############# Epoch:  350 #############\n",
      "x_weights_: 0.0209654 -0.323334 -0.679437\n",
      "y_weights_: -0.157394 -1.6319 0.0855637\n",
      "Loss:  -0.994975\n",
      "############# Epoch:  400 #############\n",
      "x_weights_: 0.0213239 -0.331195 -0.696336\n",
      "y_weights_: -0.160806 -1.66754 0.087143\n",
      "Loss:  -0.994979\n",
      "############# Epoch:  450 #############\n",
      "x_weights_: 0.0216727 -0.338838 -0.712776\n",
      "y_weights_: -0.164133 -1.70235 0.0886896\n",
      "Loss:  -0.994983\n",
      "############# Epoch:  500 #############\n",
      "x_weights_: 0.0220126 -0.346278 -0.728786\n",
      "y_weights_: -0.167382 -1.73635 0.0902042\n",
      "Loss:  -0.994987\n",
      "############# Epoch:  550 #############\n",
      "x_weights_: 0.0223447 -0.353527 -0.744393\n",
      "y_weights_: -0.170557 -1.7696 0.0916891\n",
      "Loss:  -0.99499\n",
      "############# Epoch:  600 #############\n",
      "x_weights_: 0.0226689 -0.360598 -0.759619\n",
      "y_weights_: -0.173664 -1.80218 0.0931469\n",
      "Loss:  -0.994993\n",
      "############# Epoch:  650 #############\n",
      "x_weights_: 0.0229866 -0.367502 -0.774493\n",
      "y_weights_: -0.176706 -1.83407 0.0945772\n",
      "Loss:  -0.994996\n",
      "############# Epoch:  700 #############\n",
      "x_weights_: 0.0232973 -0.374249 -0.789032\n",
      "y_weights_: -0.179687 -1.86535 0.095983\n",
      "Loss:  -0.994999\n",
      "############# Epoch:  750 #############\n",
      "x_weights_: 0.0236024 -0.380847 -0.803255\n",
      "y_weights_: -0.182611 -1.89602 0.0973644\n",
      "Loss:  -0.995002\n",
      "############# Epoch:  800 #############\n",
      "x_weights_: 0.0239018 -0.387308 -0.817184\n",
      "y_weights_: -0.185478 -1.92611 0.0987217\n",
      "Loss:  -0.995004\n",
      "############# Epoch:  850 #############\n",
      "x_weights_: 0.0241951 -0.393636 -0.830827\n",
      "y_weights_: -0.188293 -1.95567 0.100058\n",
      "Loss:  -0.995006\n",
      "############# Epoch:  900 #############\n",
      "x_weights_: 0.0244838 -0.399839 -0.844204\n",
      "y_weights_: -0.191059 -1.9847 0.101372\n",
      "Loss:  -0.995008\n",
      "############# Epoch:  950 #############\n",
      "x_weights_: 0.0247673 -0.405924 -0.857329\n",
      "y_weights_: -0.193775 -2.01324 0.102666\n",
      "Loss:  -0.99501\n",
      "############# Epoch: 1000 #############\n",
      "x_weights_: 0.0250464 -0.411897 -0.870212\n",
      "y_weights_: -0.196449 -2.04132 0.103941\n",
      "Loss:  -0.995012\n"
     ]
    }
   ],
   "source": [
    "sess.optimize()"
   ]
  },
  {
   "cell_type": "code",
   "execution_count": 651,
   "metadata": {},
   "outputs": [],
   "source": [
    "# test found weights\n",
    "x_weights = [0.0250464, -0.411897, -0.870212]\n",
    "y_weights = [-0.196449, -2.04132, 0.103941]"
   ]
  },
  {
   "cell_type": "code",
   "execution_count": 652,
   "metadata": {},
   "outputs": [],
   "source": [
    "new_X = (X*x_weights).sum(axis=1)\n",
    "new_Y = (Y*y_weights).sum(axis=1)"
   ]
  },
  {
   "cell_type": "code",
   "execution_count": 653,
   "metadata": {},
   "outputs": [
    {
     "data": {
      "text/plain": [
       "[<matplotlib.lines.Line2D at 0x7fc17fe33780>]"
      ]
     },
     "execution_count": 653,
     "metadata": {},
     "output_type": "execute_result"
    },
    {
     "data": {
      "image/png": "[encoded data removed]",
      "text/plain": [
       "<matplotlib.figure.Figure at 0x7fc17fe5bd68>"
      ]
     },
     "metadata": {},
     "output_type": "display_data"
    }
   ],
   "source": [
    "plot(new_X,new_Y,'o')"
   ]
  },
  {
   "cell_type": "code",
   "execution_count": null,
   "metadata": {},
   "outputs": [],
   "source": []
  }
 ],
 "metadata": {
  "kernelspec": {
   "display_name": "Python 3",
   "language": "python",
   "name": "python3"
  },
  "language_info": {
   "codemirror_mode": {
    "name": "ipython",
    "version": 3
   },
   "file_extension": ".py",
   "mimetype": "text/x-python",
   "name": "python",
   "nbconvert_exporter": "python",
   "pygments_lexer": "ipython3",
   "version": "3.5.2"
  }
 },
 "nbformat": 4,
 "nbformat_minor": 2
}
