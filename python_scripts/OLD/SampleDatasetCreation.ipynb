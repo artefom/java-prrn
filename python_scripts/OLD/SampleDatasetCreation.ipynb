{
 "cells": [
  {
   "cell_type": "code",
   "execution_count": 1,
   "metadata": {},
   "outputs": [
    {
     "name": "stdout",
     "output_type": "stream",
     "text": [
      "Populating the interactive namespace from numpy and matplotlib\n"
     ]
    }
   ],
   "source": [
    "%pylab inline"
   ]
  },
  {
   "cell_type": "code",
   "execution_count": 4,
   "metadata": {},
   "outputs": [],
   "source": [
    "import testgen\n",
    "import importlib\n",
    "import numpy as np\n",
    "import os\n",
    "import gdal\n",
    "importlib.reload(testgen)\n",
    "\n",
    "def save_as_gdal_dataset(fname,fname_orig,fname_pair,arr,pg,band_types):\n",
    "    \n",
    "    x_pixels = arr.shape[1]\n",
    "    y_pixels = arr.shape[0]\n",
    "    n_bands = arr.shape[2]\n",
    "    driver = gdal.GetDriverByName('GTiff')\n",
    "    ds = driver.Create(fname,x_pixels,y_pixels,n_bands,int(band_types[0]) )\n",
    "    ds.SetGeoTransform(pg.makeGeoTransform())\n",
    "    ds.SetProjection(pg.projection)\n",
    "    ds.SetMetadata({\"Original file name\":fname_orig,\"pair file name\":fname_pair})\n",
    "    for i in range(n_bands):\n",
    "        band_i = i+1\n",
    "        ds.GetRasterBand(band_i).WriteArray(arr[:,:,i])\n",
    "\n",
    "    ds.FlushCache()\n",
    "    del ds"
   ]
  },
  {
   "cell_type": "code",
   "execution_count": 6,
   "metadata": {},
   "outputs": [
    {
     "name": "stdout",
     "output_type": "stream",
     "text": [
      "Saving files: Samples/sample_0_1.tiff Samples/sample_0_2.tiff\n",
      "Saving files: Samples/sample_1_1.tiff Samples/sample_1_2.tiff\n",
      "Saving files: Samples/sample_2_1.tiff Samples/sample_2_2.tiff\n",
      "Saving files: Samples/sample_3_1.tiff Samples/sample_3_2.tiff\n",
      "Saving files: Samples/sample_4_1.tiff Samples/sample_4_2.tiff\n",
      "Saving files: Samples/sample_5_1.tiff Samples/sample_5_2.tiff\n",
      "Saving files: Samples/sample_6_1.tiff Samples/sample_6_2.tiff\n",
      "Saving files: Samples/sample_7_1.tiff Samples/sample_7_2.tiff\n",
      "Saving files: Samples/sample_8_1.tiff Samples/sample_8_2.tiff\n",
      "Saving files: Samples/sample_9_1.tiff Samples/sample_9_2.tiff\n",
      "Saving files: Samples/sample_10_1.tiff Samples/sample_10_2.tiff\n",
      "Saving files: Samples/sample_11_1.tiff Samples/sample_11_2.tiff\n",
      "Saving files: Samples/sample_12_1.tiff Samples/sample_12_2.tiff\n",
      "Saving files: Samples/sample_13_1.tiff Samples/sample_13_2.tiff\n",
      "Saving files: Samples/sample_14_1.tiff Samples/sample_14_2.tiff\n",
      "Saving files: Samples/sample_15_1.tiff Samples/sample_15_2.tiff\n",
      "Saving files: Samples/sample_16_1.tiff Samples/sample_16_2.tiff\n",
      "Saving files: Samples/sample_17_1.tiff Samples/sample_17_2.tiff\n",
      "Saving files: Samples/sample_18_1.tiff Samples/sample_18_2.tiff\n",
      "Saving files: Samples/sample_19_1.tiff Samples/sample_19_2.tiff\n",
      "Saving files: Samples/sample_20_1.tiff Samples/sample_20_2.tiff\n",
      "Saving files: Samples/sample_21_1.tiff Samples/sample_21_2.tiff\n",
      "Saving files: Samples/sample_22_1.tiff Samples/sample_22_2.tiff\n",
      "Saving files: Samples/sample_23_1.tiff Samples/sample_23_2.tiff\n",
      "Saving files: Samples/sample_24_1.tiff Samples/sample_24_2.tiff\n",
      "Saving files: Samples/sample_25_1.tiff Samples/sample_25_2.tiff\n",
      "Saving files: Samples/sample_26_1.tiff Samples/sample_26_2.tiff\n",
      "Saving files: Samples/sample_27_1.tiff Samples/sample_27_2.tiff\n",
      "Saving files: Samples/sample_28_1.tiff Samples/sample_28_2.tiff\n",
      "Saving files: Samples/sample_29_1.tiff Samples/sample_29_2.tiff\n",
      "Saving files: Samples/sample_30_1.tiff Samples/sample_30_2.tiff\n",
      "Saving files: Samples/sample_31_1.tiff Samples/sample_31_2.tiff\n",
      "Saving files: Samples/sample_32_1.tiff Samples/sample_32_2.tiff\n",
      "Saving files: Samples/sample_33_1.tiff Samples/sample_33_2.tiff\n",
      "Saving files: Samples/sample_34_1.tiff Samples/sample_34_2.tiff\n",
      "Saving files: Samples/sample_35_1.tiff Samples/sample_35_2.tiff\n",
      "Saving files: Samples/sample_36_1.tiff Samples/sample_36_2.tiff\n",
      "Saving files: Samples/sample_37_1.tiff Samples/sample_37_2.tiff\n",
      "Saving files: Samples/sample_38_1.tiff Samples/sample_38_2.tiff\n",
      "Saving files: Samples/sample_39_1.tiff Samples/sample_39_2.tiff\n",
      "Saving files: Samples/sample_40_1.tiff Samples/sample_40_2.tiff\n",
      "Saving files: Samples/sample_41_1.tiff Samples/sample_41_2.tiff\n",
      "Saving files: Samples/sample_42_1.tiff Samples/sample_42_2.tiff\n",
      "Saving files: Samples/sample_43_1.tiff Samples/sample_43_2.tiff\n",
      "Saving files: Samples/sample_44_1.tiff Samples/sample_44_2.tiff\n",
      "Saving files: Samples/sample_45_1.tiff Samples/sample_45_2.tiff\n",
      "Saving files: Samples/sample_46_1.tiff Samples/sample_46_2.tiff\n",
      "Saving files: Samples/sample_47_1.tiff Samples/sample_47_2.tiff\n",
      "Saving files: Samples/sample_48_1.tiff Samples/sample_48_2.tiff\n",
      "Saving files: Samples/sample_49_1.tiff Samples/sample_49_2.tiff\n",
      "Saving files: Samples/sample_50_1.tiff Samples/sample_50_2.tiff\n",
      "Saving files: Samples/sample_51_1.tiff Samples/sample_51_2.tiff\n",
      "Saving files: Samples/sample_52_1.tiff Samples/sample_52_2.tiff\n",
      "Saving files: Samples/sample_53_1.tiff Samples/sample_53_2.tiff\n",
      "Saving files: Samples/sample_54_1.tiff Samples/sample_54_2.tiff\n",
      "Saving files: Samples/sample_55_1.tiff Samples/sample_55_2.tiff\n",
      "Saving files: Samples/sample_56_1.tiff Samples/sample_56_2.tiff\n",
      "Saving files: Samples/sample_57_1.tiff Samples/sample_57_2.tiff\n",
      "Saving files: Samples/sample_58_1.tiff Samples/sample_58_2.tiff\n"
     ]
    },
    {
     "ename": "KeyboardInterrupt",
     "evalue": "",
     "output_type": "error",
     "traceback": [
      "\u001b[0;31m---------------------------------------------------------------------------\u001b[0m",
      "\u001b[0;31mKeyboardInterrupt\u001b[0m                         Traceback (most recent call last)",
      "\u001b[0;32m<ipython-input-6-5060ef8a260f>\u001b[0m in \u001b[0;36m<module>\u001b[0;34m()\u001b[0m\n\u001b[1;32m      9\u001b[0m \u001b[0;34m\u001b[0m\u001b[0m\n\u001b[1;32m     10\u001b[0m \u001b[0msample_count\u001b[0m \u001b[0;34m=\u001b[0m \u001b[0;36m0\u001b[0m\u001b[0;34m\u001b[0m\u001b[0m\n\u001b[0;32m---> 11\u001b[0;31m \u001b[0;32mfor\u001b[0m \u001b[0;34m(\u001b[0m\u001b[0mim1\u001b[0m\u001b[0;34m,\u001b[0m\u001b[0mim2\u001b[0m\u001b[0;34m,\u001b[0m\u001b[0mpg\u001b[0m\u001b[0;34m,\u001b[0m\u001b[0mbt1\u001b[0m\u001b[0;34m,\u001b[0m\u001b[0mbt2\u001b[0m\u001b[0;34m)\u001b[0m\u001b[0;34m,\u001b[0m\u001b[0mf1\u001b[0m\u001b[0;34m,\u001b[0m\u001b[0mf2\u001b[0m \u001b[0;32min\u001b[0m \u001b[0mgen\u001b[0m\u001b[0;34m:\u001b[0m\u001b[0;34m\u001b[0m\u001b[0m\n\u001b[0m\u001b[1;32m     12\u001b[0m \u001b[0;34m\u001b[0m\u001b[0m\n\u001b[1;32m     13\u001b[0m \u001b[0;31m#     print(os.path.split(f1)[1] )\u001b[0m\u001b[0;34m\u001b[0m\u001b[0;34m\u001b[0m\u001b[0m\n",
      "\u001b[0;32m~/IdeaProjects/prrnmosaic/python_scripts/testgen.py\u001b[0m in \u001b[0;36mmost_alike\u001b[0;34m(self, n)\u001b[0m\n\u001b[1;32m    126\u001b[0m \u001b[0;34m\u001b[0m\u001b[0m\n\u001b[1;32m    127\u001b[0m         \u001b[0;32mfor\u001b[0m \u001b[0mi\u001b[0m \u001b[0;32min\u001b[0m \u001b[0mrange\u001b[0m\u001b[0;34m(\u001b[0m\u001b[0mn\u001b[0m\u001b[0;34m)\u001b[0m\u001b[0;34m:\u001b[0m\u001b[0;34m\u001b[0m\u001b[0m\n\u001b[0;32m--> 128\u001b[0;31m             \u001b[0;32myield\u001b[0m \u001b[0mself\u001b[0m\u001b[0;34m.\u001b[0m\u001b[0mread_sample\u001b[0m\u001b[0;34m(\u001b[0m\u001b[0mi\u001b[0m\u001b[0;34m)\u001b[0m\u001b[0;34m\u001b[0m\u001b[0m\n\u001b[0m\u001b[1;32m    129\u001b[0m \u001b[0;34m\u001b[0m\u001b[0m\n\u001b[1;32m    130\u001b[0m \u001b[0;32mdef\u001b[0m \u001b[0mTestSampleGen_from_csv\u001b[0m\u001b[0;34m(\u001b[0m\u001b[0mpath_to_file\u001b[0m\u001b[0;34m,\u001b[0m\u001b[0msort\u001b[0m\u001b[0;34m=\u001b[0m\u001b[0;32mTrue\u001b[0m\u001b[0;34m,\u001b[0m\u001b[0mlower_cutoff\u001b[0m\u001b[0;34m=\u001b[0m\u001b[0;36m100\u001b[0m\u001b[0;34m,\u001b[0m\u001b[0mhigher_cutoff\u001b[0m\u001b[0;34m=\u001b[0m\u001b[0;36m2000\u001b[0m\u001b[0;34m)\u001b[0m\u001b[0;34m:\u001b[0m\u001b[0;34m\u001b[0m\u001b[0m\n",
      "\u001b[0;32m~/IdeaProjects/prrnmosaic/python_scripts/testgen.py\u001b[0m in \u001b[0;36mread_sample\u001b[0;34m(self, samplen)\u001b[0m\n\u001b[1;32m    116\u001b[0m         \u001b[0mf2\u001b[0m \u001b[0;34m=\u001b[0m \u001b[0mself\u001b[0m\u001b[0;34m.\u001b[0m\u001b[0mdiffs\u001b[0m\u001b[0;34m[\u001b[0m\u001b[0msamplen\u001b[0m\u001b[0;34m]\u001b[0m\u001b[0;34m[\u001b[0m\u001b[0;36m1\u001b[0m\u001b[0;34m]\u001b[0m\u001b[0;34m\u001b[0m\u001b[0m\n\u001b[1;32m    117\u001b[0m \u001b[0;34m\u001b[0m\u001b[0m\n\u001b[0;32m--> 118\u001b[0;31m         \u001b[0;32mreturn\u001b[0m \u001b[0mclip_nodata\u001b[0m\u001b[0;34m(\u001b[0m \u001b[0;34m*\u001b[0m\u001b[0mread_common_area\u001b[0m\u001b[0;34m(\u001b[0m\u001b[0mf1\u001b[0m\u001b[0;34m,\u001b[0m\u001b[0mf2\u001b[0m\u001b[0;34m)\u001b[0m \u001b[0;34m)\u001b[0m\u001b[0;34m,\u001b[0m\u001b[0mf1\u001b[0m\u001b[0;34m,\u001b[0m\u001b[0mf2\u001b[0m\u001b[0;34m\u001b[0m\u001b[0m\n\u001b[0m\u001b[1;32m    119\u001b[0m \u001b[0;34m\u001b[0m\u001b[0m\n\u001b[1;32m    120\u001b[0m     \u001b[0;32mdef\u001b[0m \u001b[0mmost_alike\u001b[0m\u001b[0;34m(\u001b[0m\u001b[0mself\u001b[0m\u001b[0;34m,\u001b[0m\u001b[0mn\u001b[0m\u001b[0;34m=\u001b[0m\u001b[0;32mNone\u001b[0m\u001b[0;34m)\u001b[0m\u001b[0;34m:\u001b[0m\u001b[0;34m\u001b[0m\u001b[0m\n",
      "\u001b[0;32m~/IdeaProjects/prrnmosaic/python_scripts/testgen.py\u001b[0m in \u001b[0;36mread_common_area\u001b[0;34m(f1, f2)\u001b[0m\n\u001b[1;32m     69\u001b[0m     \u001b[0mtl\u001b[0m\u001b[0;34m,\u001b[0m\u001b[0mbr\u001b[0m \u001b[0;34m=\u001b[0m \u001b[0mget_common_area\u001b[0m\u001b[0;34m(\u001b[0m\u001b[0mpg1\u001b[0m\u001b[0;34m,\u001b[0m\u001b[0mpg2\u001b[0m\u001b[0;34m)\u001b[0m\u001b[0;34m\u001b[0m\u001b[0m\n\u001b[1;32m     70\u001b[0m \u001b[0;34m\u001b[0m\u001b[0m\n\u001b[0;32m---> 71\u001b[0;31m     \u001b[0ma1\u001b[0m\u001b[0;34m,\u001b[0m\u001b[0mband_types1\u001b[0m \u001b[0;34m=\u001b[0m \u001b[0mread_world_coords\u001b[0m\u001b[0;34m(\u001b[0m\u001b[0mf1\u001b[0m\u001b[0;34m,\u001b[0m\u001b[0mpg1\u001b[0m\u001b[0;34m,\u001b[0m\u001b[0mtl\u001b[0m\u001b[0;34m,\u001b[0m\u001b[0mbr\u001b[0m\u001b[0;34m)\u001b[0m\u001b[0;34m\u001b[0m\u001b[0m\n\u001b[0m\u001b[1;32m     72\u001b[0m     \u001b[0ma2\u001b[0m\u001b[0;34m,\u001b[0m\u001b[0mband_types2\u001b[0m \u001b[0;34m=\u001b[0m \u001b[0mread_world_coords\u001b[0m\u001b[0;34m(\u001b[0m\u001b[0mf2\u001b[0m\u001b[0;34m,\u001b[0m\u001b[0mpg2\u001b[0m\u001b[0;34m,\u001b[0m\u001b[0mtl\u001b[0m\u001b[0;34m,\u001b[0m\u001b[0mbr\u001b[0m\u001b[0;34m)\u001b[0m\u001b[0;34m\u001b[0m\u001b[0m\n\u001b[1;32m     73\u001b[0m \u001b[0;34m\u001b[0m\u001b[0m\n",
      "\u001b[0;32m~/IdeaProjects/prrnmosaic/python_scripts/testgen.py\u001b[0m in \u001b[0;36mread_world_coords\u001b[0;34m(f, pg, tl, br)\u001b[0m\n\u001b[1;32m     52\u001b[0m               \u001b[0mpx_tl\u001b[0m\u001b[0;34m[\u001b[0m\u001b[0;36m1\u001b[0m\u001b[0;34m]\u001b[0m\u001b[0;34m,\u001b[0m\u001b[0;34m\u001b[0m\u001b[0m\n\u001b[1;32m     53\u001b[0m               \u001b[0mpx_br\u001b[0m\u001b[0;34m[\u001b[0m\u001b[0;36m0\u001b[0m\u001b[0;34m]\u001b[0m\u001b[0;34m-\u001b[0m\u001b[0mpx_tl\u001b[0m\u001b[0;34m[\u001b[0m\u001b[0;36m0\u001b[0m\u001b[0;34m]\u001b[0m\u001b[0;34m,\u001b[0m\u001b[0;34m\u001b[0m\u001b[0m\n\u001b[0;32m---> 54\u001b[0;31m               px_br[1]-px_tl[1])\n\u001b[0m\u001b[1;32m     55\u001b[0m         \u001b[0mbands\u001b[0m\u001b[0;34m.\u001b[0m\u001b[0mappend\u001b[0m\u001b[0;34m(\u001b[0m\u001b[0mb_arr\u001b[0m\u001b[0;34m)\u001b[0m\u001b[0;34m\u001b[0m\u001b[0m\n\u001b[1;32m     56\u001b[0m         \u001b[0mband_types\u001b[0m\u001b[0;34m.\u001b[0m\u001b[0mappend\u001b[0m\u001b[0;34m(\u001b[0m\u001b[0mb\u001b[0m\u001b[0;34m.\u001b[0m\u001b[0mDataType\u001b[0m\u001b[0;34m)\u001b[0m\u001b[0;34m\u001b[0m\u001b[0m\n",
      "\u001b[0;32m/usr/lib/python3/dist-packages/osgeo/gdal.py\u001b[0m in \u001b[0;36mReadAsArray\u001b[0;34m(self, xoff, yoff, win_xsize, win_ysize, buf_xsize, buf_ysize, buf_obj)\u001b[0m\n\u001b[1;32m   1353\u001b[0m         return gdalnumeric.BandReadAsArray( self, xoff, yoff,\n\u001b[1;32m   1354\u001b[0m                                             \u001b[0mwin_xsize\u001b[0m\u001b[0;34m,\u001b[0m \u001b[0mwin_ysize\u001b[0m\u001b[0;34m,\u001b[0m\u001b[0;34m\u001b[0m\u001b[0m\n\u001b[0;32m-> 1355\u001b[0;31m                                             buf_xsize, buf_ysize, buf_obj )\n\u001b[0m\u001b[1;32m   1356\u001b[0m \u001b[0;34m\u001b[0m\u001b[0m\n\u001b[1;32m   1357\u001b[0m     \u001b[0;32mdef\u001b[0m \u001b[0mWriteArray\u001b[0m\u001b[0;34m(\u001b[0m\u001b[0mself\u001b[0m\u001b[0;34m,\u001b[0m \u001b[0marray\u001b[0m\u001b[0;34m,\u001b[0m \u001b[0mxoff\u001b[0m\u001b[0;34m=\u001b[0m\u001b[0;36m0\u001b[0m\u001b[0;34m,\u001b[0m \u001b[0myoff\u001b[0m\u001b[0;34m=\u001b[0m\u001b[0;36m0\u001b[0m\u001b[0;34m)\u001b[0m\u001b[0;34m:\u001b[0m\u001b[0;34m\u001b[0m\u001b[0m\n",
      "\u001b[0;32m/usr/lib/python3/dist-packages/osgeo/gdal_array.py\u001b[0m in \u001b[0;36mBandReadAsArray\u001b[0;34m(band, xoff, yoff, win_xsize, win_ysize, buf_xsize, buf_ysize, buf_obj)\u001b[0m\n\u001b[1;32m    293\u001b[0m         \u001b[0mar\u001b[0m \u001b[0;34m=\u001b[0m \u001b[0mnumpy\u001b[0m\u001b[0;34m.\u001b[0m\u001b[0mempty\u001b[0m\u001b[0;34m(\u001b[0m\u001b[0;34m[\u001b[0m\u001b[0mbuf_ysize\u001b[0m\u001b[0;34m,\u001b[0m\u001b[0mbuf_xsize\u001b[0m\u001b[0;34m]\u001b[0m\u001b[0;34m,\u001b[0m \u001b[0mdtype\u001b[0m \u001b[0;34m=\u001b[0m \u001b[0mtypecode\u001b[0m\u001b[0;34m)\u001b[0m\u001b[0;34m\u001b[0m\u001b[0m\n\u001b[1;32m    294\u001b[0m         if BandRasterIONumPy( band, 0, xoff, yoff, win_xsize, win_ysize,\n\u001b[0;32m--> 295\u001b[0;31m                                 ar, datatype ) != 0:\n\u001b[0m\u001b[1;32m    296\u001b[0m             \u001b[0;32mreturn\u001b[0m \u001b[0;32mNone\u001b[0m\u001b[0;34m\u001b[0m\u001b[0m\n\u001b[1;32m    297\u001b[0m \u001b[0;34m\u001b[0m\u001b[0m\n",
      "\u001b[0;32m/usr/lib/python3/dist-packages/osgeo/gdal_array.py\u001b[0m in \u001b[0;36mBandRasterIONumPy\u001b[0;34m(band, bWrite, xoff, yoff, xsize, ysize, psArray, buf_type)\u001b[0m\n\u001b[1;32m    129\u001b[0m \u001b[0;32mdef\u001b[0m \u001b[0mBandRasterIONumPy\u001b[0m\u001b[0;34m(\u001b[0m\u001b[0mband\u001b[0m\u001b[0;34m,\u001b[0m \u001b[0mbWrite\u001b[0m\u001b[0;34m,\u001b[0m \u001b[0mxoff\u001b[0m\u001b[0;34m,\u001b[0m \u001b[0myoff\u001b[0m\u001b[0;34m,\u001b[0m \u001b[0mxsize\u001b[0m\u001b[0;34m,\u001b[0m \u001b[0mysize\u001b[0m\u001b[0;34m,\u001b[0m \u001b[0mpsArray\u001b[0m\u001b[0;34m,\u001b[0m \u001b[0mbuf_type\u001b[0m\u001b[0;34m)\u001b[0m\u001b[0;34m:\u001b[0m\u001b[0;34m\u001b[0m\u001b[0m\n\u001b[1;32m    130\u001b[0m     \u001b[0;34m\"\"\"BandRasterIONumPy(Band band, int bWrite, int xoff, int yoff, int xsize, int ysize, PyArrayObject * psArray, int buf_type) -> CPLErr\"\"\"\u001b[0m\u001b[0;34m\u001b[0m\u001b[0m\n\u001b[0;32m--> 131\u001b[0;31m     \u001b[0;32mreturn\u001b[0m \u001b[0m_gdal_array\u001b[0m\u001b[0;34m.\u001b[0m\u001b[0mBandRasterIONumPy\u001b[0m\u001b[0;34m(\u001b[0m\u001b[0mband\u001b[0m\u001b[0;34m,\u001b[0m \u001b[0mbWrite\u001b[0m\u001b[0;34m,\u001b[0m \u001b[0mxoff\u001b[0m\u001b[0;34m,\u001b[0m \u001b[0myoff\u001b[0m\u001b[0;34m,\u001b[0m \u001b[0mxsize\u001b[0m\u001b[0;34m,\u001b[0m \u001b[0mysize\u001b[0m\u001b[0;34m,\u001b[0m \u001b[0mpsArray\u001b[0m\u001b[0;34m,\u001b[0m \u001b[0mbuf_type\u001b[0m\u001b[0;34m)\u001b[0m\u001b[0;34m\u001b[0m\u001b[0m\n\u001b[0m\u001b[1;32m    132\u001b[0m \u001b[0;34m\u001b[0m\u001b[0m\n\u001b[1;32m    133\u001b[0m \u001b[0;32mdef\u001b[0m \u001b[0mVirtualMemGetArray\u001b[0m\u001b[0;34m(\u001b[0m\u001b[0mvirtualmem\u001b[0m\u001b[0;34m)\u001b[0m\u001b[0;34m:\u001b[0m\u001b[0;34m\u001b[0m\u001b[0m\n",
      "\u001b[0;31mKeyboardInterrupt\u001b[0m: "
     ]
    }
   ],
   "source": [
    "samplegen = testgen.TestSampleGen_from_csv('test_files.csv')\n",
    "\n",
    "im1_prev = None\n",
    "im2_prev = None\n",
    "im1 = None\n",
    "im2 = None\n",
    "\n",
    "gen = samplegen.most_alike()\n",
    "\n",
    "sample_count = 0\n",
    "for (im1,im2,pg,bt1,bt2),f1,f2 in gen:\n",
    "    \n",
    "#     print(os.path.split(f1)[1] )\n",
    "#     imshow(im1[:,:,0],cmap='magma');\n",
    "#     show()\n",
    "#     print(os.path.split(f2)[1] )\n",
    "#     imshow(im2[:,:,0],cmap='magma');\n",
    "#     show()\n",
    "\n",
    "    new_pair = True\n",
    "    if (im1_prev is not None) and (im2_prev is not None):\n",
    "        prev_stats = np.array([im1_prev.std()+im2_prev.std(),im1_prev.mean()+im2_prev.mean()])\n",
    "        cur_stats = np.array([im1.std()+im2.std(),im1.mean()+im2.mean()])\n",
    "\n",
    "        diff = np.abs(prev_stats-cur_stats)\n",
    "        if diff[0] < 800 or diff[1] < 800:\n",
    "            new_pair = False\n",
    "\n",
    "    if new_pair:\n",
    "        sample1_name = 'Samples/sample_{}_1.tiff'.format(sample_count)\n",
    "        sample2_name = 'Samples/sample_{}_2.tiff'.format(sample_count)\n",
    "        sample_count += 1\n",
    "        \n",
    "        save_as_gdal_dataset(sample1_name,f1,sample2_name,im1,pg,bt1)\n",
    "        save_as_gdal_dataset(sample2_name,f2,sample1_name,im2,pg,bt2)\n",
    "        print('Saving files: {} {}'.format(sample1_name,sample2_name))\n",
    "\n",
    "    im1_prev = im1\n",
    "    im2_prev = im2"
   ]
  },
  {
   "cell_type": "code",
   "execution_count": 4,
   "metadata": {},
   "outputs": [],
   "source": [
    "# write metadata file about test samples\n",
    "import os\n",
    "import gdal\n",
    "import re\n",
    "import csv\n",
    "\n",
    "sample_directory = \"/home/artef/Pictures/LS08Samples/\"\n",
    "# find maximum number of samples by parsing file names. Files are sample_SAMPLEID_SAMPLEPART.tiff\n",
    "num_samples = max( [int(re.findall('_(\\d+)_(\\d+)',f)[0][0]) for f in os.listdir(sample_directory)] )+1\n",
    "sample_files = [[None,None] for i in range(num_samples)]\n",
    "\n",
    "for d in os.listdir(sample_directory):\n",
    "    fname = os.path.join(sample_directory,d)\n",
    "    sample_id, sample_part = re.findall('_(\\d+)_(\\d+)',d)[0]\n",
    "    sample_files[int(sample_id)][int(sample_part)-1] = fname\n",
    "\n",
    "\n",
    "with open('test_files_aligned.csv','w') as f:\n",
    "    writer = csv.writer(f)\n",
    "    # write header\n",
    "    writer.writerow([\"File1\", \"File2\"])\n",
    "    writer.writerows(sample_files)"
   ]
  },
  {
   "cell_type": "code",
   "execution_count": 1,
   "metadata": {},
   "outputs": [
    {
     "name": "stdout",
     "output_type": "stream",
     "text": [
      "Populating the interactive namespace from numpy and matplotlib\n"
     ]
    }
   ],
   "source": [
    "%pylab inline"
   ]
  },
  {
   "cell_type": "code",
   "execution_count": null,
   "metadata": {},
   "outputs": [],
   "source": [
    "np"
   ]
  }
 ],
 "metadata": {
  "kernelspec": {
   "display_name": "Python 3",
   "language": "python",
   "name": "python3"
  },
  "language_info": {
   "codemirror_mode": {
    "name": "ipython",
    "version": 3
   },
   "file_extension": ".py",
   "mimetype": "text/x-python",
   "name": "python",
   "nbconvert_exporter": "python",
   "pygments_lexer": "ipython3",
   "version": "3.5.2"
  }
 },
 "nbformat": 4,
 "nbformat_minor": 2
}
