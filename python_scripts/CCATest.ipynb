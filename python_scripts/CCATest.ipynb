{
 "cells": [
  {
   "cell_type": "code",
   "execution_count": 1,
   "metadata": {},
   "outputs": [
    {
     "name": "stdout",
     "output_type": "stream",
     "text": [
      "Populating the interactive namespace from numpy and matplotlib\n"
     ]
    }
   ],
   "source": [
    "%pylab inline\n",
    "%load_ext autoreload\n",
    "%autoreload 1\n",
    "%aimport new_CCA\n",
    "%aimport sample_gen\n",
    "from scipy.stats import multivariate_normal\n",
    "from collections import defaultdict\n",
    "%aimport cca_compare"
   ]
  },
  {
   "cell_type": "code",
   "execution_count": 27,
   "metadata": {},
   "outputs": [],
   "source": [
    "n_bands = 10\n",
    "n_samples = 1000\n",
    "d1 = sample_gen.create_distribution(n_bands,mean_std_scale=0.3,std=1)\n",
    "d2 = sample_gen.create_distribution(n_bands,mean_std_scale=1,std=2,std_scale=0.1)\n",
    "X = d1.rvs(n_samples)\n",
    "Y = X+d2.rvs(n_samples)"
   ]
  },
  {
   "cell_type": "code",
   "execution_count": 28,
   "metadata": {},
   "outputs": [
    {
     "name": "stderr",
     "output_type": "stream",
     "text": [
      "<ipython-input-28-f41b1bc6de61>:94: SyntaxWarning: name 'nastyCorr' is used prior to global declaration\n",
      "  global nastyCorr\n"
     ]
    }
   ],
   "source": [
    "# Generate samples\n",
    "def gen_samples(sample_size,n_bands=3):\n",
    "    X = np.random.normal(0,1,size=(sample_size,n_bands))\n",
    "    Y = X+np.random.normal(0,0.5,size=(sample_size,n_bands))\n",
    "    return X,Y\n",
    "\n",
    "# Print info about cca\n",
    "def cca_info(X,Y, A, B):\n",
    "    \n",
    "    prev_u = None\n",
    "    prev_v = None\n",
    "    \n",
    "    for i,(a,b) in enumerate( zip(A.T,B.T) ):\n",
    "        print('{} cannonical variates pair'.format(i+1))\n",
    "                \n",
    "        u = np.dot( X,a )\n",
    "        v = np.dot( Y,b )\n",
    "\n",
    "        if prev_u is not None and prev_v is not None:\n",
    "            print('prev corrcoef:\\n{: <10.4f}{: <10.4f}\\n{: <10.4f}{: <10.4f}'.format( \n",
    "                np.corrcoef(u,prev_u)[0,1], np.corrcoef(u,prev_v)[0,1],\n",
    "                np.corrcoef(v,prev_u)[0,1], np.corrcoef(v,prev_v)[0,1]\n",
    "            ))\n",
    "        prev_u = u\n",
    "        prev_v = v\n",
    "\n",
    "        print('corrcoef: {:.4f}'.format(np.corrcoef(u,v)[0,1]))\n",
    "\n",
    "        # Fit u more tightly to v\n",
    "        reg = LinearRegression()\n",
    "        reg.fit(u[:,np.newaxis],v)\n",
    "        new_u = reg.predict(u[:,np.newaxis])\n",
    "\n",
    "        plot(new_u[:10],'C0-',label='u')\n",
    "        plot(u[:10],'C0--')\n",
    "        plot(v[:10],'C1',label='v')\n",
    "        legend()\n",
    "        show()\n",
    "        \n",
    "def random_subsample(sample_size,*args):\n",
    "    ret = []\n",
    "    ids = np.array([i for i in range(len(args[0]))])\n",
    "    np.random.shuffle(ids)\n",
    "    \n",
    "    for arg in args:\n",
    "        ret.append(np.array(arg)[ids][:sample_size])\n",
    "        \n",
    "    return ret\n",
    "\n",
    "nastyCorr = None\n",
    "nastyX = None\n",
    "nastyY = None\n",
    "\n",
    "# Compare CCA\n",
    "def cca_compare(X,Y, funcs_dict, x_samples = 20, n_probas = 10,train_eval=False):\n",
    "    \n",
    "    func_labels = list(funcs_dict.keys())\n",
    "    funcs = [funcs_dict[i] for i in func_labels]\n",
    "    \n",
    "    sample_sizes = []\n",
    "    \n",
    "    correlations_mean = defaultdict(list)\n",
    "    correlations_max = defaultdict(list)\n",
    "    correlations_min = defaultdict(list)\n",
    "    \n",
    "    for sample_size in np.linspace(int(X.shape[0]*0.2),X.shape[0],x_samples).astype(np.int):\n",
    "        sample_sizes.append(sample_size)\n",
    "        \n",
    "        for func in funcs:\n",
    "\n",
    "            corr_pack_mean = []\n",
    "            corr_pack_max = []\n",
    "            corr_pack_min = []\n",
    "            \n",
    "            for n_proba in range(n_probas):\n",
    "                corr_pack = []\n",
    "            \n",
    "                Xs,Ys = random_subsample(sample_size,X,Y)\n",
    "                A,B = func(Xs,Ys)\n",
    "            \n",
    "                for i,(a,b) in enumerate( zip(A.T,B.T) ):\n",
    "                    if train_eval:\n",
    "                        u = np.dot( Xs,a )\n",
    "                        v = np.dot( Ys,b )\n",
    "                    else:\n",
    "                        u = np.dot( X,a )\n",
    "                        v = np.dot( Y,b )\n",
    "                    corr_pack.append( np.abs( np.corrcoef(u,v)[0,1] ) )\n",
    "\n",
    "                global nastyCorr\n",
    "                if np.array(corr_pack).max() > 0 and (nastyCorr is None or nastyCorr > np.array(corr_pack).max() ):\n",
    "                    global nastyX\n",
    "                    global nastyY\n",
    "                    global nastyCorr\n",
    "                    nastyX = Xs\n",
    "                    nastyY = Ys\n",
    "                    nastyCorr = np.array(corr_pack).max()\n",
    "                    print(\"nastyCorr: {}\".format(nastyCorr))\n",
    "                    \n",
    "                corr_pack_mean.append(corr_pack)\n",
    "\n",
    "            correlations_min[func].append( np.percentile(corr_pack_mean,1,axis=0) )\n",
    "            correlations_mean[func].append( np.percentile(corr_pack_mean,50,axis=0) )\n",
    "            correlations_max[func].append( np.percentile(corr_pack_mean,99,axis=0) )\n",
    "    \n",
    "    corr_by_func_min = defaultdict(lambda: defaultdict(list))\n",
    "    corr_by_func_mean = defaultdict(lambda: defaultdict(list))\n",
    "    corr_by_func_max = defaultdict(lambda: defaultdict(list))\n",
    "    \n",
    "    for func_id,func in enumerate(funcs):\n",
    "        for component_id, component_corr in enumerate( np.array( correlations_min[func] ).T ):\n",
    "            corr_by_func_min[component_id][func_id] = component_corr\n",
    "        for component_id, component_corr in enumerate( np.array( correlations_mean[func] ).T ):\n",
    "            corr_by_func_mean[component_id][func_id] = component_corr\n",
    "        for component_id, component_corr in enumerate( np.array( correlations_max[func] ).T ):\n",
    "            corr_by_func_max[component_id][func_id] = component_corr\n",
    "        \n",
    "    for component_id in corr_by_func_mean.keys():\n",
    "        for func_i,(func,label) in enumerate( zip(funcs,func_labels) ):\n",
    "            \n",
    "            if func_i not in corr_by_func_mean[component_id]:\n",
    "                continue\n",
    "                \n",
    "            color = 'C{}'.format(func_i)\n",
    "            \n",
    "            min_x  = corr_by_func_min[component_id][func_i]\n",
    "            mean_x = corr_by_func_mean[component_id][func_i]\n",
    "            max_x  = corr_by_func_max[component_id][func_i]\n",
    "            \n",
    "            plot(sample_sizes, mean_x,color,label=label)\n",
    "            fill_between(sample_sizes,min_x,max_x,facecolor=color,alpha=0.1)\n",
    "        \n",
    "        grid(True)\n",
    "        title('Comparison of CCA. Band {}'.format(component_id))\n",
    "        xlabel(\"sub-Sample size\")\n",
    "        ylabel(\"Correlation\")\n",
    "        legend()\n",
    "        show()"
   ]
  },
  {
   "cell_type": "markdown",
   "metadata": {},
   "source": [
    "# CCA from sklearn"
   ]
  },
  {
   "cell_type": "code",
   "execution_count": 29,
   "metadata": {},
   "outputs": [],
   "source": [
    "from sklearn.cross_decomposition import CCA\n",
    "from new_CCA import cca\n",
    "def sklearn_cca(X,Y,n_components=10):\n",
    "    cca_instance = CCA(n_components=n_components)\n",
    "    cca_instance.fit(X,Y)    \n",
    "    return cca_instance.x_rotations_, cca_instance.y_rotations_"
   ]
  },
  {
   "cell_type": "code",
   "execution_count": null,
   "metadata": {},
   "outputs": [],
   "source": []
  },
  {
   "cell_type": "code",
   "execution_count": 6,
   "metadata": {},
   "outputs": [
    {
     "ename": "AttributeError",
     "evalue": "'function' object has no attribute 'cca_compare'",
     "output_type": "error",
     "traceback": [
      "\u001b[0;31m------------------------------------------------------------------\u001b[0m",
      "\u001b[0;31mAttributeError\u001b[0m                   Traceback (most recent call last)",
      "\u001b[0;32m<ipython-input-6-492a312eb7b9>\u001b[0m in \u001b[0;36m<module>\u001b[0;34m()\u001b[0m\n\u001b[0;32m----> 1\u001b[0;31m \u001b[0mcca_compare\u001b[0m\u001b[0;34m.\u001b[0m\u001b[0mcca_compare\u001b[0m\u001b[0;34m(\u001b[0m\u001b[0mX\u001b[0m\u001b[0;34m,\u001b[0m\u001b[0mY\u001b[0m\u001b[0;34m,\u001b[0m\u001b[0;34m{\u001b[0m\u001b[0;34m\"sklearn\"\u001b[0m\u001b[0;34m:\u001b[0m\u001b[0msklearn_cca\u001b[0m\u001b[0;34m,\u001b[0m\u001b[0;34m\"cca3\"\u001b[0m\u001b[0;34m:\u001b[0m\u001b[0mcca\u001b[0m\u001b[0;34m}\u001b[0m\u001b[0;34m)\u001b[0m\u001b[0;34m\u001b[0m\u001b[0m\n\u001b[0m",
      "\u001b[0;31mAttributeError\u001b[0m: 'function' object has no attribute 'cca_compare'"
     ]
    }
   ],
   "source": [
    "cca_compare.cca_compare(X,Y,{\"sklearn\":sklearn_cca,\"cca3\":cca})"
   ]
  },
  {
   "cell_type": "markdown",
   "metadata": {},
   "source": [
    "## CCA test fitness"
   ]
  },
  {
   "cell_type": "code",
   "execution_count": 31,
   "metadata": {},
   "outputs": [],
   "source": [
    "a, b, r = new_CCA.cca(X,Y)\n",
    "u = np.dot( X,a )\n",
    "v = np.dot( Y,b )"
   ]
  },
  {
   "cell_type": "code",
   "execution_count": 33,
   "metadata": {},
   "outputs": [
    {
     "data": {
      "image/png": "[encoded data removed]",
      "text/plain": [
       "<matplotlib.figure.Figure at 0x7fa1584b3e10>"
      ]
     },
     "metadata": {},
     "output_type": "display_data"
    }
   ],
   "source": [
    "plot(u[:20,0]-u[:20,0].mean())\n",
    "plot(v[:20,0]-v[:20,0].mean());"
   ]
  },
  {
   "cell_type": "code",
   "execution_count": 37,
   "metadata": {},
   "outputs": [],
   "source": [
    "from scipy.linalg import sqrtm\n",
    "\n",
    "# Correlation function\n",
    "def calc_covariance(xy_sum,x_sum,y_sum,n):\n",
    "    \"\"\"\n",
    "    calculate covariance matrix of 2 variables\n",
    "    \"\"\"\n",
    "    return ( xy_sum - np.matmul(x_sum,y_sum.T)/n )/(n-1)\n",
    "\n",
    "def calc_linear_regression(n,a,b,x_sum, y_sum, xy_sum, xx_sum ):\n",
    "    m1 = np.array([[n,(a @ x_sum)[0]],\n",
    "                  [(a @ x_sum)[0],((a[:,np.newaxis] @ a[:,np.newaxis].T) * xx_sum).sum()]])\n",
    "    m2 = np.array([\n",
    "        (b @ y_sum)[0],\n",
    "        ( ( a[:,np.newaxis] @ b[np.newaxis,:] ) * ( xy_sum ) ).sum()\n",
    "    ])\n",
    "    return np.linalg.inv(m1) @ m2"
   ]
  },
  {
   "cell_type": "code",
   "execution_count": 124,
   "metadata": {},
   "outputs": [
    {
     "name": "stdout",
     "output_type": "stream",
     "text": [
      "first pair corr: -0.90\n"
     ]
    }
   ],
   "source": [
    "x = X\n",
    "y = Y\n",
    "\n",
    "x_sum = np.sum(x,axis=0)[:,np.newaxis]\n",
    "y_sum = np.sum(y,axis=0)[:,np.newaxis]\n",
    "xy_sum = np.transpose(x) @ y\n",
    "xx_sum = np.transpose(x) @ x\n",
    "yy_sum = np.transpose(y) @ y\n",
    "n = np.shape(x)[0]\n",
    "\n",
    "xy_cov = calc_covariance(xy_sum,x_sum,y_sum,n)\n",
    "xx_cov = calc_covariance(xx_sum,x_sum,x_sum,n)\n",
    "yy_cov = calc_covariance(yy_sum,y_sum,y_sum,n)\n",
    "\n",
    "\n",
    "xx_cov_sqrt_inv = np.linalg.inv( sqrtm(xx_cov) )\n",
    "yy_cov_sqrt_inv = np.linalg.inv( sqrtm(yy_cov) )\n",
    "\n",
    "u_mat = xx_cov_sqrt_inv @ xy_cov @ np.linalg.inv(yy_cov) @ xy_cov.T @ xx_cov_sqrt_inv\n",
    "u_eigvals,u_eigvecs = np.linalg.eig(u_mat)\n",
    "\n",
    "v_mat = yy_cov_sqrt_inv @ xy_cov.T @ np.linalg.inv(xx_cov) @ xy_cov @ yy_cov_sqrt_inv\n",
    "v_eigvals,v_eigvecs = np.linalg.eig(v_mat)\n",
    "\n",
    "# Sort eigenvectors by their eigenvalues\n",
    "# The hypothisis here is that correlation is bigger if eigenvalue of eigenvector is bigger\n",
    "u = u_eigvecs.T[sorted([i for i in range(len(u_eigvals))], key=lambda x: -u_eigvals[x])]\n",
    "v = v_eigvecs.T[sorted([i for i in range(len(v_eigvals))], key=lambda x: -v_eigvals[x])]\n",
    "\n",
    "a = (u @ xx_cov_sqrt_inv).T\n",
    "b = (v @ yy_cov_sqrt_inv).T\n",
    "\n",
    "regressions = np.array( [ calc_linear_regression(n,a[:,i],b[:,i],x_sum, y_sum, xy_sum, xx_sum ) for i in range(a.shape[1]) ] )\n",
    "#a = a*regressions[:,1]\n",
    "\n",
    "u = np.dot( X,a )\n",
    "v = np.dot( Y,b )\n",
    "\n",
    "print('first pair corr: {:.2f}'.format(np.corrcoef(u[:,0],v[:,0])[0,1]))"
   ]
  },
  {
   "cell_type": "markdown",
   "metadata": {},
   "source": [
    "# IMPORTANT!!!\n",
    "## Below - formula for u1v1+u2v2+u3v3+...unvn described through xy_sum terms and a,b\n",
    "\n",
    "This is an essential part for calculating linear regression for target variable v and features u without actually calculating them\n",
    "This represents term X^{T} y"
   ]
  },
  {
   "cell_type": "code",
   "execution_count": 20,
   "metadata": {},
   "outputs": [
    {
     "name": "stdout",
     "output_type": "stream",
     "text": [
      "80305707.4869\n",
      "80305707.4869\n"
     ]
    }
   ],
   "source": [
    "print( (u[:,0] * v[:,0]).sum() )\n",
    "print( ( ( a[:,0,np.newaxis] @ b[np.newaxis,:,0] ) * ( xy_sum ) ).sum() )"
   ]
  },
  {
   "cell_type": "markdown",
   "metadata": {},
   "source": [
    "# Next step - calculate term u^{T} u"
   ]
  },
  {
   "cell_type": "markdown",
   "metadata": {},
   "source": [
    "# Formula for \\Sum_i u_i and \\Sum_i v_i"
   ]
  },
  {
   "cell_type": "code",
   "execution_count": 44,
   "metadata": {},
   "outputs": [
    {
     "data": {
      "text/plain": [
       "array([ 88597.47589169])"
      ]
     },
     "execution_count": 44,
     "metadata": {},
     "output_type": "execute_result"
    }
   ],
   "source": [
    "# u[:,0].sum()\n",
    "a[:,0] @ x_sum"
   ]
  },
  {
   "cell_type": "code",
   "execution_count": 63,
   "metadata": {},
   "outputs": [
    {
     "data": {
      "text/plain": [
       "array([ 906400.81597157])"
      ]
     },
     "execution_count": 63,
     "metadata": {},
     "output_type": "execute_result"
    }
   ],
   "source": [
    "#v[:,0].sum()\n",
    "b[:,0] @ y_sum"
   ]
  },
  {
   "cell_type": "markdown",
   "metadata": {},
   "source": [
    "# Formula for \\Sum_i u^2_i"
   ]
  },
  {
   "cell_type": "code",
   "execution_count": 60,
   "metadata": {},
   "outputs": [
    {
     "data": {
      "text/plain": [
       "7850511.7343779588"
      ]
     },
     "execution_count": 60,
     "metadata": {},
     "output_type": "execute_result"
    }
   ],
   "source": [
    "#(u[:,0]**2).sum()\n",
    "((a[:,0,np.newaxis] @ a[:,0,np.newaxis].T) * xx_sum).sum()"
   ]
  },
  {
   "cell_type": "markdown",
   "metadata": {},
   "source": [
    "# Assemble matrices"
   ]
  },
  {
   "cell_type": "code",
   "execution_count": 79,
   "metadata": {},
   "outputs": [
    {
     "data": {
      "text/plain": [
       "array([   906400.81597157,  80305707.48691505])"
      ]
     },
     "execution_count": 79,
     "metadata": {},
     "output_type": "execute_result"
    }
   ],
   "source": [
    "betas_true = np.array([\n",
    "    v[:,0].sum(),\n",
    "    (u[:,0]*v[:,0]).sum(),\n",
    "])\n",
    "betas_true"
   ]
  },
  {
   "cell_type": "code",
   "execution_count": 134,
   "metadata": {},
   "outputs": [
    {
     "data": {
      "text/plain": [
       "array([ 828.08688466,    0.8839296 ])"
      ]
     },
     "execution_count": 134,
     "metadata": {},
     "output_type": "execute_result"
    }
   ],
   "source": [
    "m1 = np.array([[n,(a[:,0] @ x_sum)[0]],\n",
    "                  [(a[:,0] @ x_sum)[0],((a[:,0,np.newaxis] @ a[:,0,np.newaxis].T) * xx_sum).sum()]])\n",
    "\n",
    "m2 = np.array([\n",
    "    (b[:,0] @ y_sum)[0],\n",
    "    ( ( a[:,0,np.newaxis] @ b[np.newaxis,:,0] ) * ( xy_sum ) ).sum()\n",
    "    ])\n",
    "\n",
    "betas = np.linalg.inv(m1) @ m2\n",
    "betas"
   ]
  },
  {
   "cell_type": "code",
   "execution_count": 106,
   "metadata": {},
   "outputs": [
    {
     "data": {
      "text/plain": [
       "array([[  1.00000000e+03,   8.85974759e+04],\n",
       "       [  8.85974759e+04,   7.85051173e+06]])"
      ]
     },
     "execution_count": 106,
     "metadata": {},
     "output_type": "execute_result"
    }
   ],
   "source": [
    "np.array([[n,u[:,0].sum()],[u[:,0].sum(),(u[:,0]*u[:,0]).sum() ]])"
   ]
  },
  {
   "cell_type": "code",
   "execution_count": 156,
   "metadata": {},
   "outputs": [],
   "source": [
    "def calc_linear_regression(n,a,b,x_sum, y_sum, xy_sum, xx_sum ):\n",
    "    m1 = np.array([[n,(a @ x_sum)[0]],\n",
    "                  [(a @ x_sum)[0],((a[:,np.newaxis] @ a[:,np.newaxis].T) * xx_sum).sum()]])\n",
    "    m2 = np.array([\n",
    "        (b @ y_sum)[0],\n",
    "        ( ( a[:,np.newaxis] @ b[np.newaxis,:] ) * ( xy_sum ) ).sum()\n",
    "    ])\n",
    "    return np.linalg.inv(m1) @ m2"
   ]
  },
  {
   "cell_type": "code",
   "execution_count": 174,
   "metadata": {},
   "outputs": [
    {
     "data": {
      "text/plain": [
       "array([ 1.,  1.,  1.,  1.,  1.,  1.,  1.,  1.,  1.,  1.])"
      ]
     },
     "execution_count": 174,
     "metadata": {},
     "output_type": "execute_result"
    }
   ],
   "source": [
    "(a*[1,2,3,4,5,6,7,8,9,10])[:,0]/a[:,0]"
   ]
  },
  {
   "cell_type": "code",
   "execution_count": 175,
   "metadata": {},
   "outputs": [
    {
     "data": {
      "text/plain": [
       "array([[  8.28086885e+02,   8.83929599e-01],\n",
       "       [  1.43527813e+02,   8.76378135e-01],\n",
       "       [  7.76457751e+02,  -8.60392314e-01],\n",
       "       [ -4.05214764e+02,   8.11294724e-01],\n",
       "       [  4.85224825e+02,   8.05766142e-01],\n",
       "       [ -2.66750776e+02,  -7.51280307e-01],\n",
       "       [ -4.24498204e+02,   7.33004614e-01],\n",
       "       [  2.27644995e+02,  -6.89955448e-01],\n",
       "       [ -4.54891459e+02,  -6.06604994e-01],\n",
       "       [ -4.30853681e+02,  -5.84572284e-01]])"
      ]
     },
     "execution_count": 175,
     "metadata": {},
     "output_type": "execute_result"
    }
   ],
   "source": [
    "np.array( [ calc_linear_regression(n,a[:,i],b[:,i],x_sum, y_sum, xy_sum, xx_sum ) for i in range(a.shape[1]) ] )"
   ]
  },
  {
   "cell_type": "code",
   "execution_count": 159,
   "metadata": {},
   "outputs": [
    {
     "data": {
      "text/plain": [
       "array([ 828.08688466,    0.8839296 ])"
      ]
     },
     "execution_count": 159,
     "metadata": {},
     "output_type": "execute_result"
    }
   ],
   "source": [
    "calc_linear_regression(n,a[:,0],b[:,0],x_sum, y_sum, xy_sum, xx_sum )"
   ]
  },
  {
   "cell_type": "code",
   "execution_count": 131,
   "metadata": {},
   "outputs": [
    {
     "data": {
      "text/plain": [
       "array([[  4.78160620e-02,  -5.31702148e-04,  -3.25972763e-02,\n",
       "          3.27168577e-02,  -3.78314881e-02,   8.71486269e-02,\n",
       "          2.81651673e-02,   3.05234962e-02,  -4.74690311e-02,\n",
       "         -1.20739034e-02],\n",
       "       [ -4.42607429e-04,   4.92167926e-06,   3.01735359e-04,\n",
       "         -3.02842261e-04,   3.50185628e-04,  -8.06687714e-04,\n",
       "         -2.60709723e-04,  -2.82539499e-04,   4.39395152e-04,\n",
       "          1.11761594e-04],\n",
       "       [ -3.28047061e-02,   3.64779783e-04,   2.23637001e-02,\n",
       "         -2.24457402e-02,   2.59546855e-02,  -5.97892210e-02,\n",
       "         -1.93230056e-02,  -2.09409617e-02,   3.25666220e-02,\n",
       "          8.28342685e-03],\n",
       "       [  3.68262065e-02,  -4.09497819e-04,  -2.51052466e-02,\n",
       "          2.51973439e-02,  -2.91364478e-02,   6.71187295e-02,\n",
       "          2.16917961e-02,   2.35080960e-02,  -3.65589358e-02,\n",
       "         -9.29888493e-03],\n",
       "       [ -4.12444212e-02,   4.58627215e-04,   2.81172421e-02,\n",
       "         -2.82203888e-02,   3.26320857e-02,  -7.51712819e-02,\n",
       "         -2.42942638e-02,  -2.63284738e-02,   4.09450848e-02,\n",
       "          1.04145163e-02],\n",
       "       [  9.28459029e-02,  -1.03242224e-03,  -6.32951235e-02,\n",
       "          6.35273185e-02,  -7.34585519e-02,   1.69219141e-01,\n",
       "          5.46891626e-02,   5.92684017e-02,  -9.21720626e-02,\n",
       "         -2.34442657e-02],\n",
       "       [  2.89641600e-02,  -3.22073911e-04,  -1.97455141e-02,\n",
       "          1.98179496e-02,  -2.29160920e-02,   5.27895162e-02,\n",
       "          1.70608030e-02,   1.84893401e-02,  -2.87539492e-02,\n",
       "         -7.31366104e-03],\n",
       "       [  2.57612250e-02,  -2.86458108e-04,  -1.75620018e-02,\n",
       "          1.76264272e-02,  -2.03819687e-02,   4.69519089e-02,\n",
       "          1.51741733e-02,   1.64447389e-02,  -2.55742598e-02,\n",
       "         -6.50489665e-03],\n",
       "       [ -5.25316609e-02,   5.84138379e-04,   3.58120053e-02,\n",
       "         -3.59433799e-02,   4.15624128e-02,  -9.57431861e-02,\n",
       "         -3.09428037e-02,  -3.35337100e-02,   5.21504061e-02,\n",
       "          1.32646264e-02],\n",
       "       [ -1.69814354e-02,   1.88829136e-04,   1.15766234e-02,\n",
       "         -1.16190916e-02,   1.34355056e-02,  -3.09500347e-02,\n",
       "         -1.00026006e-02,  -1.08401394e-02,   1.68581906e-02,\n",
       "          4.28793592e-03]])"
      ]
     },
     "execution_count": 131,
     "metadata": {},
     "output_type": "execute_result"
    }
   ],
   "source": [
    "a[:,0][:,np.newaxis] @ b[:,0][np.newaxis,:]"
   ]
  },
  {
   "cell_type": "code",
   "execution_count": 128,
   "metadata": {},
   "outputs": [
    {
     "data": {
      "text/plain": [
       "array([[-0.20788406,  0.00231162,  0.1417192 , -0.14223909,  0.16447535,\n",
       "        -0.37888545, -0.12245026, -0.13270328,  0.20637532,  0.05249224]])"
      ]
     },
     "execution_count": 128,
     "metadata": {},
     "output_type": "execute_result"
    }
   ],
   "source": [
    "b[np.newaxis,:,0]"
   ]
  },
  {
   "cell_type": "code",
   "execution_count": 115,
   "metadata": {},
   "outputs": [
    {
     "data": {
      "text/plain": [
       "array([[ 828.08688468],\n",
       "       [   0.8839296 ]])"
      ]
     },
     "execution_count": 115,
     "metadata": {},
     "output_type": "execute_result"
    }
   ],
   "source": [
    "def calc_linear_regression(x,y):\n",
    "    n = x.shape[0]\n",
    "    m1 = np.array([[n,x.sum()],[x.sum(),(x*x).sum()]])\n",
    "    m2 = np.array([[y.sum()],[(x*y).sum()]])\n",
    "    return np.linalg.inv(m1) @ m2\n",
    "    \n",
    "calc_linear_regression(u[:,0],v[:,0])"
   ]
  },
  {
   "cell_type": "code",
   "execution_count": 124,
   "metadata": {},
   "outputs": [
    {
     "data": {
      "image/png": "[encoded data removed]",
      "text/plain": [
       "<matplotlib.figure.Figure at 0x7f5ad8bb1b38>"
      ]
     },
     "metadata": {},
     "output_type": "display_data"
    }
   ],
   "source": [
    "plot( (u[:,0]*0.8839296+828.08688468)[:20] );\n",
    "plot(v[:20,0]);"
   ]
  },
  {
   "cell_type": "markdown",
   "metadata": {},
   "source": [
    "# Test new code"
   ]
  },
  {
   "cell_type": "code",
   "execution_count": 225,
   "metadata": {},
   "outputs": [],
   "source": [
    "a,b,r = new_CCA.cca(X,Y)\n",
    "u = np.dot( X,a )\n",
    "v = np.dot( Y,b )"
   ]
  },
  {
   "cell_type": "code",
   "execution_count": 226,
   "metadata": {},
   "outputs": [
    {
     "data": {
      "text/plain": [
       "array([[ 104.89203809],\n",
       "       [ 386.36789791],\n",
       "       [ 746.19146395],\n",
       "       [-416.67535132],\n",
       "       [-810.90425694],\n",
       "       [ 524.18903327],\n",
       "       [ 319.85110123],\n",
       "       [ 342.95007305],\n",
       "       [-429.89034695],\n",
       "       [ -36.03504837]])"
      ]
     },
     "execution_count": 226,
     "metadata": {},
     "output_type": "execute_result"
    }
   ],
   "source": [
    "r[:,np.newaxis]"
   ]
  },
  {
   "cell_type": "code",
   "execution_count": 227,
   "metadata": {},
   "outputs": [
    {
     "data": {
      "text/plain": [
       "[<matplotlib.lines.Line2D at 0x7fa14e7fa2b0>]"
      ]
     },
     "execution_count": 227,
     "metadata": {},
     "output_type": "execute_result"
    },
    {
     "data": {
      "image/png": "[encoded data removed]",
      "text/plain": [
       "<matplotlib.figure.Figure at 0x7fa14e7f6b38>"
      ]
     },
     "metadata": {},
     "output_type": "display_data"
    }
   ],
   "source": [
    "plot( (u+r)[:20,1] )\n",
    "plot( v[:20,1] )"
   ]
  },
  {
   "cell_type": "code",
   "execution_count": 7,
   "metadata": {},
   "outputs": [],
   "source": [
    "import pandas as pd"
   ]
  },
  {
   "cell_type": "code",
   "execution_count": 126,
   "metadata": {},
   "outputs": [],
   "source": [
    "target_file = \"./test_files/\"\n",
    "pd.DataFrame(Y).to_csv(\"{}test_Y.csv\".format(target_file),index=False,header=False)\n",
    "pd.DataFrame(X).to_csv(\"{}test_X.csv\".format(target_file),index=False,header=False)\n",
    "\n",
    "pd.DataFrame(xx_cov).to_csv(\"{}xx_cov.csv\".format(target_file),index=False,header=False)\n",
    "pd.DataFrame(xy_cov).to_csv(\"{}xy_cov.csv\".format(target_file),index=False,header=False)\n",
    "pd.DataFrame(yy_cov).to_csv(\"{}yy_cov.csv\".format(target_file),index=False,header=False)\n",
    "\n",
    "pd.DataFrame(xx_cov_sqrt_inv).to_csv(\"{}xx_cov_sqrt_inv.csv\".format(target_file),index=False,header=False)\n",
    "pd.DataFrame(yy_cov_sqrt_inv).to_csv(\"{}yy_cov_sqrt_inv.csv\".format(target_file),index=False,header=False)\n",
    "\n",
    "pd.DataFrame(u).to_csv(\"{}test_U.csv\".format(target_file),index=False,header=False)\n",
    "pd.DataFrame(v).to_csv(\"{}test_V.csv\".format(target_file),index=False,header=False)\n",
    "\n",
    "pd.DataFrame(a).to_csv(\"{}test_a.csv\".format(target_file),index=False,header=False)\n",
    "pd.DataFrame(b).to_csv(\"{}test_b.csv\".format(target_file),index=False,header=False)\n",
    "pd.DataFrame(x_sum).to_csv(\"{}x_sum.csv\".format(target_file),index=False,header=False)\n",
    "pd.DataFrame(xx_sum).to_csv(\"{}xx_sum.csv\".format(target_file),index=False,header=False)\n",
    "pd.DataFrame(xy_sum).to_csv(\"{}xy_sum.csv\".format(target_file),index=False,header=False)\n",
    "pd.DataFrame(yy_sum).to_csv(\"{}yy_sum.csv\".format(target_file),index=False,header=False)\n",
    "pd.DataFrame(y_sum).to_csv(\"{}y_sum.csv\".format(target_file),index=False,header=False)"
   ]
  },
  {
   "cell_type": "code",
   "execution_count": 58,
   "metadata": {},
   "outputs": [
    {
     "data": {
      "text/plain": [
       "array([[ -212855.39576137],\n",
       "       [ -663243.578226  ],\n",
       "       [ 1201742.63940914],\n",
       "       [ -288892.16590873],\n",
       "       [-1052210.49679325],\n",
       "       [  538484.23786883],\n",
       "       [  930039.45350729],\n",
       "       [ -439686.48307657],\n",
       "       [ -914135.15990369],\n",
       "       [  365887.76707702]])"
      ]
     },
     "execution_count": 58,
     "metadata": {},
     "output_type": "execute_result"
    }
   ],
   "source": [
    "x_sum"
   ]
  },
  {
   "cell_type": "code",
   "execution_count": 59,
   "metadata": {},
   "outputs": [
    {
     "data": {
      "text/plain": [
       "538.3001599290676"
      ]
     },
     "execution_count": 59,
     "metadata": {},
     "output_type": "execute_result"
    }
   ],
   "source": [
    "X[1,5]"
   ]
  },
  {
   "cell_type": "code",
   "execution_count": 60,
   "metadata": {},
   "outputs": [
    {
     "data": {
      "text/plain": [
       "array([[ -212855.39576137],\n",
       "       [ -663243.578226  ],\n",
       "       [ 1201742.63940914],\n",
       "       [ -288892.16590873],\n",
       "       [-1052210.49679325],\n",
       "       [  538484.23786883],\n",
       "       [  930039.45350729],\n",
       "       [ -439686.48307657],\n",
       "       [ -914135.15990369],\n",
       "       [  365887.76707702]])"
      ]
     },
     "execution_count": 60,
     "metadata": {},
     "output_type": "execute_result"
    }
   ],
   "source": [
    "x_sum"
   ]
  },
  {
   "cell_type": "code",
   "execution_count": 94,
   "metadata": {},
   "outputs": [],
   "source": [
    "eigenvals,eigenvecs = np.linalg.eig( xx_sum )\n",
    "\n",
    "E = np.diag( eigenvals )\n",
    "V = eigenvecs\n",
    "\n",
    "# E,V\n",
    "# E - matrix with eigenvalues on diagonal\n",
    "# V - matrix with eigenvectors\n",
    "\n",
    "# sqrtMatrix = V * sqrt(E) * V^T\n",
    "\n",
    "res = V @ sqrt(E) @ V.T"
   ]
  },
  {
   "cell_type": "code",
   "execution_count": 77,
   "metadata": {},
   "outputs": [
    {
     "data": {
      "text/plain": [
       "array([[ 2.02185443,  0.        ,  0.        ,  0.        ,  0.        ,\n",
       "         0.        ,  0.        ,  0.        ,  0.        ,  0.        ],\n",
       "       [ 0.        ,  1.2398957 ,  0.        ,  0.        ,  0.        ,\n",
       "         0.        ,  0.        ,  0.        ,  0.        ,  0.        ],\n",
       "       [ 0.        ,  0.        ,  1.79356907,  0.        ,  0.        ,\n",
       "         0.        ,  0.        ,  0.        ,  0.        ,  0.        ],\n",
       "       [ 0.        ,  0.        ,  0.        ,  1.73095073,  0.        ,\n",
       "         0.        ,  0.        ,  0.        ,  0.        ,  0.        ],\n",
       "       [ 0.        ,  0.        ,  0.        ,  0.        ,  1.65738104,\n",
       "         0.        ,  0.        ,  0.        ,  0.        ,  0.        ],\n",
       "       [ 0.        ,  0.        ,  0.        ,  0.        ,  0.        ,\n",
       "         1.62523047,  0.        ,  0.        ,  0.        ,  0.        ],\n",
       "       [ 0.        ,  0.        ,  0.        ,  0.        ,  0.        ,\n",
       "         0.        ,  1.33462598,  0.        ,  0.        ,  0.        ],\n",
       "       [ 0.        ,  0.        ,  0.        ,  0.        ,  0.        ,\n",
       "         0.        ,  0.        ,  1.40026722,  0.        ,  0.        ],\n",
       "       [ 0.        ,  0.        ,  0.        ,  0.        ,  0.        ,\n",
       "         0.        ,  0.        ,  0.        ,  1.49187148,  0.        ],\n",
       "       [ 0.        ,  0.        ,  0.        ,  0.        ,  0.        ,\n",
       "         0.        ,  0.        ,  0.        ,  0.        ,  1.48588362]])"
      ]
     },
     "execution_count": 77,
     "metadata": {},
     "output_type": "execute_result"
    }
   ],
   "source": [
    "sqrt(E)"
   ]
  },
  {
   "cell_type": "code",
   "execution_count": 68,
   "metadata": {},
   "outputs": [
    {
     "data": {
      "text/plain": [
       "array([ 4.08789534,  1.53734134,  3.21689003,  2.99619044,  2.7469119 ,\n",
       "        2.64137408,  1.7812265 ,  1.96074828,  2.22568051,  2.20785013])"
      ]
     },
     "execution_count": 68,
     "metadata": {},
     "output_type": "execute_result"
    }
   ],
   "source": [
    "eigenvals"
   ]
  },
  {
   "cell_type": "code",
   "execution_count": 62,
   "metadata": {},
   "outputs": [
    {
     "data": {
      "text/plain": [
       "array([[  6.67997787e-01,  -1.17449730e-02,   1.49002634e-02,\n",
       "         -1.48511383e-02,  -1.71385863e-02,  -1.36851930e-02,\n",
       "          1.78444156e-02,   5.43476619e-03,   1.84246380e-02,\n",
       "          5.05149442e-03],\n",
       "       [ -1.17449730e-02,   6.33873451e-01,   1.97614561e-02,\n",
       "         -2.66482759e-02,   3.04971526e-02,  -2.16666129e-03,\n",
       "          2.81286975e-03,   1.80311311e-02,   8.57148871e-03,\n",
       "         -4.81365669e-04],\n",
       "       [  1.49002634e-02,   1.97614561e-02,   7.83189532e-01,\n",
       "         -1.51906075e-02,  -7.35931376e-03,   6.12518646e-03,\n",
       "         -1.77802967e-02,  -3.18482370e-02,   1.79145655e-02,\n",
       "          1.19312645e-03],\n",
       "       [ -1.48511383e-02,  -2.66482759e-02,  -1.51906075e-02,\n",
       "          5.73082941e-01,  -2.25690411e-02,   1.63994523e-02,\n",
       "          2.96270727e-02,   1.78104932e-04,  -9.89009937e-03,\n",
       "          2.19416829e-02],\n",
       "       [ -1.71385863e-02,   3.04971526e-02,  -7.35931376e-03,\n",
       "         -2.25690411e-02,   6.42555329e-01,  -7.67722227e-04,\n",
       "         -1.62609747e-02,   1.36746361e-03,   1.47181842e-02,\n",
       "          5.66537593e-03],\n",
       "       [ -1.36851930e-02,  -2.16666129e-03,   6.12518646e-03,\n",
       "          1.63994523e-02,  -7.67722227e-04,   5.90450070e-01,\n",
       "          1.82782191e-03,   2.64724888e-02,  -1.14361986e-02,\n",
       "          8.24002708e-04],\n",
       "       [  1.78444156e-02,   2.81286975e-03,  -1.77802967e-02,\n",
       "          2.96270727e-02,  -1.62609747e-02,   1.82782191e-03,\n",
       "          6.91561412e-01,  -5.40710694e-03,   2.31672510e-03,\n",
       "         -9.64431840e-03],\n",
       "       [  5.43476619e-03,   1.80311311e-02,  -3.18482370e-02,\n",
       "          1.78104932e-04,   1.36746361e-03,   2.64724888e-02,\n",
       "         -5.40710694e-03,   7.45423914e-01,   1.77443753e-02,\n",
       "          1.16227117e-02],\n",
       "       [  1.84246380e-02,   8.57148871e-03,   1.79145655e-02,\n",
       "         -9.89009937e-03,   1.47181842e-02,  -1.14361986e-02,\n",
       "          2.31672510e-03,   1.77443753e-02,   6.27788572e-01,\n",
       "         -4.98081686e-03],\n",
       "       [  5.05149442e-03,  -4.81365669e-04,   1.19312645e-03,\n",
       "          2.19416829e-02,   5.66537593e-03,   8.24002708e-04,\n",
       "         -9.64431840e-03,   1.16227117e-02,  -4.98081686e-03,\n",
       "          5.05837759e-01]])"
      ]
     },
     "execution_count": 62,
     "metadata": {},
     "output_type": "execute_result"
    }
   ],
   "source": [
    "xx_cov_sqrt_inv"
   ]
  },
  {
   "cell_type": "code",
   "execution_count": 128,
   "metadata": {},
   "outputs": [
    {
     "data": {
      "text/plain": [
       "array([[  1.50336399e+00,   2.98473689e-02,  -2.88784064e-02,\n",
       "          4.22510109e-02,   4.00152309e-02,   3.40430208e-02,\n",
       "         -4.08268096e-02,  -1.31991550e-02,  -4.29775342e-02,\n",
       "         -1.81513197e-02],\n",
       "       [  2.98473689e-02,   1.58736773e+00,  -4.15164791e-02,\n",
       "          7.08728658e-02,  -7.23746184e-02,   6.39381672e-03,\n",
       "         -1.33117894e-02,  -4.01782399e-02,  -1.72534721e-02,\n",
       "         -4.64147929e-04],\n",
       "       [ -2.88784064e-02,  -4.15164791e-02,   1.28331216e+00,\n",
       "          3.04003753e-02,   1.85724478e-02,  -1.83682116e-02,\n",
       "          3.35943846e-02,   5.78699860e-02,  -3.72992611e-02,\n",
       "         -5.33129641e-03],\n",
       "       [  4.22510109e-02,   7.08728658e-02,   3.04003753e-02,\n",
       "          1.76109138e+00,   5.81814006e-02,  -4.71677010e-02,\n",
       "         -7.57168517e-02,   5.75105518e-04,   2.20848766e-02,\n",
       "         -7.86310799e-02],\n",
       "       [  4.00152309e-02,  -7.23746184e-02,   1.85724478e-02,\n",
       "          5.81814006e-02,   1.56492267e+00,   6.27059400e-05,\n",
       "          3.38898283e-02,   8.03719542e-04,  -3.67961196e-02,\n",
       "         -2.02978743e-02],\n",
       "       [  3.40430208e-02,   6.39381672e-03,  -1.83682116e-02,\n",
       "         -4.71677010e-02,   6.27059400e-05,   1.69935203e+00,\n",
       "         -4.42950496e-03,  -6.23165421e-02,   3.14325085e-02,\n",
       "          6.43418279e-04],\n",
       "       [ -4.08268096e-02,  -1.33117894e-02,   3.35943846e-02,\n",
       "         -7.57168517e-02,   3.38898283e-02,  -4.42950496e-03,\n",
       "          1.45257391e+00,   1.23975500e-02,  -7.11506644e-03,\n",
       "          3.05677180e-02],\n",
       "       [ -1.31991550e-02,  -4.01782399e-02,   5.78699860e-02,\n",
       "          5.75105518e-04,   8.03719542e-04,  -6.23165421e-02,\n",
       "          1.23975500e-02,   1.34880463e+00,  -4.02769374e-02,\n",
       "         -3.11272689e-02],\n",
       "       [ -4.29775342e-02,  -1.72534721e-02,  -3.72992611e-02,\n",
       "          2.20848766e-02,  -3.67961196e-02,   3.14325085e-02,\n",
       "         -7.11506644e-03,  -4.02769374e-02,   1.59853248e+00,\n",
       "          1.64337022e-02],\n",
       "       [ -1.81513197e-02,  -4.64147929e-04,  -5.33129641e-03,\n",
       "         -7.86310799e-02,  -2.02978743e-02,   6.43418279e-04,\n",
       "          3.05677180e-02,  -3.11272689e-02,   1.64337022e-02,\n",
       "          1.98220875e+00]])"
      ]
     },
     "execution_count": 128,
     "metadata": {},
     "output_type": "execute_result"
    }
   ],
   "source": [
    "sqrtm(xx_cov)"
   ]
  },
  {
   "cell_type": "code",
   "execution_count": null,
   "metadata": {},
   "outputs": [],
   "source": []
  },
  {
   "cell_type": "code",
   "execution_count": 199,
   "metadata": {},
   "outputs": [],
   "source": [
    "v_mat = yy_cov_sqrt_inv @ xy_cov.T @ np.linalg.inv(xx_cov) @ xy_cov @ yy_cov_sqrt_inv\n",
    "v_eigvals,v_eigvecs = np.linalg.eig(v_mat)"
   ]
  },
  {
   "cell_type": "code",
   "execution_count": 208,
   "metadata": {},
   "outputs": [
    {
     "data": {
      "text/plain": [
       "array([[ 0.2844987 , -0.07001492, -0.07887122,  0.51099811,  0.2823189 ,\n",
       "         0.33677274, -0.27750716, -0.02070831,  0.08492399, -0.60749295],\n",
       "       [-0.05662517, -0.09499848, -0.05955275, -0.5265342 ,  0.2675997 ,\n",
       "         0.55596149,  0.47277099,  0.03125079, -0.1836721 , -0.26087708],\n",
       "       [ 0.4931477 ,  0.31832179, -0.1242738 , -0.2654531 , -0.48488354,\n",
       "         0.02122145, -0.21241347, -0.18509903, -0.46804976, -0.18855543],\n",
       "       [-0.16833211, -0.14742565, -0.05672543, -0.29882808, -0.10696044,\n",
       "        -0.50124127, -0.07057298,  0.46509529,  0.08678257, -0.60490102],\n",
       "       [-0.13018296,  0.46614879,  0.28866862,  0.36748688, -0.05811112,\n",
       "        -0.22284771,  0.60601899, -0.1346    , -0.16075032, -0.28831697],\n",
       "       [ 0.47048122, -0.66474253,  0.01483726,  0.09550123,  0.0760754 ,\n",
       "        -0.34586098,  0.34809087, -0.19219136, -0.2061333 ,  0.03769833],\n",
       "       [-0.46671665, -0.18030413,  0.10763471,  0.13286177,  0.18910358,\n",
       "        -0.03298706, -0.29766942, -0.02281721, -0.77100611, -0.00143887],\n",
       "       [ 0.3043486 ,  0.37772875,  0.13137901, -0.25913053,  0.73309375,\n",
       "        -0.33046844, -0.15507518, -0.01093147, -0.04490252,  0.08639425],\n",
       "       [-0.27993053, -0.09185595,  0.03522021, -0.23666608,  0.01395703,\n",
       "        -0.13489481, -0.15263488, -0.82774845,  0.24817168, -0.25981644],\n",
       "       [-0.13118668,  0.14215022, -0.92624791,  0.13000109,  0.13995742,\n",
       "        -0.16739991,  0.15810841, -0.08459885, -0.07786681,  0.04380192]])"
      ]
     },
     "execution_count": 208,
     "metadata": {},
     "output_type": "execute_result"
    }
   ],
   "source": [
    "v_eigvecs.T[sorted([i for i in range(len(v_eigvals))], key=lambda x: -v_eigvals[x])]"
   ]
  },
  {
   "cell_type": "code",
   "execution_count": null,
   "metadata": {},
   "outputs": [],
   "source": []
  }
 ],
 "metadata": {
  "kernelspec": {
   "display_name": "Python 3",
   "language": "python",
   "name": "python3"
  },
  "language_info": {
   "codemirror_mode": {
    "name": "ipython",
    "version": 3
   },
   "file_extension": ".py",
   "mimetype": "text/x-python",
   "name": "python",
   "nbconvert_exporter": "python",
   "pygments_lexer": "ipython3",
   "version": "3.5.2"
  }
 },
 "nbformat": 4,
 "nbformat_minor": 2
}
