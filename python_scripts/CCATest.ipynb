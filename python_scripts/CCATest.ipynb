{
 "cells": [
  {
   "cell_type": "code",
   "execution_count": 1,
   "metadata": {},
   "outputs": [
    {
     "name": "stdout",
     "output_type": "stream",
     "text": [
      "Populating the interactive namespace from numpy and matplotlib\n"
     ]
    }
   ],
   "source": [
    "%pylab inline\n",
    "%load_ext autoreload\n",
    "%autoreload 1\n",
    "%aimport new_CCA\n",
    "%aimport sample_gen\n",
    "from scipy.stats import multivariate_normal\n",
    "from collections import defaultdict\n",
    "%aimport cca_compare"
   ]
  },
  {
   "cell_type": "markdown",
   "metadata": {},
   "source": [
    "# Creating test distribution"
   ]
  },
  {
   "cell_type": "code",
   "execution_count": 631,
   "metadata": {},
   "outputs": [],
   "source": [
    "n_bands = 10\n",
    "n_samples = 1000\n",
    "d1 = sample_gen.create_distribution(n_bands,mean_std_scale=0.3,std=1)\n",
    "d2 = sample_gen.create_distribution(n_bands,mean_std_scale=1,std=2,std_scale=0.1)\n",
    "X = d1.rvs(n_samples)\n",
    "Y = X+d2.rvs(n_samples)"
   ]
  },
  {
   "cell_type": "markdown",
   "metadata": {},
   "source": [
    "# Code for testing CCA algorithms"
   ]
  },
  {
   "cell_type": "code",
   "execution_count": 632,
   "metadata": {},
   "outputs": [
    {
     "name": "stderr",
     "output_type": "stream",
     "text": [
      "<ipython-input-632-f41b1bc6de61>:94: SyntaxWarning: name 'nastyCorr' is used prior to global declaration\n",
      "  global nastyCorr\n"
     ]
    }
   ],
   "source": [
    "# Generate samples\n",
    "def gen_samples(sample_size,n_bands=3):\n",
    "    X = np.random.normal(0,1,size=(sample_size,n_bands))\n",
    "    Y = X+np.random.normal(0,0.5,size=(sample_size,n_bands))\n",
    "    return X,Y\n",
    "\n",
    "# Print info about cca\n",
    "def cca_info(X,Y, A, B):\n",
    "    \n",
    "    prev_u = None\n",
    "    prev_v = None\n",
    "    \n",
    "    for i,(a,b) in enumerate( zip(A.T,B.T) ):\n",
    "        print('{} cannonical variates pair'.format(i+1))\n",
    "                \n",
    "        u = np.dot( X,a )\n",
    "        v = np.dot( Y,b )\n",
    "\n",
    "        if prev_u is not None and prev_v is not None:\n",
    "            print('prev corrcoef:\\n{: <10.4f}{: <10.4f}\\n{: <10.4f}{: <10.4f}'.format( \n",
    "                np.corrcoef(u,prev_u)[0,1], np.corrcoef(u,prev_v)[0,1],\n",
    "                np.corrcoef(v,prev_u)[0,1], np.corrcoef(v,prev_v)[0,1]\n",
    "            ))\n",
    "        prev_u = u\n",
    "        prev_v = v\n",
    "\n",
    "        print('corrcoef: {:.4f}'.format(np.corrcoef(u,v)[0,1]))\n",
    "\n",
    "        # Fit u more tightly to v\n",
    "        reg = LinearRegression()\n",
    "        reg.fit(u[:,np.newaxis],v)\n",
    "        new_u = reg.predict(u[:,np.newaxis])\n",
    "\n",
    "        plot(new_u[:10],'C0-',label='u')\n",
    "        plot(u[:10],'C0--')\n",
    "        plot(v[:10],'C1',label='v')\n",
    "        legend()\n",
    "        show()\n",
    "        \n",
    "def random_subsample(sample_size,*args):\n",
    "    ret = []\n",
    "    ids = np.array([i for i in range(len(args[0]))])\n",
    "    np.random.shuffle(ids)\n",
    "    \n",
    "    for arg in args:\n",
    "        ret.append(np.array(arg)[ids][:sample_size])\n",
    "        \n",
    "    return ret\n",
    "\n",
    "nastyCorr = None\n",
    "nastyX = None\n",
    "nastyY = None\n",
    "\n",
    "# Compare CCA\n",
    "def cca_compare(X,Y, funcs_dict, x_samples = 20, n_probas = 10,train_eval=False):\n",
    "    \n",
    "    func_labels = list(funcs_dict.keys())\n",
    "    funcs = [funcs_dict[i] for i in func_labels]\n",
    "    \n",
    "    sample_sizes = []\n",
    "    \n",
    "    correlations_mean = defaultdict(list)\n",
    "    correlations_max = defaultdict(list)\n",
    "    correlations_min = defaultdict(list)\n",
    "    \n",
    "    for sample_size in np.linspace(int(X.shape[0]*0.2),X.shape[0],x_samples).astype(np.int):\n",
    "        sample_sizes.append(sample_size)\n",
    "        \n",
    "        for func in funcs:\n",
    "\n",
    "            corr_pack_mean = []\n",
    "            corr_pack_max = []\n",
    "            corr_pack_min = []\n",
    "            \n",
    "            for n_proba in range(n_probas):\n",
    "                corr_pack = []\n",
    "            \n",
    "                Xs,Ys = random_subsample(sample_size,X,Y)\n",
    "                A,B = func(Xs,Ys)\n",
    "            \n",
    "                for i,(a,b) in enumerate( zip(A.T,B.T) ):\n",
    "                    if train_eval:\n",
    "                        u = np.dot( Xs,a )\n",
    "                        v = np.dot( Ys,b )\n",
    "                    else:\n",
    "                        u = np.dot( X,a )\n",
    "                        v = np.dot( Y,b )\n",
    "                    corr_pack.append( np.abs( np.corrcoef(u,v)[0,1] ) )\n",
    "\n",
    "                global nastyCorr\n",
    "                if np.array(corr_pack).max() > 0 and (nastyCorr is None or nastyCorr > np.array(corr_pack).max() ):\n",
    "                    global nastyX\n",
    "                    global nastyY\n",
    "                    global nastyCorr\n",
    "                    nastyX = Xs\n",
    "                    nastyY = Ys\n",
    "                    nastyCorr = np.array(corr_pack).max()\n",
    "                    print(\"nastyCorr: {}\".format(nastyCorr))\n",
    "                    \n",
    "                corr_pack_mean.append(corr_pack)\n",
    "\n",
    "            correlations_min[func].append( np.percentile(corr_pack_mean,1,axis=0) )\n",
    "            correlations_mean[func].append( np.percentile(corr_pack_mean,50,axis=0) )\n",
    "            correlations_max[func].append( np.percentile(corr_pack_mean,99,axis=0) )\n",
    "    \n",
    "    corr_by_func_min = defaultdict(lambda: defaultdict(list))\n",
    "    corr_by_func_mean = defaultdict(lambda: defaultdict(list))\n",
    "    corr_by_func_max = defaultdict(lambda: defaultdict(list))\n",
    "    \n",
    "    for func_id,func in enumerate(funcs):\n",
    "        for component_id, component_corr in enumerate( np.array( correlations_min[func] ).T ):\n",
    "            corr_by_func_min[component_id][func_id] = component_corr\n",
    "        for component_id, component_corr in enumerate( np.array( correlations_mean[func] ).T ):\n",
    "            corr_by_func_mean[component_id][func_id] = component_corr\n",
    "        for component_id, component_corr in enumerate( np.array( correlations_max[func] ).T ):\n",
    "            corr_by_func_max[component_id][func_id] = component_corr\n",
    "        \n",
    "    for component_id in corr_by_func_mean.keys():\n",
    "        for func_i,(func,label) in enumerate( zip(funcs,func_labels) ):\n",
    "            \n",
    "            if func_i not in corr_by_func_mean[component_id]:\n",
    "                continue\n",
    "                \n",
    "            color = 'C{}'.format(func_i)\n",
    "            \n",
    "            min_x  = corr_by_func_min[component_id][func_i]\n",
    "            mean_x = corr_by_func_mean[component_id][func_i]\n",
    "            max_x  = corr_by_func_max[component_id][func_i]\n",
    "            \n",
    "            plot(sample_sizes, mean_x,color,label=label)\n",
    "            fill_between(sample_sizes,min_x,max_x,facecolor=color,alpha=0.1)\n",
    "        \n",
    "        grid(True)\n",
    "        title('Comparison of CCA. Band {}'.format(component_id))\n",
    "        xlabel(\"sub-Sample size\")\n",
    "        ylabel(\"Correlation\")\n",
    "        legend()\n",
    "        show()"
   ]
  },
  {
   "cell_type": "markdown",
   "metadata": {},
   "source": [
    "# CCA from sklearn"
   ]
  },
  {
   "cell_type": "code",
   "execution_count": 633,
   "metadata": {},
   "outputs": [],
   "source": [
    "from sklearn.cross_decomposition import CCA\n",
    "from new_CCA import cca\n",
    "def sklearn_cca(X,Y,n_components=10):\n",
    "    cca_instance = CCA(n_components=n_components)\n",
    "    cca_instance.fit(X,Y)    \n",
    "    return cca_instance.x_rotations_, cca_instance.y_rotations_"
   ]
  },
  {
   "cell_type": "markdown",
   "metadata": {},
   "source": [
    "## CCA test fitness"
   ]
  },
  {
   "cell_type": "code",
   "execution_count": 634,
   "metadata": {},
   "outputs": [],
   "source": [
    "a, b, r = new_CCA.cca(X,Y)\n",
    "u = np.dot( X,a )\n",
    "v = np.dot( Y,b )"
   ]
  },
  {
   "cell_type": "code",
   "execution_count": 635,
   "metadata": {},
   "outputs": [
    {
     "data": {
      "image/png": "[encoded data removed]",
      "text/plain": [
       "<matplotlib.figure.Figure at 0x7fd1e9f68828>"
      ]
     },
     "metadata": {},
     "output_type": "display_data"
    }
   ],
   "source": [
    "plot(u[:20,0]-u[:20,0].mean())\n",
    "plot(v[:20,0]-v[:20,0].mean());"
   ]
  },
  {
   "cell_type": "code",
   "execution_count": 636,
   "metadata": {},
   "outputs": [],
   "source": [
    "from scipy.linalg import sqrtm\n",
    "\n",
    "# Correlation function\n",
    "def calc_covariance(xy_sum,x_sum,y_sum,n):\n",
    "    \"\"\"\n",
    "    calculate covariance matrix of 2 variables\n",
    "    \"\"\"\n",
    "    return ( xy_sum - np.matmul(x_sum,y_sum.T)/n )/(n-1)\n",
    "\n",
    "def calc_linear_regression(n,a,b,x_sum, y_sum, xy_sum, xx_sum ):\n",
    "    m1 = np.array([[n,(a @ x_sum)[0]],\n",
    "                  [(a @ x_sum)[0],((a[:,np.newaxis] @ a[:,np.newaxis].T) * xx_sum).sum()]])\n",
    "    m2 = np.array([\n",
    "        (b @ y_sum)[0],\n",
    "        ( ( a[:,np.newaxis] @ b[np.newaxis,:] ) * ( xy_sum ) ).sum()\n",
    "    ])\n",
    "    return np.linalg.inv(m1) @ m2"
   ]
  },
  {
   "cell_type": "code",
   "execution_count": 1018,
   "metadata": {},
   "outputs": [
    {
     "name": "stdout",
     "output_type": "stream",
     "text": [
      "first pair corr: 0.90\n"
     ]
    }
   ],
   "source": [
    "x = X\n",
    "y = Y\n",
    "\n",
    "x_sum = np.sum(x,axis=0)[:,np.newaxis]\n",
    "y_sum = np.sum(y,axis=0)[:,np.newaxis]\n",
    "\n",
    "xy_sum = np.transpose(x) @ y\n",
    "xx_sum = np.transpose(x) @ x\n",
    "yy_sum = np.transpose(y) @ y\n",
    "n = np.shape(x)[0]\n",
    "\n",
    "xy_cov = calc_covariance(xy_sum,x_sum,y_sum,n)\n",
    "xx_cov = calc_covariance(xx_sum,x_sum,x_sum,n)\n",
    "yy_cov = calc_covariance(yy_sum,y_sum,y_sum,n)\n",
    "\n",
    "\n",
    "xx_cov_sqrt_inv = np.linalg.inv( sqrtm(xx_cov) )\n",
    "yy_cov_sqrt_inv = np.linalg.inv( sqrtm(yy_cov) )\n",
    "\n",
    "u_mat = xx_cov_sqrt_inv @ xy_cov @ np.linalg.inv(yy_cov) @ xy_cov.T @ xx_cov_sqrt_inv\n",
    "u_eigvals,u_eigvecs = np.linalg.eig(u_mat)\n",
    "\n",
    "v_mat = yy_cov_sqrt_inv @ xy_cov.T @ np.linalg.inv(xx_cov) @ xy_cov @ yy_cov_sqrt_inv\n",
    "v_eigvals,v_eigvecs = np.linalg.eig(v_mat)\n",
    "\n",
    "# Sort eigenvectors by their eigenvalues\n",
    "# The hypothisis here is that correlation is bigger if eigenvalue of eigenvector is bigger\n",
    "u = u_eigvecs.T[sorted([i for i in range(len(u_eigvals))], key=lambda x: -u_eigvals[x])]\n",
    "v = v_eigvecs.T[sorted([i for i in range(len(v_eigvals))], key=lambda x: -v_eigvals[x])]\n",
    "\n",
    "a = (u @ xx_cov_sqrt_inv).T\n",
    "b = (v @ yy_cov_sqrt_inv).T\n",
    "\n",
    "regressions = np.array( [ calc_linear_regression(n,a[:,i],b[:,i],x_sum, y_sum, xy_sum, xx_sum ) for i in range(a.shape[1]) ] )\n",
    "a = a*regressions[:,1]\n",
    "\n",
    "u = np.dot( X,a )\n",
    "v = np.dot( Y,b )\n",
    "\n",
    "# apply intercept\n",
    "# u = ( u.T + regressions[:,0,np.newaxis] ).T\n",
    "\n",
    "u_var  = np.diagonal( a.T @ xx_cov @ a )\n",
    "v_var  = np.diagonal( b.T @ yy_cov @ b )\n",
    "uv_cov = np.diagonal( a.T @ xy_cov @ b )\n",
    "\n",
    "m_var = (u_var + v_var - 2*uv_cov)\n",
    "\n",
    "u_mean = np.ravel( a.T @ x_sum/n )\n",
    "v_mean = np.ravel( b.T @ y_sum/n )\n",
    "m_mean = u_mean-v_mean\n",
    "\n",
    "# Weights are probabilities of being unchanged\n",
    "w = (1-stats.chi2.cdf( (m**2).sum(axis=1) , 10, 0 ))[:,np.newaxis]\n",
    "\n",
    "print('first pair corr: {:.2f}'.format(np.corrcoef(u[:,0],v[:,0])[0,1]))"
   ]
  },
  {
   "cell_type": "code",
   "execution_count": 1053,
   "metadata": {},
   "outputs": [],
   "source": [
    "xy_sum_w = np.transpose(x) @ (y*w)\n",
    "xx_sum_w = np.transpose(x) @ (x*w)\n",
    "yy_sum_w = np.transpose(x) @ (x*w)\n",
    "x_sum_w = np.sum(x*w,axis=0)[:,np.newaxis]\n",
    "y_sum_w = np.sum(y*w,axis=0)[:,np.newaxis]"
   ]
  },
  {
   "cell_type": "markdown",
   "metadata": {},
   "source": [
    "# Possible objectives:\n",
    "## 1. calculate std of M\n",
    "## 2. calcualte mean of M"
   ]
  },
  {
   "cell_type": "markdown",
   "metadata": {},
   "source": [
    "# 1. $Var[U-V]$"
   ]
  },
  {
   "cell_type": "code",
   "execution_count": 638,
   "metadata": {},
   "outputs": [],
   "source": [
    "u_var  = np.diagonal( a.T @ xx_cov @ a )\n",
    "v_var  = np.diagonal( b.T @ yy_cov @ b )\n",
    "uv_cov = np.diagonal( a.T @ xy_cov @ b )"
   ]
  },
  {
   "cell_type": "code",
   "execution_count": 648,
   "metadata": {},
   "outputs": [],
   "source": [
    "# calculation\n",
    "m_var = (u_var + v_var - 2*uv_cov)"
   ]
  },
  {
   "cell_type": "code",
   "execution_count": 640,
   "metadata": {},
   "outputs": [
    {
     "data": {
      "text/plain": [
       "array([ 0.19409982,  0.20756203,  0.23345295,  0.29247061,  0.32778984,\n",
       "        0.40334064,  0.45798809,  0.47371382,  0.61208765,  0.74684209])"
      ]
     },
     "execution_count": 640,
     "metadata": {},
     "output_type": "execute_result"
    }
   ],
   "source": [
    "# check\n",
    "np.ravel( [ np.var(u[:,i]-v[:,i]) for i in range(u.shape[1])] )"
   ]
  },
  {
   "cell_type": "markdown",
   "metadata": {},
   "source": [
    "# 2. $M[U-V]$"
   ]
  },
  {
   "cell_type": "code",
   "execution_count": 641,
   "metadata": {},
   "outputs": [],
   "source": [
    "u_mean = np.ravel( a.T @ x_sum/n )\n",
    "v_mean = np.ravel( b.T @ y_sum/n )\n",
    "m_mean = u_mean-v_mean"
   ]
  },
  {
   "cell_type": "code",
   "execution_count": 642,
   "metadata": {},
   "outputs": [
    {
     "name": "stdout",
     "output_type": "stream",
     "text": [
      "1.13686837722e-12\n",
      "9.66338120634e-13\n",
      "[ -4.66690449e+02   2.47728071e+02  -1.17724125e+03   8.74246820e-01\n",
      "   1.33826572e+02  -1.65424225e+02  -3.04640054e+02   3.18570740e+02\n",
      "   6.81964663e+01  -8.30801556e+01]\n",
      "[ -4.66690449e+02   2.47728071e+02  -1.17724125e+03   8.74246820e-01\n",
      "   1.33826572e+02  -1.65424225e+02  -3.04640054e+02   3.18570740e+02\n",
      "   6.81964663e+01  -8.30801556e+01]\n"
     ]
    }
   ],
   "source": [
    "# Check\n",
    "print( np.abs( u.mean(axis=0) - u_mean ).max() )\n",
    "print( np.abs( v.mean(axis=0) - v_mean ).max() )\n",
    "print( (u-v).mean(axis=0) )\n",
    "print( u_mean-v_mean )"
   ]
  },
  {
   "cell_type": "markdown",
   "metadata": {},
   "source": [
    "# Normalization of $U - V$\n",
    "## Seems pretty natural"
   ]
  },
  {
   "cell_type": "code",
   "execution_count": 643,
   "metadata": {},
   "outputs": [],
   "source": [
    "m = ( (u-v)-m_mean )/np.sqrt(m_var)"
   ]
  },
  {
   "cell_type": "code",
   "execution_count": 644,
   "metadata": {},
   "outputs": [],
   "source": [
    "from scipy import stats"
   ]
  },
  {
   "cell_type": "code",
   "execution_count": 645,
   "metadata": {},
   "outputs": [
    {
     "data": {
      "image/png": "[encoded data removed]",
      "text/plain": [
       "<matplotlib.figure.Figure at 0x7fd1e91bda20>"
      ]
     },
     "metadata": {},
     "output_type": "display_data"
    }
   ],
   "source": [
    "# X^2 distributed variable\n",
    "hist( (m**2).sum(axis=1), bins = 50, normed=True, label=\"histogram\",alpha=0.2);\n",
    "plot( linspace(0,35,100), [ stats.chi2.pdf(i,10) for i in linspace(0,35,100) ], label=\"expected\" );\n",
    "plot( np.linspace(0,35), stats.gaussian_kde((m**2).sum(axis=1))(np.linspace(0,35)), label=\"density estimation\")\n",
    "axes().legend();"
   ]
  },
  {
   "cell_type": "markdown",
   "metadata": {},
   "source": [
    "# Probabilities"
   ]
  },
  {
   "cell_type": "code",
   "execution_count": 647,
   "metadata": {},
   "outputs": [
    {
     "data": {
      "image/png": "[encoded data removed]",
      "text/plain": [
       "<matplotlib.figure.Figure at 0x7fd1e89f9d68>"
      ]
     },
     "metadata": {},
     "output_type": "display_data"
    }
   ],
   "source": [
    "# Basically, Pearson's chi-squared test\n",
    "# \n",
    "P = 1-stats.chi2.cdf( (m**2).sum(axis=1) , 10, 0 )\n",
    "hist(P,bins=20,normed=True);\n",
    "plot(np.linspace(0,1),[stats.uniform.pdf(i,0,1) for i in np.linspace(0,1)]);"
   ]
  },
  {
   "cell_type": "markdown",
   "metadata": {},
   "source": [
    "# Next steps - calculate Linear Regression on v and u"
   ]
  },
  {
   "cell_type": "markdown",
   "metadata": {},
   "source": [
    "# Regression formula:\n",
    "\n",
    "$$\\beta=(U^TU)^{-1}U^TV$$\n",
    "\n",
    "where $U, V$ - cannonical pair\n",
    "\n",
    "$$\n",
    "U^TU = \n",
    "\\begin{bmatrix}\n",
    "    n && \\sum u_i \\\\\n",
    "    \\sum u_i && \\sum u_i^2\n",
    "\\end{bmatrix}\n",
    "$$\n",
    "\n",
    "$$\n",
    "U^TV = \n",
    "\\begin{bmatrix}\n",
    "    \\sum v_i \\\\\n",
    "    \\sum u_i v_i \\\\\n",
    "\\end{bmatrix}\n",
    "$$"
   ]
  },
  {
   "cell_type": "markdown",
   "metadata": {},
   "source": [
    "# Weighted regression\n",
    "\n",
    "$$\\beta=(U^T W U)^{-1}U^T W V$$\n",
    "\n",
    "$$ W = diagonal[\\{w_1,w_2,...,w_k\\}] $$\n",
    "\n",
    "$$U^T W U = \n",
    "\\begin{bmatrix}\n",
    "    \\sum w_i && \\sum w_i u_i \\\\\n",
    "    \\sum w_i u_i && \\sum w_i u_i^2\n",
    "\\end{bmatrix}\n",
    "$$\n",
    "\n",
    "$$U^T W V = \n",
    "\\begin{bmatrix}\n",
    "    \\sum w_i v_i \\\\\n",
    "    \\sum w_i u_i v_i \\\\\n",
    "\\end{bmatrix}\n",
    "$$"
   ]
  },
  {
   "cell_type": "markdown",
   "metadata": {},
   "source": [
    "# IMPORTANT!!!\n",
    "### Below - formula for $\\sum u_i v_i $ described through xy_sum terms and a,b\n",
    "\n",
    "This is an essential part for calculating linear regression for target variable v and features u without actually calculating them\n",
    "This represents term X^{T} y"
   ]
  },
  {
   "cell_type": "code",
   "execution_count": 1009,
   "metadata": {},
   "outputs": [
    {
     "name": "stdout",
     "output_type": "stream",
     "text": [
      "403103732.874\n",
      "403103732.874\n"
     ]
    }
   ],
   "source": [
    "print( (u[:,0] * v[:,0]).sum() )\n",
    "print( ( ( a[:,0,np.newaxis] @ b[np.newaxis,:,0] ) * ( xy_sum ) ).sum() )"
   ]
  },
  {
   "cell_type": "markdown",
   "metadata": {},
   "source": [
    "### Same as above, but weighted $\\sum w_i u_i v_i$"
   ]
  },
  {
   "cell_type": "code",
   "execution_count": 1030,
   "metadata": {},
   "outputs": [
    {
     "name": "stdout",
     "output_type": "stream",
     "text": [
      "208494212.967\n",
      "208494212.967\n"
     ]
    }
   ],
   "source": [
    "print( (w.T*u[:,0]*v[:,0]).sum() )\n",
    "print( ( ( a[:,0,np.newaxis] @ b[np.newaxis,:,0] ) * ( xy_sum_w ) ).sum() )"
   ]
  },
  {
   "cell_type": "markdown",
   "metadata": {},
   "source": [
    "# Next step - calculate term $u^{T}u$"
   ]
  },
  {
   "cell_type": "markdown",
   "metadata": {},
   "source": [
    "### $\\sum_i u_i$"
   ]
  },
  {
   "cell_type": "code",
   "execution_count": 19,
   "metadata": {},
   "outputs": [
    {
     "name": "stdout",
     "output_type": "stream",
     "text": [
      "Original: 233940.17863294523\n"
     ]
    },
    {
     "data": {
      "text/plain": [
       "array([ 233940.17863295])"
      ]
     },
     "execution_count": 19,
     "metadata": {},
     "output_type": "execute_result"
    }
   ],
   "source": [
    "print(\"Original: {}\".format(u[:,0].sum()) )\n",
    "a[:,0] @ x_sum"
   ]
  },
  {
   "cell_type": "markdown",
   "metadata": {},
   "source": [
    "### $\\sum_i v_i$"
   ]
  },
  {
   "cell_type": "code",
   "execution_count": 20,
   "metadata": {},
   "outputs": [
    {
     "name": "stdout",
     "output_type": "stream",
     "text": [
      "Original: 952418.5591125629\n"
     ]
    },
    {
     "data": {
      "text/plain": [
       "array([ 952418.55911256])"
      ]
     },
     "execution_count": 20,
     "metadata": {},
     "output_type": "execute_result"
    }
   ],
   "source": [
    "print(\"Original: {}\".format(v[:,0].sum()))\n",
    "b[:,0] @ y_sum"
   ]
  },
  {
   "cell_type": "markdown",
   "metadata": {},
   "source": [
    "### $\\sum_i w_i u_i$"
   ]
  },
  {
   "cell_type": "code",
   "execution_count": 1080,
   "metadata": {},
   "outputs": [
    {
     "name": "stdout",
     "output_type": "stream",
     "text": [
      "229180.76465\n",
      "[ 229180.7646501]\n",
      "229180.76465\n"
     ]
    }
   ],
   "source": [
    "print( (w*u[:,0,np.newaxis]).sum() )\n",
    "print( a[:,0] @ x_sum_w )\n",
    "print((w.T*u[:,0]).sum())"
   ]
  },
  {
   "cell_type": "markdown",
   "metadata": {},
   "source": [
    "### $\\sum_i w_i v_i$"
   ]
  },
  {
   "cell_type": "code",
   "execution_count": 1044,
   "metadata": {},
   "outputs": [
    {
     "name": "stdout",
     "output_type": "stream",
     "text": [
      "470559.328313\n",
      "[ 470559.32831252]\n"
     ]
    }
   ],
   "source": [
    "print( (w*v[:,0,np.newaxis]).sum() )\n",
    "print( b[:,0] @ y_sum_w )"
   ]
  },
  {
   "cell_type": "markdown",
   "metadata": {},
   "source": [
    "### $\\sum_i u^2_i$"
   ]
  },
  {
   "cell_type": "code",
   "execution_count": 21,
   "metadata": {},
   "outputs": [
    {
     "name": "stdout",
     "output_type": "stream",
     "text": [
      "Original: 54729006.17881441\n"
     ]
    },
    {
     "data": {
      "text/plain": [
       "54729006.178814434"
      ]
     },
     "execution_count": 21,
     "metadata": {},
     "output_type": "execute_result"
    }
   ],
   "source": [
    "print(\"Original: {}\".format( (u[:,0]**2).sum() ) )\n",
    "((a[:,0,np.newaxis] @ a[:,0,np.newaxis].T) * xx_sum).sum()"
   ]
  },
  {
   "cell_type": "markdown",
   "metadata": {},
   "source": [
    "### $\\sum_i w_i u^2_i$"
   ]
  },
  {
   "cell_type": "code",
   "execution_count": 1055,
   "metadata": {},
   "outputs": [
    {
     "name": "stdout",
     "output_type": "stream",
     "text": [
      "101545038.18370044\n"
     ]
    }
   ],
   "source": [
    "print( repr( (np.ravel(w)*(u[:,0]**2)).sum() ) )"
   ]
  },
  {
   "cell_type": "code",
   "execution_count": 1054,
   "metadata": {},
   "outputs": [
    {
     "data": {
      "text/plain": [
       "101545038.18370043"
      ]
     },
     "execution_count": 1054,
     "metadata": {},
     "output_type": "execute_result"
    }
   ],
   "source": [
    "((a[:,0,np.newaxis] @ a[:,0,np.newaxis].T) * xx_sum_w).sum()"
   ]
  },
  {
   "cell_type": "markdown",
   "metadata": {},
   "source": [
    "# Assemble matrices"
   ]
  },
  {
   "cell_type": "markdown",
   "metadata": {},
   "source": [
    "$$\n",
    "m_1 = U^TU = \n",
    "\\begin{bmatrix}\n",
    "    n && \\sum u_i \\\\\n",
    "    \\sum u_i && \\sum u_i^2\n",
    "\\end{bmatrix}\n",
    "$$\n",
    "\n",
    "$$\n",
    "m_2 = U^TV = \n",
    "\\begin{bmatrix}\n",
    "    \\sum v_i \\\\\n",
    "    \\sum u_i v_i \\\\\n",
    "\\end{bmatrix}\n",
    "$$"
   ]
  },
  {
   "cell_type": "markdown",
   "metadata": {},
   "source": [
    "# Weighted matrices"
   ]
  },
  {
   "cell_type": "markdown",
   "metadata": {},
   "source": [
    "$$m_1 = U^T W U = \n",
    "\\begin{bmatrix}\n",
    "    \\sum w_i && \\sum w_i u_i \\\\\n",
    "    \\sum w_i u_i && \\sum w_i u_i^2\n",
    "\\end{bmatrix}\n",
    "$$\n",
    "\n",
    "$$m_2 = U^T W V = \n",
    "\\begin{bmatrix}\n",
    "    \\sum w_i v_i \\\\\n",
    "    \\sum w_i u_i v_i \\\\\n",
    "\\end{bmatrix}\n",
    "$$"
   ]
  },
  {
   "cell_type": "code",
   "execution_count": 1057,
   "metadata": {},
   "outputs": [],
   "source": [
    "# Ground-truth matrices calculated directly from u and v\n",
    "\n",
    "m1_true = np.array([\n",
    "    [u[:,0].shape[0], u[:,0].sum()],\n",
    "    [u[:,0].sum(), (u[:,0]*u[:,0]).sum()]\n",
    "])\n",
    "\n",
    "m2_true = np.array([\n",
    "    v[:,0].sum(),\n",
    "    (u[:,0]*v[:,0]).sum(),\n",
    "])\n",
    "\n",
    "m1_w_true = np.array([\n",
    "    [w.sum(), (w.T*u[:,0]).sum()],\n",
    "    [(w.T*u[:,0]).sum(), (w.T*u[:,0]*u[:,0]).sum()]\n",
    "])\n",
    "\n",
    "m2_w_true = np.array([\n",
    "    (w.T*v[:,0]).sum(),\n",
    "    (w.T*u[:,0]*v[:,0]).sum(),\n",
    "])\n"
   ]
  },
  {
   "cell_type": "code",
   "execution_count": 1077,
   "metadata": {},
   "outputs": [
    {
     "data": {
      "text/plain": [
       "229180.76465009619"
      ]
     },
     "execution_count": 1077,
     "metadata": {},
     "output_type": "execute_result"
    }
   ],
   "source": [
    "(w.T*u[:,0]).sum()"
   ]
  },
  {
   "cell_type": "markdown",
   "metadata": {},
   "source": [
    "# In other terms"
   ]
  },
  {
   "cell_type": "markdown",
   "metadata": {},
   "source": [
    "$$\n",
    "m_1 =\n",
    "\\begin{bmatrix}\n",
    "    n          && a^Tx_{sum} \\\\\n",
    "    a^Tx_{sum} && grandsum[ (aa^T) \\odot xx_{sum} ]\n",
    "\\end{bmatrix}\n",
    "$$\n",
    "\n",
    "$$\n",
    "mw_1 =\n",
    "\\begin{bmatrix}\n",
    "    \\sum w_i          && a^Tx_{wsum} \\\\\n",
    "    a^Tx_{wsum} && grandsum[ (aa^T) \\odot xx_{wsum} ]\n",
    "\\end{bmatrix}\n",
    "$$"
   ]
  },
  {
   "cell_type": "code",
   "execution_count": 1090,
   "metadata": {},
   "outputs": [
    {
     "data": {
      "text/plain": [
       "array([ 466.690449,    1.      ])"
      ]
     },
     "execution_count": 1090,
     "metadata": {},
     "output_type": "execute_result"
    }
   ],
   "source": [
    "m1 = np.array([[n,(a[:,0] @ x_sum)[0]],\n",
    "                  [(a[:,0] @ x_sum)[0],((a[:,0,np.newaxis] @ a[:,0,np.newaxis].T) * xx_sum).sum()]])\n",
    "\n",
    "m2 = np.array([\n",
    "    (b[:,0] @ y_sum)[0],\n",
    "    ( ( a[:,0,np.newaxis] @ b[np.newaxis,:,0] ) * ( xy_sum ) ).sum()\n",
    "    ])\n",
    "\n",
    "betas = np.linalg.inv(m1) @ m2\n",
    "betas"
   ]
  },
  {
   "cell_type": "code",
   "execution_count": 1091,
   "metadata": {},
   "outputs": [
    {
     "data": {
      "text/plain": [
       "array([ 229180.7646501])"
      ]
     },
     "execution_count": 1091,
     "metadata": {},
     "output_type": "execute_result"
    }
   ],
   "source": [
    "(a[:,0] @ x_sum_w)"
   ]
  },
  {
   "cell_type": "code",
   "execution_count": 1092,
   "metadata": {},
   "outputs": [],
   "source": [
    "m1_w = np.array([[w.sum(),(a[:,0] @ x_sum_w)[0]],\n",
    "                  [(a[:,0] @ x_sum_w)[0],((a[:,0,np.newaxis] @ a[:,0,np.newaxis].T) * xx_sum_w).sum()]])\n",
    "\n",
    "m2_w = np.array([\n",
    "    (b[:,0] @ y_sum_w)[0],\n",
    "    ( ( a[:,0,np.newaxis] @ b[np.newaxis,:,0] ) * ( xy_sum_w ) ).sum()\n",
    "    ])"
   ]
  },
  {
   "cell_type": "markdown",
   "metadata": {},
   "source": [
    "check correctness"
   ]
  },
  {
   "cell_type": "code",
   "execution_count": 1095,
   "metadata": {},
   "outputs": [
    {
     "name": "stdout",
     "output_type": "stream",
     "text": [
      "np.abs(m1-m1_true).max() = 5.960464477539063e-08\n",
      "np.abs(m2-m2_true).max() = 5.960464477539063e-08\n",
      "np.abs(m1_w-m1_w_true).max() = 1.4551915228366852e-10\n",
      "np.abs(m2_w-m2_w_true).max() = 2.9802322387695312e-08\n"
     ]
    }
   ],
   "source": [
    "# check correctness\n",
    "print( 'np.abs(m1-m1_true).max() = {}'.format( np.abs(m1-m1_true).max() ))\n",
    "print( 'np.abs(m2-m2_true).max() = {}'.format( np.abs(m2-m2_true).max() ))\n",
    "\n",
    "print( 'np.abs(m1_w-m1_w_true).max() = {}'.format( np.abs(m1_w-m1_w_true).max() ))\n",
    "print( 'np.abs(m2_w-m2_w_true).max() = {}'.format( np.abs(m2_w-m2_w_true).max() ))"
   ]
  },
  {
   "cell_type": "markdown",
   "metadata": {},
   "source": [
    "# Put calculation of linear regresson into function"
   ]
  },
  {
   "cell_type": "code",
   "execution_count": 1112,
   "metadata": {},
   "outputs": [],
   "source": [
    "def calc_linear_regression(n,a,b,x_sum, y_sum, xy_sum, xx_sum ):\n",
    "    m1 = np.array([[n,(a @ x_sum)[0]],\n",
    "                  [(a @ x_sum)[0],((a[:,np.newaxis] @ a[:,np.newaxis].T) * xx_sum).sum()]])\n",
    "    m2 = np.array([\n",
    "        (b @ y_sum)[0],\n",
    "        ( ( a[:,np.newaxis] @ b[np.newaxis,:] ) * ( xy_sum ) ).sum()\n",
    "    ])\n",
    "    return np.linalg.inv(m1) @ m2"
   ]
  },
  {
   "cell_type": "code",
   "execution_count": 1146,
   "metadata": {},
   "outputs": [
    {
     "name": "stdout",
     "output_type": "stream",
     "text": [
      "My method:\t466.6904489994 1.0000000001\n",
      "sk-learn check:\t466.6904489601 1.0000000002\n",
      "Mean of squares:  0.194099816094\n"
     ]
    }
   ],
   "source": [
    "intercept,coef = calc_linear_regression(n,a[:,0],b[:,0],x_sum, y_sum, xy_sum, xx_sum )\n",
    "print(\"My method:\\t{:.10f} {:.10f}\".format( intercept, coef ) )\n",
    "\n",
    "from sklearn.linear_model import LinearRegression\n",
    "skreg = LinearRegression(fit_intercept=True)\n",
    "skreg.fit(u[:,0,np.newaxis],v[:,0])\n",
    "print(\"sk-learn check:\\t{:.10f} {:.10f}\".format(skreg.intercept_, skreg.coef_[0] ) )\n",
    "\n",
    "print(\"Mean of squares: \", ((u[:,0]*coef+intercept - v[:,0])**2).mean() )"
   ]
  },
  {
   "cell_type": "markdown",
   "metadata": {},
   "source": [
    "### weighted linear regression"
   ]
  },
  {
   "cell_type": "code",
   "execution_count": 1148,
   "metadata": {},
   "outputs": [],
   "source": [
    "def calc_linear_regression_weighted( w_sum,a,b,x_sum_w, y_sum_w, xy_sum_w, xx_sum_w ):\n",
    "    m1_w = np.array([[w_sum,(a @ x_sum_w)[0]],\n",
    "                  [(a @ x_sum_w)[0],((a[:,np.newaxis] @ a[:,np.newaxis].T) * xx_sum_w).sum()]])\n",
    "    m2_w = np.array([\n",
    "        (b @ y_sum_w)[0],\n",
    "        ( ( a[:,np.newaxis] @ b[np.newaxis,:] ) * ( xy_sum_w ) ).sum()\n",
    "        ])\n",
    "    return np.linalg.inv(m1_w) @ m2_w"
   ]
  },
  {
   "cell_type": "markdown",
   "metadata": {},
   "source": [
    "## Check that weighted linear regression minimizes $\\sum w_i (u_i w_i)^2$"
   ]
  },
  {
   "cell_type": "code",
   "execution_count": 1164,
   "metadata": {},
   "outputs": [
    {
     "name": "stdout",
     "output_type": "stream",
     "text": [
      "My method:\t-0.0019535390 2.0532235194\n",
      "sk-learn check:\t474.8500679926 0.9815123720\n",
      "Mean of squares:  0.533671939929\n",
      "Sklearn mean of squares:  0.0575871292283\n",
      "Weighted sum of squares of my method is still less, so we can assume it works\n"
     ]
    }
   ],
   "source": [
    "intercept,coef = calc_linear_regression_weighted( w_sum,a[:,0],b[:,0],x_sum_w,y_sum_w, xy_sum_w, xx_sum_w )\n",
    "print(\"My method:\\t{:.10f} {:.10f}\".format( intercept, coef ) )\n",
    "\n",
    "from sklearn.linear_model import LinearRegression\n",
    "skreg = LinearRegression(fit_intercept=True)\n",
    "skreg.fit(u[:,0,np.newaxis],v[:,0],np.ravel(w))\n",
    "print(\"sk-learn check:\\t{:.10f} {:.10f}\".format(skreg.intercept_, skreg.coef_[0] ) )\n",
    "\n",
    "print(\"Mean of squares: \", ( np.ravel(w)*((u[:,0]*coef+intercept - v[:,0])**2)).mean() )\n",
    "print(\"Sklearn mean of squares: \", ( np.ravel(w)*((u[:,0]*skreg.coef_+skreg.intercept_ - v[:,0])**2) ).mean() )\n",
    "\n",
    "print(\"Weighted sum of squares of my method is still less, so we can assume it works\")"
   ]
  },
  {
   "cell_type": "code",
   "execution_count": null,
   "metadata": {},
   "outputs": [],
   "source": []
  },
  {
   "cell_type": "markdown",
   "metadata": {},
   "source": [
    "# Test new code"
   ]
  },
  {
   "cell_type": "code",
   "execution_count": 74,
   "metadata": {},
   "outputs": [],
   "source": [
    "a,b,r = new_CCA.cca(X,Y)\n",
    "u = np.dot( X,a )\n",
    "v = np.dot( Y,b )"
   ]
  },
  {
   "cell_type": "code",
   "execution_count": 79,
   "metadata": {},
   "outputs": [
    {
     "data": {
      "text/plain": [
       "0.87252536854435581"
      ]
     },
     "execution_count": 79,
     "metadata": {},
     "output_type": "execute_result"
    }
   ],
   "source": [
    "np.corrcoef((u+r)[:,1],v[:,1])[0,1]"
   ]
  },
  {
   "cell_type": "code",
   "execution_count": 104,
   "metadata": {},
   "outputs": [
    {
     "data": {
      "image/png": "[encoded data removed]",
      "text/plain": [
       "<matplotlib.figure.Figure at 0x7fee0dffd5f8>"
      ]
     },
     "metadata": {},
     "output_type": "display_data"
    }
   ],
   "source": [
    "hist( ((u+r)-v).sum(axis=1), bins=50 );"
   ]
  },
  {
   "cell_type": "code",
   "execution_count": 96,
   "metadata": {},
   "outputs": [
    {
     "data": {
      "image/png": "[encoded data removed]",
      "text/plain": [
       "<matplotlib.figure.Figure at 0x7fee0df28cc0>"
      ]
     },
     "metadata": {},
     "output_type": "display_data"
    }
   ],
   "source": [
    "hist( (u+r)[:,3]-v[:,3],bins=20 );\n",
    "hist( (u+r)[:,0]-v[:,0],bins=20 );"
   ]
  },
  {
   "cell_type": "markdown",
   "metadata": {},
   "source": [
    "# Dump data to files for testing"
   ]
  },
  {
   "cell_type": "code",
   "execution_count": 105,
   "metadata": {},
   "outputs": [],
   "source": [
    "import pandas as pd"
   ]
  },
  {
   "cell_type": "code",
   "execution_count": 106,
   "metadata": {},
   "outputs": [],
   "source": [
    "target_file = \"./test_files/\"\n",
    "pd.DataFrame(Y).to_csv(\"{}test_Y.csv\".format(target_file),index=False,header=False)\n",
    "pd.DataFrame(X).to_csv(\"{}test_X.csv\".format(target_file),index=False,header=False)\n",
    "\n",
    "pd.DataFrame(xx_cov).to_csv(\"{}xx_cov.csv\".format(target_file),index=False,header=False)\n",
    "pd.DataFrame(xy_cov).to_csv(\"{}xy_cov.csv\".format(target_file),index=False,header=False)\n",
    "pd.DataFrame(yy_cov).to_csv(\"{}yy_cov.csv\".format(target_file),index=False,header=False)\n",
    "\n",
    "pd.DataFrame(xx_cov_sqrt_inv).to_csv(\"{}xx_cov_sqrt_inv.csv\".format(target_file),index=False,header=False)\n",
    "pd.DataFrame(yy_cov_sqrt_inv).to_csv(\"{}yy_cov_sqrt_inv.csv\".format(target_file),index=False,header=False)\n",
    "\n",
    "pd.DataFrame(u).to_csv(\"{}test_U.csv\".format(target_file),index=False,header=False)\n",
    "pd.DataFrame(v).to_csv(\"{}test_V.csv\".format(target_file),index=False,header=False)\n",
    "\n",
    "pd.DataFrame(a).to_csv(\"{}test_a.csv\".format(target_file),index=False,header=False)\n",
    "pd.DataFrame(b).to_csv(\"{}test_b.csv\".format(target_file),index=False,header=False)\n",
    "pd.DataFrame(x_sum).to_csv(\"{}x_sum.csv\".format(target_file),index=False,header=False)\n",
    "pd.DataFrame(xx_sum).to_csv(\"{}xx_sum.csv\".format(target_file),index=False,header=False)\n",
    "pd.DataFrame(xy_sum).to_csv(\"{}xy_sum.csv\".format(target_file),index=False,header=False)\n",
    "pd.DataFrame(yy_sum).to_csv(\"{}yy_sum.csv\".format(target_file),index=False,header=False)\n",
    "pd.DataFrame(y_sum).to_csv(\"{}y_sum.csv\".format(target_file),index=False,header=False)\n",
    "\n",
    "# Linear regression"
   ]
  },
  {
   "cell_type": "code",
   "execution_count": null,
   "metadata": {},
   "outputs": [],
   "source": []
  },
  {
   "cell_type": "markdown",
   "metadata": {},
   "source": [
    "# Below - temporary records"
   ]
  },
  {
   "cell_type": "code",
   "execution_count": 94,
   "metadata": {},
   "outputs": [],
   "source": [
    "eigenvals,eigenvecs = np.linalg.eig( xx_sum )\n",
    "\n",
    "E = np.diag( eigenvals )\n",
    "V = eigenvecs\n",
    "\n",
    "# E,V\n",
    "# E - matrix with eigenvalues on diagonal\n",
    "# V - matrix with eigenvectors\n",
    "\n",
    "# sqrtMatrix = V * sqrt(E) * V^T\n",
    "\n",
    "res = V @ sqrt(E) @ V.T\n",
    "\n",
    "sqrt(E)\n",
    "sqrtm(xx_cov)\n",
    "\n",
    "v_mat = yy_cov_sqrt_inv @ xy_cov.T @ np.linalg.inv(xx_cov) @ xy_cov @ yy_cov_sqrt_inv\n",
    "v_eigvals,v_eigvecs = np.linalg.eig(v_mat)\n",
    "\n",
    "v_eigvecs.T[sorted([i for i in range(len(v_eigvals))], key=lambda x: -v_eigvals[x])]"
   ]
  },
  {
   "cell_type": "markdown",
   "metadata": {},
   "source": [
    "# What about weights?\n",
    "try to calculate weighted CCA and see if your predictions apply"
   ]
  },
  {
   "cell_type": "code",
   "execution_count": 923,
   "metadata": {},
   "outputs": [],
   "source": [
    "weights = np.abs( np.random.normal(0.6,0.4,size=x.size) )[:,np.newaxis]"
   ]
  },
  {
   "cell_type": "code",
   "execution_count": 774,
   "metadata": {},
   "outputs": [
    {
     "name": "stdout",
     "output_type": "stream",
     "text": [
      "yy_cov\n",
      "Was: 1.25454545455\n",
      "Begun: 1.30421962605\n"
     ]
    }
   ],
   "source": [
    "print('yy_cov')\n",
    "print(\"Was:\",((y-y.mean())**2).sum()/(y.size-1))\n",
    "print(\"Begun:\",( weights*np.ravel((y-y.mean())**2) ).sum()/(weights.sum()-1))"
   ]
  },
  {
   "cell_type": "code",
   "execution_count": 775,
   "metadata": {},
   "outputs": [
    {
     "name": "stdout",
     "output_type": "stream",
     "text": [
      "xx_cov\n",
      "Was: 0.8\n",
      "Begun: 0.802308381077\n"
     ]
    }
   ],
   "source": [
    "print(\"xx_cov\")\n",
    "print(\"Was:\",((x-x.mean())**2).sum()/(x.size-1))\n",
    "print(\"Begun:\",( weights*np.ravel((x-x.mean())**2) ).sum()/(weights.sum()-1))"
   ]
  },
  {
   "cell_type": "code",
   "execution_count": 776,
   "metadata": {},
   "outputs": [
    {
     "name": "stdout",
     "output_type": "stream",
     "text": [
      "xy_cov\n",
      "Was: 0.3\n",
      "Begun:  0.446885332427\n"
     ]
    }
   ],
   "source": [
    "print(\"xy_cov\")\n",
    "print(\"Was:\",((x-x.mean())*(y-y.mean())).sum()/(y.size-1) )\n",
    "print(\"Begun: \", (weights*np.ravel((x-x.mean())*(y-y.mean()))).sum()/(weights.sum()-1) )"
   ]
  },
  {
   "cell_type": "code",
   "execution_count": 773,
   "metadata": {},
   "outputs": [
    {
     "data": {
      "text/plain": [
       "array([[ 0.8       ,  0.3       ],\n",
       "       [ 0.3       ,  1.25454545]])"
      ]
     },
     "execution_count": 773,
     "metadata": {},
     "output_type": "execute_result"
    }
   ],
   "source": [
    "np.cov(x.T,y.T)"
   ]
  },
  {
   "cell_type": "code",
   "execution_count": 769,
   "metadata": {},
   "outputs": [
    {
     "data": {
      "text/plain": [
       "array([[ 0.69040823,  0.54409609],\n",
       "       [ 0.54409609,  1.29332109]])"
      ]
     },
     "execution_count": 769,
     "metadata": {},
     "output_type": "execute_result"
    }
   ],
   "source": [
    "np.cov(x.T,y.T)"
   ]
  },
  {
   "cell_type": "code",
   "execution_count": 905,
   "metadata": {},
   "outputs": [],
   "source": [
    "weights = np.ones(y.size)[:,np.newaxis]"
   ]
  },
  {
   "cell_type": "code",
   "execution_count": 962,
   "metadata": {},
   "outputs": [],
   "source": [
    "x = np.array([0,0,1,2,0,0,1,2,1,2,2])[:,np.newaxis]\n",
    "y = np.array([0,2,1,0,1,1,2,4,1,2,1])[:,np.newaxis]\n",
    "\n",
    "#y = weights[:,np.newaxis]*y\n",
    "#x = weights[:,np.newaxis]*x\n",
    "\n",
    "x_sum = np.sum(x,axis=0)[:,np.newaxis]\n",
    "y_sum = np.sum(y,axis=0)[:,np.newaxis]\n",
    "x_sum_w = np.sum(x*weights,axis=0)[:,np.newaxis]\n",
    "y_sum_w = np.sum(y*weights,axis=0)[:,np.newaxis]\n",
    "xy_sum = np.transpose(x) @ (y*weights) # Equivavlent of X^T W Y, where W - matrix with weights on diagonal, see proof below\n",
    "xx_sum = np.transpose(x) @ x\n",
    "yy_sum = np.transpose(y) @ y\n",
    "n = np.shape(x)[0]\n",
    "#n = weights.sum()\n",
    "w_sum = weights.sum()\n",
    "\n",
    "xy_cov = calc_covariance(xy_sum,x_sum,y_sum,n)\n",
    "xx_cov = calc_covariance(xx_sum,x_sum,x_sum,n)\n",
    "yy_cov = calc_covariance(yy_sum,y_sum,y_sum,n)\n"
   ]
  },
  {
   "cell_type": "markdown",
   "metadata": {},
   "source": [
    "# Proof of np.transpose(x) @ (y*weights) = $X^T W Y$"
   ]
  },
  {
   "cell_type": "code",
   "execution_count": 1002,
   "metadata": {},
   "outputs": [
    {
     "data": {
      "text/plain": [
       "array([[ 0.]])"
      ]
     },
     "execution_count": 1002,
     "metadata": {},
     "output_type": "execute_result"
    }
   ],
   "source": [
    "xy_sum - (np.transpose(x) @ np.diag( np.ravel(weights) ) @  y)"
   ]
  },
  {
   "cell_type": "markdown",
   "metadata": {},
   "source": [
    "# Below - derivation of covariance for weighted samples"
   ]
  },
  {
   "cell_type": "code",
   "execution_count": 937,
   "metadata": {},
   "outputs": [
    {
     "data": {
      "text/plain": [
       "0.13623914450262825"
      ]
     },
     "execution_count": 937,
     "metadata": {},
     "output_type": "execute_result"
    }
   ],
   "source": [
    "(weights*(x-x.mean())*(y-y.mean())).sum()/(weights.sum()-1)"
   ]
  },
  {
   "cell_type": "code",
   "execution_count": 932,
   "metadata": {},
   "outputs": [
    {
     "data": {
      "text/plain": [
       "0.13623914450262861"
      ]
     },
     "execution_count": 932,
     "metadata": {},
     "output_type": "execute_result"
    }
   ],
   "source": [
    "( (weights*x.mean()*y.mean()).sum() + ((x*y - x*y.mean() - y*x.mean())*weights).sum() )/(weights.sum()-1)"
   ]
  },
  {
   "cell_type": "code",
   "execution_count": 966,
   "metadata": {},
   "outputs": [
    {
     "data": {
      "text/plain": [
       "0.13623914450262803"
      ]
     },
     "execution_count": 966,
     "metadata": {},
     "output_type": "execute_result"
    }
   ],
   "source": [
    "( (weights*(x_sum*y_sum)/n/n).sum() + ( (x*y)*weights ).sum() + ((- x*y_sum/n)*weights).sum() - ((y*x_sum/n)*weights).sum() )/(w_sum-1)"
   ]
  },
  {
   "cell_type": "code",
   "execution_count": 984,
   "metadata": {},
   "outputs": [
    {
     "data": {
      "text/plain": [
       "array([[ 0.13623914]])"
      ]
     },
     "execution_count": 984,
     "metadata": {},
     "output_type": "execute_result"
    }
   ],
   "source": [
    "( (w_sum*(x_sum*y_sum)/n/n) + xy_sum -x_sum_w*y_sum/n -y_sum_w*x_sum/n )/(w_sum-1)"
   ]
  },
  {
   "cell_type": "code",
   "execution_count": 1167,
   "metadata": {},
   "outputs": [],
   "source": [
    "# Correlation function\n",
    "def calc_covariance_weighted(xy_sum,x_sum,x_sum_w,y_sum,y_sum_w,n,w_sum):\n",
    "    \"\"\"\n",
    "    calculate weighted covariance matrix of 2 variables\n",
    "    \"\"\"\n",
    "    return ( (w_sum*(x_sum*y_sum)/n/n) + xy_sum -x_sum_w*y_sum/n -y_sum_w*x_sum/n )/(w_sum-1)"
   ]
  },
  {
   "cell_type": "markdown",
   "metadata": {},
   "source": [
    "# Weighted linear regression formulas"
   ]
  },
  {
   "cell_type": "code",
   "execution_count": null,
   "metadata": {},
   "outputs": [],
   "source": []
  },
  {
   "cell_type": "markdown",
   "metadata": {},
   "source": [
    "# Tests"
   ]
  },
  {
   "cell_type": "code",
   "execution_count": 910,
   "metadata": {},
   "outputs": [
    {
     "name": "stdout",
     "output_type": "stream",
     "text": [
      "xx_cov: [[ 0.8]]\n",
      "xy_cov: [[ 0.3]]\n",
      "yy_cov: [[ 1.25454545]]\n"
     ]
    }
   ],
   "source": [
    "print(\"xx_cov: {}\".format(xx_cov))\n",
    "print(\"xy_cov: {}\".format(xy_cov))\n",
    "print(\"yy_cov: {}\".format(yy_cov))"
   ]
  },
  {
   "cell_type": "code",
   "execution_count": 779,
   "metadata": {},
   "outputs": [
    {
     "data": {
      "text/plain": [
       "array([[ 0.39595629]])"
      ]
     },
     "execution_count": 779,
     "metadata": {},
     "output_type": "execute_result"
    }
   ],
   "source": [
    "xy_cov"
   ]
  },
  {
   "cell_type": "code",
   "execution_count": 780,
   "metadata": {},
   "outputs": [
    {
     "data": {
      "text/plain": [
       "array([[ 1.22379051]])"
      ]
     },
     "execution_count": 780,
     "metadata": {},
     "output_type": "execute_result"
    }
   ],
   "source": [
    "yy_cov"
   ]
  },
  {
   "cell_type": "code",
   "execution_count": 781,
   "metadata": {},
   "outputs": [
    {
     "data": {
      "text/plain": [
       "array([[ 0.64138314]])"
      ]
     },
     "execution_count": 781,
     "metadata": {},
     "output_type": "execute_result"
    }
   ],
   "source": [
    "xx_cov"
   ]
  },
  {
   "cell_type": "code",
   "execution_count": 782,
   "metadata": {},
   "outputs": [
    {
     "data": {
      "text/plain": [
       "array([[ 0.69040823,  0.54409609],\n",
       "       [ 0.54409609,  1.29332109]])"
      ]
     },
     "execution_count": 782,
     "metadata": {},
     "output_type": "execute_result"
    }
   ],
   "source": [
    "np.cov(x.T,y.T)"
   ]
  },
  {
   "cell_type": "code",
   "execution_count": 783,
   "metadata": {},
   "outputs": [
    {
     "data": {
      "text/plain": [
       "array([[ 9.5872369]])"
      ]
     },
     "execution_count": 783,
     "metadata": {},
     "output_type": "execute_result"
    }
   ],
   "source": [
    "x_sum"
   ]
  },
  {
   "cell_type": "code",
   "execution_count": 784,
   "metadata": {},
   "outputs": [],
   "source": [
    "def calc_covariance(xy_sum,x_sum,y_sum,n):\n",
    "    \"\"\"\n",
    "    calculate covariance matrix of 2 variables\n",
    "    \"\"\"\n",
    "    return ( xy_sum - np.matmul(x_sum,y_sum.T)/n )/(n-1)"
   ]
  },
  {
   "cell_type": "code",
   "execution_count": 787,
   "metadata": {},
   "outputs": [
    {
     "data": {
      "text/plain": [
       "array([[ 0.3]])"
      ]
     },
     "execution_count": 787,
     "metadata": {},
     "output_type": "execute_result"
    }
   ],
   "source": [
    "calc_covariance(xy_sum,x_sum,y_sum,n)"
   ]
  },
  {
   "cell_type": "code",
   "execution_count": 790,
   "metadata": {},
   "outputs": [
    {
     "data": {
      "text/plain": [
       "0.3000000000000001"
      ]
     },
     "execution_count": 790,
     "metadata": {},
     "output_type": "execute_result"
    }
   ],
   "source": [
    "np.cov(x.T,y.T)[0,1]"
   ]
  },
  {
   "cell_type": "code",
   "execution_count": 804,
   "metadata": {},
   "outputs": [
    {
     "data": {
      "text/plain": [
       "0.3000000000000001"
      ]
     },
     "execution_count": 804,
     "metadata": {},
     "output_type": "execute_result"
    }
   ],
   "source": [
    "((x-x.mean())*(y-y.mean())).sum()/(n-1)"
   ]
  },
  {
   "cell_type": "code",
   "execution_count": 883,
   "metadata": {},
   "outputs": [
    {
     "data": {
      "text/plain": [
       "array([[ 0.3]])"
      ]
     },
     "execution_count": 883,
     "metadata": {},
     "output_type": "execute_result"
    }
   ],
   "source": [
    "(\n",
    "    xy_sum + (-2*x_sum*y_sum)/n + (x_sum * y_sum)/n\n",
    ")/(n-1)"
   ]
  },
  {
   "cell_type": "code",
   "execution_count": 850,
   "metadata": {},
   "outputs": [
    {
     "data": {
      "text/plain": [
       "array([[ 1.36363636]])"
      ]
     },
     "execution_count": 850,
     "metadata": {},
     "output_type": "execute_result"
    }
   ],
   "source": [
    "(x_sum * y_sum)/(n**2) "
   ]
  },
  {
   "cell_type": "code",
   "execution_count": 864,
   "metadata": {},
   "outputs": [
    {
     "data": {
      "text/plain": [
       "array([[ 0.        ],\n",
       "       [-2.        ],\n",
       "       [-2.36363636],\n",
       "       [-2.72727273],\n",
       "       [-1.        ],\n",
       "       [-1.        ],\n",
       "       [-3.36363636],\n",
       "       [-6.72727273],\n",
       "       [-2.36363636],\n",
       "       [-4.72727273],\n",
       "       [-3.72727273]])"
      ]
     },
     "execution_count": 864,
     "metadata": {},
     "output_type": "execute_result"
    }
   ],
   "source": [
    "((-x*y_sum/n) + (-x_sum/n*y))"
   ]
  },
  {
   "cell_type": "code",
   "execution_count": 879,
   "metadata": {},
   "outputs": [
    {
     "data": {
      "text/plain": [
       "array([[-330]])"
      ]
     },
     "execution_count": 879,
     "metadata": {},
     "output_type": "execute_result"
    }
   ],
   "source": [
    "(-2*x_sum*y_sum)"
   ]
  },
  {
   "cell_type": "code",
   "execution_count": null,
   "metadata": {},
   "outputs": [],
   "source": []
  },
  {
   "cell_type": "code",
   "execution_count": 816,
   "metadata": {},
   "outputs": [
    {
     "data": {
      "text/plain": [
       "1.3636363636363635"
      ]
     },
     "execution_count": 816,
     "metadata": {},
     "output_type": "execute_result"
    }
   ],
   "source": [
    "x.mean()*y.mean()"
   ]
  },
  {
   "cell_type": "code",
   "execution_count": 802,
   "metadata": {},
   "outputs": [
    {
     "data": {
      "text/plain": [
       "0.3000000000000001"
      ]
     },
     "execution_count": 802,
     "metadata": {},
     "output_type": "execute_result"
    }
   ],
   "source": [
    "((x-x.mean())*(y-y.mean())).sum()/(n-1)"
   ]
  },
  {
   "cell_type": "code",
   "execution_count": 797,
   "metadata": {},
   "outputs": [
    {
     "data": {
      "text/plain": [
       "array([[ 0.13636364]])"
      ]
     },
     "execution_count": 797,
     "metadata": {},
     "output_type": "execute_result"
    }
   ],
   "source": [
    "x_sum*y_sum/(n**2*(n-1))"
   ]
  }
 ],
 "metadata": {
  "kernelspec": {
   "display_name": "Python 3",
   "language": "python",
   "name": "python3"
  },
  "language_info": {
   "codemirror_mode": {
    "name": "ipython",
    "version": 3
   },
   "file_extension": ".py",
   "mimetype": "text/x-python",
   "name": "python",
   "nbconvert_exporter": "python",
   "pygments_lexer": "ipython3",
   "version": "3.5.2"
  }
 },
 "nbformat": 4,
 "nbformat_minor": 2
}
