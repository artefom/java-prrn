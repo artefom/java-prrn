{
 "cells": [
  {
   "cell_type": "code",
   "execution_count": 32,
   "metadata": {},
   "outputs": [
    {
     "name": "stdout",
     "output_type": "stream",
     "text": [
      "Populating the interactive namespace from numpy and matplotlib\n",
      "The autoreload extension is already loaded. To reload it, use:\n",
      "  %reload_ext autoreload\n"
     ]
    },
    {
     "name": "stderr",
     "output_type": "stream",
     "text": [
      "/usr/local/lib/python3.5/dist-packages/IPython/core/magics/pylab.py:160: UserWarning: pylab import has clobbered these variables: ['multivariate_normal']\n",
      "`%matplotlib` prevents importing * from pylab and numpy\n",
      "  \"\\n`%matplotlib` prevents importing * from pylab and numpy\"\n"
     ]
    }
   ],
   "source": [
    "%pylab inline\n",
    "%load_ext autoreload\n",
    "%autoreload 1\n",
    "%aimport new_CCA\n",
    "%aimport sample_gen\n",
    "from scipy.stats import multivariate_normal\n",
    "from scipy.stats import chi2\n",
    "from collections import defaultdict\n",
    "%aimport cca_compare\n",
    "import pandas as pd"
   ]
  },
  {
   "cell_type": "markdown",
   "metadata": {},
   "source": [
    "# File description:\n",
    "This file contains\n",
    "1. generation of test samples for java-python code transfer\n",
    "2. Latex formulas for M computation\n",
    "3. Derivation of linear regresssion"
   ]
  },
  {
   "cell_type": "markdown",
   "metadata": {},
   "source": [
    "# Creating test distribution"
   ]
  },
  {
   "cell_type": "code",
   "execution_count": 2,
   "metadata": {},
   "outputs": [],
   "source": [
    "n_bands = 10\n",
    "n_samples = 1000\n",
    "d1 = sample_gen.create_distribution(n_bands,mean_std_scale=0.3,std=1)\n",
    "d2 = sample_gen.create_distribution(n_bands,mean_std_scale=1,std=2,std_scale=0.1)\n",
    "X = d1.rvs(n_samples)\n",
    "Y = X+d2.rvs(n_samples)"
   ]
  },
  {
   "cell_type": "markdown",
   "metadata": {},
   "source": [
    "# Code for testing CCA algorithms"
   ]
  },
  {
   "cell_type": "code",
   "execution_count": 3,
   "metadata": {},
   "outputs": [
    {
     "name": "stderr",
     "output_type": "stream",
     "text": [
      "<ipython-input-3-f41b1bc6de61>:94: SyntaxWarning: name 'nastyCorr' is used prior to global declaration\n",
      "  global nastyCorr\n"
     ]
    }
   ],
   "source": [
    "# Generate samples\n",
    "def gen_samples(sample_size,n_bands=3):\n",
    "    X = np.random.normal(0,1,size=(sample_size,n_bands))\n",
    "    Y = X+np.random.normal(0,0.5,size=(sample_size,n_bands))\n",
    "    return X,Y\n",
    "\n",
    "# Print info about cca\n",
    "def cca_info(X,Y, A, B):\n",
    "    \n",
    "    prev_u = None\n",
    "    prev_v = None\n",
    "    \n",
    "    for i,(a,b) in enumerate( zip(A.T,B.T) ):\n",
    "        print('{} cannonical variates pair'.format(i+1))\n",
    "                \n",
    "        u = np.dot( X,a )\n",
    "        v = np.dot( Y,b )\n",
    "\n",
    "        if prev_u is not None and prev_v is not None:\n",
    "            print('prev corrcoef:\\n{: <10.4f}{: <10.4f}\\n{: <10.4f}{: <10.4f}'.format( \n",
    "                np.corrcoef(u,prev_u)[0,1], np.corrcoef(u,prev_v)[0,1],\n",
    "                np.corrcoef(v,prev_u)[0,1], np.corrcoef(v,prev_v)[0,1]\n",
    "            ))\n",
    "        prev_u = u\n",
    "        prev_v = v\n",
    "\n",
    "        print('corrcoef: {:.4f}'.format(np.corrcoef(u,v)[0,1]))\n",
    "\n",
    "        # Fit u more tightly to v\n",
    "        reg = LinearRegression()\n",
    "        reg.fit(u[:,np.newaxis],v)\n",
    "        new_u = reg.predict(u[:,np.newaxis])\n",
    "\n",
    "        plot(new_u[:10],'C0-',label='u')\n",
    "        plot(u[:10],'C0--')\n",
    "        plot(v[:10],'C1',label='v')\n",
    "        legend()\n",
    "        show()\n",
    "        \n",
    "def random_subsample(sample_size,*args):\n",
    "    ret = []\n",
    "    ids = np.array([i for i in range(len(args[0]))])\n",
    "    np.random.shuffle(ids)\n",
    "    \n",
    "    for arg in args:\n",
    "        ret.append(np.array(arg)[ids][:sample_size])\n",
    "        \n",
    "    return ret\n",
    "\n",
    "nastyCorr = None\n",
    "nastyX = None\n",
    "nastyY = None\n",
    "\n",
    "# Compare CCA\n",
    "def cca_compare(X,Y, funcs_dict, x_samples = 20, n_probas = 10,train_eval=False):\n",
    "    \n",
    "    func_labels = list(funcs_dict.keys())\n",
    "    funcs = [funcs_dict[i] for i in func_labels]\n",
    "    \n",
    "    sample_sizes = []\n",
    "    \n",
    "    correlations_mean = defaultdict(list)\n",
    "    correlations_max = defaultdict(list)\n",
    "    correlations_min = defaultdict(list)\n",
    "    \n",
    "    for sample_size in np.linspace(int(X.shape[0]*0.2),X.shape[0],x_samples).astype(np.int):\n",
    "        sample_sizes.append(sample_size)\n",
    "        \n",
    "        for func in funcs:\n",
    "\n",
    "            corr_pack_mean = []\n",
    "            corr_pack_max = []\n",
    "            corr_pack_min = []\n",
    "            \n",
    "            for n_proba in range(n_probas):\n",
    "                corr_pack = []\n",
    "            \n",
    "                Xs,Ys = random_subsample(sample_size,X,Y)\n",
    "                A,B = func(Xs,Ys)\n",
    "            \n",
    "                for i,(a,b) in enumerate( zip(A.T,B.T) ):\n",
    "                    if train_eval:\n",
    "                        u = np.dot( Xs,a )\n",
    "                        v = np.dot( Ys,b )\n",
    "                    else:\n",
    "                        u = np.dot( X,a )\n",
    "                        v = np.dot( Y,b )\n",
    "                    corr_pack.append( np.abs( np.corrcoef(u,v)[0,1] ) )\n",
    "\n",
    "                global nastyCorr\n",
    "                if np.array(corr_pack).max() > 0 and (nastyCorr is None or nastyCorr > np.array(corr_pack).max() ):\n",
    "                    global nastyX\n",
    "                    global nastyY\n",
    "                    global nastyCorr\n",
    "                    nastyX = Xs\n",
    "                    nastyY = Ys\n",
    "                    nastyCorr = np.array(corr_pack).max()\n",
    "                    print(\"nastyCorr: {}\".format(nastyCorr))\n",
    "                    \n",
    "                corr_pack_mean.append(corr_pack)\n",
    "\n",
    "            correlations_min[func].append( np.percentile(corr_pack_mean,1,axis=0) )\n",
    "            correlations_mean[func].append( np.percentile(corr_pack_mean,50,axis=0) )\n",
    "            correlations_max[func].append( np.percentile(corr_pack_mean,99,axis=0) )\n",
    "    \n",
    "    corr_by_func_min = defaultdict(lambda: defaultdict(list))\n",
    "    corr_by_func_mean = defaultdict(lambda: defaultdict(list))\n",
    "    corr_by_func_max = defaultdict(lambda: defaultdict(list))\n",
    "    \n",
    "    for func_id,func in enumerate(funcs):\n",
    "        for component_id, component_corr in enumerate( np.array( correlations_min[func] ).T ):\n",
    "            corr_by_func_min[component_id][func_id] = component_corr\n",
    "        for component_id, component_corr in enumerate( np.array( correlations_mean[func] ).T ):\n",
    "            corr_by_func_mean[component_id][func_id] = component_corr\n",
    "        for component_id, component_corr in enumerate( np.array( correlations_max[func] ).T ):\n",
    "            corr_by_func_max[component_id][func_id] = component_corr\n",
    "        \n",
    "    for component_id in corr_by_func_mean.keys():\n",
    "        for func_i,(func,label) in enumerate( zip(funcs,func_labels) ):\n",
    "            \n",
    "            if func_i not in corr_by_func_mean[component_id]:\n",
    "                continue\n",
    "                \n",
    "            color = 'C{}'.format(func_i)\n",
    "            \n",
    "            min_x  = corr_by_func_min[component_id][func_i]\n",
    "            mean_x = corr_by_func_mean[component_id][func_i]\n",
    "            max_x  = corr_by_func_max[component_id][func_i]\n",
    "            \n",
    "            plot(sample_sizes, mean_x,color,label=label)\n",
    "            fill_between(sample_sizes,min_x,max_x,facecolor=color,alpha=0.1)\n",
    "        \n",
    "        grid(True)\n",
    "        title('Comparison of CCA. Band {}'.format(component_id))\n",
    "        xlabel(\"sub-Sample size\")\n",
    "        ylabel(\"Correlation\")\n",
    "        legend()\n",
    "        show()"
   ]
  },
  {
   "cell_type": "markdown",
   "metadata": {},
   "source": [
    "# CCA from sklearn"
   ]
  },
  {
   "cell_type": "code",
   "execution_count": 633,
   "metadata": {},
   "outputs": [],
   "source": [
    "from sklearn.cross_decomposition import CCA\n",
    "from new_CCA import cca\n",
    "def sklearn_cca(X,Y,n_components=10):\n",
    "    cca_instance = CCA(n_components=n_components)\n",
    "    cca_instance.fit(X,Y)    \n",
    "    return cca_instance.x_rotations_, cca_instance.y_rotations_"
   ]
  },
  {
   "cell_type": "markdown",
   "metadata": {},
   "source": [
    "## CCA test fitness"
   ]
  },
  {
   "cell_type": "code",
   "execution_count": 7,
   "metadata": {},
   "outputs": [
    {
     "data": {
      "image/png": "[encoded data removed]",
      "text/plain": [
       "<matplotlib.figure.Figure at 0x7f4ea31c9160>"
      ]
     },
     "metadata": {},
     "output_type": "display_data"
    }
   ],
   "source": [
    "cca_comp = new_CCA.CCA(n_bands)\n",
    "cca_comp.push(X,Y)\n",
    "a, b, r = cca_comp.calc()# new_CCA.cca(X,Y)\n",
    "u = np.dot( X,a )\n",
    "v = np.dot( Y,b )\n",
    "plot(u[:20,0]-u[:20,0].mean())\n",
    "plot(v[:20,0]-v[:20,0].mean());"
   ]
  },
  {
   "cell_type": "code",
   "execution_count": 8,
   "metadata": {},
   "outputs": [],
   "source": [
    "from scipy.linalg import sqrtm\n",
    "\n",
    "# Correlation function\n",
    "def calc_covariance(xy_sum,x_sum,y_sum,n):\n",
    "    \"\"\"\n",
    "    calculate covariance matrix of 2 variables\n",
    "    \"\"\"\n",
    "    return ( xy_sum - np.matmul(x_sum,y_sum.T)/n )/(n-1)\n",
    "\n",
    "def calc_linear_regression(n,a,b,x_sum, y_sum, xy_sum, xx_sum ):\n",
    "    m1 = np.array([[n,(a @ x_sum)[0]],\n",
    "                  [(a @ x_sum)[0],((a[:,np.newaxis] @ a[:,np.newaxis].T) * xx_sum).sum()]])\n",
    "    m2 = np.array([\n",
    "        (b @ y_sum)[0],\n",
    "        ( ( a[:,np.newaxis] @ b[np.newaxis,:] ) * ( xy_sum ) ).sum()\n",
    "    ])\n",
    "    return np.linalg.inv(m1) @ m2"
   ]
  },
  {
   "cell_type": "code",
   "execution_count": 30,
   "metadata": {},
   "outputs": [
    {
     "name": "stdout",
     "output_type": "stream",
     "text": [
      "first pair corr: 0.90\n"
     ]
    }
   ],
   "source": [
    "x = X\n",
    "y = Y\n",
    "\n",
    "x_sum = np.sum(x,axis=0)[:,np.newaxis]\n",
    "y_sum = np.sum(y,axis=0)[:,np.newaxis]\n",
    "\n",
    "xy_sum = np.transpose(x) @ y\n",
    "xx_sum = np.transpose(x) @ x\n",
    "yy_sum = np.transpose(y) @ y\n",
    "n = np.shape(x)[0]\n",
    "\n",
    "xy_cov = calc_covariance(xy_sum,x_sum,y_sum,n)\n",
    "xx_cov = calc_covariance(xx_sum,x_sum,x_sum,n)\n",
    "yy_cov = calc_covariance(yy_sum,y_sum,y_sum,n)\n",
    "\n",
    "\n",
    "xx_cov_sqrt_inv = np.linalg.inv( sqrtm(xx_cov) )\n",
    "yy_cov_sqrt_inv = np.linalg.inv( sqrtm(yy_cov) )\n",
    "\n",
    "u_mat = xx_cov_sqrt_inv @ xy_cov @ np.linalg.inv(yy_cov) @ xy_cov.T @ xx_cov_sqrt_inv\n",
    "u_eigvals,u_eigvecs = np.linalg.eig(u_mat)\n",
    "\n",
    "v_mat = yy_cov_sqrt_inv @ xy_cov.T @ np.linalg.inv(xx_cov) @ xy_cov @ yy_cov_sqrt_inv\n",
    "v_eigvals,v_eigvecs = np.linalg.eig(v_mat)\n",
    "\n",
    "# Sort eigenvectors by their eigenvalues\n",
    "# The hypothisis here is that correlation is bigger if eigenvalue of eigenvector is bigger\n",
    "u = u_eigvecs.T[sorted([i for i in range(len(u_eigvals))], key=lambda x: -u_eigvals[x])]\n",
    "v = v_eigvecs.T[sorted([i for i in range(len(v_eigvals))], key=lambda x: -v_eigvals[x])]\n",
    "\n",
    "a = (u @ xx_cov_sqrt_inv).T\n",
    "b = (v @ yy_cov_sqrt_inv).T\n",
    "\n",
    "regressions = np.array( [ calc_linear_regression(n,a[:,i],b[:,i],x_sum, y_sum, xy_sum, xx_sum ) for i in range(a.shape[1]) ] )\n",
    "a = a*regressions[:,1]\n",
    "\n",
    "u = np.dot( X,a )\n",
    "v = np.dot( Y,b )\n",
    "\n",
    "# apply intercept\n",
    "# u = ( u.T + regressions[:,0,np.newaxis] ).T\n",
    "\n",
    "u_var  = np.diagonal( a.T @ xx_cov @ a )\n",
    "v_var  = np.diagonal( b.T @ yy_cov @ b )\n",
    "uv_cov = np.diagonal( a.T @ xy_cov @ b )\n",
    "\n",
    "m_var = (u_var + v_var - 2*uv_cov)\n",
    "\n",
    "u_mean = np.ravel( a.T @ x_sum/n )\n",
    "v_mean = np.ravel( b.T @ y_sum/n )\n",
    "m_mean = u_mean-v_mean\n",
    "\n",
    "# Weights are probabilities of being unchanged\n",
    "#w = (1-chi2.cdf( (m**2).sum(axis=1) , 10, 0 ))[:,np.newaxis]\n",
    "\n",
    "m = ((u-v)-m_mean)/np.sqrt(m_var)\n",
    "w = (1-chi2.cdf( (m**2).sum(axis=1) , 10, 0 ))[:,np.newaxis]\n",
    "\n",
    "print('first pair corr: {:.2f}'.format(np.corrcoef(u[:,0],v[:,0])[0,1]))"
   ]
  },
  {
   "cell_type": "code",
   "execution_count": 63,
   "metadata": {},
   "outputs": [],
   "source": [
    "a_java = np.array([\n",
    "[-0.04017904933343005600000000000000,\n",
    "-0.29760704466442167000000000000000,\n",
    "0.08721843612090427000000000000000,\n",
    "-0.19317535166554778000000000000000,\n",
    "-0.22241994792274108000000000000000,\n",
    "-0.05547714576228229000000000000000,\n",
    "0.31549308309468843000000000000000,\n",
    "-0.17827530900488683000000000000000,\n",
    "-0.05317542071279461000000000000000,\n",
    "-0.10567532258636192000000000000000],\n",
    "[-0.05974365775083360000000000000000,\n",
    "0.06456029560074922000000000000000,\n",
    "0.17280473295141258000000000000000,\n",
    "-0.07179747968379811000000000000000,\n",
    "-0.03166131305193816000000000000000,\n",
    "-0.23597710487756576000000000000000,\n",
    "-0.04023363410632067000000000000000,\n",
    "0.09589030263962488000000000000000,\n",
    "0.29416882351510570000000000000000,\n",
    "-0.23643782017961595000000000000000],\n",
    "[0.02473340237752717800000000000000,\n",
    "-0.16833379584173214000000000000000,\n",
    "0.37359716841980084000000000000000,\n",
    "0.08609974441617693000000000000000,\n",
    "0.10091730335568563000000000000000,\n",
    "0.03345968591168288500000000000000,\n",
    "-0.09588424587413380000000000000000,\n",
    "0.00142621477977018600000000000000,\n",
    "-0.09069365989929160000000000000000,\n",
    "0.01581561043780138000000000000000],\n",
    "[0.18241331298728614000000000000000,\n",
    "0.06653072530701170000000000000000,\n",
    "0.05127314684439239500000000000000,\n",
    "-0.32003829245070403000000000000000,\n",
    "0.16379319385693902000000000000000,\n",
    "-0.07768468834633921000000000000000,\n",
    "-0.07820582072037924000000000000000,\n",
    "-0.12377230693041878000000000000000,\n",
    "-0.03913991339113010600000000000000,\n",
    "0.09103157104091955000000000000000],\n",
    "[0.04739637797172904000000000000000,\n",
    "-0.16286437540038030000000000000000,\n",
    "-0.22673080458886385000000000000000,\n",
    "-0.02530784487269398600000000000000,\n",
    "0.12995027250245111000000000000000,\n",
    "0.12564841090315200000000000000000,\n",
    "-0.20074870717791515000000000000000,\n",
    "0.02955505096839096000000000000000,\n",
    "-0.13400174236524287000000000000000,\n",
    "-0.31250334452062550000000000000000],\n",
    "[-0.43921947351277585000000000000000,\n",
    "0.28507036080427510000000000000000,\n",
    "0.07565520555499143000000000000000,\n",
    "-0.07665857090507411000000000000000,\n",
    "0.04913072167212866000000000000000,\n",
    "0.02616813656591459500000000000000,\n",
    "-0.14208722805257830000000000000000,\n",
    "-0.06611752133907951000000000000000,\n",
    "-0.17489258671034870000000000000000,\n",
    "-0.02763541929351716300000000000000],\n",
    "[0.05073683686728716000000000000000,\n",
    "-0.03071679718608175000000000000000,\n",
    "0.11831248213469911000000000000000,\n",
    "-0.30668363957198835000000000000000,\n",
    "0.00959095204908229500000000000000,\n",
    "0.16579809261502976000000000000000,\n",
    "0.11006386005550589000000000000000,\n",
    "0.42230930147669915000000000000000,\n",
    "-0.02836696238067601000000000000000,\n",
    "-0.00340432639362730600000000000000],\n",
    "[-0.21958342721149568000000000000000,\n",
    "-0.30648023471285200000000000000000,\n",
    "-0.15897975629815692000000000000000,\n",
    "-0.12341038718408104000000000000000,\n",
    "0.06201387756322617600000000000000,\n",
    "-0.10006818550131572000000000000000,\n",
    "-0.17375015755754980000000000000000,\n",
    "0.09144199588572080000000000000000,\n",
    "0.06333274196620012000000000000000,\n",
    "0.18885695495905560000000000000000],\n",
    "[-0.01953106526814817400000000000000,\n",
    "0.04562349863155088600000000000000,\n",
    "-0.06449816523133414000000000000000,\n",
    "0.10795958022637257000000000000000,\n",
    "0.20870412715473327000000000000000,\n",
    "-0.34305128523587164000000000000000,\n",
    "0.20610787816160206000000000000000,\n",
    "0.15302623451659570000000000000000,\n",
    "-0.19663655817284350000000000000000,\n",
    "-0.03225559076281020000000000000000],\n",
    "[0.07687270107052857000000000000000,\n",
    "0.03423656603948269000000000000000,\n",
    "0.00972886406663579300000000000000,\n",
    "0.03347453127885929000000000000000,\n",
    "-0.38395015179073870000000000000000,\n",
    "-0.12208904797809428000000000000000,\n",
    "-0.21343293877950006000000000000000,\n",
    "0.08503251617443101000000000000000,\n",
    "-0.22410768332176550000000000000000,\n",
    "-0.00080682975274845950000000000000]])\n",
    "b_java = np.array([\n",
    "[-0.04186277972062401500000000000000,\n",
    "-0.29583282044826054000000000000000,\n",
    "0.10430883363046356000000000000000,\n",
    "-0.20047302844542390000000000000000,\n",
    "-0.20631797993451628000000000000000,\n",
    "-0.05725535480408197000000000000000,\n",
    "0.33655462663938160000000000000000,\n",
    "-0.15960967049541133000000000000000,\n",
    "-0.06227665525195197000000000000000,\n",
    "-0.09359691986138624000000000000000],\n",
    "[-0.07053055866376953000000000000000,\n",
    "0.05719488736876343000000000000000,\n",
    "0.17324890613747704000000000000000,\n",
    "-0.06074394257312412000000000000000,\n",
    "-0.03367614431612519000000000000000,\n",
    "-0.23101704505266057000000000000000,\n",
    "-0.01386874271594444800000000000000,\n",
    "0.05741353763106080000000000000000,\n",
    "0.27165615240105484000000000000000,\n",
    "-0.23913792469582884000000000000000],\n",
    "[0.03559854861474542000000000000000,\n",
    "-0.16864624094419575000000000000000,\n",
    "0.37013817831190676000000000000000,\n",
    "0.09652339216404975000000000000000,\n",
    "0.10636347661970890000000000000000,\n",
    "0.02361709985688738600000000000000,\n",
    "-0.09576213409295244000000000000000,\n",
    "-0.00390819436841510800000000000000,\n",
    "-0.11285224878729816000000000000000,\n",
    "0.02674430160256350000000000000000],\n",
    "[0.19237837204626420000000000000000,\n",
    "0.07186886260604954000000000000000,\n",
    "0.02660112084623274600000000000000,\n",
    "-0.30616835131019415000000000000000,\n",
    "0.16900667809230080000000000000000,\n",
    "-0.06726450314718159000000000000000,\n",
    "-0.08778891505284213000000000000000,\n",
    "-0.11126347501281400000000000000000,\n",
    "-0.05085763493302193600000000000000,\n",
    "0.11022198233379867000000000000000],\n",
    "[0.05590678994439512000000000000000,\n",
    "-0.14020508152503890000000000000000,\n",
    "-0.23255805126723855000000000000000,\n",
    "-0.01410232957573500200000000000000,\n",
    "0.13382337136745556000000000000000,\n",
    "0.11763636854938990000000000000000,\n",
    "-0.18999399943666370000000000000000,\n",
    "0.00622643542187972200000000000000,\n",
    "-0.13351735489170455000000000000000,\n",
    "-0.31290782836870260000000000000000],\n",
    "[-0.43173419422649850000000000000000,\n",
    "0.27735099253783580000000000000000,\n",
    "0.09209990070101529000000000000000,\n",
    "-0.05845709996268090000000000000000,\n",
    "0.04507447804908378000000000000000,\n",
    "0.04254761903938439000000000000000,\n",
    "-0.14709140259641026000000000000000,\n",
    "-0.09939042778876395000000000000000,\n",
    "-0.20482947297739432000000000000000,\n",
    "-0.01860020977017270300000000000000],\n",
    "[0.04692785946568861500000000000000,\n",
    "-0.00891660449178431600000000000000,\n",
    "0.11164582216490654000000000000000,\n",
    "-0.30230974247818715000000000000000,\n",
    "0.00589844546345401100000000000000,\n",
    "0.16722109911518812000000000000000,\n",
    "0.11216948946007324000000000000000,\n",
    "0.41060397333430176000000000000000,\n",
    "-0.01753094799136844000000000000000,\n",
    "0.01359337097178014300000000000000],\n",
    "[-0.21360695581761086000000000000000,\n",
    "-0.31250252550968950000000000000000,\n",
    "-0.16192673561890950000000000000000,\n",
    "-0.11747843458058310000000000000000,\n",
    "0.06104424365284729000000000000000,\n",
    "-0.08410833356540756000000000000000,\n",
    "-0.16980056429904603000000000000000,\n",
    "0.08750790480409740000000000000000,\n",
    "0.07825756050426597000000000000000,\n",
    "0.18265836090344560000000000000000],\n",
    "[-0.01976735431000113000000000000000,\n",
    "0.04300360090187052000000000000000,\n",
    "-0.05656868527058303600000000000000,\n",
    "0.09766511804359225000000000000000,\n",
    "0.21013525473318760000000000000000,\n",
    "-0.33670829175559824000000000000000,\n",
    "0.21936608702002150000000000000000,\n",
    "0.10834516703567994000000000000000,\n",
    "-0.18081994936850798000000000000000,\n",
    "-0.02609955860385403000000000000000],\n",
    "[0.06958976464140514000000000000000,\n",
    "0.05176410764055463000000000000000,\n",
    "-0.00589725488497564800000000000000,\n",
    "0.02002858669720954500000000000000,\n",
    "-0.36663311700344975000000000000000,\n",
    "-0.13208553557400526000000000000000,\n",
    "-0.21713283790628950000000000000000,\n",
    "0.09627778033032740000000000000000,\n",
    "-0.23594538943305732000000000000000,\n",
    "0.01052195701658547300000000000000]])"
   ]
  },
  {
   "cell_type": "code",
   "execution_count": null,
   "metadata": {},
   "outputs": [],
   "source": []
  },
  {
   "cell_type": "code",
   "execution_count": 1053,
   "metadata": {},
   "outputs": [],
   "source": [
    "xy_sum_w = np.transpose(x) @ (y*w)\n",
    "xx_sum_w = np.transpose(x) @ (x*w)\n",
    "yy_sum_w = np.transpose(x) @ (x*w)\n",
    "x_sum_w = np.sum(x*w,axis=0)[:,np.newaxis]\n",
    "y_sum_w = np.sum(y*w,axis=0)[:,np.newaxis]"
   ]
  },
  {
   "cell_type": "code",
   "execution_count": 54,
   "metadata": {},
   "outputs": [],
   "source": [
    "# columns of a - linear coefficient column-vectors"
   ]
  },
  {
   "cell_type": "code",
   "execution_count": 76,
   "metadata": {},
   "outputs": [],
   "source": [
    "U = a.T @ X.T\n",
    "V = b.T @ Y.T\n",
    "\n",
    "U_java = a_java.T @ X.T\n",
    "V_java = b_java.T @ Y.T"
   ]
  },
  {
   "cell_type": "code",
   "execution_count": 93,
   "metadata": {},
   "outputs": [
    {
     "name": "stdout",
     "output_type": "stream",
     "text": [
      "Band #0\n",
      "0.905 0.905\n",
      "a length: 0.539733421289078\n",
      "b length: 0.5362717331479796\n",
      "a_java length: 0.5397334193416817\n",
      "b_java length: 0.5362717310834688\n",
      "\n",
      "Band #1\n",
      "0.885 0.885\n",
      "a length: 0.5756889836041388\n",
      "b length: 0.5685439333411613\n",
      "a_java length: 0.5756889840864774\n",
      "b_java length: 0.5685439345868585\n",
      "\n",
      "Band #2\n",
      "0.876 0.876\n",
      "a length: 0.5294619440187643\n",
      "b length: 0.5320628694482842\n",
      "a_java length: 0.5294619433927399\n",
      "b_java length: 0.5320628693372241\n",
      "\n",
      "Band #3\n",
      "0.843 0.843\n",
      "a length: 0.5299878157717204\n",
      "b length: 0.5154446392183366\n",
      "a_java length: 0.5299878171823342\n",
      "b_java length: 0.5154446401545585\n",
      "\n",
      "Band #4\n",
      "0.809 0.809\n",
      "a length: 0.5492716314877523\n",
      "b length: 0.5346549351834768\n",
      "a_java length: 0.5492716310781383\n",
      "b_java length: 0.5346549357685905\n",
      "\n",
      "Band #5\n",
      "0.767 0.767\n",
      "a length: 0.502476100888419\n",
      "b length: 0.4931877088804168\n",
      "a_java length: 0.502476101769439\n",
      "b_java length: 0.49318770954737556\n",
      "\n",
      "Band #6\n",
      "0.735 0.735\n",
      "a length: 0.5543380212328161\n",
      "b length: 0.569872456272321\n",
      "a_java length: 0.5543380204735965\n",
      "b_java length: 0.5698724547146731\n",
      "\n",
      "Band #7\n",
      "0.708 0.708\n",
      "a length: 0.5281079663342416\n",
      "b length: 0.49834221621888114\n",
      "a_java length: 0.5281079658942243\n",
      "b_java length: 0.49834221598682055\n",
      "\n",
      "Band #8\n",
      "0.655 0.655\n",
      "a length: 0.4912941985652414\n",
      "b length: 0.4975713355864187\n",
      "a_java length: 0.49129419821444076\n",
      "b_java length: 0.4975713354579649\n",
      "\n",
      "Band #9\n",
      "0.619 0.619\n",
      "a length: 0.4590737054816316\n",
      "b length: 0.45979289427847203\n",
      "a_java length: 0.45907370518810214\n",
      "b_java length: 0.459792894064452\n",
      "\n"
     ]
    }
   ],
   "source": [
    "for b_num in range(n_bands):\n",
    "    py_corr = np.corrcoef(U[b_num],V[b_num])[0,1]\n",
    "    java_corr = np.corrcoef(U_java[b_num],V_java[b_num])[0,1]\n",
    "    print(\"Band #{}\".format(b_num))\n",
    "    \n",
    "    print('{:.3f} {:.3f}'.format( py_corr, java_corr ) )\n",
    "    \n",
    "    print(\"a length: {}\".format(np.linalg.norm( a[:,b_num] )))\n",
    "    print(\"b length: {}\".format(np.linalg.norm( b[:,b_num] )))\n",
    "    \n",
    "    print(\"a_java length: {}\".format(np.linalg.norm( a_java[:,b_num] )))\n",
    "    print(\"b_java length: {}\".format(np.linalg.norm( b_java[:,b_num] )))\n",
    "    \n",
    "    print()"
   ]
  },
  {
   "cell_type": "code",
   "execution_count": 72,
   "metadata": {},
   "outputs": [
    {
     "data": {
      "image/png": "[encoded data removed]",
      "text/plain": [
       "<matplotlib.figure.Figure at 0x7f4e9c7b7f28>"
      ]
     },
     "metadata": {},
     "output_type": "display_data"
    }
   ],
   "source": [
    "plot( U[2,:20]-U[2].mean() );\n",
    "plot( V[2,:20]-V[2].mean());"
   ]
  },
  {
   "cell_type": "markdown",
   "metadata": {},
   "source": [
    "# Possible objectives:\n",
    "## 1. calculate std of M\n",
    "## 2. calcualte mean of M"
   ]
  },
  {
   "cell_type": "markdown",
   "metadata": {},
   "source": [
    "# 1. $Var[U-V]$"
   ]
  },
  {
   "cell_type": "code",
   "execution_count": 638,
   "metadata": {},
   "outputs": [],
   "source": [
    "u_var  = np.diagonal( a.T @ xx_cov @ a )\n",
    "v_var  = np.diagonal( b.T @ yy_cov @ b )\n",
    "uv_cov = np.diagonal( a.T @ xy_cov @ b )"
   ]
  },
  {
   "cell_type": "code",
   "execution_count": 648,
   "metadata": {},
   "outputs": [],
   "source": [
    "# calculation\n",
    "m_var = (u_var + v_var - 2*uv_cov)"
   ]
  },
  {
   "cell_type": "code",
   "execution_count": 640,
   "metadata": {},
   "outputs": [
    {
     "data": {
      "text/plain": [
       "array([ 0.19409982,  0.20756203,  0.23345295,  0.29247061,  0.32778984,\n",
       "        0.40334064,  0.45798809,  0.47371382,  0.61208765,  0.74684209])"
      ]
     },
     "execution_count": 640,
     "metadata": {},
     "output_type": "execute_result"
    }
   ],
   "source": [
    "# check\n",
    "np.ravel( [ np.var(u[:,i]-v[:,i]) for i in range(u.shape[1])] )"
   ]
  },
  {
   "cell_type": "markdown",
   "metadata": {},
   "source": [
    "# 2. $M[U-V]$"
   ]
  },
  {
   "cell_type": "code",
   "execution_count": 641,
   "metadata": {},
   "outputs": [],
   "source": [
    "u_mean = np.ravel( a.T @ x_sum/n )\n",
    "v_mean = np.ravel( b.T @ y_sum/n )\n",
    "m_mean = u_mean-v_mean"
   ]
  },
  {
   "cell_type": "code",
   "execution_count": 642,
   "metadata": {},
   "outputs": [
    {
     "name": "stdout",
     "output_type": "stream",
     "text": [
      "1.13686837722e-12\n",
      "9.66338120634e-13\n",
      "[ -4.66690449e+02   2.47728071e+02  -1.17724125e+03   8.74246820e-01\n",
      "   1.33826572e+02  -1.65424225e+02  -3.04640054e+02   3.18570740e+02\n",
      "   6.81964663e+01  -8.30801556e+01]\n",
      "[ -4.66690449e+02   2.47728071e+02  -1.17724125e+03   8.74246820e-01\n",
      "   1.33826572e+02  -1.65424225e+02  -3.04640054e+02   3.18570740e+02\n",
      "   6.81964663e+01  -8.30801556e+01]\n"
     ]
    }
   ],
   "source": [
    "# Check\n",
    "print( np.abs( u.mean(axis=0) - u_mean ).max() )\n",
    "print( np.abs( v.mean(axis=0) - v_mean ).max() )\n",
    "print( (u-v).mean(axis=0) )\n",
    "print( u_mean-v_mean )"
   ]
  },
  {
   "cell_type": "markdown",
   "metadata": {},
   "source": [
    "# Normalization of $U - V$\n",
    "## Seems pretty natural"
   ]
  },
  {
   "cell_type": "code",
   "execution_count": 643,
   "metadata": {},
   "outputs": [],
   "source": [
    "m = ( (u-v)-m_mean )/np.sqrt(m_var)"
   ]
  },
  {
   "cell_type": "code",
   "execution_count": 644,
   "metadata": {},
   "outputs": [],
   "source": [
    "from scipy import stats"
   ]
  },
  {
   "cell_type": "code",
   "execution_count": 645,
   "metadata": {},
   "outputs": [
    {
     "data": {
      "image/png": "[encoded data removed]",
      "text/plain": [
       "<matplotlib.figure.Figure at 0x7fd1e91bda20>"
      ]
     },
     "metadata": {},
     "output_type": "display_data"
    }
   ],
   "source": [
    "# X^2 distributed variable\n",
    "hist( (m**2).sum(axis=1), bins = 50, normed=True, label=\"histogram\",alpha=0.2);\n",
    "plot( linspace(0,35,100), [ stats.chi2.pdf(i,10) for i in linspace(0,35,100) ], label=\"expected\" );\n",
    "plot( np.linspace(0,35), stats.gaussian_kde((m**2).sum(axis=1))(np.linspace(0,35)), label=\"density estimation\")\n",
    "axes().legend();"
   ]
  },
  {
   "cell_type": "markdown",
   "metadata": {},
   "source": [
    "# Probabilities"
   ]
  },
  {
   "cell_type": "code",
   "execution_count": 647,
   "metadata": {},
   "outputs": [
    {
     "data": {
      "image/png": "[encoded data removed]",
      "text/plain": [
       "<matplotlib.figure.Figure at 0x7fd1e89f9d68>"
      ]
     },
     "metadata": {},
     "output_type": "display_data"
    }
   ],
   "source": [
    "# Basically, Pearson's chi-squared test\n",
    "# \n",
    "P = 1-stats.chi2.cdf( (m**2).sum(axis=1) , 10, 0 )\n",
    "hist(P,bins=20,normed=True);\n",
    "plot(np.linspace(0,1),[stats.uniform.pdf(i,0,1) for i in np.linspace(0,1)]);"
   ]
  },
  {
   "cell_type": "markdown",
   "metadata": {},
   "source": [
    "# Next steps - calculate Linear Regression on v and u"
   ]
  },
  {
   "cell_type": "markdown",
   "metadata": {},
   "source": [
    "# Regression formula:\n",
    "\n",
    "$$\\beta=(U^TU)^{-1}U^TV$$\n",
    "\n",
    "where $U, V$ - cannonical pair\n",
    "\n",
    "$$\n",
    "U^TU = \n",
    "\\begin{bmatrix}\n",
    "    n && \\sum u_i \\\\\n",
    "    \\sum u_i && \\sum u_i^2\n",
    "\\end{bmatrix}\n",
    "$$\n",
    "\n",
    "$$\n",
    "U^TV = \n",
    "\\begin{bmatrix}\n",
    "    \\sum v_i \\\\\n",
    "    \\sum u_i v_i \\\\\n",
    "\\end{bmatrix}\n",
    "$$"
   ]
  },
  {
   "cell_type": "markdown",
   "metadata": {},
   "source": [
    "# Weighted regression\n",
    "\n",
    "$$\\beta=(U^T W U)^{-1}U^T W V$$\n",
    "\n",
    "$$ W = diagonal[\\{w_1,w_2,...,w_k\\}] $$\n",
    "\n",
    "$$U^T W U = \n",
    "\\begin{bmatrix}\n",
    "    \\sum w_i && \\sum w_i u_i \\\\\n",
    "    \\sum w_i u_i && \\sum w_i u_i^2\n",
    "\\end{bmatrix}\n",
    "$$\n",
    "\n",
    "$$U^T W V = \n",
    "\\begin{bmatrix}\n",
    "    \\sum w_i v_i \\\\\n",
    "    \\sum w_i u_i v_i \\\\\n",
    "\\end{bmatrix}\n",
    "$$"
   ]
  },
  {
   "cell_type": "markdown",
   "metadata": {},
   "source": [
    "# IMPORTANT!!!\n",
    "### Below - formula for $\\sum u_i v_i $ described through xy_sum terms and a,b\n",
    "\n",
    "This is an essential part for calculating linear regression for target variable v and features u without actually calculating them\n",
    "This represents term X^{T} y"
   ]
  },
  {
   "cell_type": "code",
   "execution_count": 1009,
   "metadata": {},
   "outputs": [
    {
     "name": "stdout",
     "output_type": "stream",
     "text": [
      "403103732.874\n",
      "403103732.874\n"
     ]
    }
   ],
   "source": [
    "print( (u[:,0] * v[:,0]).sum() )\n",
    "print( ( ( a[:,0,np.newaxis] @ b[np.newaxis,:,0] ) * ( xy_sum ) ).sum() )"
   ]
  },
  {
   "cell_type": "markdown",
   "metadata": {},
   "source": [
    "### Same as above, but weighted $\\sum w_i u_i v_i$"
   ]
  },
  {
   "cell_type": "code",
   "execution_count": 1030,
   "metadata": {},
   "outputs": [
    {
     "name": "stdout",
     "output_type": "stream",
     "text": [
      "208494212.967\n",
      "208494212.967\n"
     ]
    }
   ],
   "source": [
    "print( (w.T*u[:,0]*v[:,0]).sum() )\n",
    "print( ( ( a[:,0,np.newaxis] @ b[np.newaxis,:,0] ) * ( xy_sum_w ) ).sum() )"
   ]
  },
  {
   "cell_type": "markdown",
   "metadata": {},
   "source": [
    "# Next step - calculate term $u^{T}u$"
   ]
  },
  {
   "cell_type": "markdown",
   "metadata": {},
   "source": [
    "### $\\sum_i u_i$"
   ]
  },
  {
   "cell_type": "code",
   "execution_count": 19,
   "metadata": {},
   "outputs": [
    {
     "name": "stdout",
     "output_type": "stream",
     "text": [
      "Original: 233940.17863294523\n"
     ]
    },
    {
     "data": {
      "text/plain": [
       "array([ 233940.17863295])"
      ]
     },
     "execution_count": 19,
     "metadata": {},
     "output_type": "execute_result"
    }
   ],
   "source": [
    "print(\"Original: {}\".format(u[:,0].sum()) )\n",
    "a[:,0] @ x_sum"
   ]
  },
  {
   "cell_type": "markdown",
   "metadata": {},
   "source": [
    "### $\\sum_i v_i$"
   ]
  },
  {
   "cell_type": "code",
   "execution_count": 20,
   "metadata": {},
   "outputs": [
    {
     "name": "stdout",
     "output_type": "stream",
     "text": [
      "Original: 952418.5591125629\n"
     ]
    },
    {
     "data": {
      "text/plain": [
       "array([ 952418.55911256])"
      ]
     },
     "execution_count": 20,
     "metadata": {},
     "output_type": "execute_result"
    }
   ],
   "source": [
    "print(\"Original: {}\".format(v[:,0].sum()))\n",
    "b[:,0] @ y_sum"
   ]
  },
  {
   "cell_type": "markdown",
   "metadata": {},
   "source": [
    "### $\\sum_i w_i u_i$"
   ]
  },
  {
   "cell_type": "code",
   "execution_count": 1080,
   "metadata": {},
   "outputs": [
    {
     "name": "stdout",
     "output_type": "stream",
     "text": [
      "229180.76465\n",
      "[ 229180.7646501]\n",
      "229180.76465\n"
     ]
    }
   ],
   "source": [
    "print( (w*u[:,0,np.newaxis]).sum() )\n",
    "print( a[:,0] @ x_sum_w )\n",
    "print((w.T*u[:,0]).sum())"
   ]
  },
  {
   "cell_type": "markdown",
   "metadata": {},
   "source": [
    "### $\\sum_i w_i v_i$"
   ]
  },
  {
   "cell_type": "code",
   "execution_count": 1044,
   "metadata": {},
   "outputs": [
    {
     "name": "stdout",
     "output_type": "stream",
     "text": [
      "470559.328313\n",
      "[ 470559.32831252]\n"
     ]
    }
   ],
   "source": [
    "print( (w*v[:,0,np.newaxis]).sum() )\n",
    "print( b[:,0] @ y_sum_w )"
   ]
  },
  {
   "cell_type": "markdown",
   "metadata": {},
   "source": [
    "### $\\sum_i u^2_i$"
   ]
  },
  {
   "cell_type": "code",
   "execution_count": 21,
   "metadata": {},
   "outputs": [
    {
     "name": "stdout",
     "output_type": "stream",
     "text": [
      "Original: 54729006.17881441\n"
     ]
    },
    {
     "data": {
      "text/plain": [
       "54729006.178814434"
      ]
     },
     "execution_count": 21,
     "metadata": {},
     "output_type": "execute_result"
    }
   ],
   "source": [
    "print(\"Original: {}\".format( (u[:,0]**2).sum() ) )\n",
    "((a[:,0,np.newaxis] @ a[:,0,np.newaxis].T) * xx_sum).sum()"
   ]
  },
  {
   "cell_type": "markdown",
   "metadata": {},
   "source": [
    "### $\\sum_i w_i u^2_i$"
   ]
  },
  {
   "cell_type": "code",
   "execution_count": 1055,
   "metadata": {},
   "outputs": [
    {
     "name": "stdout",
     "output_type": "stream",
     "text": [
      "101545038.18370044\n"
     ]
    }
   ],
   "source": [
    "print( repr( (np.ravel(w)*(u[:,0]**2)).sum() ) )"
   ]
  },
  {
   "cell_type": "code",
   "execution_count": 1054,
   "metadata": {},
   "outputs": [
    {
     "data": {
      "text/plain": [
       "101545038.18370043"
      ]
     },
     "execution_count": 1054,
     "metadata": {},
     "output_type": "execute_result"
    }
   ],
   "source": [
    "((a[:,0,np.newaxis] @ a[:,0,np.newaxis].T) * xx_sum_w).sum()"
   ]
  },
  {
   "cell_type": "markdown",
   "metadata": {},
   "source": [
    "# Assemble matrices"
   ]
  },
  {
   "cell_type": "markdown",
   "metadata": {},
   "source": [
    "$$\n",
    "m_1 = U^TU = \n",
    "\\begin{bmatrix}\n",
    "    n && \\sum u_i \\\\\n",
    "    \\sum u_i && \\sum u_i^2\n",
    "\\end{bmatrix}\n",
    "$$\n",
    "\n",
    "$$\n",
    "m_2 = U^TV = \n",
    "\\begin{bmatrix}\n",
    "    \\sum v_i \\\\\n",
    "    \\sum u_i v_i \\\\\n",
    "\\end{bmatrix}\n",
    "$$"
   ]
  },
  {
   "cell_type": "markdown",
   "metadata": {},
   "source": [
    "# Weighted matrices"
   ]
  },
  {
   "cell_type": "markdown",
   "metadata": {},
   "source": [
    "$$m_1 = U^T W U = \n",
    "\\begin{bmatrix}\n",
    "    \\sum w_i && \\sum w_i u_i \\\\\n",
    "    \\sum w_i u_i && \\sum w_i u_i^2\n",
    "\\end{bmatrix}\n",
    "$$\n",
    "\n",
    "$$m_2 = U^T W V = \n",
    "\\begin{bmatrix}\n",
    "    \\sum w_i v_i \\\\\n",
    "    \\sum w_i u_i v_i \\\\\n",
    "\\end{bmatrix}\n",
    "$$"
   ]
  },
  {
   "cell_type": "code",
   "execution_count": 1057,
   "metadata": {},
   "outputs": [],
   "source": [
    "# Ground-truth matrices calculated directly from u and v\n",
    "\n",
    "m1_true = np.array([\n",
    "    [u[:,0].shape[0], u[:,0].sum()],\n",
    "    [u[:,0].sum(), (u[:,0]*u[:,0]).sum()]\n",
    "])\n",
    "\n",
    "m2_true = np.array([\n",
    "    v[:,0].sum(),\n",
    "    (u[:,0]*v[:,0]).sum(),\n",
    "])\n",
    "\n",
    "m1_w_true = np.array([\n",
    "    [w.sum(), (w.T*u[:,0]).sum()],\n",
    "    [(w.T*u[:,0]).sum(), (w.T*u[:,0]*u[:,0]).sum()]\n",
    "])\n",
    "\n",
    "m2_w_true = np.array([\n",
    "    (w.T*v[:,0]).sum(),\n",
    "    (w.T*u[:,0]*v[:,0]).sum(),\n",
    "])\n"
   ]
  },
  {
   "cell_type": "code",
   "execution_count": 1077,
   "metadata": {},
   "outputs": [
    {
     "data": {
      "text/plain": [
       "229180.76465009619"
      ]
     },
     "execution_count": 1077,
     "metadata": {},
     "output_type": "execute_result"
    }
   ],
   "source": [
    "(w.T*u[:,0]).sum()"
   ]
  },
  {
   "cell_type": "markdown",
   "metadata": {},
   "source": [
    "# In other terms"
   ]
  },
  {
   "cell_type": "markdown",
   "metadata": {},
   "source": [
    "$$\n",
    "m_1 =\n",
    "\\begin{bmatrix}\n",
    "    n          && a^Tx_{sum} \\\\\n",
    "    a^Tx_{sum} && grandsum[ (aa^T) \\odot xx_{sum} ]\n",
    "\\end{bmatrix}\n",
    "$$\n",
    "\n",
    "$$\n",
    "mw_1 =\n",
    "\\begin{bmatrix}\n",
    "    \\sum w_i          && a^Tx_{wsum} \\\\\n",
    "    a^Tx_{wsum} && grandsum[ (aa^T) \\odot xx_{wsum} ]\n",
    "\\end{bmatrix}\n",
    "$$"
   ]
  },
  {
   "cell_type": "code",
   "execution_count": 1090,
   "metadata": {},
   "outputs": [
    {
     "data": {
      "text/plain": [
       "array([ 466.690449,    1.      ])"
      ]
     },
     "execution_count": 1090,
     "metadata": {},
     "output_type": "execute_result"
    }
   ],
   "source": [
    "m1 = np.array([[n,(a[:,0] @ x_sum)[0]],\n",
    "                  [(a[:,0] @ x_sum)[0],((a[:,0,np.newaxis] @ a[:,0,np.newaxis].T) * xx_sum).sum()]])\n",
    "\n",
    "m2 = np.array([\n",
    "    (b[:,0] @ y_sum)[0],\n",
    "    ( ( a[:,0,np.newaxis] @ b[np.newaxis,:,0] ) * ( xy_sum ) ).sum()\n",
    "    ])\n",
    "\n",
    "betas = np.linalg.inv(m1) @ m2\n",
    "betas"
   ]
  },
  {
   "cell_type": "code",
   "execution_count": 1091,
   "metadata": {},
   "outputs": [
    {
     "data": {
      "text/plain": [
       "array([ 229180.7646501])"
      ]
     },
     "execution_count": 1091,
     "metadata": {},
     "output_type": "execute_result"
    }
   ],
   "source": [
    "(a[:,0] @ x_sum_w)"
   ]
  },
  {
   "cell_type": "code",
   "execution_count": 1092,
   "metadata": {},
   "outputs": [],
   "source": [
    "m1_w = np.array([[w.sum(),(a[:,0] @ x_sum_w)[0]],\n",
    "                  [(a[:,0] @ x_sum_w)[0],((a[:,0,np.newaxis] @ a[:,0,np.newaxis].T) * xx_sum_w).sum()]])\n",
    "\n",
    "m2_w = np.array([\n",
    "    (b[:,0] @ y_sum_w)[0],\n",
    "    ( ( a[:,0,np.newaxis] @ b[np.newaxis,:,0] ) * ( xy_sum_w ) ).sum()\n",
    "    ])"
   ]
  },
  {
   "cell_type": "markdown",
   "metadata": {},
   "source": [
    "check correctness"
   ]
  },
  {
   "cell_type": "code",
   "execution_count": 1095,
   "metadata": {},
   "outputs": [
    {
     "name": "stdout",
     "output_type": "stream",
     "text": [
      "np.abs(m1-m1_true).max() = 5.960464477539063e-08\n",
      "np.abs(m2-m2_true).max() = 5.960464477539063e-08\n",
      "np.abs(m1_w-m1_w_true).max() = 1.4551915228366852e-10\n",
      "np.abs(m2_w-m2_w_true).max() = 2.9802322387695312e-08\n"
     ]
    }
   ],
   "source": [
    "# check correctness\n",
    "print( 'np.abs(m1-m1_true).max() = {}'.format( np.abs(m1-m1_true).max() ))\n",
    "print( 'np.abs(m2-m2_true).max() = {}'.format( np.abs(m2-m2_true).max() ))\n",
    "\n",
    "print( 'np.abs(m1_w-m1_w_true).max() = {}'.format( np.abs(m1_w-m1_w_true).max() ))\n",
    "print( 'np.abs(m2_w-m2_w_true).max() = {}'.format( np.abs(m2_w-m2_w_true).max() ))"
   ]
  },
  {
   "cell_type": "markdown",
   "metadata": {},
   "source": [
    "# Put calculation of linear regresson into function"
   ]
  },
  {
   "cell_type": "code",
   "execution_count": 1112,
   "metadata": {},
   "outputs": [],
   "source": [
    "def calc_linear_regression(n,a,b,x_sum, y_sum, xy_sum, xx_sum ):\n",
    "    m1 = np.array([[n,(a @ x_sum)[0]],\n",
    "                  [(a @ x_sum)[0],((a[:,np.newaxis] @ a[:,np.newaxis].T) * xx_sum).sum()]])\n",
    "    m2 = np.array([\n",
    "        (b @ y_sum)[0],\n",
    "        ( ( a[:,np.newaxis] @ b[np.newaxis,:] ) * ( xy_sum ) ).sum()\n",
    "    ])\n",
    "    return np.linalg.inv(m1) @ m2"
   ]
  },
  {
   "cell_type": "code",
   "execution_count": 1146,
   "metadata": {},
   "outputs": [
    {
     "name": "stdout",
     "output_type": "stream",
     "text": [
      "My method:\t466.6904489994 1.0000000001\n",
      "sk-learn check:\t466.6904489601 1.0000000002\n",
      "Mean of squares:  0.194099816094\n"
     ]
    }
   ],
   "source": [
    "intercept,coef = calc_linear_regression(n,a[:,0],b[:,0],x_sum, y_sum, xy_sum, xx_sum )\n",
    "print(\"My method:\\t{:.10f} {:.10f}\".format( intercept, coef ) )\n",
    "\n",
    "from sklearn.linear_model import LinearRegression\n",
    "skreg = LinearRegression(fit_intercept=True)\n",
    "skreg.fit(u[:,0,np.newaxis],v[:,0])\n",
    "print(\"sk-learn check:\\t{:.10f} {:.10f}\".format(skreg.intercept_, skreg.coef_[0] ) )\n",
    "\n",
    "print(\"Mean of squares: \", ((u[:,0]*coef+intercept - v[:,0])**2).mean() )"
   ]
  },
  {
   "cell_type": "markdown",
   "metadata": {},
   "source": [
    "### weighted linear regression"
   ]
  },
  {
   "cell_type": "code",
   "execution_count": 1148,
   "metadata": {},
   "outputs": [],
   "source": [
    "def calc_linear_regression_weighted( w_sum,a,b,x_sum_w, y_sum_w, xy_sum_w, xx_sum_w ):\n",
    "    m1_w = np.array([[w_sum,(a @ x_sum_w)[0]],\n",
    "                  [(a @ x_sum_w)[0],((a[:,np.newaxis] @ a[:,np.newaxis].T) * xx_sum_w).sum()]])\n",
    "    m2_w = np.array([\n",
    "        (b @ y_sum_w)[0],\n",
    "        ( ( a[:,np.newaxis] @ b[np.newaxis,:] ) * ( xy_sum_w ) ).sum()\n",
    "        ])\n",
    "    return np.linalg.inv(m1_w) @ m2_w"
   ]
  },
  {
   "cell_type": "markdown",
   "metadata": {},
   "source": [
    "## Check that weighted linear regression minimizes $\\sum w_i (u_i w_i)^2$"
   ]
  },
  {
   "cell_type": "code",
   "execution_count": 1164,
   "metadata": {},
   "outputs": [
    {
     "name": "stdout",
     "output_type": "stream",
     "text": [
      "My method:\t-0.0019535390 2.0532235194\n",
      "sk-learn check:\t474.8500679926 0.9815123720\n",
      "Mean of squares:  0.533671939929\n",
      "Sklearn mean of squares:  0.0575871292283\n",
      "Weighted sum of squares of my method is still less, so we can assume it works\n"
     ]
    }
   ],
   "source": [
    "intercept,coef = calc_linear_regression_weighted( w_sum,a[:,0],b[:,0],x_sum_w,y_sum_w, xy_sum_w, xx_sum_w )\n",
    "print(\"My method:\\t{:.10f} {:.10f}\".format( intercept, coef ) )\n",
    "\n",
    "from sklearn.linear_model import LinearRegression\n",
    "skreg = LinearRegression(fit_intercept=True)\n",
    "skreg.fit(u[:,0,np.newaxis],v[:,0],np.ravel(w))\n",
    "print(\"sk-learn check:\\t{:.10f} {:.10f}\".format(skreg.intercept_, skreg.coef_[0] ) )\n",
    "\n",
    "print(\"Mean of squares: \", ( np.ravel(w)*((u[:,0]*coef+intercept - v[:,0])**2)).mean() )\n",
    "print(\"Sklearn mean of squares: \", ( np.ravel(w)*((u[:,0]*skreg.coef_+skreg.intercept_ - v[:,0])**2) ).mean() )\n",
    "\n",
    "print(\"Weighted sum of squares of my method is still less, so we can assume it works\")"
   ]
  },
  {
   "cell_type": "code",
   "execution_count": null,
   "metadata": {},
   "outputs": [],
   "source": []
  },
  {
   "cell_type": "markdown",
   "metadata": {},
   "source": [
    "# Test new code"
   ]
  },
  {
   "cell_type": "code",
   "execution_count": 74,
   "metadata": {},
   "outputs": [],
   "source": [
    "a,b,r = new_CCA.cca(X,Y)\n",
    "u = np.dot( X,a )\n",
    "v = np.dot( Y,b )"
   ]
  },
  {
   "cell_type": "code",
   "execution_count": 79,
   "metadata": {},
   "outputs": [
    {
     "data": {
      "text/plain": [
       "0.87252536854435581"
      ]
     },
     "execution_count": 79,
     "metadata": {},
     "output_type": "execute_result"
    }
   ],
   "source": [
    "np.corrcoef((u+r)[:,1],v[:,1])[0,1]"
   ]
  },
  {
   "cell_type": "code",
   "execution_count": 104,
   "metadata": {},
   "outputs": [
    {
     "data": {
      "image/png": "[encoded data removed]",
      "text/plain": [
       "<matplotlib.figure.Figure at 0x7fee0dffd5f8>"
      ]
     },
     "metadata": {},
     "output_type": "display_data"
    }
   ],
   "source": [
    "hist( ((u+r)-v).sum(axis=1), bins=50 );"
   ]
  },
  {
   "cell_type": "code",
   "execution_count": 96,
   "metadata": {},
   "outputs": [
    {
     "data": {
      "image/png": "[encoded data removed]",
      "text/plain": [
       "<matplotlib.figure.Figure at 0x7fee0df28cc0>"
      ]
     },
     "metadata": {},
     "output_type": "display_data"
    }
   ],
   "source": [
    "hist( (u+r)[:,3]-v[:,3],bins=20 );\n",
    "hist( (u+r)[:,0]-v[:,0],bins=20 );"
   ]
  },
  {
   "cell_type": "markdown",
   "metadata": {},
   "source": [
    "# Dump data to files for testing"
   ]
  },
  {
   "cell_type": "code",
   "execution_count": 105,
   "metadata": {},
   "outputs": [],
   "source": [
    "import pandas as pd"
   ]
  },
  {
   "cell_type": "code",
   "execution_count": 35,
   "metadata": {},
   "outputs": [],
   "source": [
    "target_file = \"./test_files/\"\n",
    "pd.DataFrame(Y).to_csv(\"{}test_Y.csv\".format(target_file),index=False,header=False)\n",
    "pd.DataFrame(X).to_csv(\"{}test_X.csv\".format(target_file),index=False,header=False)\n",
    "\n",
    "pd.DataFrame(xx_cov).to_csv(\"{}xx_cov.csv\".format(target_file),index=False,header=False)\n",
    "pd.DataFrame(xy_cov).to_csv(\"{}xy_cov.csv\".format(target_file),index=False,header=False)\n",
    "pd.DataFrame(yy_cov).to_csv(\"{}yy_cov.csv\".format(target_file),index=False,header=False)\n",
    "\n",
    "pd.DataFrame(xx_cov_sqrt_inv).to_csv(\"{}xx_cov_sqrt_inv.csv\".format(target_file),index=False,header=False)\n",
    "pd.DataFrame(yy_cov_sqrt_inv).to_csv(\"{}yy_cov_sqrt_inv.csv\".format(target_file),index=False,header=False)\n",
    "\n",
    "pd.DataFrame(u).to_csv(\"{}test_U.csv\".format(target_file),index=False,header=False)\n",
    "pd.DataFrame(v).to_csv(\"{}test_V.csv\".format(target_file),index=False,header=False)\n",
    "\n",
    "pd.DataFrame(a).to_csv(\"{}test_a.csv\".format(target_file),index=False,header=False)\n",
    "pd.DataFrame(b).to_csv(\"{}test_b.csv\".format(target_file),index=False,header=False)\n",
    "pd.DataFrame(r).to_csv(\"{}test_regr.csv\".format(target_file),index=False,header=False)\n",
    "\n",
    "pd.DataFrame(x_sum).to_csv(\"{}x_sum.csv\".format(target_file),index=False,header=False)\n",
    "pd.DataFrame(xx_sum).to_csv(\"{}xx_sum.csv\".format(target_file),index=False,header=False)\n",
    "pd.DataFrame(xy_sum).to_csv(\"{}xy_sum.csv\".format(target_file),index=False,header=False)\n",
    "pd.DataFrame(yy_sum).to_csv(\"{}yy_sum.csv\".format(target_file),index=False,header=False)\n",
    "pd.DataFrame(y_sum).to_csv(\"{}y_sum.csv\".format(target_file),index=False,header=False)\n",
    "\n",
    "# Linear regression"
   ]
  },
  {
   "cell_type": "code",
   "execution_count": 38,
   "metadata": {},
   "outputs": [
    {
     "name": "stdout",
     "output_type": "stream",
     "text": [
      "-211.661 0.905\n",
      "-128.048 0.885\n",
      "877.101 0.876\n",
      "-228.738 0.843\n",
      "-135.078 0.809\n",
      "-363.052 -0.767\n",
      "281.195 -0.735\n",
      "106.805 0.708\n",
      "-206.500 0.655\n",
      "-44.387 0.619\n"
     ]
    }
   ],
   "source": [
    "for i in r:\n",
    "    print('{:.3f} {:.3f}'.format(*i))"
   ]
  },
  {
   "cell_type": "code",
   "execution_count": 42,
   "metadata": {},
   "outputs": [
    {
     "data": {
      "text/plain": [
       "array([[  2.11661000e+02,   9.05000000e-01],\n",
       "       [ -1.28048000e+02,   8.85000000e-01],\n",
       "       [ -8.77101000e+02,  -8.76000000e-01],\n",
       "       [  2.28738000e+02,   8.43000000e-01],\n",
       "       [  1.35078000e+02,   8.09000000e-01],\n",
       "       [  3.63052000e+02,  -7.67000000e-01],\n",
       "       [ -2.81195000e+02,   7.35000000e-01],\n",
       "       [  1.06805000e+02,   7.08000000e-01],\n",
       "       [  2.06500000e+02,   6.55000000e-01],\n",
       "       [ -4.43870000e+01,   6.10000000e-01]])"
      ]
     },
     "execution_count": 42,
     "metadata": {},
     "output_type": "execute_result"
    }
   ],
   "source": [
    "np.array( [[211.661,  0.905],\n",
    "[-128.048,  0.885],\n",
    "[-877.101, -0.876],\n",
    "[228.738,  0.843],\n",
    "[135.078,  0.809],\n",
    "[363.052, -0.767],\n",
    "[-281.195,  0.735],\n",
    "[106.805,  0.708],\n",
    "[206.500,  0.655],\n",
    "[-44.387,  0.61]] )"
   ]
  },
  {
   "cell_type": "code",
   "execution_count": 45,
   "metadata": {},
   "outputs": [
    {
     "data": {
      "text/plain": [
       "array([ 0.04017905,  0.05974366, -0.0247334 , -0.18241331, -0.04739639,\n",
       "        0.43921948, -0.05073684,  0.21958342,  0.01953106, -0.0768727 ])"
      ]
     },
     "execution_count": 45,
     "metadata": {},
     "output_type": "execute_result"
    }
   ],
   "source": [
    "a[:,0]"
   ]
  },
  {
   "cell_type": "code",
   "execution_count": 43,
   "metadata": {},
   "outputs": [
    {
     "data": {
      "text/plain": [
       "array([[ -2.11660830e+02,   9.04606371e-01],\n",
       "       [ -1.28048165e+02,   8.85241233e-01],\n",
       "       [  8.77100852e+02,   8.75612908e-01],\n",
       "       [ -2.28737565e+02,   8.42725227e-01],\n",
       "       [ -1.35077876e+02,   8.08602108e-01],\n",
       "       [ -3.63051623e+02,  -7.66796132e-01],\n",
       "       [  2.81195135e+02,  -7.34809087e-01],\n",
       "       [  1.06805387e+02,   7.08137213e-01],\n",
       "       [ -2.06500431e+02,   6.55479605e-01],\n",
       "       [ -4.43874395e+01,   6.18870976e-01]])"
      ]
     },
     "execution_count": 43,
     "metadata": {},
     "output_type": "execute_result"
    }
   ],
   "source": [
    "r"
   ]
  },
  {
   "cell_type": "markdown",
   "metadata": {},
   "source": [
    "# Below - temporary records"
   ]
  },
  {
   "cell_type": "code",
   "execution_count": 94,
   "metadata": {},
   "outputs": [],
   "source": [
    "eigenvals,eigenvecs = np.linalg.eig( xx_sum )\n",
    "\n",
    "E = np.diag( eigenvals )\n",
    "V = eigenvecs\n",
    "\n",
    "# E,V\n",
    "# E - matrix with eigenvalues on diagonal\n",
    "# V - matrix with eigenvectors\n",
    "\n",
    "# sqrtMatrix = V * sqrt(E) * V^T\n",
    "\n",
    "res = V @ sqrt(E) @ V.T\n",
    "\n",
    "sqrt(E)\n",
    "sqrtm(xx_cov)\n",
    "\n",
    "v_mat = yy_cov_sqrt_inv @ xy_cov.T @ np.linalg.inv(xx_cov) @ xy_cov @ yy_cov_sqrt_inv\n",
    "v_eigvals,v_eigvecs = np.linalg.eig(v_mat)\n",
    "\n",
    "v_eigvecs.T[sorted([i for i in range(len(v_eigvals))], key=lambda x: -v_eigvals[x])]"
   ]
  },
  {
   "cell_type": "markdown",
   "metadata": {},
   "source": [
    "# What about weights?\n",
    "try to calculate weighted CCA and see if your predictions apply"
   ]
  },
  {
   "cell_type": "code",
   "execution_count": 923,
   "metadata": {},
   "outputs": [],
   "source": [
    "weights = np.abs( np.random.normal(0.6,0.4,size=x.size) )[:,np.newaxis]"
   ]
  },
  {
   "cell_type": "code",
   "execution_count": 774,
   "metadata": {},
   "outputs": [
    {
     "name": "stdout",
     "output_type": "stream",
     "text": [
      "yy_cov\n",
      "Was: 1.25454545455\n",
      "Begun: 1.30421962605\n"
     ]
    }
   ],
   "source": [
    "print('yy_cov')\n",
    "print(\"Was:\",((y-y.mean())**2).sum()/(y.size-1))\n",
    "print(\"Begun:\",( weights*np.ravel((y-y.mean())**2) ).sum()/(weights.sum()-1))"
   ]
  },
  {
   "cell_type": "code",
   "execution_count": 775,
   "metadata": {},
   "outputs": [
    {
     "name": "stdout",
     "output_type": "stream",
     "text": [
      "xx_cov\n",
      "Was: 0.8\n",
      "Begun: 0.802308381077\n"
     ]
    }
   ],
   "source": [
    "print(\"xx_cov\")\n",
    "print(\"Was:\",((x-x.mean())**2).sum()/(x.size-1))\n",
    "print(\"Begun:\",( weights*np.ravel((x-x.mean())**2) ).sum()/(weights.sum()-1))"
   ]
  },
  {
   "cell_type": "code",
   "execution_count": 776,
   "metadata": {},
   "outputs": [
    {
     "name": "stdout",
     "output_type": "stream",
     "text": [
      "xy_cov\n",
      "Was: 0.3\n",
      "Begun:  0.446885332427\n"
     ]
    }
   ],
   "source": [
    "print(\"xy_cov\")\n",
    "print(\"Was:\",((x-x.mean())*(y-y.mean())).sum()/(y.size-1) )\n",
    "print(\"Begun: \", (weights*np.ravel((x-x.mean())*(y-y.mean()))).sum()/(weights.sum()-1) )"
   ]
  },
  {
   "cell_type": "code",
   "execution_count": 773,
   "metadata": {},
   "outputs": [
    {
     "data": {
      "text/plain": [
       "array([[ 0.8       ,  0.3       ],\n",
       "       [ 0.3       ,  1.25454545]])"
      ]
     },
     "execution_count": 773,
     "metadata": {},
     "output_type": "execute_result"
    }
   ],
   "source": [
    "np.cov(x.T,y.T)"
   ]
  },
  {
   "cell_type": "code",
   "execution_count": 769,
   "metadata": {},
   "outputs": [
    {
     "data": {
      "text/plain": [
       "array([[ 0.69040823,  0.54409609],\n",
       "       [ 0.54409609,  1.29332109]])"
      ]
     },
     "execution_count": 769,
     "metadata": {},
     "output_type": "execute_result"
    }
   ],
   "source": [
    "np.cov(x.T,y.T)"
   ]
  },
  {
   "cell_type": "code",
   "execution_count": 905,
   "metadata": {},
   "outputs": [],
   "source": [
    "weights = np.ones(y.size)[:,np.newaxis]"
   ]
  },
  {
   "cell_type": "code",
   "execution_count": 962,
   "metadata": {},
   "outputs": [],
   "source": [
    "x = np.array([0,0,1,2,0,0,1,2,1,2,2])[:,np.newaxis]\n",
    "y = np.array([0,2,1,0,1,1,2,4,1,2,1])[:,np.newaxis]\n",
    "\n",
    "#y = weights[:,np.newaxis]*y\n",
    "#x = weights[:,np.newaxis]*x\n",
    "\n",
    "x_sum = np.sum(x,axis=0)[:,np.newaxis]\n",
    "y_sum = np.sum(y,axis=0)[:,np.newaxis]\n",
    "x_sum_w = np.sum(x*weights,axis=0)[:,np.newaxis]\n",
    "y_sum_w = np.sum(y*weights,axis=0)[:,np.newaxis]\n",
    "xy_sum = np.transpose(x) @ (y*weights) # Equivavlent of X^T W Y, where W - matrix with weights on diagonal, see proof below\n",
    "xx_sum = np.transpose(x) @ x\n",
    "yy_sum = np.transpose(y) @ y\n",
    "n = np.shape(x)[0]\n",
    "#n = weights.sum()\n",
    "w_sum = weights.sum()\n",
    "\n",
    "xy_cov = calc_covariance(xy_sum,x_sum,y_sum,n)\n",
    "xx_cov = calc_covariance(xx_sum,x_sum,x_sum,n)\n",
    "yy_cov = calc_covariance(yy_sum,y_sum,y_sum,n)\n"
   ]
  },
  {
   "cell_type": "markdown",
   "metadata": {},
   "source": [
    "# Proof of np.transpose(x) @ (y*weights) = $X^T W Y$"
   ]
  },
  {
   "cell_type": "code",
   "execution_count": 1002,
   "metadata": {},
   "outputs": [
    {
     "data": {
      "text/plain": [
       "array([[ 0.]])"
      ]
     },
     "execution_count": 1002,
     "metadata": {},
     "output_type": "execute_result"
    }
   ],
   "source": [
    "xy_sum - (np.transpose(x) @ np.diag( np.ravel(weights) ) @  y)"
   ]
  },
  {
   "cell_type": "markdown",
   "metadata": {},
   "source": [
    "# Below - derivation of covariance for weighted samples"
   ]
  },
  {
   "cell_type": "code",
   "execution_count": 937,
   "metadata": {},
   "outputs": [
    {
     "data": {
      "text/plain": [
       "0.13623914450262825"
      ]
     },
     "execution_count": 937,
     "metadata": {},
     "output_type": "execute_result"
    }
   ],
   "source": [
    "(weights*(x-x.mean())*(y-y.mean())).sum()/(weights.sum()-1)"
   ]
  },
  {
   "cell_type": "code",
   "execution_count": 932,
   "metadata": {},
   "outputs": [
    {
     "data": {
      "text/plain": [
       "0.13623914450262861"
      ]
     },
     "execution_count": 932,
     "metadata": {},
     "output_type": "execute_result"
    }
   ],
   "source": [
    "( (weights*x.mean()*y.mean()).sum() + ((x*y - x*y.mean() - y*x.mean())*weights).sum() )/(weights.sum()-1)"
   ]
  },
  {
   "cell_type": "code",
   "execution_count": 966,
   "metadata": {},
   "outputs": [
    {
     "data": {
      "text/plain": [
       "0.13623914450262803"
      ]
     },
     "execution_count": 966,
     "metadata": {},
     "output_type": "execute_result"
    }
   ],
   "source": [
    "( (weights*(x_sum*y_sum)/n/n).sum() + ( (x*y)*weights ).sum() + ((- x*y_sum/n)*weights).sum() - ((y*x_sum/n)*weights).sum() )/(w_sum-1)"
   ]
  },
  {
   "cell_type": "code",
   "execution_count": 984,
   "metadata": {},
   "outputs": [
    {
     "data": {
      "text/plain": [
       "array([[ 0.13623914]])"
      ]
     },
     "execution_count": 984,
     "metadata": {},
     "output_type": "execute_result"
    }
   ],
   "source": [
    "( (w_sum*(x_sum*y_sum)/n/n) + xy_sum -x_sum_w*y_sum/n -y_sum_w*x_sum/n )/(w_sum-1)"
   ]
  },
  {
   "cell_type": "code",
   "execution_count": 1167,
   "metadata": {},
   "outputs": [],
   "source": [
    "# Correlation function\n",
    "def calc_covariance_weighted(xy_sum,x_sum,x_sum_w,y_sum,y_sum_w,n,w_sum):\n",
    "    \"\"\"\n",
    "    calculate weighted covariance matrix of 2 variables\n",
    "    \"\"\"\n",
    "    return ( (w_sum*(x_sum*y_sum)/n/n) + xy_sum -x_sum_w*y_sum/n -y_sum_w*x_sum/n )/(w_sum-1)"
   ]
  },
  {
   "cell_type": "markdown",
   "metadata": {},
   "source": [
    "# Weighted linear regression formulas"
   ]
  },
  {
   "cell_type": "code",
   "execution_count": null,
   "metadata": {},
   "outputs": [],
   "source": []
  },
  {
   "cell_type": "markdown",
   "metadata": {},
   "source": [
    "# Tests"
   ]
  },
  {
   "cell_type": "code",
   "execution_count": 910,
   "metadata": {},
   "outputs": [
    {
     "name": "stdout",
     "output_type": "stream",
     "text": [
      "xx_cov: [[ 0.8]]\n",
      "xy_cov: [[ 0.3]]\n",
      "yy_cov: [[ 1.25454545]]\n"
     ]
    }
   ],
   "source": [
    "print(\"xx_cov: {}\".format(xx_cov))\n",
    "print(\"xy_cov: {}\".format(xy_cov))\n",
    "print(\"yy_cov: {}\".format(yy_cov))"
   ]
  },
  {
   "cell_type": "code",
   "execution_count": 779,
   "metadata": {},
   "outputs": [
    {
     "data": {
      "text/plain": [
       "array([[ 0.39595629]])"
      ]
     },
     "execution_count": 779,
     "metadata": {},
     "output_type": "execute_result"
    }
   ],
   "source": [
    "xy_cov"
   ]
  },
  {
   "cell_type": "code",
   "execution_count": 780,
   "metadata": {},
   "outputs": [
    {
     "data": {
      "text/plain": [
       "array([[ 1.22379051]])"
      ]
     },
     "execution_count": 780,
     "metadata": {},
     "output_type": "execute_result"
    }
   ],
   "source": [
    "yy_cov"
   ]
  },
  {
   "cell_type": "code",
   "execution_count": 781,
   "metadata": {},
   "outputs": [
    {
     "data": {
      "text/plain": [
       "array([[ 0.64138314]])"
      ]
     },
     "execution_count": 781,
     "metadata": {},
     "output_type": "execute_result"
    }
   ],
   "source": [
    "xx_cov"
   ]
  },
  {
   "cell_type": "code",
   "execution_count": 782,
   "metadata": {},
   "outputs": [
    {
     "data": {
      "text/plain": [
       "array([[ 0.69040823,  0.54409609],\n",
       "       [ 0.54409609,  1.29332109]])"
      ]
     },
     "execution_count": 782,
     "metadata": {},
     "output_type": "execute_result"
    }
   ],
   "source": [
    "np.cov(x.T,y.T)"
   ]
  },
  {
   "cell_type": "code",
   "execution_count": 783,
   "metadata": {},
   "outputs": [
    {
     "data": {
      "text/plain": [
       "array([[ 9.5872369]])"
      ]
     },
     "execution_count": 783,
     "metadata": {},
     "output_type": "execute_result"
    }
   ],
   "source": [
    "x_sum"
   ]
  },
  {
   "cell_type": "code",
   "execution_count": 784,
   "metadata": {},
   "outputs": [],
   "source": [
    "def calc_covariance(xy_sum,x_sum,y_sum,n):\n",
    "    \"\"\"\n",
    "    calculate covariance matrix of 2 variables\n",
    "    \"\"\"\n",
    "    return ( xy_sum - np.matmul(x_sum,y_sum.T)/n )/(n-1)"
   ]
  },
  {
   "cell_type": "code",
   "execution_count": 787,
   "metadata": {},
   "outputs": [
    {
     "data": {
      "text/plain": [
       "array([[ 0.3]])"
      ]
     },
     "execution_count": 787,
     "metadata": {},
     "output_type": "execute_result"
    }
   ],
   "source": [
    "calc_covariance(xy_sum,x_sum,y_sum,n)"
   ]
  },
  {
   "cell_type": "code",
   "execution_count": 790,
   "metadata": {},
   "outputs": [
    {
     "data": {
      "text/plain": [
       "0.3000000000000001"
      ]
     },
     "execution_count": 790,
     "metadata": {},
     "output_type": "execute_result"
    }
   ],
   "source": [
    "np.cov(x.T,y.T)[0,1]"
   ]
  },
  {
   "cell_type": "code",
   "execution_count": 804,
   "metadata": {},
   "outputs": [
    {
     "data": {
      "text/plain": [
       "0.3000000000000001"
      ]
     },
     "execution_count": 804,
     "metadata": {},
     "output_type": "execute_result"
    }
   ],
   "source": [
    "((x-x.mean())*(y-y.mean())).sum()/(n-1)"
   ]
  },
  {
   "cell_type": "code",
   "execution_count": 883,
   "metadata": {},
   "outputs": [
    {
     "data": {
      "text/plain": [
       "array([[ 0.3]])"
      ]
     },
     "execution_count": 883,
     "metadata": {},
     "output_type": "execute_result"
    }
   ],
   "source": [
    "(\n",
    "    xy_sum + (-2*x_sum*y_sum)/n + (x_sum * y_sum)/n\n",
    ")/(n-1)"
   ]
  },
  {
   "cell_type": "code",
   "execution_count": 850,
   "metadata": {},
   "outputs": [
    {
     "data": {
      "text/plain": [
       "array([[ 1.36363636]])"
      ]
     },
     "execution_count": 850,
     "metadata": {},
     "output_type": "execute_result"
    }
   ],
   "source": [
    "(x_sum * y_sum)/(n**2) "
   ]
  },
  {
   "cell_type": "code",
   "execution_count": 864,
   "metadata": {},
   "outputs": [
    {
     "data": {
      "text/plain": [
       "array([[ 0.        ],\n",
       "       [-2.        ],\n",
       "       [-2.36363636],\n",
       "       [-2.72727273],\n",
       "       [-1.        ],\n",
       "       [-1.        ],\n",
       "       [-3.36363636],\n",
       "       [-6.72727273],\n",
       "       [-2.36363636],\n",
       "       [-4.72727273],\n",
       "       [-3.72727273]])"
      ]
     },
     "execution_count": 864,
     "metadata": {},
     "output_type": "execute_result"
    }
   ],
   "source": [
    "((-x*y_sum/n) + (-x_sum/n*y))"
   ]
  },
  {
   "cell_type": "code",
   "execution_count": 879,
   "metadata": {},
   "outputs": [
    {
     "data": {
      "text/plain": [
       "array([[-330]])"
      ]
     },
     "execution_count": 879,
     "metadata": {},
     "output_type": "execute_result"
    }
   ],
   "source": [
    "(-2*x_sum*y_sum)"
   ]
  },
  {
   "cell_type": "code",
   "execution_count": null,
   "metadata": {},
   "outputs": [],
   "source": []
  },
  {
   "cell_type": "code",
   "execution_count": 816,
   "metadata": {},
   "outputs": [
    {
     "data": {
      "text/plain": [
       "1.3636363636363635"
      ]
     },
     "execution_count": 816,
     "metadata": {},
     "output_type": "execute_result"
    }
   ],
   "source": [
    "x.mean()*y.mean()"
   ]
  },
  {
   "cell_type": "code",
   "execution_count": 802,
   "metadata": {},
   "outputs": [
    {
     "data": {
      "text/plain": [
       "0.3000000000000001"
      ]
     },
     "execution_count": 802,
     "metadata": {},
     "output_type": "execute_result"
    }
   ],
   "source": [
    "((x-x.mean())*(y-y.mean())).sum()/(n-1)"
   ]
  },
  {
   "cell_type": "code",
   "execution_count": 797,
   "metadata": {},
   "outputs": [
    {
     "data": {
      "text/plain": [
       "array([[ 0.13636364]])"
      ]
     },
     "execution_count": 797,
     "metadata": {},
     "output_type": "execute_result"
    }
   ],
   "source": [
    "x_sum*y_sum/(n**2*(n-1))"
   ]
  }
 ],
 "metadata": {
  "kernelspec": {
   "display_name": "Python 3",
   "language": "python",
   "name": "python3"
  },
  "language_info": {
   "codemirror_mode": {
    "name": "ipython",
    "version": 3
   },
   "file_extension": ".py",
   "mimetype": "text/x-python",
   "name": "python",
   "nbconvert_exporter": "python",
   "pygments_lexer": "ipython3",
   "version": "3.5.2"
  }
 },
 "nbformat": 4,
 "nbformat_minor": 2
}
