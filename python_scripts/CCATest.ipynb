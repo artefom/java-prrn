{
 "cells": [
  {
   "cell_type": "code",
   "execution_count": 1,
   "metadata": {},
   "outputs": [
    {
     "name": "stdout",
     "output_type": "stream",
     "text": [
      "Populating the interactive namespace from numpy and matplotlib\n"
     ]
    }
   ],
   "source": [
    "%pylab inline\n",
    "%load_ext autoreload\n",
    "%autoreload 1\n",
    "%aimport new_CCA\n",
    "%aimport sample_gen\n",
    "from scipy.stats import multivariate_normal\n",
    "from collections import defaultdict\n",
    "%aimport cca_compare"
   ]
  },
  {
   "cell_type": "markdown",
   "metadata": {},
   "source": [
    "# Creating test distribution"
   ]
  },
  {
   "cell_type": "code",
   "execution_count": 2,
   "metadata": {},
   "outputs": [],
   "source": [
    "n_bands = 10\n",
    "n_samples = 1000\n",
    "d1 = sample_gen.create_distribution(n_bands,mean_std_scale=0.3,std=1)\n",
    "d2 = sample_gen.create_distribution(n_bands,mean_std_scale=1,std=2,std_scale=0.1)\n",
    "X = d1.rvs(n_samples)\n",
    "Y = X+d2.rvs(n_samples)"
   ]
  },
  {
   "cell_type": "markdown",
   "metadata": {},
   "source": [
    "# Code for testing CCA algorithms"
   ]
  },
  {
   "cell_type": "code",
   "execution_count": 3,
   "metadata": {},
   "outputs": [
    {
     "name": "stderr",
     "output_type": "stream",
     "text": [
      "<ipython-input-3-f41b1bc6de61>:94: SyntaxWarning: name 'nastyCorr' is used prior to global declaration\n",
      "  global nastyCorr\n"
     ]
    }
   ],
   "source": [
    "# Generate samples\n",
    "def gen_samples(sample_size,n_bands=3):\n",
    "    X = np.random.normal(0,1,size=(sample_size,n_bands))\n",
    "    Y = X+np.random.normal(0,0.5,size=(sample_size,n_bands))\n",
    "    return X,Y\n",
    "\n",
    "# Print info about cca\n",
    "def cca_info(X,Y, A, B):\n",
    "    \n",
    "    prev_u = None\n",
    "    prev_v = None\n",
    "    \n",
    "    for i,(a,b) in enumerate( zip(A.T,B.T) ):\n",
    "        print('{} cannonical variates pair'.format(i+1))\n",
    "                \n",
    "        u = np.dot( X,a )\n",
    "        v = np.dot( Y,b )\n",
    "\n",
    "        if prev_u is not None and prev_v is not None:\n",
    "            print('prev corrcoef:\\n{: <10.4f}{: <10.4f}\\n{: <10.4f}{: <10.4f}'.format( \n",
    "                np.corrcoef(u,prev_u)[0,1], np.corrcoef(u,prev_v)[0,1],\n",
    "                np.corrcoef(v,prev_u)[0,1], np.corrcoef(v,prev_v)[0,1]\n",
    "            ))\n",
    "        prev_u = u\n",
    "        prev_v = v\n",
    "\n",
    "        print('corrcoef: {:.4f}'.format(np.corrcoef(u,v)[0,1]))\n",
    "\n",
    "        # Fit u more tightly to v\n",
    "        reg = LinearRegression()\n",
    "        reg.fit(u[:,np.newaxis],v)\n",
    "        new_u = reg.predict(u[:,np.newaxis])\n",
    "\n",
    "        plot(new_u[:10],'C0-',label='u')\n",
    "        plot(u[:10],'C0--')\n",
    "        plot(v[:10],'C1',label='v')\n",
    "        legend()\n",
    "        show()\n",
    "        \n",
    "def random_subsample(sample_size,*args):\n",
    "    ret = []\n",
    "    ids = np.array([i for i in range(len(args[0]))])\n",
    "    np.random.shuffle(ids)\n",
    "    \n",
    "    for arg in args:\n",
    "        ret.append(np.array(arg)[ids][:sample_size])\n",
    "        \n",
    "    return ret\n",
    "\n",
    "nastyCorr = None\n",
    "nastyX = None\n",
    "nastyY = None\n",
    "\n",
    "# Compare CCA\n",
    "def cca_compare(X,Y, funcs_dict, x_samples = 20, n_probas = 10,train_eval=False):\n",
    "    \n",
    "    func_labels = list(funcs_dict.keys())\n",
    "    funcs = [funcs_dict[i] for i in func_labels]\n",
    "    \n",
    "    sample_sizes = []\n",
    "    \n",
    "    correlations_mean = defaultdict(list)\n",
    "    correlations_max = defaultdict(list)\n",
    "    correlations_min = defaultdict(list)\n",
    "    \n",
    "    for sample_size in np.linspace(int(X.shape[0]*0.2),X.shape[0],x_samples).astype(np.int):\n",
    "        sample_sizes.append(sample_size)\n",
    "        \n",
    "        for func in funcs:\n",
    "\n",
    "            corr_pack_mean = []\n",
    "            corr_pack_max = []\n",
    "            corr_pack_min = []\n",
    "            \n",
    "            for n_proba in range(n_probas):\n",
    "                corr_pack = []\n",
    "            \n",
    "                Xs,Ys = random_subsample(sample_size,X,Y)\n",
    "                A,B = func(Xs,Ys)\n",
    "            \n",
    "                for i,(a,b) in enumerate( zip(A.T,B.T) ):\n",
    "                    if train_eval:\n",
    "                        u = np.dot( Xs,a )\n",
    "                        v = np.dot( Ys,b )\n",
    "                    else:\n",
    "                        u = np.dot( X,a )\n",
    "                        v = np.dot( Y,b )\n",
    "                    corr_pack.append( np.abs( np.corrcoef(u,v)[0,1] ) )\n",
    "\n",
    "                global nastyCorr\n",
    "                if np.array(corr_pack).max() > 0 and (nastyCorr is None or nastyCorr > np.array(corr_pack).max() ):\n",
    "                    global nastyX\n",
    "                    global nastyY\n",
    "                    global nastyCorr\n",
    "                    nastyX = Xs\n",
    "                    nastyY = Ys\n",
    "                    nastyCorr = np.array(corr_pack).max()\n",
    "                    print(\"nastyCorr: {}\".format(nastyCorr))\n",
    "                    \n",
    "                corr_pack_mean.append(corr_pack)\n",
    "\n",
    "            correlations_min[func].append( np.percentile(corr_pack_mean,1,axis=0) )\n",
    "            correlations_mean[func].append( np.percentile(corr_pack_mean,50,axis=0) )\n",
    "            correlations_max[func].append( np.percentile(corr_pack_mean,99,axis=0) )\n",
    "    \n",
    "    corr_by_func_min = defaultdict(lambda: defaultdict(list))\n",
    "    corr_by_func_mean = defaultdict(lambda: defaultdict(list))\n",
    "    corr_by_func_max = defaultdict(lambda: defaultdict(list))\n",
    "    \n",
    "    for func_id,func in enumerate(funcs):\n",
    "        for component_id, component_corr in enumerate( np.array( correlations_min[func] ).T ):\n",
    "            corr_by_func_min[component_id][func_id] = component_corr\n",
    "        for component_id, component_corr in enumerate( np.array( correlations_mean[func] ).T ):\n",
    "            corr_by_func_mean[component_id][func_id] = component_corr\n",
    "        for component_id, component_corr in enumerate( np.array( correlations_max[func] ).T ):\n",
    "            corr_by_func_max[component_id][func_id] = component_corr\n",
    "        \n",
    "    for component_id in corr_by_func_mean.keys():\n",
    "        for func_i,(func,label) in enumerate( zip(funcs,func_labels) ):\n",
    "            \n",
    "            if func_i not in corr_by_func_mean[component_id]:\n",
    "                continue\n",
    "                \n",
    "            color = 'C{}'.format(func_i)\n",
    "            \n",
    "            min_x  = corr_by_func_min[component_id][func_i]\n",
    "            mean_x = corr_by_func_mean[component_id][func_i]\n",
    "            max_x  = corr_by_func_max[component_id][func_i]\n",
    "            \n",
    "            plot(sample_sizes, mean_x,color,label=label)\n",
    "            fill_between(sample_sizes,min_x,max_x,facecolor=color,alpha=0.1)\n",
    "        \n",
    "        grid(True)\n",
    "        title('Comparison of CCA. Band {}'.format(component_id))\n",
    "        xlabel(\"sub-Sample size\")\n",
    "        ylabel(\"Correlation\")\n",
    "        legend()\n",
    "        show()"
   ]
  },
  {
   "cell_type": "markdown",
   "metadata": {},
   "source": [
    "# CCA from sklearn"
   ]
  },
  {
   "cell_type": "code",
   "execution_count": 4,
   "metadata": {},
   "outputs": [],
   "source": [
    "from sklearn.cross_decomposition import CCA\n",
    "from new_CCA import cca\n",
    "def sklearn_cca(X,Y,n_components=10):\n",
    "    cca_instance = CCA(n_components=n_components)\n",
    "    cca_instance.fit(X,Y)    \n",
    "    return cca_instance.x_rotations_, cca_instance.y_rotations_"
   ]
  },
  {
   "cell_type": "markdown",
   "metadata": {},
   "source": [
    "## CCA test fitness"
   ]
  },
  {
   "cell_type": "code",
   "execution_count": 7,
   "metadata": {},
   "outputs": [],
   "source": [
    "a, b, r = new_CCA.cca(X,Y)\n",
    "u = np.dot( X,a )\n",
    "v = np.dot( Y,b )"
   ]
  },
  {
   "cell_type": "code",
   "execution_count": 8,
   "metadata": {},
   "outputs": [
    {
     "data": {
      "image/png": "[encoded data removed]",
      "text/plain": [
       "<matplotlib.figure.Figure at 0x7fee0ee4e668>"
      ]
     },
     "metadata": {},
     "output_type": "display_data"
    }
   ],
   "source": [
    "plot(u[:20,0]-u[:20,0].mean())\n",
    "plot(v[:20,0]-v[:20,0].mean());"
   ]
  },
  {
   "cell_type": "code",
   "execution_count": 10,
   "metadata": {},
   "outputs": [],
   "source": [
    "from scipy.linalg import sqrtm\n",
    "\n",
    "# Correlation function\n",
    "def calc_covariance(xy_sum,x_sum,y_sum,n):\n",
    "    \"\"\"\n",
    "    calculate covariance matrix of 2 variables\n",
    "    \"\"\"\n",
    "    return ( xy_sum - np.matmul(x_sum,y_sum.T)/n )/(n-1)\n",
    "\n",
    "def calc_linear_regression(n,a,b,x_sum, y_sum, xy_sum, xx_sum ):\n",
    "    m1 = np.array([[n,(a @ x_sum)[0]],\n",
    "                  [(a @ x_sum)[0],((a[:,np.newaxis] @ a[:,np.newaxis].T) * xx_sum).sum()]])\n",
    "    m2 = np.array([\n",
    "        (b @ y_sum)[0],\n",
    "        ( ( a[:,np.newaxis] @ b[np.newaxis,:] ) * ( xy_sum ) ).sum()\n",
    "    ])\n",
    "    return np.linalg.inv(m1) @ m2"
   ]
  },
  {
   "cell_type": "code",
   "execution_count": 112,
   "metadata": {},
   "outputs": [
    {
     "name": "stdout",
     "output_type": "stream",
     "text": [
      "first pair corr: 0.92\n"
     ]
    }
   ],
   "source": [
    "x = X\n",
    "y = Y\n",
    "\n",
    "x_sum = np.sum(x,axis=0)[:,np.newaxis]\n",
    "y_sum = np.sum(y,axis=0)[:,np.newaxis]\n",
    "xy_sum = np.transpose(x) @ y\n",
    "xx_sum = np.transpose(x) @ x\n",
    "yy_sum = np.transpose(y) @ y\n",
    "n = np.shape(x)[0]\n",
    "\n",
    "xy_cov = calc_covariance(xy_sum,x_sum,y_sum,n)\n",
    "xx_cov = calc_covariance(xx_sum,x_sum,x_sum,n)\n",
    "yy_cov = calc_covariance(yy_sum,y_sum,y_sum,n)\n",
    "\n",
    "\n",
    "xx_cov_sqrt_inv = np.linalg.inv( sqrtm(xx_cov) )\n",
    "yy_cov_sqrt_inv = np.linalg.inv( sqrtm(yy_cov) )\n",
    "\n",
    "u_mat = xx_cov_sqrt_inv @ xy_cov @ np.linalg.inv(yy_cov) @ xy_cov.T @ xx_cov_sqrt_inv\n",
    "u_eigvals,u_eigvecs = np.linalg.eig(u_mat)\n",
    "\n",
    "v_mat = yy_cov_sqrt_inv @ xy_cov.T @ np.linalg.inv(xx_cov) @ xy_cov @ yy_cov_sqrt_inv\n",
    "v_eigvals,v_eigvecs = np.linalg.eig(v_mat)\n",
    "\n",
    "# Sort eigenvectors by their eigenvalues\n",
    "# The hypothisis here is that correlation is bigger if eigenvalue of eigenvector is bigger\n",
    "u = u_eigvecs.T[sorted([i for i in range(len(u_eigvals))], key=lambda x: -u_eigvals[x])]\n",
    "v = v_eigvecs.T[sorted([i for i in range(len(v_eigvals))], key=lambda x: -v_eigvals[x])]\n",
    "\n",
    "a = (u @ xx_cov_sqrt_inv).T\n",
    "b = (v @ yy_cov_sqrt_inv).T\n",
    "\n",
    "regressions = np.array( [ calc_linear_regression(n,a[:,i],b[:,i],x_sum, y_sum, xy_sum, xx_sum ) for i in range(a.shape[1]) ] )\n",
    "#a = a*regressions[:,1]\n",
    "\n",
    "u = np.dot( X,a )\n",
    "v = np.dot( Y,b )\n",
    "\n",
    "print('first pair corr: {:.2f}'.format(np.corrcoef(u[:,0],v[:,0])[0,1]))"
   ]
  },
  {
   "cell_type": "markdown",
   "metadata": {},
   "source": [
    "# Next steps - calculate Linear Regression on v and u"
   ]
  },
  {
   "cell_type": "markdown",
   "metadata": {},
   "source": [
    "# Regresion formula:\n",
    "\n",
    "$$\\beta=(U^TU)^{-1}U^TV$$\n",
    "\n",
    "where $U, V$ - cannonical pair\n",
    "\n",
    "$$\n",
    "U^TU = \n",
    "\\begin{bmatrix}\n",
    "    n && \\sum u_i \\\\\n",
    "    \\sum u_i && \\sum u_i^2\n",
    "\\end{bmatrix}\n",
    "$$\n",
    "\n",
    "$$\n",
    "U^TV = \n",
    "\\begin{bmatrix}\n",
    "    \\sum v_i \\\\\n",
    "    \\sum u_i v_i \\\\\n",
    "\\end{bmatrix}\n",
    "$$"
   ]
  },
  {
   "cell_type": "code",
   "execution_count": null,
   "metadata": {},
   "outputs": [],
   "source": []
  },
  {
   "cell_type": "markdown",
   "metadata": {},
   "source": [
    "# IMPORTANT!!!\n",
    "## Below - formula for u1v1+u2v2+u3v3+...unvn described through xy_sum terms and a,b\n",
    "\n",
    "This is an essential part for calculating linear regression for target variable v and features u without actually calculating them\n",
    "This represents term X^{T} y"
   ]
  },
  {
   "cell_type": "code",
   "execution_count": 16,
   "metadata": {},
   "outputs": [
    {
     "name": "stdout",
     "output_type": "stream",
     "text": [
      "222809886.067\n",
      "222809886.067\n"
     ]
    }
   ],
   "source": [
    "print( (u[:,0] * v[:,0]).sum() )\n",
    "print( ( ( a[:,0,np.newaxis] @ b[np.newaxis,:,0] ) * ( xy_sum ) ).sum() )"
   ]
  },
  {
   "cell_type": "markdown",
   "metadata": {},
   "source": [
    "# Next step - calculate term $u^{T}u$"
   ]
  },
  {
   "cell_type": "markdown",
   "metadata": {},
   "source": [
    "# Formula for $$\\sum_i u_i$$ $$\\sum_i v_i$$"
   ]
  },
  {
   "cell_type": "code",
   "execution_count": 19,
   "metadata": {},
   "outputs": [
    {
     "name": "stdout",
     "output_type": "stream",
     "text": [
      "Original: 233940.17863294523\n"
     ]
    },
    {
     "data": {
      "text/plain": [
       "array([ 233940.17863295])"
      ]
     },
     "execution_count": 19,
     "metadata": {},
     "output_type": "execute_result"
    }
   ],
   "source": [
    "print(\"Original: {}\".format(u[:,0].sum()) )\n",
    "a[:,0] @ x_sum"
   ]
  },
  {
   "cell_type": "code",
   "execution_count": 20,
   "metadata": {},
   "outputs": [
    {
     "name": "stdout",
     "output_type": "stream",
     "text": [
      "Original: 952418.5591125629\n"
     ]
    },
    {
     "data": {
      "text/plain": [
       "array([ 952418.55911256])"
      ]
     },
     "execution_count": 20,
     "metadata": {},
     "output_type": "execute_result"
    }
   ],
   "source": [
    "print(\"Original: {}\".format(v[:,0].sum()))\n",
    "b[:,0] @ y_sum"
   ]
  },
  {
   "cell_type": "markdown",
   "metadata": {},
   "source": [
    "# Formula for $\\sum_i u^2_i$"
   ]
  },
  {
   "cell_type": "code",
   "execution_count": 21,
   "metadata": {},
   "outputs": [
    {
     "name": "stdout",
     "output_type": "stream",
     "text": [
      "Original: 54729006.17881441\n"
     ]
    },
    {
     "data": {
      "text/plain": [
       "54729006.178814434"
      ]
     },
     "execution_count": 21,
     "metadata": {},
     "output_type": "execute_result"
    }
   ],
   "source": [
    "print(\"Original: {}\".format( (u[:,0]**2).sum() ) )\n",
    "((a[:,0,np.newaxis] @ a[:,0,np.newaxis].T) * xx_sum).sum()"
   ]
  },
  {
   "cell_type": "markdown",
   "metadata": {},
   "source": [
    "# Assemble matrices"
   ]
  },
  {
   "cell_type": "markdown",
   "metadata": {},
   "source": [
    "$$\n",
    "m1 = U^TU = \n",
    "\\begin{bmatrix}\n",
    "    n && \\sum u_i \\\\\n",
    "    \\sum u_i && \\sum u_i^2\n",
    "\\end{bmatrix}\n",
    "$$\n",
    "\n",
    "$$\n",
    "m2 = U^TV = \n",
    "\\begin{bmatrix}\n",
    "    \\sum v_i \\\\\n",
    "    \\sum u_i v_i \\\\\n",
    "\\end{bmatrix}\n",
    "$$"
   ]
  },
  {
   "cell_type": "code",
   "execution_count": 48,
   "metadata": {},
   "outputs": [],
   "source": [
    "# Ground-truth matrices calculated directly from u and v\n",
    "\n",
    "m1_true = np.array([\n",
    "    [u[:,0].shape[0], u[:,0].sum()],\n",
    "    [u[:,0].sum(), (u[:,0]*u[:,0]).sum()]\n",
    "])\n",
    "\n",
    "m2_true = np.array([\n",
    "    v[:,0].sum(),\n",
    "    (u[:,0]*v[:,0]).sum(),\n",
    "])"
   ]
  },
  {
   "cell_type": "code",
   "execution_count": 57,
   "metadata": {},
   "outputs": [
    {
     "data": {
      "text/plain": [
       "array([ 233940.17863295])"
      ]
     },
     "execution_count": 57,
     "metadata": {},
     "output_type": "execute_result"
    }
   ],
   "source": [
    "a[:,0] @ x_sum"
   ]
  },
  {
   "cell_type": "code",
   "execution_count": 58,
   "metadata": {},
   "outputs": [
    {
     "data": {
      "text/plain": [
       "array([ 0.01527299,  0.48296391,  0.01674166, -0.18956444,  0.10117932,\n",
       "       -0.12335752,  0.00099363, -0.12549717,  0.1336477 ,  0.10949047])"
      ]
     },
     "execution_count": 58,
     "metadata": {},
     "output_type": "execute_result"
    }
   ],
   "source": [
    "a[:,0]"
   ]
  },
  {
   "cell_type": "markdown",
   "metadata": {},
   "source": [
    "# In other terms"
   ]
  },
  {
   "cell_type": "markdown",
   "metadata": {},
   "source": [
    "$$\n",
    "m1 =\n",
    "\\begin{bmatrix}\n",
    "    n          && a^Tx_{sum} \\\\\n",
    "    a^Tx_{sum} && grandsum[ (aa^T) \\odot xx_{sum} ]\n",
    "\\end{bmatrix}\n",
    "$$"
   ]
  },
  {
   "cell_type": "markdown",
   "metadata": {},
   "source": [
    "$$\n",
    "m2 =\n",
    "\\begin{bmatrix}\n",
    "    b^T y_{sum} \\\\\n",
    "    grandsum[ (ab^T) \\odot xy_{sum} ]\n",
    "\\end{bmatrix}\n",
    "$$"
   ]
  },
  {
   "cell_type": "code",
   "execution_count": 56,
   "metadata": {},
   "outputs": [
    {
     "data": {
      "text/plain": [
       "array([ 737.39612153,    0.91913428])"
      ]
     },
     "execution_count": 56,
     "metadata": {},
     "output_type": "execute_result"
    }
   ],
   "source": [
    "m1 = np.array([[n,(a[:,0] @ x_sum)[0]],\n",
    "                  [(a[:,0] @ x_sum)[0],((a[:,0,np.newaxis] @ a[:,0,np.newaxis].T) * xx_sum).sum()]])\n",
    "\n",
    "m2 = np.array([\n",
    "    (b[:,0] @ y_sum)[0],\n",
    "    ( ( a[:,0,np.newaxis] @ b[np.newaxis,:,0] ) * ( xy_sum ) ).sum()\n",
    "    ])\n",
    "\n",
    "betas = np.linalg.inv(m1) @ m2\n",
    "betas"
   ]
  },
  {
   "cell_type": "code",
   "execution_count": null,
   "metadata": {},
   "outputs": [],
   "source": []
  },
  {
   "cell_type": "code",
   "execution_count": 55,
   "metadata": {},
   "outputs": [
    {
     "name": "stdout",
     "output_type": "stream",
     "text": [
      "np.abs(m1-m1_true).max() = 2.2351741790771484e-08\n",
      "np.abs(m2-m2_true).max() = 2.9802322387695312e-08\n"
     ]
    }
   ],
   "source": [
    "# check correctness\n",
    "print( 'np.abs(m1-m1_true).max() = {}'.format( np.abs(m1-m1_true).max() ))\n",
    "print( 'np.abs(m2-m2_true).max() = {}'.format( np.abs(m2-m2_true).max() ))"
   ]
  },
  {
   "cell_type": "markdown",
   "metadata": {},
   "source": [
    "# Put calculation of linear regresson into function"
   ]
  },
  {
   "cell_type": "code",
   "execution_count": 69,
   "metadata": {},
   "outputs": [],
   "source": [
    "def calc_linear_regression(n,a,b,x_sum, y_sum, xy_sum, xx_sum ):\n",
    "    m1 = np.array([[n,(a @ x_sum)[0]],\n",
    "                  [(a @ x_sum)[0],((a[:,np.newaxis] @ a[:,np.newaxis].T) * xx_sum).sum()]])\n",
    "    m2 = np.array([\n",
    "        (b @ y_sum)[0],\n",
    "        ( ( a[:,np.newaxis] @ b[np.newaxis,:] ) * ( xy_sum ) ).sum()\n",
    "    ])\n",
    "    return np.linalg.inv(m1) @ m2"
   ]
  },
  {
   "cell_type": "markdown",
   "metadata": {},
   "source": [
    "# Test new code"
   ]
  },
  {
   "cell_type": "code",
   "execution_count": 74,
   "metadata": {},
   "outputs": [],
   "source": [
    "a,b,r = new_CCA.cca(X,Y)\n",
    "u = np.dot( X,a )\n",
    "v = np.dot( Y,b )"
   ]
  },
  {
   "cell_type": "code",
   "execution_count": 79,
   "metadata": {},
   "outputs": [
    {
     "data": {
      "text/plain": [
       "0.87252536854435581"
      ]
     },
     "execution_count": 79,
     "metadata": {},
     "output_type": "execute_result"
    }
   ],
   "source": [
    "np.corrcoef((u+r)[:,1],v[:,1])[0,1]"
   ]
  },
  {
   "cell_type": "code",
   "execution_count": 104,
   "metadata": {},
   "outputs": [
    {
     "data": {
      "image/png": "[encoded data removed]",
      "text/plain": [
       "<matplotlib.figure.Figure at 0x7fee0dffd5f8>"
      ]
     },
     "metadata": {},
     "output_type": "display_data"
    }
   ],
   "source": [
    "hist( ((u+r)-v).sum(axis=1), bins=50 );"
   ]
  },
  {
   "cell_type": "code",
   "execution_count": 96,
   "metadata": {},
   "outputs": [
    {
     "data": {
      "image/png": "[encoded data removed]",
      "text/plain": [
       "<matplotlib.figure.Figure at 0x7fee0df28cc0>"
      ]
     },
     "metadata": {},
     "output_type": "display_data"
    }
   ],
   "source": [
    "hist( (u+r)[:,3]-v[:,3],bins=20 );\n",
    "hist( (u+r)[:,0]-v[:,0],bins=20 );"
   ]
  },
  {
   "cell_type": "markdown",
   "metadata": {},
   "source": [
    "# Dump data to files for testing"
   ]
  },
  {
   "cell_type": "code",
   "execution_count": 105,
   "metadata": {},
   "outputs": [],
   "source": [
    "import pandas as pd"
   ]
  },
  {
   "cell_type": "code",
   "execution_count": 106,
   "metadata": {},
   "outputs": [],
   "source": [
    "target_file = \"./test_files/\"\n",
    "pd.DataFrame(Y).to_csv(\"{}test_Y.csv\".format(target_file),index=False,header=False)\n",
    "pd.DataFrame(X).to_csv(\"{}test_X.csv\".format(target_file),index=False,header=False)\n",
    "\n",
    "pd.DataFrame(xx_cov).to_csv(\"{}xx_cov.csv\".format(target_file),index=False,header=False)\n",
    "pd.DataFrame(xy_cov).to_csv(\"{}xy_cov.csv\".format(target_file),index=False,header=False)\n",
    "pd.DataFrame(yy_cov).to_csv(\"{}yy_cov.csv\".format(target_file),index=False,header=False)\n",
    "\n",
    "pd.DataFrame(xx_cov_sqrt_inv).to_csv(\"{}xx_cov_sqrt_inv.csv\".format(target_file),index=False,header=False)\n",
    "pd.DataFrame(yy_cov_sqrt_inv).to_csv(\"{}yy_cov_sqrt_inv.csv\".format(target_file),index=False,header=False)\n",
    "\n",
    "pd.DataFrame(u).to_csv(\"{}test_U.csv\".format(target_file),index=False,header=False)\n",
    "pd.DataFrame(v).to_csv(\"{}test_V.csv\".format(target_file),index=False,header=False)\n",
    "\n",
    "pd.DataFrame(a).to_csv(\"{}test_a.csv\".format(target_file),index=False,header=False)\n",
    "pd.DataFrame(b).to_csv(\"{}test_b.csv\".format(target_file),index=False,header=False)\n",
    "pd.DataFrame(x_sum).to_csv(\"{}x_sum.csv\".format(target_file),index=False,header=False)\n",
    "pd.DataFrame(xx_sum).to_csv(\"{}xx_sum.csv\".format(target_file),index=False,header=False)\n",
    "pd.DataFrame(xy_sum).to_csv(\"{}xy_sum.csv\".format(target_file),index=False,header=False)\n",
    "pd.DataFrame(yy_sum).to_csv(\"{}yy_sum.csv\".format(target_file),index=False,header=False)\n",
    "pd.DataFrame(y_sum).to_csv(\"{}y_sum.csv\".format(target_file),index=False,header=False)\n",
    "\n",
    "# Linear regression"
   ]
  },
  {
   "cell_type": "code",
   "execution_count": null,
   "metadata": {},
   "outputs": [],
   "source": []
  },
  {
   "cell_type": "markdown",
   "metadata": {},
   "source": [
    "# Below - temporary records"
   ]
  },
  {
   "cell_type": "code",
   "execution_count": 94,
   "metadata": {},
   "outputs": [],
   "source": [
    "eigenvals,eigenvecs = np.linalg.eig( xx_sum )\n",
    "\n",
    "E = np.diag( eigenvals )\n",
    "V = eigenvecs\n",
    "\n",
    "# E,V\n",
    "# E - matrix with eigenvalues on diagonal\n",
    "# V - matrix with eigenvectors\n",
    "\n",
    "# sqrtMatrix = V * sqrt(E) * V^T\n",
    "\n",
    "res = V @ sqrt(E) @ V.T\n",
    "\n",
    "sqrt(E)\n",
    "sqrtm(xx_cov)\n",
    "\n",
    "v_mat = yy_cov_sqrt_inv @ xy_cov.T @ np.linalg.inv(xx_cov) @ xy_cov @ yy_cov_sqrt_inv\n",
    "v_eigvals,v_eigvecs = np.linalg.eig(v_mat)\n",
    "\n",
    "v_eigvecs.T[sorted([i for i in range(len(v_eigvals))], key=lambda x: -v_eigvals[x])]"
   ]
  },
  {
   "cell_type": "markdown",
   "metadata": {},
   "source": [
    "# new shit"
   ]
  },
  {
   "cell_type": "code",
   "execution_count": 131,
   "metadata": {},
   "outputs": [
    {
     "data": {
      "text/plain": [
       "array([[ 0.01125472,  0.07022403, -0.15452732, -0.10859862,  0.07173875,\n",
       "         0.01827756, -0.12101278,  0.03240784, -0.34850211,  0.17578212],\n",
       "       [ 0.45440655,  0.12863645, -0.08495189,  0.30648283,  0.14392713,\n",
       "        -0.14334599,  0.12605425, -0.00540223, -0.04480623, -0.02748297],\n",
       "       [ 0.01532313, -0.13543172,  0.11201509, -0.162976  ,  0.36095318,\n",
       "         0.22431517, -0.10046377,  0.04437409,  0.03086809, -0.08536179],\n",
       "       [-0.17419422, -0.09943553,  0.01465441,  0.02181472,  0.29879041,\n",
       "        -0.21475818,  0.17861826,  0.21957805,  0.02537072,  0.21387867],\n",
       "       [ 0.08083775, -0.26103847, -0.28150439,  0.03005879, -0.13635145,\n",
       "         0.21186836, -0.02894927,  0.15499045,  0.0721202 ,  0.12553757],\n",
       "       [-0.11217864,  0.13737401, -0.01056573, -0.01328549,  0.00129932,\n",
       "         0.24957152,  0.31447598, -0.08308119, -0.06371959, -0.03538374],\n",
       "       [ 0.0009251 ,  0.40247681, -0.05614413, -0.11982895,  0.05009319,\n",
       "         0.12957027, -0.12815398,  0.15929782,  0.23342932,  0.03649089],\n",
       "       [-0.10988009,  0.02168729, -0.05737169,  0.01633645, -0.11340191,\n",
       "        -0.04057273,  0.07998162,  0.37178348, -0.10325404, -0.34268281],\n",
       "       [ 0.11900005, -0.01821893,  0.32514436, -0.048199  , -0.11857831,\n",
       "         0.06052779,  0.07076936,  0.14050653, -0.03292701,  0.07491796],\n",
       "       [ 0.10784965, -0.03441541, -0.05849951, -0.56239488, -0.06277509,\n",
       "        -0.1542628 ,  0.21220085, -0.03513533,  0.08495761, -0.10622878]])"
      ]
     },
     "execution_count": 131,
     "metadata": {},
     "output_type": "execute_result"
    }
   ],
   "source": [
    "b"
   ]
  },
  {
   "cell_type": "code",
   "execution_count": null,
   "metadata": {},
   "outputs": [],
   "source": []
  }
 ],
 "metadata": {
  "kernelspec": {
   "display_name": "Python 3",
   "language": "python",
   "name": "python3"
  },
  "language_info": {
   "codemirror_mode": {
    "name": "ipython",
    "version": 3
   },
   "file_extension": ".py",
   "mimetype": "text/x-python",
   "name": "python",
   "nbconvert_exporter": "python",
   "pygments_lexer": "ipython3",
   "version": "3.5.2"
  }
 },
 "nbformat": 4,
 "nbformat_minor": 2
}
